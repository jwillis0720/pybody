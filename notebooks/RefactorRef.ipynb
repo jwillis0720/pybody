{
 "cells": [
  {
   "cell_type": "code",
   "execution_count": 1,
   "id": "7170fa1e-36e3-4257-96a3-f27c84bf1bc1",
   "metadata": {},
   "outputs": [],
   "source": [
    "%load_ext lab_black\n",
    "from sadie.reference.reference import Reference, References\n",
    "import pandas as pd\n",
    "import logging\n",
    "\n",
    "logger = logging.getLogger(\"Reference\")\n",
    "logger.setLevel(300)\n",
    "\n",
    "yaml_file = \"../tests/data/fixtures/reference/short_reference.yml\"\n",
    "references = References.from_yaml(yaml_file)"
   ]
  },
  {
   "cell_type": "code",
   "execution_count": 2,
   "id": "fa391c6d-4c3d-43d6-beca-85ca213208b9",
   "metadata": {},
   "outputs": [],
   "source": [
    "references._make_internal_annotaion_file(\"here\")"
   ]
  },
  {
   "cell_type": "code",
   "execution_count": null,
   "id": "181d08a7-9766-4218-a7b0-7d1a89c5de6a",
   "metadata": {},
   "outputs": [],
   "source": [
    "references._make_igblast_ref_database(\"here\")"
   ]
  },
  {
   "cell_type": "code",
   "execution_count": null,
   "id": "dfa11051-8f0a-407e-bf41-b231bc1370fb",
   "metadata": {},
   "outputs": [],
   "source": [
    "references._make_auxillary_file(\"here\")"
   ]
  },
  {
   "cell_type": "code",
   "execution_count": null,
   "id": "4ae388ad-9e0c-46c4-9073-10f2ee4a36d0",
   "metadata": {},
   "outputs": [],
   "source": []
  }
 ],
 "metadata": {
  "kernelspec": {
   "display_name": "sadie-dev",
   "language": "python",
   "name": "sadie-dev"
  },
  "language_info": {
   "codemirror_mode": {
    "name": "ipython",
    "version": 3
   },
   "file_extension": ".py",
   "mimetype": "text/x-python",
   "name": "python",
   "nbconvert_exporter": "python",
   "pygments_lexer": "ipython3",
   "version": "3.8.10"
  }
 },
 "nbformat": 4,
 "nbformat_minor": 5
}
