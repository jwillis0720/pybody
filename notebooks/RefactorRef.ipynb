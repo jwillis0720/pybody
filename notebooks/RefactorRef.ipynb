{
 "cells": [
  {
   "cell_type": "code",
   "execution_count": null,
   "id": "7170fa1e-36e3-4257-96a3-f27c84bf1bc1",
   "metadata": {},
   "outputs": [],
   "source": [
    "%load_ext lab_black\n",
    "from sadie.reference.reference import Reference, References\n",
    "from sadie.reference.yaml import YamlRef\n",
    "import pandas as pd\n",
    "import logging\n",
    "\n",
    "logger = logging.getLogger(\"Reference\")\n",
    "logger.setLevel(300)\n",
    "\n",
    "# yaml_file = \"../tests/data/fixtures/reference/short_reference.yml\"\n",
    "# references = References.from_yaml(yaml_file)\n",
    "\n",
    "yaml = YamlRef()\n",
    "\n",
    "human_base_set = yaml.yaml[\"human\"]\n",
    "\n",
    "human_no_vh12 = list(\n",
    "    filter(\n",
    "        lambda x: x not in [\"IGHV1-2*02\", \"IGHV1-2*04\", \"IGHV1-2*05\", \"IGHV1-2*06\"],\n",
    "        human_base_set[\"imgt\"][\"human\"],\n",
    "    )\n",
    ")\n",
    "human_star02_star02 = human_no_vh12 + [\"IGHV1-2*02\"]\n",
    "human_star02_star04 = human_no_vh12 + [\"IGHV1-2*02\", \"IGHV1-2*04\"]\n",
    "human_star04_star04 = human_no_vh12 + [\"IGHV1-2*04\"]\n",
    "\n",
    "references = References()\n",
    "reference = Reference()"
   ]
  },
  {
   "cell_type": "code",
   "execution_count": null,
   "id": "4ae388ad-9e0c-46c4-9073-10f2ee4a36d0",
   "metadata": {},
   "outputs": [],
   "source": [
    "reference.add_genes(\"human\", \"imgt\", human_star02_star02)"
   ]
  },
  {
   "cell_type": "code",
   "execution_count": null,
   "id": "489b7a25-e719-47b8-9771-8ea8595379ff",
   "metadata": {},
   "outputs": [],
   "source": [
    "references.add_reference(\"homo*02\", reference)"
   ]
  },
  {
   "cell_type": "code",
   "execution_count": null,
   "id": "771e79e9-f791-4c6d-88aa-49a43d004d29",
   "metadata": {},
   "outputs": [],
   "source": [
    "df = references.references[\"homo*02\"].get_dataframe()"
   ]
  },
  {
   "cell_type": "code",
   "execution_count": null,
   "id": "ca71d0c2-6dd4-4faa-babc-cfb493f78f81",
   "metadata": {},
   "outputs": [],
   "source": [
    "(df[\"gene\"] == \"IGHV1-2*01\").any()"
   ]
  },
  {
   "cell_type": "code",
   "execution_count": null,
   "id": "a7c211a3-4b65-4519-9e4a-76de6d4d27e7",
   "metadata": {},
   "outputs": [],
   "source": [
    "references.make_airr_database(\"here\")"
   ]
  },
  {
   "cell_type": "code",
   "execution_count": null,
   "id": "6b1068d3-00f4-4cf8-9cb8-3740db848154",
   "metadata": {},
   "outputs": [],
   "source": [
    "allele_analysis = pd.read_clipboard()"
   ]
  },
  {
   "cell_type": "code",
   "execution_count": null,
   "id": "35d93170-6858-4bea-a63d-2b8e9cbb16b2",
   "metadata": {},
   "outputs": [],
   "source": [
    "allele_analysis = allele_analysis.rename({\"US_CASE\": \"ptid\"}, axis=1)"
   ]
  },
  {
   "cell_type": "code",
   "execution_count": null,
   "id": "0115373f-09f4-48c9-9788-a99ee08d9654",
   "metadata": {},
   "outputs": [],
   "source": [
    "series = []\n",
    "for g, gf in allele_analysis.groupby(\"ptid\"):\n",
    "    if len(gf) == 1:\n",
    "        sub_g = pd.concat([gf[\"allele\"], gf[\"allele\"]])\n",
    "    else:\n",
    "        sub_g = gf[\"allele\"]\n",
    "    sub_g.index = [\"allele_1\", \"allele_2\"]\n",
    "    sub_g[\"ptid\"] = g\n",
    "    series.append(sub_g)"
   ]
  },
  {
   "cell_type": "code",
   "execution_count": null,
   "id": "1aaec164-eef2-48fa-add6-e9ea056020d7",
   "metadata": {},
   "outputs": [],
   "source": [
    "df = pd.DataFrame(series).reset_index(drop=True)"
   ]
  },
  {
   "cell_type": "code",
   "execution_count": null,
   "id": "a91704d5-26d1-4e04-84e8-f9b36c02b873",
   "metadata": {},
   "outputs": [],
   "source": [
    "for g, g_df in df.groupby([\"allele_1\", \"allele_2\"]):\n",
    "    break"
   ]
  },
  {
   "cell_type": "code",
   "execution_count": null,
   "id": "cfe373f6-40de-4906-892f-4787fd5c242e",
   "metadata": {},
   "outputs": [],
   "source": [
    "g_df[\"ptid\"].to_list()"
   ]
  },
  {
   "cell_type": "code",
   "execution_count": null,
   "id": "05b08eda-e308-4321-b3fe-69c6bdf76968",
   "metadata": {},
   "outputs": [],
   "source": [
    "gf[\"allele\"]"
   ]
  },
  {
   "cell_type": "code",
   "execution_count": null,
   "id": "bd74b923-4d72-4c80-834e-f1018b50a9e0",
   "metadata": {},
   "outputs": [],
   "source": [
    "from pathlib import Path\n",
    "\n",
    "p = Path(\"Testing/vquest_airr.tsv\")"
   ]
  },
  {
   "cell_type": "code",
   "execution_count": null,
   "id": "a1bb0cab-ef63-46a3-9427-56aecb95c288",
   "metadata": {},
   "outputs": [],
   "source": [
    "o = p.absolute()"
   ]
  },
  {
   "cell_type": "code",
   "execution_count": null,
   "id": "3791b9c1-8148-4c3a-9c29-5426b15513c5",
   "metadata": {},
   "outputs": [],
   "source": [
    "Path(\"/\".join(list(o.parts[3:])))"
   ]
  },
  {
   "cell_type": "code",
   "execution_count": null,
   "id": "213a79b4-99f1-48ed-9828-1e2f597b1a82",
   "metadata": {},
   "outputs": [],
   "source": []
  }
 ],
 "metadata": {
  "kernelspec": {
   "display_name": "Python 3.10.6",
   "language": "python",
   "name": "python3"
  },
  "language_info": {
   "codemirror_mode": {
    "name": "ipython",
    "version": 3
   },
   "file_extension": ".py",
   "mimetype": "text/x-python",
   "name": "python",
   "nbconvert_exporter": "python",
   "pygments_lexer": "ipython3",
   "version": "3.10.6"
  },
  "vscode": {
   "interpreter": {
    "hash": "a2cc416a4278607cf5fb580e3357cd6feff2be5480999655071cf135b57518ec"
   }
  }
 },
 "nbformat": 4,
 "nbformat_minor": 5
}
