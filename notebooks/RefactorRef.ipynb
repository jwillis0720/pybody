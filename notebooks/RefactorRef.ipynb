{
 "cells": [
  {
   "cell_type": "code",
   "execution_count": 1,
   "id": "7170fa1e-36e3-4257-96a3-f27c84bf1bc1",
   "metadata": {},
   "outputs": [],
   "source": [
    "%load_ext lab_black\n",
    "from sadie.reference.reference import Reference, References\n",
    "from sadie.reference.yaml import YamlRef\n",
    "import pandas as pd\n",
    "import logging\n",
    "\n",
    "logger = logging.getLogger(\"Reference\")\n",
    "logger.setLevel(300)\n",
    "\n",
    "# yaml_file = \"../tests/data/fixtures/reference/short_reference.yml\"\n",
    "# references = References.from_yaml(yaml_file)\n",
    "\n",
    "yaml = YamlRef()\n",
    "\n",
    "human_base_set = yaml.yaml[\"human\"]\n",
    "\n",
    "human_no_vh12 = list(\n",
    "    filter(\n",
    "        lambda x: x not in [\"IGHV1-2*02\", \"IGHV1-2*04\", \"IGHV1-2*05\", \"IGHV1-2*06\"],\n",
    "        human_base_set[\"imgt\"][\"human\"],\n",
    "    )\n",
    ")\n",
    "human_star02_star02 = human_no_vh12 + [\"IGHV1-2*02\"]\n",
    "human_star02_star04 = human_no_vh12 + [\"IGHV1-2*02\", \"IGHV1-2*04\"]\n",
    "human_star04_star04 = human_no_vh12 + [\"IGHV1-2*04\"]\n",
    "\n",
    "references = References()\n",
    "reference = Reference()"
   ]
  },
  {
   "cell_type": "code",
   "execution_count": 3,
   "id": "4ae388ad-9e0c-46c4-9073-10f2ee4a36d0",
   "metadata": {},
   "outputs": [],
   "source": [
    "reference.add_genes(\"human\", \"imgt\", human_star02_star02)"
   ]
  },
  {
   "cell_type": "code",
   "execution_count": 4,
   "id": "489b7a25-e719-47b8-9771-8ea8595379ff",
   "metadata": {},
   "outputs": [],
   "source": [
    "references.add_reference(\"homo*02\", reference)"
   ]
  },
  {
   "cell_type": "code",
   "execution_count": 11,
   "id": "771e79e9-f791-4c6d-88aa-49a43d004d29",
   "metadata": {},
   "outputs": [],
   "source": [
    "df = references.references[\"homo*02\"].get_dataframe()"
   ]
  },
  {
   "cell_type": "code",
   "execution_count": 18,
   "id": "ca71d0c2-6dd4-4faa-babc-cfb493f78f81",
   "metadata": {},
   "outputs": [
    {
     "data": {
      "text/plain": [
       "False"
      ]
     },
     "execution_count": 18,
     "metadata": {},
     "output_type": "execute_result"
    }
   ],
   "source": [
    "(df[\"gene\"] == \"IGHV1-2*01\").any()"
   ]
  },
  {
   "cell_type": "code",
   "execution_count": 19,
   "id": "a7c211a3-4b65-4519-9e4a-76de6d4d27e7",
   "metadata": {},
   "outputs": [
    {
     "data": {
      "text/plain": [
       "PosixPath('here')"
      ]
     },
     "execution_count": 19,
     "metadata": {},
     "output_type": "execute_result"
    }
   ],
   "source": [
    "references.make_airr_database(\"here\")"
   ]
  },
  {
   "cell_type": "code",
   "execution_count": 21,
   "id": "6b1068d3-00f4-4cf8-9cb8-3740db848154",
   "metadata": {},
   "outputs": [],
   "source": [
    "allele_analysis = pd.read_clipboard()"
   ]
  },
  {
   "cell_type": "code",
   "execution_count": 25,
   "id": "35d93170-6858-4bea-a63d-2b8e9cbb16b2",
   "metadata": {},
   "outputs": [],
   "source": [
    "allele_analysis = allele_analysis.rename({\"US_CASE\": \"ptid\"}, axis=1)"
   ]
  },
  {
   "cell_type": "code",
   "execution_count": 74,
   "id": "0115373f-09f4-48c9-9788-a99ee08d9654",
   "metadata": {},
   "outputs": [],
   "source": [
    "series = []\n",
    "for g, gf in allele_analysis.groupby(\"ptid\"):\n",
    "    if len(gf) == 1:\n",
    "        sub_g = pd.concat([gf[\"allele\"], gf[\"allele\"]])\n",
    "    else:\n",
    "        sub_g = gf[\"allele\"]\n",
    "    sub_g.index = [\"allele_1\", \"allele_2\"]\n",
    "    sub_g[\"ptid\"] = g\n",
    "    series.append(sub_g)"
   ]
  },
  {
   "cell_type": "code",
   "execution_count": 77,
   "id": "1aaec164-eef2-48fa-add6-e9ea056020d7",
   "metadata": {},
   "outputs": [],
   "source": [
    "df = pd.DataFrame(series).reset_index(drop=True)"
   ]
  },
  {
   "cell_type": "code",
   "execution_count": 79,
   "id": "a91704d5-26d1-4e04-84e8-f9b36c02b873",
   "metadata": {},
   "outputs": [],
   "source": [
    "for g, g_df in df.groupby([\"allele_1\", \"allele_2\"]):\n",
    "    break"
   ]
  },
  {
   "cell_type": "code",
   "execution_count": 87,
   "id": "cfe373f6-40de-4906-892f-4787fd5c242e",
   "metadata": {},
   "outputs": [
    {
     "data": {
      "text/plain": [
       "['G00158001',\n",
       " 'G00158023',\n",
       " 'G00158026',\n",
       " 'G00158035',\n",
       " 'G00158038',\n",
       " 'G00159021',\n",
       " 'G00159028',\n",
       " 'G00159071',\n",
       " 'G00159086']"
      ]
     },
     "execution_count": 87,
     "metadata": {},
     "output_type": "execute_result"
    }
   ],
   "source": [
    "g_df[\"ptid\"].to_list()"
   ]
  },
  {
   "cell_type": "code",
   "execution_count": 60,
   "id": "05b08eda-e308-4321-b3fe-69c6bdf76968",
   "metadata": {},
   "outputs": [
    {
     "data": {
      "text/plain": [
       "allele_1    IGHV1-2*05\n",
       "allele_2    IGHV1-2*06\n",
       "Name: allele, dtype: object"
      ]
     },
     "execution_count": 60,
     "metadata": {},
     "output_type": "execute_result"
    }
   ],
   "source": [
    "gf[\"allele\"]"
   ]
  },
  {
   "cell_type": "code",
   "execution_count": null,
   "id": "bd74b923-4d72-4c80-834e-f1018b50a9e0",
   "metadata": {},
   "outputs": [],
   "source": []
  }
 ],
 "metadata": {
  "kernelspec": {
   "display_name": "sadie-dev-x86",
   "language": "python",
   "name": "sadie-dev-x86"
  },
  "language_info": {
   "codemirror_mode": {
    "name": "ipython",
    "version": 3
   },
   "file_extension": ".py",
   "mimetype": "text/x-python",
   "name": "python",
   "nbconvert_exporter": "python",
   "pygments_lexer": "ipython3",
   "version": "3.8.0"
  }
 },
 "nbformat": 4,
 "nbformat_minor": 5
}
