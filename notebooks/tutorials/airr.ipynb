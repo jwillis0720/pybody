{
 "cells": [
  {
   "cell_type": "code",
   "execution_count": 1,
   "metadata": {},
   "outputs": [],
   "source": [
    "%load_ext lab_black"
   ]
  },
  {
   "cell_type": "markdown",
   "metadata": {},
   "source": [
    "# sadie.airr\n",
    "\n",
    "The airr primary purpose is for annotation of adative receptor nucletodie sequences. The backend uses[IgBLAST](https://www.ncbi.nlm.nih.gov/igblast/) for the inital alignments but abstracts all the difficult parts leaving a smooth pythonic API or command line interface. \n",
    "\n",
    "Most importantly, the output it dumps is in compliance with the standards set by [The AIRR community](https://docs.airr-community.org/en/stable/#table-of-contents). These are dumped as AirrTable objects, which is built with a [pandas dataframe](www.pandas.org) and can be manipulated with pandas dataframe operations."
   ]
  },
  {
   "cell_type": "markdown",
   "metadata": {},
   "source": [
    "#### Run Single Sequence"
   ]
  },
  {
   "cell_type": "code",
   "execution_count": 4,
   "metadata": {},
   "outputs": [],
   "source": [
    "# Import library\n",
    "from sadie.airr import Airr, AirrTable, ScfvAirrTable\n",
    "\n",
    "# initialize API with species\n",
    "airr_api = Airr(\"human\")\n",
    "\n",
    "# Run on Single Sequence\n",
    "single_seq = \"\"\"\n",
    "        CAGCGATTAGTGGAGTCTGGGGGAGGCGTGGTCCAGCCTGGGTCGTCCCTGAGACTCTCCTGTGCAGCGT\n",
    "        CGGATTCGACTTCAGTAGACAAGGCATGCACTGGGTCCGCCAGGCTCCAGGCCAGGGGCTGGAGTGGGTG\n",
    "        GCATTTATTAAATATGATGGAAGTGAGAAATATCATGCTGACTCCGTATGGGGCCGACTCAGCATCTCCA\n",
    "        GAGACAATTCCAAGGATACGCTTTATCTCCAAATGAATAGCCTGAGAGTCGAGGACACGGCTACATATTT\n",
    "        TTGTGTGAGAGAGGCTGGTGGGCCCGACTACCGTAATGGGTACAACTATTACGATTTCTATGATGGTTA\n",
    "        TTATAACTACCACTATATGGACGTCTGGGGCAAAGGGACCACGGTCACCGTCTCGAG\"\"\"\n",
    "# heavy chain only\n",
    "airr_table = airr_api.run_single(\"test_sequnce\", single_seq)"
   ]
  },
  {
   "cell_type": "code",
   "execution_count": 5,
   "metadata": {},
   "outputs": [
    {
     "data": {
      "text/html": [
       "<div>\n",
       "<style scoped>\n",
       "    .dataframe tbody tr th:only-of-type {\n",
       "        vertical-align: middle;\n",
       "    }\n",
       "\n",
       "    .dataframe tbody tr th {\n",
       "        vertical-align: top;\n",
       "    }\n",
       "\n",
       "    .dataframe thead th {\n",
       "        text-align: right;\n",
       "    }\n",
       "</style>\n",
       "<table border=\"1\" class=\"dataframe\">\n",
       "  <thead>\n",
       "    <tr style=\"text-align: right;\">\n",
       "      <th></th>\n",
       "      <th>sequence_id</th>\n",
       "      <th>sequence</th>\n",
       "      <th>species</th>\n",
       "      <th>locus</th>\n",
       "      <th>stop_codon</th>\n",
       "      <th>vj_in_frame</th>\n",
       "      <th>v_frameshift</th>\n",
       "      <th>productive</th>\n",
       "      <th>rev_comp</th>\n",
       "      <th>complete_vdj</th>\n",
       "      <th>...</th>\n",
       "      <th>fwr4_end</th>\n",
       "      <th>cdr3_start</th>\n",
       "      <th>cdr3_end</th>\n",
       "      <th>np1</th>\n",
       "      <th>np1_length</th>\n",
       "      <th>np2</th>\n",
       "      <th>np2_length</th>\n",
       "      <th>note</th>\n",
       "      <th>vdj_nt</th>\n",
       "      <th>vdj_aa</th>\n",
       "    </tr>\n",
       "  </thead>\n",
       "  <tbody>\n",
       "    <tr>\n",
       "      <th>0</th>\n",
       "      <td>test_sequnce</td>\n",
       "      <td>CAGCGATTAGTGGAGTCTGGGGGAGGCGTGGTCCAGCCTGGGTCGT...</td>\n",
       "      <td>human</td>\n",
       "      <td>IGH</td>\n",
       "      <td>True</td>\n",
       "      <td>True</td>\n",
       "      <td>True</td>\n",
       "      <td>False</td>\n",
       "      <td>False</td>\n",
       "      <td>False</td>\n",
       "      <td>...</td>\n",
       "      <td>406</td>\n",
       "      <td>285</td>\n",
       "      <td>374</td>\n",
       "      <td>GGCTGGTGGGCCCGACTACCGTAATGGGTACAAC</td>\n",
       "      <td>34</td>\n",
       "      <td>NaN</td>\n",
       "      <td>0</td>\n",
       "      <td></td>\n",
       "      <td>CAGCGATTAGTGGAGTCTGGGGGAGGCGTGGTCCAGCCTGGGTCGT...</td>\n",
       "      <td>QRLVESGGGVVQPGSSLRLSCAASDSTSVDKACTGSARLQARGWSG...</td>\n",
       "    </tr>\n",
       "  </tbody>\n",
       "</table>\n",
       "<p>1 rows × 101 columns</p>\n",
       "</div>"
      ],
      "text/plain": [
       "    sequence_id                                           sequence species  \\\n",
       "0  test_sequnce  CAGCGATTAGTGGAGTCTGGGGGAGGCGTGGTCCAGCCTGGGTCGT...   human   \n",
       "\n",
       "  locus  stop_codon  vj_in_frame  v_frameshift  productive  rev_comp  \\\n",
       "0   IGH        True         True          True       False     False   \n",
       "\n",
       "   complete_vdj  ... fwr4_end cdr3_start cdr3_end  \\\n",
       "0         False  ...      406        285      374   \n",
       "\n",
       "                                  np1 np1_length  np2 np2_length note  \\\n",
       "0  GGCTGGTGGGCCCGACTACCGTAATGGGTACAAC         34  NaN          0        \n",
       "\n",
       "                                              vdj_nt  \\\n",
       "0  CAGCGATTAGTGGAGTCTGGGGGAGGCGTGGTCCAGCCTGGGTCGT...   \n",
       "\n",
       "                                              vdj_aa  \n",
       "0  QRLVESGGGVVQPGSSLRLSCAASDSTSVDKACTGSARLQARGWSG...  \n",
       "\n",
       "[1 rows x 101 columns]"
      ]
     },
     "execution_count": 5,
     "metadata": {},
     "output_type": "execute_result"
    }
   ],
   "source": [
    "## Airr format table\n",
    "airr_table"
   ]
  },
  {
   "cell_type": "code",
   "execution_count": null,
   "metadata": {},
   "outputs": [],
   "source": [
    "paired_final_with_info.loc[:, \"v_mutation_heavy\"] = paired_final_with_info[[\"v_identity_heavy\"]].apply(\n",
    "    lambda x: (100 - x) / 100, axis=1\n",
    ")\n",
    "paired_final_with_info.loc[:, \"v_mutation_light\"] = paired_final_with_info[[\"v_identity_light\"]].apply(\n",
    "    lambda x: (100 - x) / 100, axis=1\n",
    ")\n",
    "paired_final_with_info.loc[:, \"d_mutation_heavy\"] = paired_final_with_info[[\"d_identity_heavy\"]].apply(\n",
    "    lambda x: (100 - x) / 100, axis=1\n",
    ")\n",
    "paired_final_with_info.loc[:, \"j_mutation_heavy\"] = paired_final_with_info[[\"j_identity_heavy\"]].apply(\n",
    "    lambda x: (100 - x) / 100, axis=1\n",
    ")\n",
    "paired_final_with_info.loc[:, \"j_mutation_light\"] = paired_final_with_info[[\"j_identity_light\"]].apply(\n",
    "    lambda x: (100 - x) / 100, axis=1\n",
    ")\n",
    "\n",
    "paired_final_with_info.loc[:, \"v_mutation_heavy_aa\"] = paired_final_with_info[\n",
    "    [\"v_sequence_alignment_aa_heavy\", \"v_germline_alignment_aa_heavy\"]\n",
    "].apply(lambda x: get_v_aa_distance(x, \"heavy\"), axis=1)\n",
    "\n",
    "paired_final_with_info.loc[:, \"v_mutation_light_aa\"] = paired_final_with_info[\n",
    "    [\"v_sequence_alignment_aa_light\", \"v_germline_alignment_aa_light\"]\n",
    "].apply(lambda x: get_v_aa_distance(x, \"light\"), axis=1)"
   ]
  },
  {
   "cell_type": "code",
   "execution_count": 23,
   "metadata": {},
   "outputs": [
    {
     "data": {
      "text/plain": [
       "airr.airrtable.AirrTable"
      ]
     },
     "execution_count": 23,
     "metadata": {},
     "output_type": "execute_result"
    }
   ],
   "source": [
    "# Type is airr table\n",
    "type(airr_table)"
   ]
  },
  {
   "cell_type": "code",
   "execution_count": 24,
   "metadata": {},
   "outputs": [
    {
     "data": {
      "text/plain": [
       "pandas.core.frame.DataFrame"
      ]
     },
     "execution_count": 24,
     "metadata": {},
     "output_type": "execute_result"
    }
   ],
   "source": [
    "## Access dataframe property\n",
    "dataframe = airr_table.table\n",
    "type(dataframe)"
   ]
  },
  {
   "cell_type": "markdown",
   "metadata": {},
   "source": [
    "#### Run on Fasta File from API"
   ]
  },
  {
   "cell_type": "code",
   "execution_count": 104,
   "metadata": {},
   "outputs": [],
   "source": [
    "# Import library\n",
    "from airr import Airr, AirrTable, ScfvAirrTable\n",
    "\n",
    "# initialize API with species\n",
    "airr_api = Airr(\"human\")\n",
    "\n",
    "# test file only currently accepts fasta and compressed fasta\n",
    "test_file = \"tests/fixtures/fasta_inputs/heavy/TB247VHH.fasta\"\n",
    "\n",
    "# Get an airr table\n",
    "results = airr_api.run_file(test_file)"
   ]
  },
  {
   "cell_type": "code",
   "execution_count": 105,
   "metadata": {},
   "outputs": [],
   "source": [
    "# get only the sanitized antibodies. e.g full reading frame and no stop codons\n",
    "sanitized_antibodes = results.sanitized_antibodies"
   ]
  },
  {
   "cell_type": "code",
   "execution_count": 46,
   "metadata": {},
   "outputs": [
    {
     "data": {
      "text/plain": [
       "<AxesSubplot:>"
      ]
     },
     "execution_count": 46,
     "metadata": {},
     "output_type": "execute_result"
    },
    {
     "data": {
      "image/png": "[encoded data removed]",
      "text/plain": [
       "<Figure size 432x288 with 1 Axes>"
      ]
     },
     "metadata": {
      "needs_background": "light"
     },
     "output_type": "display_data"
    }
   ],
   "source": [
    "# can use pandas opoerations right on datafarme\n",
    "sanitized_antibodes[\"v_call\"].str.split(\",\").str.get(0).value_counts().plot(\n",
    "    kind=\"bar\", color=[\"blue\", \"red\"]\n",
    ")"
   ]
  },
  {
   "cell_type": "markdown",
   "metadata": {},
   "source": [
    "#### Run on BioPython SeqIO Records\n",
    "\n",
    "If you have all a weird file format, you can pass BioPython SeqIO Records"
   ]
  },
  {
   "cell_type": "code",
   "execution_count": 55,
   "metadata": {},
   "outputs": [],
   "source": [
    "from Bio import SeqIO\n",
    "\n",
    "# In fastaq format, convert to list of SeqRecord\n",
    "fastq_lists = list(\n",
    "    SeqIO.parse(\n",
    "        \"tests/fixtures/other_inputs/sample_4_deepcdr_contig_list_trimmed.fq\", \"fastq\"\n",
    "    )\n",
    ")\n",
    "# Only run on subset\n",
    "fastq_list_sub = fastq_lists[0:1000]"
   ]
  },
  {
   "cell_type": "code",
   "execution_count": 58,
   "metadata": {},
   "outputs": [],
   "source": [
    "# use run multiple function\n",
    "fastq_file_airr = airr_api.run_multiple(fastq_list_sub)"
   ]
  },
  {
   "cell_type": "code",
   "execution_count": 79,
   "metadata": {},
   "outputs": [
    {
     "name": "stdout",
     "output_type": "stream",
     "text": [
      "1000 total antibodies, 755 sanitized_antibodies\n"
     ]
    }
   ],
   "source": [
    "# easy metrics\n",
    "sanitized_len = len(fastq_file_airr.sanitized_antibodies)\n",
    "all_len = len(fastq_file_airr)\n",
    "print(f\"{all_len} total antibodies, {sanitized_len} sanitized_antibodies\")"
   ]
  },
  {
   "cell_type": "markdown",
   "metadata": {},
   "source": [
    "#### Run on Linked Heavy and Light Chains\n",
    "\n",
    "When the heavy and light chain are in the same fasta read, pass `scfv=True` to get a joined Airr Tagble"
   ]
  },
  {
   "cell_type": "code",
   "execution_count": null,
   "metadata": {},
   "outputs": [],
   "source": [
    "## now we can run an scfv file\n",
    "scfv_file = (\n",
    "    \"tests/fixtures/fasta_inputs/paired/2545_all_no_umi_contigs_full_length.fasta\"\n",
    ")\n",
    "scfv_output = airr_api.run_file(scfv_file, scfv=True)"
   ]
  },
  {
   "cell_type": "code",
   "execution_count": 114,
   "metadata": {},
   "outputs": [
    {
     "data": {
      "text/html": [
       "<div>\n",
       "<style scoped>\n",
       "    .dataframe tbody tr th:only-of-type {\n",
       "        vertical-align: middle;\n",
       "    }\n",
       "\n",
       "    .dataframe tbody tr th {\n",
       "        vertical-align: top;\n",
       "    }\n",
       "\n",
       "    .dataframe thead th {\n",
       "        text-align: right;\n",
       "    }\n",
       "</style>\n",
       "<table border=\"1\" class=\"dataframe\">\n",
       "  <thead>\n",
       "    <tr style=\"text-align: right;\">\n",
       "      <th></th>\n",
       "      <th>sequence_id</th>\n",
       "      <th>sequence</th>\n",
       "      <th>locus_heavy</th>\n",
       "      <th>stop_codon_heavy</th>\n",
       "      <th>vj_in_frame_heavy</th>\n",
       "      <th>productive_heavy</th>\n",
       "      <th>rev_comp_heavy</th>\n",
       "      <th>complete_vdj_heavy</th>\n",
       "      <th>v_call_heavy</th>\n",
       "      <th>d_call_heavy</th>\n",
       "      <th>...</th>\n",
       "      <th>fwr4_end_light</th>\n",
       "      <th>cdr3_start_light</th>\n",
       "      <th>cdr3_end_light</th>\n",
       "      <th>np1_light</th>\n",
       "      <th>np1_length_light</th>\n",
       "      <th>np2_light</th>\n",
       "      <th>np2_length_light</th>\n",
       "      <th>vdj_nt_light</th>\n",
       "      <th>vdj_aa_light</th>\n",
       "      <th>species</th>\n",
       "    </tr>\n",
       "  </thead>\n",
       "  <tbody>\n",
       "    <tr>\n",
       "      <th>0</th>\n",
       "      <td>2545_PLATE_tb236-r01_SAMPLE_A02_CONTIG_1</td>\n",
       "      <td>CCACCAGCCCACCTCCGCGCTAATGCGCATCAACTAGCATTGATGC...</td>\n",
       "      <td>NaN</td>\n",
       "      <td>NaN</td>\n",
       "      <td>NaN</td>\n",
       "      <td>NaN</td>\n",
       "      <td>NaN</td>\n",
       "      <td>NaN</td>\n",
       "      <td>NaN</td>\n",
       "      <td>NaN</td>\n",
       "      <td>...</td>\n",
       "      <td>&lt;NA&gt;</td>\n",
       "      <td>&lt;NA&gt;</td>\n",
       "      <td>&lt;NA&gt;</td>\n",
       "      <td>NaN</td>\n",
       "      <td>&lt;NA&gt;</td>\n",
       "      <td>NaN</td>\n",
       "      <td>&lt;NA&gt;</td>\n",
       "      <td></td>\n",
       "      <td></td>\n",
       "      <td>human</td>\n",
       "    </tr>\n",
       "    <tr>\n",
       "      <th>1</th>\n",
       "      <td>2545_PLATE_tb236-r01_SAMPLE_A03_CONTIG_1</td>\n",
       "      <td>GACAGCTATCGCGATTGCAGTGGCACTGGCTGGTTTCGCTACCGTG...</td>\n",
       "      <td>IGH</td>\n",
       "      <td>False</td>\n",
       "      <td>False</td>\n",
       "      <td>False</td>\n",
       "      <td>True</td>\n",
       "      <td>False</td>\n",
       "      <td>IGLV3-6*02</td>\n",
       "      <td>IGHD2-15*01,IGHD2-2*01,IGHD2-2*02</td>\n",
       "      <td>...</td>\n",
       "      <td>356</td>\n",
       "      <td>330</td>\n",
       "      <td>334</td>\n",
       "      <td>TCATGGCGCATATCCGTATGATGTGCCGGACTATGCTT</td>\n",
       "      <td>38</td>\n",
       "      <td>NaN</td>\n",
       "      <td>&lt;NA&gt;</td>\n",
       "      <td>GACATCCAGATGACCCAGTCTCCATCCTCCCTGTCTGCATCTGTAG...</td>\n",
       "      <td>DIQMTQSPSSLSASVGDRVTITCRASESIGSYLNWYQQKPGKAPKL...</td>\n",
       "      <td>human</td>\n",
       "    </tr>\n",
       "    <tr>\n",
       "      <th>2</th>\n",
       "      <td>2545_PLATE_tb236-r01_SAMPLE_A04_CONTIG_1</td>\n",
       "      <td>CACCGGGCCCAGGCGGCCGAGCTCGACATCCAGATGACCCAGTCTC...</td>\n",
       "      <td>IGH</td>\n",
       "      <td>False</td>\n",
       "      <td>True</td>\n",
       "      <td>True</td>\n",
       "      <td>False</td>\n",
       "      <td>True</td>\n",
       "      <td>IGHV3-23*01,IGHV3-23*05,IGHV3-23D*01</td>\n",
       "      <td>IGHD2-2*01,IGHD2-2*02,IGHD2-2*03</td>\n",
       "      <td>...</td>\n",
       "      <td>347</td>\n",
       "      <td>289</td>\n",
       "      <td>315</td>\n",
       "      <td>AGTTCCTCGG</td>\n",
       "      <td>10</td>\n",
       "      <td>NaN</td>\n",
       "      <td>&lt;NA&gt;</td>\n",
       "      <td>GACATCCAGATGACCCAGTCTCCATCCTCCCTGTCTGCATCTGTAG...</td>\n",
       "      <td>DIQMTQSPSSLSASVGDRVTITCRAGQSIRSYLNWYQQKPGKAPKL...</td>\n",
       "      <td>human</td>\n",
       "    </tr>\n",
       "  </tbody>\n",
       "</table>\n",
       "<p>3 rows × 189 columns</p>\n",
       "</div>"
      ],
      "text/plain": [
       "                                sequence_id  \\\n",
       "0  2545_PLATE_tb236-r01_SAMPLE_A02_CONTIG_1   \n",
       "1  2545_PLATE_tb236-r01_SAMPLE_A03_CONTIG_1   \n",
       "2  2545_PLATE_tb236-r01_SAMPLE_A04_CONTIG_1   \n",
       "\n",
       "                                            sequence locus_heavy  \\\n",
       "0  CCACCAGCCCACCTCCGCGCTAATGCGCATCAACTAGCATTGATGC...         NaN   \n",
       "1  GACAGCTATCGCGATTGCAGTGGCACTGGCTGGTTTCGCTACCGTG...         IGH   \n",
       "2  CACCGGGCCCAGGCGGCCGAGCTCGACATCCAGATGACCCAGTCTC...         IGH   \n",
       "\n",
       "  stop_codon_heavy vj_in_frame_heavy productive_heavy rev_comp_heavy  \\\n",
       "0              NaN               NaN              NaN            NaN   \n",
       "1            False             False            False           True   \n",
       "2            False              True             True          False   \n",
       "\n",
       "  complete_vdj_heavy                          v_call_heavy  \\\n",
       "0                NaN                                   NaN   \n",
       "1              False                            IGLV3-6*02   \n",
       "2               True  IGHV3-23*01,IGHV3-23*05,IGHV3-23D*01   \n",
       "\n",
       "                        d_call_heavy  ... fwr4_end_light cdr3_start_light  \\\n",
       "0                                NaN  ...           <NA>             <NA>   \n",
       "1  IGHD2-15*01,IGHD2-2*01,IGHD2-2*02  ...            356              330   \n",
       "2   IGHD2-2*01,IGHD2-2*02,IGHD2-2*03  ...            347              289   \n",
       "\n",
       "  cdr3_end_light                               np1_light np1_length_light  \\\n",
       "0           <NA>                                     NaN             <NA>   \n",
       "1            334  TCATGGCGCATATCCGTATGATGTGCCGGACTATGCTT               38   \n",
       "2            315                              AGTTCCTCGG               10   \n",
       "\n",
       "   np2_light  np2_length_light  \\\n",
       "0        NaN              <NA>   \n",
       "1        NaN              <NA>   \n",
       "2        NaN              <NA>   \n",
       "\n",
       "                                        vdj_nt_light  \\\n",
       "0                                                      \n",
       "1  GACATCCAGATGACCCAGTCTCCATCCTCCCTGTCTGCATCTGTAG...   \n",
       "2  GACATCCAGATGACCCAGTCTCCATCCTCCCTGTCTGCATCTGTAG...   \n",
       "\n",
       "                                        vdj_aa_light  species  \n",
       "0                                                       human  \n",
       "1  DIQMTQSPSSLSASVGDRVTITCRASESIGSYLNWYQQKPGKAPKL...    human  \n",
       "2  DIQMTQSPSSLSASVGDRVTITCRAGQSIRSYLNWYQQKPGKAPKL...    human  \n",
       "\n",
       "[3 rows x 189 columns]"
      ]
     },
     "execution_count": 114,
     "metadata": {},
     "output_type": "execute_result"
    }
   ],
   "source": [
    "# notice that the airr fields have been appended with a _heavy or _light tag for heavy and light chain\n",
    "scfv_output.table.head(3)"
   ]
  },
  {
   "cell_type": "code",
   "execution_count": 115,
   "metadata": {},
   "outputs": [
    {
     "data": {
      "text/html": [
       "<div>\n",
       "<style scoped>\n",
       "    .dataframe tbody tr th:only-of-type {\n",
       "        vertical-align: middle;\n",
       "    }\n",
       "\n",
       "    .dataframe tbody tr th {\n",
       "        vertical-align: top;\n",
       "    }\n",
       "\n",
       "    .dataframe thead th {\n",
       "        text-align: right;\n",
       "    }\n",
       "</style>\n",
       "<table border=\"1\" class=\"dataframe\">\n",
       "  <thead>\n",
       "    <tr style=\"text-align: right;\">\n",
       "      <th></th>\n",
       "      <th>sequence_id</th>\n",
       "      <th>sequence</th>\n",
       "      <th>locus_heavy</th>\n",
       "      <th>stop_codon_heavy</th>\n",
       "      <th>vj_in_frame_heavy</th>\n",
       "      <th>productive_heavy</th>\n",
       "      <th>rev_comp_heavy</th>\n",
       "      <th>complete_vdj_heavy</th>\n",
       "      <th>v_call_heavy</th>\n",
       "      <th>d_call_heavy</th>\n",
       "      <th>...</th>\n",
       "      <th>fwr4_start_light</th>\n",
       "      <th>fwr4_end_light</th>\n",
       "      <th>cdr3_start_light</th>\n",
       "      <th>cdr3_end_light</th>\n",
       "      <th>np1_light</th>\n",
       "      <th>np1_length_light</th>\n",
       "      <th>np2_light</th>\n",
       "      <th>np2_length_light</th>\n",
       "      <th>vdj_nt_light</th>\n",
       "      <th>vdj_aa_light</th>\n",
       "    </tr>\n",
       "  </thead>\n",
       "  <tbody>\n",
       "    <tr>\n",
       "      <th>0</th>\n",
       "      <td>2545_PLATE_tb238-r01_SAMPLE_E02_CONTIG_1</td>\n",
       "      <td>GACAGCTATCGCGATTGCAGTGGCACTGGCTGGTTTCGCTACCGTG...</td>\n",
       "      <td>IGH</td>\n",
       "      <td>False</td>\n",
       "      <td>True</td>\n",
       "      <td>True</td>\n",
       "      <td>False</td>\n",
       "      <td>True</td>\n",
       "      <td>IGHV3-23*01,IGHV3-23D*01</td>\n",
       "      <td>IGHD6-19*01</td>\n",
       "      <td>...</td>\n",
       "      <td>356</td>\n",
       "      <td>387</td>\n",
       "      <td>329</td>\n",
       "      <td>355</td>\n",
       "      <td>CATTCCCCCGTTCA</td>\n",
       "      <td>14</td>\n",
       "      <td>NaN</td>\n",
       "      <td>&lt;NA&gt;</td>\n",
       "      <td>GACATCCAGATGACCCAGTCTCCATCCTCCCTGTCTGCATCTGTAG...</td>\n",
       "      <td>DIQMTQSPSSLSASVGDRVTITCRASQRISRYLNWYQQKPGKAPKL...</td>\n",
       "    </tr>\n",
       "    <tr>\n",
       "      <th>1</th>\n",
       "      <td>2545_PLATE_tb238-r01_SAMPLE_A11_CONTIG_1</td>\n",
       "      <td>GACAGCTATCGCGATTGCAGTGGCACTGGCTGGTTTCGCTACCGTG...</td>\n",
       "      <td>IGH</td>\n",
       "      <td>False</td>\n",
       "      <td>True</td>\n",
       "      <td>True</td>\n",
       "      <td>False</td>\n",
       "      <td>True</td>\n",
       "      <td>IGHV3-23*01,IGHV3-23D*01</td>\n",
       "      <td>IGHD6-19*01</td>\n",
       "      <td>...</td>\n",
       "      <td>359</td>\n",
       "      <td>390</td>\n",
       "      <td>329</td>\n",
       "      <td>358</td>\n",
       "      <td>GCGAT</td>\n",
       "      <td>5</td>\n",
       "      <td>NaN</td>\n",
       "      <td>&lt;NA&gt;</td>\n",
       "      <td>GACATCCAGATGACCCAGTCTCCATCCTCCCTGTCTGCATCTGTAG...</td>\n",
       "      <td>DIQMTQSPSSLSASVGDRVTITCRASQSISRYLSWYQQKPGKAPKL...</td>\n",
       "    </tr>\n",
       "    <tr>\n",
       "      <th>2</th>\n",
       "      <td>2545_PLATE_tb238-r01_SAMPLE_C09_CONTIG_1</td>\n",
       "      <td>GACAGCTATCGCGATTGCAGTGGCACTGGCTGGTTTCGCTACCGTG...</td>\n",
       "      <td>IGH</td>\n",
       "      <td>False</td>\n",
       "      <td>True</td>\n",
       "      <td>True</td>\n",
       "      <td>False</td>\n",
       "      <td>True</td>\n",
       "      <td>IGHV3-23*01,IGHV3-23D*01</td>\n",
       "      <td>IGHD6-19*01</td>\n",
       "      <td>...</td>\n",
       "      <td>356</td>\n",
       "      <td>387</td>\n",
       "      <td>329</td>\n",
       "      <td>355</td>\n",
       "      <td>CATTCCCCCGTTCA</td>\n",
       "      <td>14</td>\n",
       "      <td>NaN</td>\n",
       "      <td>&lt;NA&gt;</td>\n",
       "      <td>GACATCCAGATGACCCAGTCTCCATCCTCCCTGTCTGCATCTGTAG...</td>\n",
       "      <td>DIQMTQSPSSLSASVGDRVTITCRASQRISRYLNWYQQKPGKAPKL...</td>\n",
       "    </tr>\n",
       "  </tbody>\n",
       "</table>\n",
       "<p>3 rows × 188 columns</p>\n",
       "</div>"
      ],
      "text/plain": [
       "                                sequence_id  \\\n",
       "0  2545_PLATE_tb238-r01_SAMPLE_E02_CONTIG_1   \n",
       "1  2545_PLATE_tb238-r01_SAMPLE_A11_CONTIG_1   \n",
       "2  2545_PLATE_tb238-r01_SAMPLE_C09_CONTIG_1   \n",
       "\n",
       "                                            sequence locus_heavy  \\\n",
       "0  GACAGCTATCGCGATTGCAGTGGCACTGGCTGGTTTCGCTACCGTG...         IGH   \n",
       "1  GACAGCTATCGCGATTGCAGTGGCACTGGCTGGTTTCGCTACCGTG...         IGH   \n",
       "2  GACAGCTATCGCGATTGCAGTGGCACTGGCTGGTTTCGCTACCGTG...         IGH   \n",
       "\n",
       "   stop_codon_heavy  vj_in_frame_heavy  productive_heavy  rev_comp_heavy  \\\n",
       "0             False               True              True           False   \n",
       "1             False               True              True           False   \n",
       "2             False               True              True           False   \n",
       "\n",
       "   complete_vdj_heavy              v_call_heavy d_call_heavy  ...  \\\n",
       "0                True  IGHV3-23*01,IGHV3-23D*01  IGHD6-19*01  ...   \n",
       "1                True  IGHV3-23*01,IGHV3-23D*01  IGHD6-19*01  ...   \n",
       "2                True  IGHV3-23*01,IGHV3-23D*01  IGHD6-19*01  ...   \n",
       "\n",
       "  fwr4_start_light fwr4_end_light cdr3_start_light cdr3_end_light  \\\n",
       "0              356            387              329            355   \n",
       "1              359            390              329            358   \n",
       "2              356            387              329            355   \n",
       "\n",
       "        np1_light  np1_length_light  np2_light  np2_length_light  \\\n",
       "0  CATTCCCCCGTTCA                14        NaN              <NA>   \n",
       "1           GCGAT                 5        NaN              <NA>   \n",
       "2  CATTCCCCCGTTCA                14        NaN              <NA>   \n",
       "\n",
       "                                        vdj_nt_light  \\\n",
       "0  GACATCCAGATGACCCAGTCTCCATCCTCCCTGTCTGCATCTGTAG...   \n",
       "1  GACATCCAGATGACCCAGTCTCCATCCTCCCTGTCTGCATCTGTAG...   \n",
       "2  GACATCCAGATGACCCAGTCTCCATCCTCCCTGTCTGCATCTGTAG...   \n",
       "\n",
       "                                        vdj_aa_light  \n",
       "0  DIQMTQSPSSLSASVGDRVTITCRASQRISRYLNWYQQKPGKAPKL...  \n",
       "1  DIQMTQSPSSLSASVGDRVTITCRASQSISRYLSWYQQKPGKAPKL...  \n",
       "2  DIQMTQSPSSLSASVGDRVTITCRASQRISRYLNWYQQKPGKAPKL...  \n",
       "\n",
       "[3 rows x 188 columns]"
      ]
     },
     "execution_count": 115,
     "metadata": {},
     "output_type": "execute_result"
    }
   ],
   "source": [
    "# Only want paired reads. That is, Productive for both heavy and light chain\n",
    "joined_and_sanitized = scfv_output.get_joined_and_sanatized()\n",
    "joined_and_sanitized.head(3)"
   ]
  },
  {
   "cell_type": "code",
   "execution_count": null,
   "metadata": {},
   "outputs": [],
   "source": []
  }
 ],
 "metadata": {
  "kernelspec": {
   "display_name": "Sadie Python 3.8",
   "language": "python",
   "name": "sadie"
  },
  "language_info": {
   "codemirror_mode": {
    "name": "ipython",
    "version": 3
   },
   "file_extension": ".py",
   "mimetype": "text/x-python",
   "name": "python",
   "nbconvert_exporter": "python",
   "pygments_lexer": "ipython3",
   "version": "3.8.5"
  },
  "toc": {
   "base_numbering": 1,
   "nav_menu": {},
   "number_sections": true,
   "sideBar": true,
   "skip_h1_title": false,
   "title_cell": "Table of Contents",
   "title_sidebar": "Contents",
   "toc_cell": false,
   "toc_position": {},
   "toc_section_display": true,
   "toc_window_display": false
  }
 },
 "nbformat": 4,
 "nbformat_minor": 4
}
