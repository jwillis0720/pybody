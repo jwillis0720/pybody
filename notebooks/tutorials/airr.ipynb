{
 "cells": [
  {
   "cell_type": "code",
   "execution_count": 1,
   "metadata": {},
   "outputs": [],
   "source": [
    "%load_ext lab_black"
   ]
  },
  {
   "cell_type": "markdown",
   "metadata": {},
   "source": [
    "# sadie.airr\n",
    "\n",
    "The airr primary purpose is for annotation of adative receptor nucletodie sequences. The backend uses[IgBLAST](https://www.ncbi.nlm.nih.gov/igblast/) for the inital alignments but abstracts all the difficult parts leaving a smooth pythonic API or command line interface. \n",
    "\n",
    "Most importantly, the output it dumps is in compliance with the standards set by [The AIRR community](https://docs.airr-community.org/en/stable/#table-of-contents). These are dumped as AirrTable objects, which is built with a [pandas dataframe](www.pandas.org) and can be manipulated with pandas dataframe operations."
   ]
  },
  {
   "cell_type": "markdown",
   "metadata": {},
   "source": [
    "#### Run Single Sequence"
   ]
  },
  {
   "cell_type": "code",
   "execution_count": 2,
   "metadata": {},
   "outputs": [],
   "source": [
    "from sadie.airr import Airr, AirrTable, ScfvAirrTable, __version__"
   ]
  },
  {
   "cell_type": "code",
   "execution_count": 3,
   "metadata": {},
   "outputs": [
    {
     "data": {
      "text/plain": [
       "'0.2.1'"
      ]
     },
     "execution_count": 3,
     "metadata": {},
     "output_type": "execute_result"
    }
   ],
   "source": [
    "__version__"
   ]
  },
  {
   "cell_type": "code",
   "execution_count": 4,
   "metadata": {},
   "outputs": [],
   "source": [
    "# Import library\n",
    "from sadie.airr import Airr, AirrTable, ScfvAirrTable\n",
    "\n",
    "# initialize API with species\n",
    "airr_api = Airr(\"human\", adaptable=False)"
   ]
  },
  {
   "cell_type": "code",
   "execution_count": 5,
   "metadata": {},
   "outputs": [
    {
     "data": {
      "text/plain": [
       "-1"
      ]
     },
     "execution_count": 5,
     "metadata": {},
     "output_type": "execute_result"
    }
   ],
   "source": [
    "airr_api.igblast.v_penalty.value"
   ]
  },
  {
   "cell_type": "code",
   "execution_count": null,
   "metadata": {},
   "outputs": [],
   "source": [
    "# Run on Single Sequence\n",
    "single_seq = \"GACATTGTGATGACCCAGTCTCCTGTCTCTCTGTCCGTCACCCTCGGACAGCCGGCCTCCATGTCCTGCAAGTCCAGTCAGACTGTCCGACAGAGTGATGGCAAGACTTTCTTATATTGGTATCGACAGAAGGCAGGCCAGTCTCCACAACTGTTAATATATGAGGGTTCGAATCGATTCTCTGGAGTGTCAGATAGGATCTCTGGCAGCGGGTCGGGGACAGATTTCACACTGAGAATCAGTCGAGTGGAGGCTGAGGATGTTGGCGTTTATTTCTGCCTGCAAACTAAAGACTTCCCCCTCACTTTTGGCGGAGGGACCAGGGTGGATATCAAA\"\n",
    "# heavy chain only\n",
    "airr_table = airr_api.run_single(\"test_sequnce\", single_seq)"
   ]
  },
  {
   "cell_type": "code",
   "execution_count": null,
   "metadata": {},
   "outputs": [],
   "source": [
    "airr_table.table.j_germline_alignment_aa"
   ]
  },
  {
   "cell_type": "code",
   "execution_count": null,
   "metadata": {},
   "outputs": [],
   "source": [
    "airr_table.table.germline_alignment_aa.iloc[0]"
   ]
  },
  {
   "cell_type": "code",
   "execution_count": null,
   "metadata": {},
   "outputs": [],
   "source": []
  },
  {
   "cell_type": "code",
   "execution_count": null,
   "metadata": {},
   "outputs": [],
   "source": [
    "airr_table.table.v_germline_alignment_aa.iloc[0]"
   ]
  },
  {
   "cell_type": "code",
   "execution_count": null,
   "metadata": {},
   "outputs": [],
   "source": [
    "airr_table.table.v_germline_alignment_aa.iloc[0]"
   ]
  },
  {
   "cell_type": "code",
   "execution_count": null,
   "metadata": {},
   "outputs": [],
   "source": [
    "## Airr format table\n",
    "v_germline = airr_table.table.v_germline_alignment_aa.iloc[0]\n",
    "full_germline = airr_table.table.germline_alignment_aa.iloc[0]\n",
    "cdr3_j_germline = full_germline[len(v_germline) :]\n",
    "\n",
    "\n",
    "v_mature = airr_table.table.v_sequence_alignment_aa.iloc[0]\n",
    "full_mature = airr_table.table.sequence_alignment_aa.iloc[0]\n",
    "cdr3_j_mature = full_mature[len(v_mature) :]\n",
    "\n",
    "# get j portion\n",
    "assert len(cdr3_j_mature) == len(cdr3_j_germline)\n",
    "\n",
    "iGL_cdr3 = \"\"\n",
    "for mature, germline in zip(cdr3_j_mature, cdr3_j_germline):\n",
    "    if germline == \"X\":\n",
    "        iGL_cdr3 += mature\n",
    "        continue\n",
    "    iGL_cdr3 += germline\n",
    "\n",
    "full_igl = v_germline + iGL_cdr3"
   ]
  },
  {
   "cell_type": "code",
   "execution_count": null,
   "metadata": {},
   "outputs": [],
   "source": []
  },
  {
   "cell_type": "code",
   "execution_count": null,
   "metadata": {},
   "outputs": [],
   "source": [
    "## Access dataframe property\n",
    "dataframe = airr_table.table\n",
    "type(dataframe)"
   ]
  },
  {
   "cell_type": "markdown",
   "metadata": {},
   "source": [
    "#### Run on Fasta File from API"
   ]
  },
  {
   "cell_type": "code",
   "execution_count": null,
   "metadata": {},
   "outputs": [],
   "source": [
    "# Import library\n",
    "from airr import Airr, AirrTable, ScfvAirrTable\n",
    "\n",
    "# initialize API with species\n",
    "airr_api = Airr(\"human\")\n",
    "\n",
    "# test file only currently accepts fasta and compressed fasta\n",
    "test_file = \"tests/fixtures/fasta_inputs/heavy/\"\n",
    "\n",
    "# Get an airr table\n",
    "results = airr_api.run_file(test_file)"
   ]
  },
  {
   "cell_type": "code",
   "execution_count": null,
   "metadata": {},
   "outputs": [],
   "source": [
    "# get only the sanitized antibodies. e.g full reading frame and no stop codons\n",
    "sanitized_antibodes = results.sanitized_antibodies"
   ]
  },
  {
   "cell_type": "code",
   "execution_count": null,
   "metadata": {},
   "outputs": [],
   "source": [
    "# can use pandas opoerations right on datafarme\n",
    "sanitized_antibodes[\"v_call\"].str.split(\",\").str.get(0).value_counts().plot(\n",
    "    kind=\"bar\", color=[\"blue\", \"red\"]\n",
    ")"
   ]
  },
  {
   "cell_type": "markdown",
   "metadata": {},
   "source": [
    "#### Run on BioPython SeqIO Records\n",
    "\n",
    "If you have all a weird file format, you can pass BioPython SeqIO Records"
   ]
  },
  {
   "cell_type": "code",
   "execution_count": null,
   "metadata": {},
   "outputs": [],
   "source": [
    "from Bio import SeqIO\n",
    "\n",
    "# In fastaq format, convert to list of SeqRecord\n",
    "fastq_lists = list(\n",
    "    SeqIO.parse(\n",
    "        \"tests/fixtures/other_inputs/sample_4_deepcdr_contig_list_trimmed.fq\", \"fastq\"\n",
    "    )\n",
    ")\n",
    "# Only run on subset\n",
    "fastq_list_sub = fastq_lists[0:1000]"
   ]
  },
  {
   "cell_type": "code",
   "execution_count": null,
   "metadata": {},
   "outputs": [],
   "source": [
    "# use run multiple function\n",
    "fastq_file_airr = airr_api.run_multiple(fastq_list_sub)"
   ]
  },
  {
   "cell_type": "code",
   "execution_count": null,
   "metadata": {},
   "outputs": [],
   "source": [
    "# easy metrics\n",
    "sanitized_len = len(fastq_file_airr.sanitized_antibodies)\n",
    "all_len = len(fastq_file_airr)\n",
    "print(f\"{all_len} total antibodies, {sanitized_len} sanitized_antibodies\")"
   ]
  },
  {
   "cell_type": "markdown",
   "metadata": {},
   "source": [
    "#### Run on Linked Heavy and Light Chains\n",
    "\n",
    "When the heavy and light chain are in the same fasta read, pass `scfv=True` to get a joined Airr Tagble"
   ]
  },
  {
   "cell_type": "code",
   "execution_count": null,
   "metadata": {},
   "outputs": [],
   "source": [
    "## now we can run an scfv file\n",
    "scfv_file = (\n",
    "    \"tests/fixtures/fasta_inputs/paired/2545_all_no_umi_contigs_full_length.fasta\"\n",
    ")\n",
    "scfv_output = airr_api.run_file(scfv_file, scfv=True)"
   ]
  },
  {
   "cell_type": "code",
   "execution_count": null,
   "metadata": {},
   "outputs": [],
   "source": [
    "# notice that the airr fields have been appended with a _heavy or _light tag for heavy and light chain\n",
    "scfv_output.table.head(3)"
   ]
  },
  {
   "cell_type": "code",
   "execution_count": null,
   "metadata": {},
   "outputs": [],
   "source": [
    "# Only want paired reads. That is, Productive for both heavy and light chain\n",
    "joined_and_sanitized = scfv_output.get_joined_and_sanatized()\n",
    "joined_and_sanitized.head(3)"
   ]
  },
  {
   "cell_type": "code",
   "execution_count": null,
   "metadata": {},
   "outputs": [],
   "source": []
  }
 ],
 "metadata": {
  "kernelspec": {
   "display_name": "Sadie Python 3.8",
   "language": "python",
   "name": "sadie"
  },
  "language_info": {
   "codemirror_mode": {
    "name": "ipython",
    "version": 3
   },
   "file_extension": ".py",
   "mimetype": "text/x-python",
   "name": "python",
   "nbconvert_exporter": "python",
   "pygments_lexer": "ipython3",
   "version": "3.8.5"
  },
  "toc": {
   "base_numbering": 1,
   "nav_menu": {},
   "number_sections": true,
   "sideBar": true,
   "skip_h1_title": false,
   "title_cell": "Table of Contents",
   "title_sidebar": "Contents",
   "toc_cell": false,
   "toc_position": {},
   "toc_section_display": true,
   "toc_window_display": false
  }
 },
 "nbformat": 4,
 "nbformat_minor": 4
}
