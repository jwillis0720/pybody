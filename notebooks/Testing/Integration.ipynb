{
 "cells": [
  {
   "cell_type": "code",
   "execution_count": 1,
   "metadata": {},
   "outputs": [],
   "source": [
    "%load_ext lab_black"
   ]
  },
  {
   "cell_type": "code",
   "execution_count": 4,
   "metadata": {},
   "outputs": [],
   "source": [
    "from sadie.airr import Airr\n",
    "import pandas as pd\n",
    "from pathlib import Path\n",
    "\n",
    "airr_api = Airr(\"human\")\n",
    "heavy_file = Path(\"../../tests/integration/airr/fixtures/catnap_nt_heavy.fasta.gz\")\n",
    "light_file = Path(\"../../tests/integration/airr/fixtures/catnap_nt_light.fasta.gz\")\n",
    "airr_api = Airr(species=\"human\", database=\"imgt\", functional=\"functional\")\n",
    "catnap_heavy = airr_api.run_file(heavy_file)\n",
    "catnap_light = airr_api.run_file(light_file)\n",
    "light_at = pd.read_feather(\n",
    "    \"../../tests/integration/airr/fixtures/catnap_light_airrtable.feather\",\n",
    ")\n",
    "heavy_at = pd.read_feather(\n",
    "    \"../../tests/integration/airr/fixtures/catnap_heavy_airrtable.feather\",\n",
    ")\n",
    "pd.testing.assert_frame_equal(light_at, catnap_light.table)\n",
    "pd.testing.assert_frame_equal(heavy_at, catnap_heavy.table)"
   ]
  },
  {
   "cell_type": "markdown",
   "metadata": {},
   "source": [
    "# make new files"
   ]
  },
  {
   "cell_type": "code",
   "execution_count": 3,
   "metadata": {},
   "outputs": [],
   "source": [
    "catnap_heavy.table.to_feather(\n",
    "    \"../../tests/integration/airr/fixtures/catnap_heavy_airrtable.feather\",\n",
    ")\n",
    "\n",
    "catnap_light.table.to_feather(\n",
    "    \"../../tests/integration/airr/fixtures/catnap_light_airrtable.feather\",\n",
    ")"
   ]
  },
  {
   "cell_type": "code",
   "execution_count": null,
   "metadata": {},
   "outputs": [],
   "source": []
  }
 ],
 "metadata": {
  "kernelspec": {
   "display_name": "Sadie Python 3.8",
   "language": "python",
   "name": "sadie"
  },
  "language_info": {
   "codemirror_mode": {
    "name": "ipython",
    "version": 3
   },
   "file_extension": ".py",
   "mimetype": "text/x-python",
   "name": "python",
   "nbconvert_exporter": "python",
   "pygments_lexer": "ipython3",
   "version": "3.8.5"
  }
 },
 "nbformat": 4,
 "nbformat_minor": 4
}
