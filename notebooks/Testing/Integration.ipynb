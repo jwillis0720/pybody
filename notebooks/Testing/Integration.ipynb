{
 "cells": [
  {
   "cell_type": "code",
   "execution_count": 9,
   "metadata": {},
   "outputs": [
    {
     "name": "stdout",
     "output_type": "stream",
     "text": [
      "The lab_black extension is already loaded. To reload it, use:\n",
      "  %reload_ext lab_black\n"
     ]
    }
   ],
   "source": [
    "%load_ext lab_black"
   ]
  },
  {
   "cell_type": "code",
   "execution_count": 58,
   "metadata": {},
   "outputs": [],
   "source": [
    "import json\n",
    "import gzip\n",
    "import pandas as pd\n",
    "import glob\n",
    "import tempfile\n",
    "from importlib import reload\n",
    "\n",
    "import uuid\n",
    "import os\n",
    "from pprint import pprint\n",
    "from multiprocessing import Pool\n",
    "from pathlib import Path\n",
    "from sadie.airr import Airr, AirrTable\n",
    "from gspread_pandas import Spread, Client\n",
    "from sadie.airr import AirrTable\n",
    "from sadie.airr import constants\n",
    "from distutils.version import StrictVersion\n",
    "import math\n",
    "\n",
    "spread = Spread(\"Sadie\", create_spread=True, create_sheet=True)\n",
    "pd.set_option(\"display.max_rows\", 45)\n",
    "pd.set_option(\"display.max_columns\", 500)\n",
    "pd.set_option(\"display.width\", 100000)\n",
    "\n",
    "\n",
    "def fillna(df, fill_value=\"\"):\n",
    "    \"\"\"\n",
    "    Replace null values with `fill_value`.\n",
    "\n",
    "    Also replaces in categorical columns.\n",
    "    \"\"\"\n",
    "    for col in df.dtypes[df.dtypes == \"category\"].index:\n",
    "        if fill_value not in df[col].cat.categories:\n",
    "            df[col].cat.add_categories([fill_value], inplace=True)\n",
    "    # Known bug https://github.com/pandas-dev/pandas/issues/25472\n",
    "    if StrictVersion(pd.__version__) >= StrictVersion(\"1.0\"):\n",
    "        for col in df.dtypes[\n",
    "            df.dtypes.apply(lambda x: x in [\"float64\", \"Int16\", \"Int64\"])\n",
    "        ].index:\n",
    "            df[col] = df[col].astype(\"float\")\n",
    "    return df.fillna(fill_value)"
   ]
  },
  {
   "cell_type": "markdown",
   "metadata": {},
   "source": [
    "## Sadie Annotate"
   ]
  },
  {
   "cell_type": "code",
   "execution_count": 87,
   "metadata": {},
   "outputs": [],
   "source": [
    "# straight ignore these\n",
    "ignore = [\n",
    "    #     \"v_call\",\n",
    "    #     \"d_call\",\n",
    "    #     \"j_call\",\n",
    "    \"v_score\",\n",
    "    \"d_score\",\n",
    "    \"j_score\",\n",
    "    \"v_support\",\n",
    "    \"d_support\",\n",
    "    \"j_support\",\n",
    "]\n",
    "\n",
    "# cast these to integers\n",
    "starts_and_ends = [\n",
    "    \"cdr1_end\",\n",
    "    \"cdr1_start\",\n",
    "    \"cdr2_end\",\n",
    "    \"cdr2_start\",\n",
    "    \"cdr3_end\",\n",
    "    \"cdr3_start\",\n",
    "    \"d_alignment_end\",\n",
    "    \"d_alignment_start\",\n",
    "    \"d_germline_end\",\n",
    "    \"d_germline_start\",\n",
    "    \"d_sequence_end\",\n",
    "    \"d_sequence_start\",\n",
    "    \"fwr1_end\",\n",
    "    \"fwr1_start\",\n",
    "    \"fwr2_end\",\n",
    "    \"fwr2_start\",\n",
    "    \"fwr4_end\",\n",
    "    \"fwr4_start\",\n",
    "    \"j_alignment_end\",\n",
    "    \"j_alignment_start\",\n",
    "    \"j_germline_end\",\n",
    "    \"j_germline_start\",\n",
    "    \"j_sequence_end\",\n",
    "    \"j_sequence_start\",\n",
    "]\n",
    "\n",
    "\n",
    "def make_sadie_comparable(df):\n",
    "    if isinstance(df, AirrTable):\n",
    "        df = df.table\n",
    "    # comparison keys between imgt and sadie\n",
    "    compare_key = list(constants.IGBLAST_AIRR.keys()) + [\n",
    "        \"v_call_top\",\n",
    "        \"d_call_top\",\n",
    "        \"j_call_top\",\n",
    "    ]\n",
    "    compare_key.remove(\"v_frameshift\")\n",
    "    df = df[compare_key].drop(ignore, axis=1)\n",
    "    df.loc[:, starts_and_ends] = df[starts_and_ends].astype(\"Int64\")\n",
    "    df.insert(\n",
    "        df.columns.get_loc(\"v_call_top\"),\n",
    "        \"v_gene_top\",\n",
    "        df[\"v_call_top\"].str.split(\"*\").str.get(0),\n",
    "    )\n",
    "    df.insert(\n",
    "        df.columns.get_loc(\"d_call_top\"),\n",
    "        \"d_gene_top\",\n",
    "        df[\"d_call_top\"].str.split(\"*\").str.get(0),\n",
    "    )\n",
    "    df.insert(\n",
    "        df.columns.get_loc(\"j_call_top\"),\n",
    "        \"j_gene_top\",\n",
    "        df[\"j_call_top\"].str.split(\"*\").str.get(0),\n",
    "    )\n",
    "    return df\n",
    "\n",
    "\n",
    "def make_imgt_comparable(df):\n",
    "    def map_bool(mapp_df, col):\n",
    "        return mapp_df.loc[:, col].map(\n",
    "            {\"T\": True, \"F\": False, True: True, False: False, nan: False},\n",
    "            na_action=\"ignore\",\n",
    "        )\n",
    "\n",
    "    compare_key = list(constants.IGBLAST_AIRR.keys())\n",
    "    compare_key.remove(\"v_frameshift\")\n",
    "    df = df[compare_key].copy()\n",
    "    bool_cols = [\"vj_in_frame\", \"productive\", \"rev_comp\", \"complete_vdj\", \"stop_codon\"]\n",
    "    for col in bool_cols:\n",
    "        df[col] = map_bool(df, col)\n",
    "\n",
    "    upper_columns = [\n",
    "        \"fwr1\",\n",
    "        \"cdr1\",\n",
    "        \"fwr2\",\n",
    "        \"cdr2\",\n",
    "        \"fwr3\",\n",
    "        \"cdr3\",\n",
    "        \"fwr4\",\n",
    "        \"germline_alignment\",\n",
    "        \"germline_alignment_aa\",\n",
    "        \"sequence_alignment\",\n",
    "        \"sequence_alignment_aa\",\n",
    "        \"v_germline_alignment\",\n",
    "        \"v_germline_alignment_aa\",\n",
    "        \"v_sequence_alignment\",\n",
    "        \"v_sequence_alignment_aa\",\n",
    "        \"d_germline_alignment\",\n",
    "        \"d_germline_alignment_aa\",\n",
    "        \"d_sequence_alignment\",\n",
    "        \"d_sequence_alignment_aa\",\n",
    "        \"j_germline_alignment\",\n",
    "        \"j_germline_alignment_aa\",\n",
    "        \"j_sequence_alignment\",\n",
    "        \"j_sequence_alignment_aa\",\n",
    "        \"np1\",\n",
    "        \"np2\",\n",
    "        \"junction\",\n",
    "        \"sequence\",\n",
    "    ]\n",
    "    for col in upper_columns:\n",
    "        df[col] = df[col].str.upper().str.replace(\".\", \"\")\n",
    "\n",
    "    df[\"v_call_top\"] = df[\"v_call\"].str.split(\",\").str.get(0).str.split().str.get(1)\n",
    "    df[\"v_gene_top\"] = df[\"v_call_top\"].str.split(\"*\").str.get(0)\n",
    "    df[\"d_call_top\"] = df[\"d_call\"].str.split(\",\").str.get(0).str.split(\"_\").str.get(-1)\n",
    "    df[\"d_gene_top\"] = df[\"d_call_top\"].str.split(\"*\").str.get(0)\n",
    "    df[\"j_call_top\"] = df[\"j_call\"].str.split(\",\").str.get(0).str.split().str.get(1)\n",
    "    df[\"j_gene_top\"] = df[\"j_call_top\"].str.split(\"*\").str.get(0)\n",
    "    df = df.drop(ignore, axis=1)\n",
    "    df.loc[:, starts_and_ends] = df[starts_and_ends].astype(\"Int64\")\n",
    "    return df"
   ]
  },
  {
   "cell_type": "code",
   "execution_count": 12,
   "metadata": {},
   "outputs": [
    {
     "name": "stderr",
     "output_type": "stream",
     "text": [
      "Caution - sequences ['4_704010461_igblastn_anarci_Heavy_IGHE_8', '1327_SRR12190303_igblastn_anarci_Heavy_Bulk_136', '1890_SRR12190307_igblastn_anarci_Heavy_Bulk_469', '5664_SRR11937611_igblastn_anarci_Heavy_Bulk_62', '6073_SRR11610505_1_igblastn_anarci_Bulk_256', '8948_Subject-49_igblastn_anarci_Heavy_IGHE_2', '9858_SRR12190266_igblastn_anarci_Heavy_Bulk_1844', '11672_704010461_igblastn_anarci_Heavy_IGHE_10', '11888_SRR12190262_igblastn_anarci_Heavy_Bulk_654', '19830_G_d9_L_igblastn_anarci_Light_Bulk_791'] may need manual inspections\n"
     ]
    }
   ],
   "source": [
    "sub_sample_file = \"../../tests/integration/airr/fixtures/OAS_subsample.fasta\"\n",
    "airr_api = Airr(species=\"human\", database=\"imgt\", functional=\"all\")\n",
    "sadie_airr = airr_api.run_file(sub_sample_file)"
   ]
  },
  {
   "cell_type": "code",
   "execution_count": 88,
   "metadata": {},
   "outputs": [],
   "source": [
    "sadie_comparable = make_sadie_comparable(sadie_airr)"
   ]
  },
  {
   "cell_type": "code",
   "execution_count": 89,
   "metadata": {},
   "outputs": [
    {
     "name": "stderr",
     "output_type": "stream",
     "text": [
      "<ipython-input-87-ab6def00e12a>:117: FutureWarning: The default value of regex will change from True to False in a future version. In addition, single character regular expressions will*not* be treated as literal strings when regex=True.\n",
      "  df[col] = df[col].str.upper().str.replace(\".\", \"\")\n"
     ]
    }
   ],
   "source": [
    "imgt_airr = \"../../tests/integration/airr/fixtures/OAS_airr_from_imgtvquest.tsv\"\n",
    "imgt_df = pd.read_csv(imgt_airr, delimiter=\"\\t\", low_memory=False)\n",
    "\n",
    "imgt_comparable = make_imgt_comparable(imgt_df)"
   ]
  },
  {
   "cell_type": "code",
   "execution_count": 164,
   "metadata": {},
   "outputs": [],
   "source": [
    "check_these = [\n",
    "    \"sequence\",\n",
    "    \"locus\",\n",
    "    \"stop_codon\",\n",
    "    \"vj_in_frame\",\n",
    "    \"productive\",\n",
    "    \"rev_comp\",\n",
    "    \"complete_vdj\",\n",
    "    \"v_call\",\n",
    "    \"v_call_top\",\n",
    "    \"v_gene_top\",\n",
    "    \"d_call_top\",\n",
    "    \"d_gene_top\",\n",
    "    \"j_call_top\",\n",
    "    \"j_gene_top\",\n",
    "    \"fwr1\",\n",
    "    \"cdr1\",\n",
    "    \"fwr2\",\n",
    "    \"cdr2\",\n",
    "    \"fwr3\",\n",
    "    \"cdr3\",\n",
    "    \"fwr4\",\n",
    "    \"fwr1_aa\",\n",
    "    \"cdr1_aa\",\n",
    "    \"fwr2_aa\",\n",
    "    \"cdr2_aa\",\n",
    "    \"fwr3_aa\",\n",
    "    \"cdr3_aa\",\n",
    "    \"fwr4_aa\",\n",
    "]"
   ]
  },
  {
   "cell_type": "code",
   "execution_count": 165,
   "metadata": {},
   "outputs": [],
   "source": [
    "compare = imgt_comparable[check_these] == sadie_comparable[check_these]"
   ]
  },
  {
   "cell_type": "code",
   "execution_count": 166,
   "metadata": {},
   "outputs": [
    {
     "data": {
      "text/html": [
       "<div>\n",
       "<style scoped>\n",
       "    .dataframe tbody tr th:only-of-type {\n",
       "        vertical-align: middle;\n",
       "    }\n",
       "\n",
       "    .dataframe tbody tr th {\n",
       "        vertical-align: top;\n",
       "    }\n",
       "\n",
       "    .dataframe thead th {\n",
       "        text-align: right;\n",
       "    }\n",
       "</style>\n",
       "<table border=\"1\" class=\"dataframe\">\n",
       "  <thead>\n",
       "    <tr style=\"text-align: right;\">\n",
       "      <th></th>\n",
       "      <th>sequence</th>\n",
       "      <th>locus</th>\n",
       "      <th>stop_codon</th>\n",
       "      <th>vj_in_frame</th>\n",
       "      <th>productive</th>\n",
       "      <th>rev_comp</th>\n",
       "      <th>complete_vdj</th>\n",
       "      <th>v_call</th>\n",
       "      <th>v_call_top</th>\n",
       "      <th>v_gene_top</th>\n",
       "      <th>d_call_top</th>\n",
       "      <th>d_gene_top</th>\n",
       "      <th>j_call_top</th>\n",
       "      <th>j_gene_top</th>\n",
       "      <th>fwr1</th>\n",
       "      <th>cdr1</th>\n",
       "      <th>fwr2</th>\n",
       "      <th>cdr2</th>\n",
       "      <th>fwr3</th>\n",
       "      <th>cdr3</th>\n",
       "      <th>fwr4</th>\n",
       "      <th>fwr1_aa</th>\n",
       "      <th>cdr1_aa</th>\n",
       "      <th>fwr2_aa</th>\n",
       "      <th>cdr2_aa</th>\n",
       "      <th>fwr3_aa</th>\n",
       "      <th>cdr3_aa</th>\n",
       "      <th>fwr4_aa</th>\n",
       "    </tr>\n",
       "  </thead>\n",
       "  <tbody>\n",
       "    <tr>\n",
       "      <th>count</th>\n",
       "      <td>25000</td>\n",
       "      <td>25000</td>\n",
       "      <td>25000</td>\n",
       "      <td>25000</td>\n",
       "      <td>25000</td>\n",
       "      <td>25000</td>\n",
       "      <td>25000</td>\n",
       "      <td>25000</td>\n",
       "      <td>25000</td>\n",
       "      <td>25000</td>\n",
       "      <td>25000</td>\n",
       "      <td>25000</td>\n",
       "      <td>25000</td>\n",
       "      <td>25000</td>\n",
       "      <td>25000</td>\n",
       "      <td>25000</td>\n",
       "      <td>25000</td>\n",
       "      <td>25000</td>\n",
       "      <td>25000</td>\n",
       "      <td>25000</td>\n",
       "      <td>25000</td>\n",
       "      <td>25000</td>\n",
       "      <td>25000</td>\n",
       "      <td>25000</td>\n",
       "      <td>25000</td>\n",
       "      <td>25000</td>\n",
       "      <td>25000</td>\n",
       "      <td>25000</td>\n",
       "    </tr>\n",
       "    <tr>\n",
       "      <th>unique</th>\n",
       "      <td>1</td>\n",
       "      <td>1</td>\n",
       "      <td>2</td>\n",
       "      <td>2</td>\n",
       "      <td>2</td>\n",
       "      <td>1</td>\n",
       "      <td>2</td>\n",
       "      <td>1</td>\n",
       "      <td>2</td>\n",
       "      <td>2</td>\n",
       "      <td>2</td>\n",
       "      <td>2</td>\n",
       "      <td>2</td>\n",
       "      <td>2</td>\n",
       "      <td>2</td>\n",
       "      <td>2</td>\n",
       "      <td>2</td>\n",
       "      <td>2</td>\n",
       "      <td>2</td>\n",
       "      <td>2</td>\n",
       "      <td>2</td>\n",
       "      <td>2</td>\n",
       "      <td>2</td>\n",
       "      <td>2</td>\n",
       "      <td>2</td>\n",
       "      <td>2</td>\n",
       "      <td>2</td>\n",
       "      <td>2</td>\n",
       "    </tr>\n",
       "    <tr>\n",
       "      <th>top</th>\n",
       "      <td>True</td>\n",
       "      <td>True</td>\n",
       "      <td>True</td>\n",
       "      <td>True</td>\n",
       "      <td>True</td>\n",
       "      <td>True</td>\n",
       "      <td>True</td>\n",
       "      <td>False</td>\n",
       "      <td>True</td>\n",
       "      <td>True</td>\n",
       "      <td>False</td>\n",
       "      <td>False</td>\n",
       "      <td>True</td>\n",
       "      <td>True</td>\n",
       "      <td>True</td>\n",
       "      <td>True</td>\n",
       "      <td>True</td>\n",
       "      <td>True</td>\n",
       "      <td>True</td>\n",
       "      <td>True</td>\n",
       "      <td>False</td>\n",
       "      <td>True</td>\n",
       "      <td>True</td>\n",
       "      <td>True</td>\n",
       "      <td>True</td>\n",
       "      <td>True</td>\n",
       "      <td>True</td>\n",
       "      <td>True</td>\n",
       "    </tr>\n",
       "    <tr>\n",
       "      <th>freq</th>\n",
       "      <td>25000</td>\n",
       "      <td>25000</td>\n",
       "      <td>13650</td>\n",
       "      <td>24808</td>\n",
       "      <td>24718</td>\n",
       "      <td>25000</td>\n",
       "      <td>24855</td>\n",
       "      <td>25000</td>\n",
       "      <td>23742</td>\n",
       "      <td>24535</td>\n",
       "      <td>15027</td>\n",
       "      <td>14931</td>\n",
       "      <td>23810</td>\n",
       "      <td>23969</td>\n",
       "      <td>24253</td>\n",
       "      <td>24383</td>\n",
       "      <td>24577</td>\n",
       "      <td>24745</td>\n",
       "      <td>24861</td>\n",
       "      <td>24767</td>\n",
       "      <td>17484</td>\n",
       "      <td>24256</td>\n",
       "      <td>24388</td>\n",
       "      <td>24581</td>\n",
       "      <td>24751</td>\n",
       "      <td>24825</td>\n",
       "      <td>24720</td>\n",
       "      <td>23893</td>\n",
       "    </tr>\n",
       "  </tbody>\n",
       "</table>\n",
       "</div>"
      ],
      "text/plain": [
       "       sequence  locus stop_codon vj_in_frame productive rev_comp complete_vdj v_call v_call_top v_gene_top d_call_top d_gene_top j_call_top j_gene_top   fwr1   cdr1   fwr2   cdr2   fwr3   cdr3   fwr4 fwr1_aa cdr1_aa fwr2_aa cdr2_aa fwr3_aa cdr3_aa fwr4_aa\n",
       "count     25000  25000      25000       25000      25000    25000        25000  25000      25000      25000      25000      25000      25000      25000  25000  25000  25000  25000  25000  25000  25000   25000   25000   25000   25000   25000   25000   25000\n",
       "unique        1      1          2           2          2        1            2      1          2          2          2          2          2          2      2      2      2      2      2      2      2       2       2       2       2       2       2       2\n",
       "top        True   True       True        True       True     True         True  False       True       True      False      False       True       True   True   True   True   True   True   True  False    True    True    True    True    True    True    True\n",
       "freq      25000  25000      13650       24808      24718    25000        24855  25000      23742      24535      15027      14931      23810      23969  24253  24383  24577  24745  24861  24767  17484   24256   24388   24581   24751   24825   24720   23893"
      ]
     },
     "execution_count": 166,
     "metadata": {},
     "output_type": "execute_result"
    }
   ],
   "source": [
    "compare.describe()"
   ]
  },
  {
   "cell_type": "code",
   "execution_count": 167,
   "metadata": {},
   "outputs": [],
   "source": [
    "# you cannot trust fwr4 since it has the extra nucleotide in the jcall"
   ]
  },
  {
   "cell_type": "code",
   "execution_count": 168,
   "metadata": {},
   "outputs": [],
   "source": [
    "from IPython.display import clear_output\n",
    "from IPython.core.display import display, HTML"
   ]
  },
  {
   "cell_type": "code",
   "execution_count": 172,
   "metadata": {},
   "outputs": [
    {
     "name": "stdout",
     "output_type": "stream",
     "text": [
      "CGGGGAGTCTCTGAAGATCTCCTGTGCAGCGTCTGGATTCACGTTCAGTTATTTTGGCATGCACTGGGTCCGCCAGGCTCCAGGCAAGGGACTGGAGTGGGTGGCACTGATAAAGTATGATGGAAGTAATACATACCACGCAGACTCCGTGAAGGGCCGATTCACCATCTCCAGAGACAATTCCAAGAACACACTATATTTGCAAATGAACAGCCTGAGACCCGAGGACACGGCCATATATTACTGTGCGAAAGAGATGGATATGCGGTGGCTACAATTTCACGATTTCGGCTGCTTTGACTCCTGGGGCCAGGGAACCCTGGTCACCGTCTCCTCAGCCTCCACCAAGGGCCCATCGGTCTTCCCCCTGGCGCCCTGCTCCAGGAGCACCTCTGGGGGCACAGCGGCCCTGGGCTGCCTG\n"
     ]
    },
    {
     "data": {
      "text/html": [
       "<div>\n",
       "<style scoped>\n",
       "    .dataframe tbody tr th:only-of-type {\n",
       "        vertical-align: middle;\n",
       "    }\n",
       "\n",
       "    .dataframe tbody tr th {\n",
       "        vertical-align: top;\n",
       "    }\n",
       "\n",
       "    .dataframe thead th {\n",
       "        text-align: right;\n",
       "    }\n",
       "</style>\n",
       "<table border=\"1\" class=\"dataframe\">\n",
       "  <thead>\n",
       "    <tr style=\"text-align: right;\">\n",
       "      <th></th>\n",
       "      <th>431_imgt</th>\n",
       "      <th>431_sadie</th>\n",
       "      <th>431</th>\n",
       "    </tr>\n",
       "  </thead>\n",
       "  <tbody>\n",
       "    <tr>\n",
       "      <th>sequence</th>\n",
       "      <td>CGGGGAGTCTCTGAAGATCTCCTGTGCAGCGTCTGGATTCACGTTC...</td>\n",
       "      <td>CGGGGAGTCTCTGAAGATCTCCTGTGCAGCGTCTGGATTCACGTTC...</td>\n",
       "      <td>True</td>\n",
       "    </tr>\n",
       "    <tr>\n",
       "      <th>locus</th>\n",
       "      <td>IGH</td>\n",
       "      <td>IGH</td>\n",
       "      <td>True</td>\n",
       "    </tr>\n",
       "    <tr>\n",
       "      <th>stop_codon</th>\n",
       "      <td>True</td>\n",
       "      <td>False</td>\n",
       "      <td>False</td>\n",
       "    </tr>\n",
       "    <tr>\n",
       "      <th>vj_in_frame</th>\n",
       "      <td>True</td>\n",
       "      <td>True</td>\n",
       "      <td>True</td>\n",
       "    </tr>\n",
       "    <tr>\n",
       "      <th>productive</th>\n",
       "      <td>True</td>\n",
       "      <td>True</td>\n",
       "      <td>True</td>\n",
       "    </tr>\n",
       "    <tr>\n",
       "      <th>rev_comp</th>\n",
       "      <td>False</td>\n",
       "      <td>False</td>\n",
       "      <td>True</td>\n",
       "    </tr>\n",
       "    <tr>\n",
       "      <th>complete_vdj</th>\n",
       "      <td>False</td>\n",
       "      <td>False</td>\n",
       "      <td>True</td>\n",
       "    </tr>\n",
       "    <tr>\n",
       "      <th>v_call</th>\n",
       "      <td>Homsap IGHV3-30*02 F, or Homsap IGHV3-30-5*02 ...</td>\n",
       "      <td>IGHV3-33*06</td>\n",
       "      <td>False</td>\n",
       "    </tr>\n",
       "    <tr>\n",
       "      <th>v_call_top</th>\n",
       "      <td>IGHV3-30*02</td>\n",
       "      <td>IGHV3-33*06</td>\n",
       "      <td>False</td>\n",
       "    </tr>\n",
       "    <tr>\n",
       "      <th>v_gene_top</th>\n",
       "      <td>IGHV3-30</td>\n",
       "      <td>IGHV3-33</td>\n",
       "      <td>False</td>\n",
       "    </tr>\n",
       "    <tr>\n",
       "      <th>d_call_top</th>\n",
       "      <td>IGHD5-24*01</td>\n",
       "      <td>IGHD5-24*01</td>\n",
       "      <td>True</td>\n",
       "    </tr>\n",
       "    <tr>\n",
       "      <th>d_gene_top</th>\n",
       "      <td>IGHD5-24</td>\n",
       "      <td>IGHD5-24</td>\n",
       "      <td>True</td>\n",
       "    </tr>\n",
       "    <tr>\n",
       "      <th>j_call_top</th>\n",
       "      <td>IGHJ4*02</td>\n",
       "      <td>IGHJ4*02</td>\n",
       "      <td>True</td>\n",
       "    </tr>\n",
       "    <tr>\n",
       "      <th>j_gene_top</th>\n",
       "      <td>IGHJ4</td>\n",
       "      <td>IGHJ4</td>\n",
       "      <td>True</td>\n",
       "    </tr>\n",
       "    <tr>\n",
       "      <th>fwr1</th>\n",
       "      <td>CGGGGAGTCTCTGAAGATCTCCTGTGCAGCGTCT</td>\n",
       "      <td>CGGGGAGTCTCTGAAGATCTCCTGTGCAGCGTCT</td>\n",
       "      <td>True</td>\n",
       "    </tr>\n",
       "    <tr>\n",
       "      <th>cdr1</th>\n",
       "      <td>GGATTCACGTTCAGTTATTTTGGC</td>\n",
       "      <td>GGATTCACGTTCAGTTATTTTGGC</td>\n",
       "      <td>True</td>\n",
       "    </tr>\n",
       "    <tr>\n",
       "      <th>fwr2</th>\n",
       "      <td>ATGCACTGGGTCCGCCAGGCTCCAGGCAAGGGACTGGAGTGGGTGG...</td>\n",
       "      <td>ATGCACTGGGTCCGCCAGGCTCCAGGCAAGGGACTGGAGTGGGTGG...</td>\n",
       "      <td>True</td>\n",
       "    </tr>\n",
       "    <tr>\n",
       "      <th>cdr2</th>\n",
       "      <td>ATAAAGTATGATGGAAGTAATACA</td>\n",
       "      <td>ATAAAGTATGATGGAAGTAATACA</td>\n",
       "      <td>True</td>\n",
       "    </tr>\n",
       "    <tr>\n",
       "      <th>fwr3</th>\n",
       "      <td>TACCACGCAGACTCCGTGAAGGGCCGATTCACCATCTCCAGAGACA...</td>\n",
       "      <td>TACCACGCAGACTCCGTGAAGGGCCGATTCACCATCTCCAGAGACA...</td>\n",
       "      <td>True</td>\n",
       "    </tr>\n",
       "    <tr>\n",
       "      <th>cdr3</th>\n",
       "      <td>GCGAAAGAGATGGATATGCGGTGGCTACAATTTCACGATTTCGGCT...</td>\n",
       "      <td>GCGAAAGAGATGGATATGCGGTGGCTACAATTTCACGATTTCGGCT...</td>\n",
       "      <td>True</td>\n",
       "    </tr>\n",
       "    <tr>\n",
       "      <th>fwr4</th>\n",
       "      <td>TGGGGCCAGGGAACCCTGGTCACCGTCTCCTCAG</td>\n",
       "      <td>TGGGGCCAGGGAACCCTGGTCACCGTCTCCTCA</td>\n",
       "      <td>False</td>\n",
       "    </tr>\n",
       "    <tr>\n",
       "      <th>fwr1_aa</th>\n",
       "      <td>GESLKISCAAS</td>\n",
       "      <td>GESLKISCAAS</td>\n",
       "      <td>True</td>\n",
       "    </tr>\n",
       "    <tr>\n",
       "      <th>cdr1_aa</th>\n",
       "      <td>GFTFSYFG</td>\n",
       "      <td>GFTFSYFG</td>\n",
       "      <td>True</td>\n",
       "    </tr>\n",
       "    <tr>\n",
       "      <th>fwr2_aa</th>\n",
       "      <td>MHWVRQAPGKGLEWVAL</td>\n",
       "      <td>MHWVRQAPGKGLEWVAL</td>\n",
       "      <td>True</td>\n",
       "    </tr>\n",
       "    <tr>\n",
       "      <th>cdr2_aa</th>\n",
       "      <td>IKYDGSNT</td>\n",
       "      <td>IKYDGSNT</td>\n",
       "      <td>True</td>\n",
       "    </tr>\n",
       "    <tr>\n",
       "      <th>fwr3_aa</th>\n",
       "      <td>YHADSVKGRFTISRDNSKNTLYLQMNSLRPEDTAIYYC</td>\n",
       "      <td>YHADSVKGRFTISRDNSKNTLYLQMNSLRPEDTAIYYC</td>\n",
       "      <td>True</td>\n",
       "    </tr>\n",
       "    <tr>\n",
       "      <th>cdr3_aa</th>\n",
       "      <td>AKEMDMRWLQFHDFGCFDS</td>\n",
       "      <td>AKEMDMRWLQFHDFGCFDS</td>\n",
       "      <td>True</td>\n",
       "    </tr>\n",
       "    <tr>\n",
       "      <th>fwr4_aa</th>\n",
       "      <td>WGQGTLVTVSS</td>\n",
       "      <td>WGQGTLVTVSS</td>\n",
       "      <td>True</td>\n",
       "    </tr>\n",
       "  </tbody>\n",
       "</table>\n",
       "</div>"
      ],
      "text/plain": [
       "<IPython.core.display.HTML object>"
      ]
     },
     "metadata": {},
     "output_type": "display_data"
    },
    {
     "ename": "KeyboardInterrupt",
     "evalue": "Interrupted by user",
     "output_type": "error",
     "traceback": [
      "\u001b[0;31m---------------------------------------------------------------------------\u001b[0m",
      "\u001b[0;31mKeyboardInterrupt\u001b[0m                         Traceback (most recent call last)",
      "\u001b[0;32m<ipython-input-172-6200df2e5f61>\u001b[0m in \u001b[0;36m<module>\u001b[0;34m\u001b[0m\n\u001b[1;32m     15\u001b[0m     \u001b[0mprint\u001b[0m\u001b[0;34m(\u001b[0m\u001b[0mimgt_comparable\u001b[0m\u001b[0;34m.\u001b[0m\u001b[0mloc\u001b[0m\u001b[0;34m[\u001b[0m\u001b[0mcompare\u001b[0m\u001b[0;34m[\u001b[0m\u001b[0;34m~\u001b[0m\u001b[0mcompare\u001b[0m\u001b[0;34m[\u001b[0m\u001b[0;34m\"v_gene_top\"\u001b[0m\u001b[0;34m]\u001b[0m\u001b[0;34m]\u001b[0m\u001b[0;34m.\u001b[0m\u001b[0mindex\u001b[0m\u001b[0;34m]\u001b[0m\u001b[0;34m.\u001b[0m\u001b[0miloc\u001b[0m\u001b[0;34m[\u001b[0m\u001b[0mi\u001b[0m\u001b[0;34m]\u001b[0m\u001b[0;34m[\u001b[0m\u001b[0;34m'sequence'\u001b[0m\u001b[0;34m]\u001b[0m\u001b[0;34m)\u001b[0m\u001b[0;34m\u001b[0m\u001b[0;34m\u001b[0m\u001b[0m\n\u001b[1;32m     16\u001b[0m     \u001b[0mdisplay\u001b[0m\u001b[0;34m(\u001b[0m\u001b[0mHTML\u001b[0m\u001b[0;34m(\u001b[0m\u001b[0msingle_entry_diff\u001b[0m\u001b[0;34m.\u001b[0m\u001b[0m_repr_html_\u001b[0m\u001b[0;34m(\u001b[0m\u001b[0;34m)\u001b[0m\u001b[0;34m)\u001b[0m\u001b[0;34m)\u001b[0m\u001b[0;34m\u001b[0m\u001b[0;34m\u001b[0m\u001b[0m\n\u001b[0;32m---> 17\u001b[0;31m     \u001b[0minput\u001b[0m\u001b[0;34m(\u001b[0m\u001b[0;34m)\u001b[0m\u001b[0;34m\u001b[0m\u001b[0;34m\u001b[0m\u001b[0m\n\u001b[0m\u001b[1;32m     18\u001b[0m     \u001b[0mclear_output\u001b[0m\u001b[0;34m(\u001b[0m\u001b[0;34m)\u001b[0m\u001b[0;34m\u001b[0m\u001b[0;34m\u001b[0m\u001b[0m\n",
      "\u001b[0;32m~/miniconda3/envs/sadie/lib/python3.8/site-packages/ipykernel/kernelbase.py\u001b[0m in \u001b[0;36mraw_input\u001b[0;34m(self, prompt)\u001b[0m\n\u001b[1;32m    855\u001b[0m                 \u001b[0;34m\"raw_input was called, but this frontend does not support input requests.\"\u001b[0m\u001b[0;34m\u001b[0m\u001b[0;34m\u001b[0m\u001b[0m\n\u001b[1;32m    856\u001b[0m             )\n\u001b[0;32m--> 857\u001b[0;31m         return self._input_request(str(prompt),\n\u001b[0m\u001b[1;32m    858\u001b[0m             \u001b[0mself\u001b[0m\u001b[0;34m.\u001b[0m\u001b[0m_parent_ident\u001b[0m\u001b[0;34m,\u001b[0m\u001b[0;34m\u001b[0m\u001b[0;34m\u001b[0m\u001b[0m\n\u001b[1;32m    859\u001b[0m             \u001b[0mself\u001b[0m\u001b[0;34m.\u001b[0m\u001b[0m_parent_header\u001b[0m\u001b[0;34m,\u001b[0m\u001b[0;34m\u001b[0m\u001b[0;34m\u001b[0m\u001b[0m\n",
      "\u001b[0;32m~/miniconda3/envs/sadie/lib/python3.8/site-packages/ipykernel/kernelbase.py\u001b[0m in \u001b[0;36m_input_request\u001b[0;34m(self, prompt, ident, parent, password)\u001b[0m\n\u001b[1;32m    899\u001b[0m             \u001b[0;32mexcept\u001b[0m \u001b[0mKeyboardInterrupt\u001b[0m\u001b[0;34m:\u001b[0m\u001b[0;34m\u001b[0m\u001b[0;34m\u001b[0m\u001b[0m\n\u001b[1;32m    900\u001b[0m                 \u001b[0;31m# re-raise KeyboardInterrupt, to truncate traceback\u001b[0m\u001b[0;34m\u001b[0m\u001b[0;34m\u001b[0m\u001b[0;34m\u001b[0m\u001b[0m\n\u001b[0;32m--> 901\u001b[0;31m                 \u001b[0;32mraise\u001b[0m \u001b[0mKeyboardInterrupt\u001b[0m\u001b[0;34m(\u001b[0m\u001b[0;34m\"Interrupted by user\"\u001b[0m\u001b[0;34m)\u001b[0m \u001b[0;32mfrom\u001b[0m \u001b[0;32mNone\u001b[0m\u001b[0;34m\u001b[0m\u001b[0;34m\u001b[0m\u001b[0m\n\u001b[0m\u001b[1;32m    902\u001b[0m             \u001b[0;32mexcept\u001b[0m \u001b[0mException\u001b[0m \u001b[0;32mas\u001b[0m \u001b[0me\u001b[0m\u001b[0;34m:\u001b[0m\u001b[0;34m\u001b[0m\u001b[0;34m\u001b[0m\u001b[0m\n\u001b[1;32m    903\u001b[0m                 \u001b[0mself\u001b[0m\u001b[0;34m.\u001b[0m\u001b[0mlog\u001b[0m\u001b[0;34m.\u001b[0m\u001b[0mwarning\u001b[0m\u001b[0;34m(\u001b[0m\u001b[0;34m\"Invalid Message:\"\u001b[0m\u001b[0;34m,\u001b[0m \u001b[0mexc_info\u001b[0m\u001b[0;34m=\u001b[0m\u001b[0;32mTrue\u001b[0m\u001b[0;34m)\u001b[0m\u001b[0;34m\u001b[0m\u001b[0;34m\u001b[0m\u001b[0m\n",
      "\u001b[0;31mKeyboardInterrupt\u001b[0m: Interrupted by user"
     ]
    }
   ],
   "source": [
    "pd.set_option(\"display.max_rows\", 100)\n",
    "for i in range(6,20):\n",
    "    single_entry_diff = (\n",
    "        imgt_comparable.loc[compare[~compare[\"v_gene_top\"]].index]\n",
    "        .iloc[i]\n",
    "        .to_frame()\n",
    "        .join(\n",
    "            sadie_comparable.loc[compare[~compare[\"v_gene_top\"]].index].iloc[i].to_frame(),\n",
    "            rsuffix=\"_sadie\",\n",
    "            lsuffix=\"_imgt\",\n",
    "        )\n",
    "        .join(compare[~compare[\"v_gene_top\"]].iloc[i].to_frame())\n",
    "        .fillna(\"\")\n",
    "    ).loc[check_these]\n",
    "    print(imgt_comparable.loc[compare[~compare[\"v_gene_top\"]].index].iloc[i]['sequence'])\n",
    "    display(HTML(single_entry_diff._repr_html_()))\n",
    "    input()\n",
    "    clear_output()"
   ]
  },
  {
   "cell_type": "code",
   "execution_count": 175,
   "metadata": {},
   "outputs": [
    {
     "data": {
      "text/html": [
       "<div>\n",
       "<style scoped>\n",
       "    .dataframe tbody tr th:only-of-type {\n",
       "        vertical-align: middle;\n",
       "    }\n",
       "\n",
       "    .dataframe tbody tr th {\n",
       "        vertical-align: top;\n",
       "    }\n",
       "\n",
       "    .dataframe thead th {\n",
       "        text-align: right;\n",
       "    }\n",
       "</style>\n",
       "<table border=\"1\" class=\"dataframe\">\n",
       "  <thead>\n",
       "    <tr style=\"text-align: right;\">\n",
       "      <th></th>\n",
       "      <th>sequence_id</th>\n",
       "      <th>sequence</th>\n",
       "      <th>species</th>\n",
       "      <th>locus</th>\n",
       "      <th>stop_codon</th>\n",
       "      <th>vj_in_frame</th>\n",
       "      <th>v_frameshift</th>\n",
       "      <th>productive</th>\n",
       "      <th>rev_comp</th>\n",
       "      <th>complete_vdj</th>\n",
       "      <th>v_call_top</th>\n",
       "      <th>v_call</th>\n",
       "      <th>d_call_top</th>\n",
       "      <th>d_call</th>\n",
       "      <th>j_call_top</th>\n",
       "      <th>j_call</th>\n",
       "      <th>sequence_alignment</th>\n",
       "      <th>germline_alignment</th>\n",
       "      <th>sequence_alignment_aa</th>\n",
       "      <th>germline_alignment_aa</th>\n",
       "      <th>v_alignment_start</th>\n",
       "      <th>v_alignment_end</th>\n",
       "      <th>d_alignment_start</th>\n",
       "      <th>d_alignment_end</th>\n",
       "      <th>j_alignment_start</th>\n",
       "      <th>j_alignment_end</th>\n",
       "      <th>v_sequence_alignment</th>\n",
       "      <th>v_sequence_alignment_aa</th>\n",
       "      <th>v_germline_alignment</th>\n",
       "      <th>v_germline_alignment_aa</th>\n",
       "      <th>d_sequence_alignment</th>\n",
       "      <th>d_sequence_alignment_aa</th>\n",
       "      <th>d_germline_alignment</th>\n",
       "      <th>d_germline_alignment_aa</th>\n",
       "      <th>j_sequence_alignment</th>\n",
       "      <th>j_sequence_alignment_aa</th>\n",
       "      <th>j_germline_alignment</th>\n",
       "      <th>j_germline_alignment_aa</th>\n",
       "      <th>fwr1</th>\n",
       "      <th>fwr1_aa</th>\n",
       "      <th>cdr1</th>\n",
       "      <th>cdr1_aa</th>\n",
       "      <th>fwr2</th>\n",
       "      <th>fwr2_aa</th>\n",
       "      <th>cdr2</th>\n",
       "      <th>cdr2_aa</th>\n",
       "      <th>fwr3</th>\n",
       "      <th>fwr3_aa</th>\n",
       "      <th>fwr4</th>\n",
       "      <th>fwr4_aa</th>\n",
       "      <th>cdr3</th>\n",
       "      <th>cdr3_aa</th>\n",
       "      <th>junction</th>\n",
       "      <th>junction_length</th>\n",
       "      <th>junction_aa</th>\n",
       "      <th>junction_aa_length</th>\n",
       "      <th>v_score</th>\n",
       "      <th>d_score</th>\n",
       "      <th>j_score</th>\n",
       "      <th>v_cigar</th>\n",
       "      <th>d_cigar</th>\n",
       "      <th>j_cigar</th>\n",
       "      <th>v_support</th>\n",
       "      <th>d_support</th>\n",
       "      <th>j_support</th>\n",
       "      <th>v_identity</th>\n",
       "      <th>d_identity</th>\n",
       "      <th>j_identity</th>\n",
       "      <th>v_sequence_start</th>\n",
       "      <th>v_sequence_end</th>\n",
       "      <th>v_germline_start</th>\n",
       "      <th>v_germline_end</th>\n",
       "      <th>d_sequence_start</th>\n",
       "      <th>d_sequence_end</th>\n",
       "      <th>d_germline_start</th>\n",
       "      <th>d_germline_end</th>\n",
       "      <th>j_sequence_start</th>\n",
       "      <th>j_sequence_end</th>\n",
       "      <th>j_germline_start</th>\n",
       "      <th>j_germline_end</th>\n",
       "      <th>fwr1_start</th>\n",
       "      <th>fwr1_end</th>\n",
       "      <th>cdr1_start</th>\n",
       "      <th>cdr1_end</th>\n",
       "      <th>fwr2_start</th>\n",
       "      <th>fwr2_end</th>\n",
       "      <th>cdr2_start</th>\n",
       "      <th>cdr2_end</th>\n",
       "      <th>fwr3_start</th>\n",
       "      <th>fwr3_end</th>\n",
       "      <th>fwr4_start</th>\n",
       "      <th>fwr4_end</th>\n",
       "      <th>cdr3_start</th>\n",
       "      <th>cdr3_end</th>\n",
       "      <th>np1</th>\n",
       "      <th>np1_length</th>\n",
       "      <th>np2</th>\n",
       "      <th>np2_length</th>\n",
       "      <th>vdj_nt</th>\n",
       "      <th>vdj_aa</th>\n",
       "    </tr>\n",
       "  </thead>\n",
       "  <tbody>\n",
       "    <tr>\n",
       "      <th>0</th>\n",
       "      <td>test</td>\n",
       "      <td>CGGGGAGTCTCTGAAGATCTCCTGTGCAGCGTCTGGATTCACGTTC...</td>\n",
       "      <td>human</td>\n",
       "      <td>IGH</td>\n",
       "      <td>False</td>\n",
       "      <td>True</td>\n",
       "      <td>False</td>\n",
       "      <td>True</td>\n",
       "      <td>False</td>\n",
       "      <td>False</td>\n",
       "      <td>IGHV3-33*06</td>\n",
       "      <td>IGHV3-33*06</td>\n",
       "      <td>IGHD5-24*01</td>\n",
       "      <td>IGHD5-24*01</td>\n",
       "      <td>IGHJ4*02</td>\n",
       "      <td>IGHJ4*02</td>\n",
       "      <td>CGGGGAGTCTCTGAAGATCTCCTGTGCAGCGTCTGGATTCACGTTC...</td>\n",
       "      <td>TGGGAGGTCCCTGAGACTCTCCTGTGCAGCGTCTGGATTCACCTTC...</td>\n",
       "      <td>GESLKISCAASGFTFSYFGMHWVRQAPGKGLEWVALIKYDGSNTYH...</td>\n",
       "      <td>GRSLRLSCAASGFTFSSYGMHWVRQAPGKGLEWVAVIWYDGSNKYY...</td>\n",
       "      <td>1</td>\n",
       "      <td>255</td>\n",
       "      <td>269</td>\n",
       "      <td>279</td>\n",
       "      <td>292</td>\n",
       "      <td>338</td>\n",
       "      <td>CGGGGAGTCTCTGAAGATCTCCTGTGCAGCGTCTGGATTCACGTTC...</td>\n",
       "      <td>GESLKISCAASGFTFSYFGMHWVRQAPGKGLEWVALIKYDGSNTYH...</td>\n",
       "      <td>TGGGAGGTCCCTGAGACTCTCCTGTGCAGCGTCTGGATTCACCTTC...</td>\n",
       "      <td>GRSLRLSCAASGFTFSSYGMHWVRQAPGKGLEWVAVIWYDGSNKYY...</td>\n",
       "      <td>TGGCTACAATT</td>\n",
       "      <td>WLQ</td>\n",
       "      <td>TGGCTACAATT</td>\n",
       "      <td>WLQ</td>\n",
       "      <td>CTGCTTTGACTCCTGGGGCCAGGGAACCCTGGTCACCGTCTCCTCAG</td>\n",
       "      <td>CFDSWGQGTLVTVSS</td>\n",
       "      <td>CTACTTTGACTACTGGGGCCAGGGAACCCTGGTCACCGTCTCCTCAG</td>\n",
       "      <td>YFDYWGQGTLVTVSS</td>\n",
       "      <td>CGGGGAGTCTCTGAAGATCTCCTGTGCAGCGTCT</td>\n",
       "      <td>GESLKISCAAS</td>\n",
       "      <td>GGATTCACGTTCAGTTATTTTGGC</td>\n",
       "      <td>GFTFSYFG</td>\n",
       "      <td>ATGCACTGGGTCCGCCAGGCTCCAGGCAAGGGACTGGAGTGGGTGG...</td>\n",
       "      <td>MHWVRQAPGKGLEWVAL</td>\n",
       "      <td>ATAAAGTATGATGGAAGTAATACA</td>\n",
       "      <td>IKYDGSNT</td>\n",
       "      <td>TACCACGCAGACTCCGTGAAGGGCCGATTCACCATCTCCAGAGACA...</td>\n",
       "      <td>YHADSVKGRFTISRDNSKNTLYLQMNSLRPEDTAIYYC</td>\n",
       "      <td>TGGGGCCAGGGAACCCTGGTCACCGTCTCCTCA</td>\n",
       "      <td>WGQGTLVTVSS</td>\n",
       "      <td>GCGAAAGAGATGGATATGCGGTGGCTACAATTTCACGATTTCGGCT...</td>\n",
       "      <td>AKEMDMRWLQFHDFGCFDS</td>\n",
       "      <td>TGTGCGAAAGAGATGGATATGCGGTGGCTACAATTTCACGATTTCG...</td>\n",
       "      <td>63</td>\n",
       "      <td>CAKEMDMRWLQFHDFGCFDSW</td>\n",
       "      <td>21</td>\n",
       "      <td>343.0</td>\n",
       "      <td>21.84375</td>\n",
       "      <td>69.75</td>\n",
       "      <td>41N255M166S</td>\n",
       "      <td>268S7N11M142S2N</td>\n",
       "      <td>291S1N47M83S</td>\n",
       "      <td>4.067000e-96</td>\n",
       "      <td>0.06912</td>\n",
       "      <td>3.339000e-16</td>\n",
       "      <td>89.4375</td>\n",
       "      <td>100.0</td>\n",
       "      <td>95.75</td>\n",
       "      <td>1</td>\n",
       "      <td>255</td>\n",
       "      <td>42</td>\n",
       "      <td>296</td>\n",
       "      <td>269</td>\n",
       "      <td>279</td>\n",
       "      <td>8.0</td>\n",
       "      <td>18.0</td>\n",
       "      <td>292</td>\n",
       "      <td>338</td>\n",
       "      <td>2</td>\n",
       "      <td>48</td>\n",
       "      <td>1</td>\n",
       "      <td>34</td>\n",
       "      <td>35</td>\n",
       "      <td>58</td>\n",
       "      <td>59</td>\n",
       "      <td>109</td>\n",
       "      <td>110</td>\n",
       "      <td>133</td>\n",
       "      <td>134</td>\n",
       "      <td>247</td>\n",
       "      <td>305</td>\n",
       "      <td>337</td>\n",
       "      <td>248</td>\n",
       "      <td>304</td>\n",
       "      <td>GATGGATATGCGG</td>\n",
       "      <td>13</td>\n",
       "      <td>TCACGATTTCGG</td>\n",
       "      <td>12</td>\n",
       "      <td>CGGGGAGTCTCTGAAGATCTCCTGTGCAGCGTCTGGATTCACGTTC...</td>\n",
       "      <td>GESLKISCAASGFTFSYFGMHWVRQAPGKGLEWVALIKYDGSNTYH...</td>\n",
       "    </tr>\n",
       "  </tbody>\n",
       "</table>\n",
       "</div>"
      ],
      "text/plain": [
       "  sequence_id                                           sequence species locus  stop_codon  vj_in_frame  v_frameshift  productive  rev_comp  complete_vdj   v_call_top       v_call   d_call_top       d_call j_call_top    j_call                                 sequence_alignment                                 germline_alignment                              sequence_alignment_aa                              germline_alignment_aa  v_alignment_start  v_alignment_end  d_alignment_start  d_alignment_end  j_alignment_start  j_alignment_end                               v_sequence_alignment                            v_sequence_alignment_aa                               v_germline_alignment                            v_germline_alignment_aa d_sequence_alignment d_sequence_alignment_aa d_germline_alignment d_germline_alignment_aa                             j_sequence_alignment j_sequence_alignment_aa                             j_germline_alignment j_germline_alignment_aa                                fwr1      fwr1_aa                      cdr1   cdr1_aa                                               fwr2            fwr2_aa                      cdr2   cdr2_aa                                               fwr3                                 fwr3_aa                               fwr4      fwr4_aa                                               cdr3              cdr3_aa                                           junction  junction_length            junction_aa  junction_aa_length  v_score   d_score  j_score      v_cigar          d_cigar       j_cigar     v_support  d_support     j_support  v_identity  d_identity  j_identity  v_sequence_start  v_sequence_end  v_germline_start  v_germline_end  d_sequence_start  d_sequence_end  d_germline_start  d_germline_end  j_sequence_start  j_sequence_end  j_germline_start  j_germline_end  fwr1_start  fwr1_end  cdr1_start  cdr1_end  fwr2_start  fwr2_end  cdr2_start  cdr2_end  fwr3_start  fwr3_end  fwr4_start  fwr4_end  cdr3_start  cdr3_end            np1  np1_length           np2  np2_length                                             vdj_nt                                             vdj_aa\n",
       "0        test  CGGGGAGTCTCTGAAGATCTCCTGTGCAGCGTCTGGATTCACGTTC...   human   IGH       False         True         False        True     False         False  IGHV3-33*06  IGHV3-33*06  IGHD5-24*01  IGHD5-24*01   IGHJ4*02  IGHJ4*02  CGGGGAGTCTCTGAAGATCTCCTGTGCAGCGTCTGGATTCACGTTC...  TGGGAGGTCCCTGAGACTCTCCTGTGCAGCGTCTGGATTCACCTTC...  GESLKISCAASGFTFSYFGMHWVRQAPGKGLEWVALIKYDGSNTYH...  GRSLRLSCAASGFTFSSYGMHWVRQAPGKGLEWVAVIWYDGSNKYY...                  1              255                269              279                292              338  CGGGGAGTCTCTGAAGATCTCCTGTGCAGCGTCTGGATTCACGTTC...  GESLKISCAASGFTFSYFGMHWVRQAPGKGLEWVALIKYDGSNTYH...  TGGGAGGTCCCTGAGACTCTCCTGTGCAGCGTCTGGATTCACCTTC...  GRSLRLSCAASGFTFSSYGMHWVRQAPGKGLEWVAVIWYDGSNKYY...          TGGCTACAATT                     WLQ          TGGCTACAATT                     WLQ  CTGCTTTGACTCCTGGGGCCAGGGAACCCTGGTCACCGTCTCCTCAG         CFDSWGQGTLVTVSS  CTACTTTGACTACTGGGGCCAGGGAACCCTGGTCACCGTCTCCTCAG         YFDYWGQGTLVTVSS  CGGGGAGTCTCTGAAGATCTCCTGTGCAGCGTCT  GESLKISCAAS  GGATTCACGTTCAGTTATTTTGGC  GFTFSYFG  ATGCACTGGGTCCGCCAGGCTCCAGGCAAGGGACTGGAGTGGGTGG...  MHWVRQAPGKGLEWVAL  ATAAAGTATGATGGAAGTAATACA  IKYDGSNT  TACCACGCAGACTCCGTGAAGGGCCGATTCACCATCTCCAGAGACA...  YHADSVKGRFTISRDNSKNTLYLQMNSLRPEDTAIYYC  TGGGGCCAGGGAACCCTGGTCACCGTCTCCTCA  WGQGTLVTVSS  GCGAAAGAGATGGATATGCGGTGGCTACAATTTCACGATTTCGGCT...  AKEMDMRWLQFHDFGCFDS  TGTGCGAAAGAGATGGATATGCGGTGGCTACAATTTCACGATTTCG...               63  CAKEMDMRWLQFHDFGCFDSW                  21    343.0  21.84375    69.75  41N255M166S  268S7N11M142S2N  291S1N47M83S  4.067000e-96    0.06912  3.339000e-16     89.4375       100.0       95.75                 1             255                42             296               269             279               8.0            18.0               292             338                 2              48           1        34          35        58          59       109         110       133         134       247         305       337         248       304  GATGGATATGCGG          13  TCACGATTTCGG          12  CGGGGAGTCTCTGAAGATCTCCTGTGCAGCGTCTGGATTCACGTTC...  GESLKISCAASGFTFSYFGMHWVRQAPGKGLEWVALIKYDGSNTYH..."
      ]
     },
     "execution_count": 175,
     "metadata": {},
     "output_type": "execute_result"
    }
   ],
   "source": [
    "airr_api.run_single(\n",
    "    \"test\",\n",
    "    \"CGGGGAGTCTCTGAAGATCTCCTGTGCAGCGTCTGGATTCACGTTCAGTTATTTTGGCATGCACTGGGTCCGCCAGGCTCCAGGCAAGGGACTGGAGTGGGTGGCACTGATAAAGTATGATGGAAGTAATACATACCACGCAGACTCCGTGAAGGGCCGATTCACCATCTCCAGAGACAATTCCAAGAACACACTATATTTGCAAATGAACAGCCTGAGACCCGAGGACACGGCCATATATTACTGTGCGAAAGAGATGGATATGCGGTGGCTACAATTTCACGATTTCGGCTGCTTTGACTCCTGGGGCCAGGGAACCCTGGTCACCGTCTCCTCAGCCTCCACCAAGGGCCCATCGGTCTTCCCCCTGGCGCCCTGCTCCAGGAGCACCTCTGGGGGCACAGCGGCCCTGGGCTGCCTG\",\n",
    ")"
   ]
  },
  {
   "cell_type": "code",
   "execution_count": 176,
   "metadata": {},
   "outputs": [
    {
     "data": {
      "text/plain": [
       "IgBLAST: env IGDATA=/Users/jordanwillis/repos/personal/sadie/src/sadie/airr/data/germlines/imgt/all/Ig /Users/jordanwillis/repos/personal/sadie/src/sadie/airr/bin/darwin/igblastn -min_D_match 5 -num_alignments_V 5 -num_alignments_J 3 -num_alignments_D 3 -organism human -ig_seqtype Ig -germline_db_V /Users/jordanwillis/repos/personal/sadie/src/sadie/airr/data/germlines/imgt/all/Ig/blastdb/human_V -germline_db_D /Users/jordanwillis/repos/personal/sadie/src/sadie/airr/data/germlines/imgt/all/Ig/blastdb/human_D -germline_db_J /Users/jordanwillis/repos/personal/sadie/src/sadie/airr/data/germlines/imgt/all/Ig/blastdb/human_J -auxiliary_data /Users/jordanwillis/repos/personal/sadie/src/sadie/airr/data/germlines/imgt/aux_db/human_gl.aux -outfmt 19 -domain_system imgt -word_size 11 -gapopen 5 -gapextend 2 -J_penalty -1 -V_penalty -2 -num_threads 12 -show_translation -extend_align5end -extend_align3end"
      ]
     },
     "execution_count": 176,
     "metadata": {},
     "output_type": "execute_result"
    }
   ],
   "source": [
    "airr_api"
   ]
  },
  {
   "cell_type": "code",
   "execution_count": 112,
   "metadata": {},
   "outputs": [
    {
     "data": {
      "text/plain": [
       "'CTTCGGAGACCCTGTCCCTCACCTGCGCTGTCTATGGTGGGTCCTTCAGTGGTTACTACTGGGGCTGGATCCGCCAGCCCCCAGGGAAGGGGCTGGAGTGGATTGGGAGTATCTATTATAGTGGGAGCACCTACTACAACCCGTCCCTCAAGAGTCGAGTCACCATATCCGTAGACACGTCCAAGAACCAGTTCTCCCTGAAGCTGAGCTCTGTGACCGCCGCAGACACGGCTGTGTATTACTGTGCGAACGGCCCTATGTATAGTGGGAGCTACGGGTGGTTCGACCCCTGGGGCCAGGGAACCCTGGTCACCGTCTCCTCAGGTAAG'"
      ]
     },
     "execution_count": 112,
     "metadata": {},
     "output_type": "execute_result"
    }
   ],
   "source": [
    "imgt_comparable.loc[55, \"sequence\"]"
   ]
  },
  {
   "cell_type": "markdown",
   "metadata": {},
   "source": [
    "## Read OAS"
   ]
  },
  {
   "cell_type": "code",
   "execution_count": null,
   "metadata": {},
   "outputs": [],
   "source": []
  },
  {
   "cell_type": "code",
   "execution_count": 5,
   "metadata": {},
   "outputs": [],
   "source": [
    "df_bz2 = pd.read_csv(\n",
    "    \"https://sadie.s3.us-east-2.amazonaws.com/integration/OAS_sample_subsample.bz2\",\n",
    "    index_col=0,\n",
    ").reset_index()\n",
    "\n",
    "sub_sample_file = \"../../tests/integration/airr/fixtures/OAS_subsample.fasta\"\n",
    "with open(\"../../tests/integration/airr/fixtures/OAS_subsample.fasta\", \"w\") as f:\n",
    "    for index, (i, k, j) in enumerate(\n",
    "        zip(\n",
    "            df_bz2[\"OAS_dataunit\"].str.split(\".csv.gz\").str.get(0),\n",
    "            df_bz2[\"OAS_dataindex\"],\n",
    "            df_bz2[\"sequence\"],\n",
    "        )\n",
    "    ):\n",
    "        f.write(f\">{index}_{i}_{k}\\n{j}\\n\")"
   ]
  },
  {
   "cell_type": "markdown",
   "metadata": {},
   "source": [
    "## IMGT HI-Vqeust \"AIRR\" format"
   ]
  },
  {
   "cell_type": "code",
   "execution_count": 17,
   "metadata": {},
   "outputs": [],
   "source": [
    "spread.df_to_sheet(\n",
    "    imgt_df.head(100).set_index(\"sequence_id\"),\n",
    "    sheet=\"imgt\",\n",
    "    replace=True,\n",
    "    freeze_headers=True,\n",
    "    freeze_index=True,\n",
    ")"
   ]
  },
  {
   "cell_type": "code",
   "execution_count": null,
   "metadata": {},
   "outputs": [],
   "source": [
    "# spreadable_df = fillna(sadie_airr.table.head(100))\n",
    "spread.df_to_sheet(\n",
    "    spreadable_df.set_index(\"sequence_id\"),\n",
    "    sheet=\"sadie\",\n",
    "    replace=True,\n",
    "    freeze_headers=True,\n",
    "    freeze_index=True,\n",
    ")"
   ]
  },
  {
   "cell_type": "markdown",
   "metadata": {},
   "source": [
    "## Clean UP IMGT"
   ]
  },
  {
   "cell_type": "markdown",
   "metadata": {},
   "source": [
    "## Clean up sadie"
   ]
  },
  {
   "cell_type": "code",
   "execution_count": 358,
   "metadata": {},
   "outputs": [
    {
     "data": {
      "text/plain": [
       "fwr1     True\n",
       "cdr1     True\n",
       "fwr2     True\n",
       "cdr2    False\n",
       "fwr3     True\n",
       "cdr3     True\n",
       "Name: 99, dtype: bool"
      ]
     },
     "execution_count": 358,
     "metadata": {},
     "output_type": "execute_result"
    }
   ],
   "source": [
    "ref[check_these] == target[check_these]"
   ]
  },
  {
   "cell_type": "code",
   "execution_count": 362,
   "metadata": {},
   "outputs": [
    {
     "data": {
      "text/plain": [
       "'ISGSRTYI'"
      ]
     },
     "execution_count": 362,
     "metadata": {},
     "output_type": "execute_result"
    }
   ],
   "source": [
    "ref[\"cdr2_aa\"]"
   ]
  },
  {
   "cell_type": "code",
   "execution_count": 363,
   "metadata": {},
   "outputs": [
    {
     "data": {
      "text/plain": [
       "'ISGSFRTYI'"
      ]
     },
     "execution_count": 363,
     "metadata": {},
     "output_type": "execute_result"
    }
   ],
   "source": [
    "target[\"cdr2_aa\"]"
   ]
  },
  {
   "cell_type": "code",
   "execution_count": 361,
   "metadata": {},
   "outputs": [
    {
     "data": {
      "text/plain": [
       "'TACCTTGACTTAACTCTTGGGGGTCTGGGGGAGGCCTGGTCAAGCCTGGGGGGTCCCTGAGACTCTCATGTGCAGCCTCTGGATTCACCTTCAGTAGTTTTACCATGAATTGGGTCCGCCAGGCTCCAGGGAAGGGACTGGAGTGGGTCTCATCCATTAGCGGCAGTTTCAGAACTTACATATATTATGCCGACTCAGTGAAGGGCCGATTCACCGTCTCCAGAGACAACGCCAAGGAATTGGTGTTTCTGCAGATGGACAACCTGAGAGTCGAAGACACAGGTGTATATTATTGTGCGAGAGACCTAAATACGGTGACTACCCCAGAATACTTCCAACACTGGGGCCTGGGCACCCCGGTCTCCGTCTCCTCAGCATCCCCGACCAGCCCCAAGGTCTTCCCGCTG'"
      ]
     },
     "execution_count": 361,
     "metadata": {},
     "output_type": "execute_result"
    }
   ],
   "source": [
    "ref[\"sequence\"]"
   ]
  },
  {
   "cell_type": "code",
   "execution_count": 355,
   "metadata": {},
   "outputs": [
    {
     "data": {
      "text/plain": [
       "'ATCAACCCTAGTGGTGATAACACA'"
      ]
     },
     "execution_count": 355,
     "metadata": {},
     "output_type": "execute_result"
    }
   ],
   "source": [
    "target[\"cdr2\"]"
   ]
  },
  {
   "cell_type": "code",
   "execution_count": 344,
   "metadata": {},
   "outputs": [
    {
     "data": {
      "text/plain": [
       "'TGGGGCCAGGGAACC'"
      ]
     },
     "execution_count": 344,
     "metadata": {},
     "output_type": "execute_result"
    }
   ],
   "source": [
    "ref[\"fwr4\"]"
   ]
  },
  {
   "cell_type": "code",
   "execution_count": 345,
   "metadata": {},
   "outputs": [
    {
     "data": {
      "text/plain": [
       "'TGGGGCCAGGGAACCCT'"
      ]
     },
     "execution_count": 345,
     "metadata": {},
     "output_type": "execute_result"
    }
   ],
   "source": [
    "\n",
    "target[\"fwr4\"]"
   ]
  },
  {
   "cell_type": "code",
   "execution_count": 342,
   "metadata": {},
   "outputs": [
    {
     "data": {
      "text/plain": [
       "fwr1     True\n",
       "cdr1     True\n",
       "fwr2     True\n",
       "cdr2     True\n",
       "fwr3     True\n",
       "cdr3     True\n",
       "fwr4    False\n",
       "Name: 3, dtype: bool"
      ]
     },
     "execution_count": 342,
     "metadata": {},
     "output_type": "execute_result"
    }
   ],
   "source": [
    "ref[check_these] == target[check_these]"
   ]
  },
  {
   "cell_type": "code",
   "execution_count": 328,
   "metadata": {},
   "outputs": [
    {
     "data": {
      "text/plain": [
       "33"
      ]
     },
     "execution_count": 328,
     "metadata": {},
     "output_type": "execute_result"
    }
   ],
   "source": [
    "len(ref[\"fwr4\"])"
   ]
  },
  {
   "cell_type": "code",
   "execution_count": 320,
   "metadata": {},
   "outputs": [
    {
     "data": {
      "text/plain": [
       "'IGHV4-31*02'"
      ]
     },
     "execution_count": 320,
     "metadata": {},
     "output_type": "execute_result"
    }
   ],
   "source": [
    "ref[\"v_call_top\"]"
   ]
  },
  {
   "cell_type": "code",
   "execution_count": 321,
   "metadata": {},
   "outputs": [
    {
     "data": {
      "text/plain": [
       "'IGHV4-31*02'"
      ]
     },
     "execution_count": 321,
     "metadata": {},
     "output_type": "execute_result"
    }
   ],
   "source": [
    "target[\"v_call_top\"]"
   ]
  },
  {
   "cell_type": "code",
   "execution_count": 303,
   "metadata": {},
   "outputs": [
    {
     "data": {
      "text/plain": [
       "'IGHJ4*02'"
      ]
     },
     "execution_count": 303,
     "metadata": {},
     "output_type": "execute_result"
    }
   ],
   "source": [
    "ref[\"j_call_top\"]"
   ]
  },
  {
   "cell_type": "code",
   "execution_count": 304,
   "metadata": {},
   "outputs": [
    {
     "data": {
      "text/plain": [
       "'IGHJ4*02'"
      ]
     },
     "execution_count": 304,
     "metadata": {},
     "output_type": "execute_result"
    }
   ],
   "source": [
    "target[\"j_call_top\"]"
   ]
  },
  {
   "cell_type": "code",
   "execution_count": 330,
   "metadata": {},
   "outputs": [
    {
     "data": {
      "text/plain": [
       "33"
      ]
     },
     "execution_count": 330,
     "metadata": {},
     "output_type": "execute_result"
    }
   ],
   "source": [
    "len(target[\"fwr4\"])"
   ]
  },
  {
   "cell_type": "code",
   "execution_count": 331,
   "metadata": {},
   "outputs": [
    {
     "data": {
      "text/plain": [
       "33"
      ]
     },
     "execution_count": 331,
     "metadata": {},
     "output_type": "execute_result"
    }
   ],
   "source": [
    "len(ref[\"fwr4\"])"
   ]
  },
  {
   "cell_type": "code",
   "execution_count": null,
   "metadata": {},
   "outputs": [],
   "source": [
    "TGGGGCCAGGGAACCCTGGTCACCGTCGCCTCAG\n",
    "TGGGGCCAGGGAACCCTGGTCACCGTCGCCTCA"
   ]
  },
  {
   "cell_type": "code",
   "execution_count": 312,
   "metadata": {},
   "outputs": [
    {
     "data": {
      "text/plain": [
       "Seq('WGQGTLVTVAS')"
      ]
     },
     "execution_count": 312,
     "metadata": {},
     "output_type": "execute_result"
    }
   ],
   "source": [
    "from Bio.Seq import Seq\n",
    "\n",
    "Seq(\"tggggccagggaaccctggtcaccgtcgcctca\").translate()"
   ]
  },
  {
   "cell_type": "code",
   "execution_count": 317,
   "metadata": {},
   "outputs": [],
   "source": []
  },
  {
   "cell_type": "code",
   "execution_count": 308,
   "metadata": {},
   "outputs": [
    {
     "data": {
      "text/plain": [
       "'GGCCTCAGTGAAGGTCTCCTGCAAGGCATCTGGATACACCTTCACCAACCACTACATCCACTGGGTGCGACAGGCCCCTGGACAAGGGCTTGAGTGGATGGGAATAATCAACCCTAGTGGTGGTAGGACAAGTCACGTACAGGAGTTCCAGGGCAGAGTCACCATGACCAGGGACACGTCCACGAGTACTGTCTACATGGAGTTGAGTAGCCTGAGATCTGAGGACACGGCCGTGTACTTTTGTGCGAGACAACAGTGTAGTGCTTCCAACTGCTATGAGGAGAGTTTTGACCACTGGGGCCAGGGAACCCTGGTCACCGTCGCCTCAGCCTCCACACAGAGCCCATCCGTCTTC'"
      ]
     },
     "execution_count": 308,
     "metadata": {},
     "output_type": "execute_result"
    }
   ],
   "source": [
    "ref[\"sequence\"]"
   ]
  },
  {
   "cell_type": "code",
   "execution_count": 298,
   "metadata": {},
   "outputs": [
    {
     "data": {
      "text/plain": [
       "fwr1     True\n",
       "cdr1     True\n",
       "fwr2     True\n",
       "cdr2     True\n",
       "fwr3     True\n",
       "cdr3     True\n",
       "fwr4    False\n",
       "Name: 1_705010661_igblastn_anarci_Heavy_IGHE_1125, dtype: bool"
      ]
     },
     "execution_count": 298,
     "metadata": {},
     "output_type": "execute_result"
    }
   ],
   "source": [
    "target[check_these] == ref[check_these]"
   ]
  },
  {
   "cell_type": "code",
   "execution_count": 242,
   "metadata": {},
   "outputs": [
    {
     "data": {
      "text/plain": [
       "'ACTGTCTCTGGTGGCTCCATCAGCAGTGGTGGTTACTACTGGAGCTGGATCCGCCAGCACCCAGGGAAGGGCCTGGAGTGGATTGGGTACATCTATTACAGTGGGAGCACCTACTACAACCCGTCCCTCAAGAGTCGAGTTACCATATCAGTAGACACGTCTAAGAACCAGTTCTCCCTGAAGCTGAGCTCTGTGACTGCCGCGGACACGGCCGTGTATTACTGTGCGANNNNNNNNNAACTCCNNNNTGATGCTTTTGATATCTGGGGCCAAGGGACAATGGTCACCGTCTCTTCA'"
      ]
     },
     "execution_count": 242,
     "metadata": {},
     "output_type": "execute_result"
    }
   ],
   "source": []
  },
  {
   "cell_type": "code",
   "execution_count": 193,
   "metadata": {},
   "outputs": [
    {
     "name": "stderr",
     "output_type": "stream",
     "text": [
      "<ipython-input-192-d3342252a2a0>:16: DeprecationWarning: Numeric-style type codes are deprecated and will result in an error in the future.\n",
      "  df.dtypes.apply(lambda x: x in [\"float64\", \"Int16\"])\n"
     ]
    }
   ],
   "source": [
    "spread.df_to_sheet(\n",
    "    fillna(top_100_sadie_airr_only),\n",
    "    sheet=\"sadie_airr_only\",\n",
    "    freeze_headers=True,\n",
    "    freeze_index=True,\n",
    "    replace=True,\n",
    ")"
   ]
  },
  {
   "cell_type": "code",
   "execution_count": 213,
   "metadata": {},
   "outputs": [
    {
     "name": "stderr",
     "output_type": "stream",
     "text": [
      "<ipython-input-210-72c7d47bbfa2>:16: DeprecationWarning: Numeric-style type codes are deprecated and will result in an error in the future.\n",
      "  df.dtypes.apply(lambda x: x in [\"float64\", \"Int16\", \"Int64\"])\n"
     ]
    }
   ],
   "source": [
    "spread.df_to_sheet(\n",
    "    fillna(top_100_imgt_airr_only),\n",
    "    sheet=\"imgt_airr_only\",\n",
    "    freeze_headers=True,\n",
    "    freeze_index=True,\n",
    "    replace=True,\n",
    ")"
   ]
  },
  {
   "cell_type": "code",
   "execution_count": 229,
   "metadata": {},
   "outputs": [],
   "source": []
  },
  {
   "cell_type": "code",
   "execution_count": 232,
   "metadata": {},
   "outputs": [
    {
     "data": {
      "text/plain": [
       "germline_alignment         ACTGTCTCTGGTGGCTCCATCAGCAGTGGTGGTTACTACTGGAGCT...\n",
       "germline_alignment_aa      TVSGGSISSGGYYWSWIRQHPGKGLEWIGYIYYSGSTYYNPSLKSR...\n",
       "v_alignment_end                                                       316.00\n",
       "v_germline_start                                                        1.00\n",
       "v_germline_end                                                        316.00\n",
       "v_identity                                                             82.22\n",
       "d_alignment_start                                                     325.00\n",
       "d_alignment_end                                                       334.00\n",
       "d_germline_alignment                                              CAACTGGAAC\n",
       "d_germline_alignment_aa                                                  QLE\n",
       "d_germline_start                                                        5.00\n",
       "d_germline_end                                                         14.00\n",
       "d_identity                                                              0.00\n",
       "d_sequence_alignment                                              CAACTCCAAC\n",
       "d_sequence_alignment_aa                                                  QLQ\n",
       "d_sequence_start                                                      238.00\n",
       "d_sequence_end                                                        247.00\n",
       "j_alignment_start                                                     336.00\n",
       "j_alignment_end                                                       384.00\n",
       "j_identity                                                             93.88\n",
       "junction                       tgtgcgacctggacccaactccaacttgatgcttttgatatgtgg\n",
       "np1                                                                 CCTGGACC\n",
       "np1_length                                                              8.00\n",
       "np2                                                                        T\n",
       "np2_length                                                              1.00\n",
       "d_call_top                                                        IGHD1-1*01\n",
       "Name: 0_G_d22_H_igblastn_anarci_Heavy_IGHA_219, dtype: object"
      ]
     },
     "execution_count": 232,
     "metadata": {},
     "output_type": "execute_result"
    }
   ],
   "source": []
  },
  {
   "cell_type": "markdown",
   "metadata": {},
   "source": [
    "## Try and find OAS similariities\n",
    "\n",
    "I'm suspect of the entire airr file since it doesn't have fwr4"
   ]
  },
  {
   "cell_type": "code",
   "execution_count": null,
   "metadata": {},
   "outputs": [],
   "source": [
    "df_bz2 = pd.read_csv(\n",
    "    \"https://sadie.s3.us-east-2.amazonaws.com/integration/OAS_sample_subsample.bz2\",\n",
    "    index_col=0,\n",
    ").reset_index()"
   ]
  },
  {
   "cell_type": "code",
   "execution_count": null,
   "metadata": {},
   "outputs": [],
   "source": []
  },
  {
   "cell_type": "code",
   "execution_count": null,
   "metadata": {},
   "outputs": [],
   "source": [
    "airr_dataframe = airr_api.run_dataframe(df_bz2, \"index\", \"sequence\")"
   ]
  },
  {
   "cell_type": "code",
   "execution_count": null,
   "metadata": {},
   "outputs": [],
   "source": [
    "ref = df_bz2[df_bz2.columns.intersection(airr_dataframe.table.columns)].drop(\n",
    "    \"sequence_id\", axis=1\n",
    ")\n",
    "target = airr_dataframe.table[\n",
    "    airr_dataframe.table.columns.intersection(df_bz2.columns)\n",
    "].drop(\"sequence_id\", axis=1)"
   ]
  },
  {
   "cell_type": "code",
   "execution_count": null,
   "metadata": {},
   "outputs": [],
   "source": [
    "ref.re"
   ]
  },
  {
   "cell_type": "code",
   "execution_count": null,
   "metadata": {},
   "outputs": [],
   "source": [
    "for index in ref.index:\n",
    "    sub_ref = ref.loc[index]\n",
    "    sub_target = target.loc[index]\n",
    "    aggree = sub_ref[sub_ref == sub_target].index\n",
    "    disagree = sub_ref[sub_ref != sub_target].index\n",
    "    if disagree.empty:\n",
    "        print('yay')\n",
    "    for dis_index in disagree:\n",
    "        print(f\"OAR-{dis_index}:{sub_ref[dis_index]}\")\n",
    "        print(f\"Sadie-{dis_index}:{sub_target[dis_index]}\\n\")\n",
    "\n",
    "    break"
   ]
  },
  {
   "cell_type": "code",
   "execution_count": null,
   "metadata": {},
   "outputs": [],
   "source": [
    "disagree"
   ]
  },
  {
   "cell_type": "code",
   "execution_count": null,
   "metadata": {},
   "outputs": [],
   "source": [
    "from pandas.testing import assert_series_equal"
   ]
  },
  {
   "cell_type": "markdown",
   "metadata": {},
   "source": [
    "# Get IMGT airr"
   ]
  },
  {
   "cell_type": "code",
   "execution_count": null,
   "metadata": {},
   "outputs": [],
   "source": [
    "imgt_airr = \"../../tests/integration/airr/fixtures/OAS_airr_from_imgtvquest.tsv\"\n",
    "imgt_df = pd.read_csv(imgt_airr, delimiter=\"\\t\")"
   ]
  },
  {
   "cell_type": "code",
   "execution_count": null,
   "metadata": {},
   "outputs": [],
   "source": [
    "spread.df_to_sheet(imgt_df, sheet=\"imgt_airr\")"
   ]
  },
  {
   "cell_type": "code",
   "execution_count": null,
   "metadata": {},
   "outputs": [],
   "source": []
  }
 ],
 "metadata": {
  "kernelspec": {
   "display_name": "Sadie Python 3.8",
   "language": "python",
   "name": "sadie"
  },
  "language_info": {
   "codemirror_mode": {
    "name": "ipython",
    "version": 3
   },
   "file_extension": ".py",
   "mimetype": "text/x-python",
   "name": "python",
   "nbconvert_exporter": "python",
   "pygments_lexer": "ipython3",
   "version": "3.8.5"
  }
 },
 "nbformat": 4,
 "nbformat_minor": 4
}
