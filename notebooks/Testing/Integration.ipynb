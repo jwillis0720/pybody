{
 "cells": [
  {
   "cell_type": "code",
   "execution_count": 1,
   "metadata": {},
   "outputs": [],
   "source": [
    "%load_ext lab_black"
   ]
  },
  {
   "cell_type": "code",
   "execution_count": 160,
   "metadata": {},
   "outputs": [],
   "source": [
    "import json\n",
    "import gzip\n",
    "import pandas as pd\n",
    "import glob\n",
    "import tempfile\n",
    "import uuid\n",
    "import os\n",
    "from pprint import pprint\n",
    "from multiprocessing import Pool\n",
    "from pathlib import Path\n",
    "from sadie.airr import Airr, AirrTable\n",
    "from gspread_pandas import Spread, Client\n",
    "from sadie.airr import AirrTable\n",
    "from sadie.airr.constants import IGBLAST_AIRR\n",
    "\n",
    "spread = Spread(\"Sadie\", create_spread=True, create_sheet=True)\n",
    "pd.set_option(\"display.max_rows\", 45)\n",
    "pd.set_option(\"display.max_columns\", 500)\n",
    "pd.set_option(\"display.width\", 100000)"
   ]
  },
  {
   "cell_type": "code",
   "execution_count": 170,
   "metadata": {},
   "outputs": [
    {
     "data": {
      "text/plain": [
       "<module 'sadie.airr.constants' from '/Users/jordanwillis/repos/personal/sadie/src/sadie/airr/constants.py'>"
      ]
     },
     "execution_count": 170,
     "metadata": {},
     "output_type": "execute_result"
    }
   ],
   "source": [
    "from importlib import reload\n",
    "from sadie.airr import constants\n",
    "\n",
    "reload(constants)"
   ]
  },
  {
   "cell_type": "markdown",
   "metadata": {},
   "source": [
    "## Read OAS"
   ]
  },
  {
   "cell_type": "code",
   "execution_count": 5,
   "metadata": {},
   "outputs": [
    {
     "name": "stderr",
     "output_type": "stream",
     "text": [
      "/Users/jordanwillis/miniconda3/envs/sadie/lib/python3.8/site-packages/IPython/core/interactiveshell.py:3146: DtypeWarning: Columns (27,43,44,45,46,71,105) have mixed types.Specify dtype option on import or set low_memory=False.\n",
      "  has_raised = await self.run_ast_nodes(code_ast.body, cell_name,\n"
     ]
    }
   ],
   "source": [
    "df_bz2 = pd.read_csv(\n",
    "    \"https://sadie.s3.us-east-2.amazonaws.com/integration/OAS_sample_subsample.bz2\",\n",
    "    index_col=0,\n",
    ").reset_index()"
   ]
  },
  {
   "cell_type": "code",
   "execution_count": 6,
   "metadata": {},
   "outputs": [],
   "source": [
    "sub_sample_file = \"../../tests/integration/airr/fixtures/OAS_subsample.fasta\"\n",
    "with open(\"../../tests/integration/airr/fixtures/OAS_subsample.fasta\", \"w\") as f:\n",
    "    for index, (i, k, j) in enumerate(\n",
    "        zip(\n",
    "            df_bz2[\"OAS_dataunit\"].str.split(\".csv.gz\").str.get(0),\n",
    "            df_bz2[\"OAS_dataindex\"],\n",
    "            df_bz2[\"sequence\"],\n",
    "        )\n",
    "    ):\n",
    "        f.write(f\">{index}_{i}_{k}\\n{j}\\n\")"
   ]
  },
  {
   "cell_type": "markdown",
   "metadata": {},
   "source": [
    "## Sadie Annotate"
   ]
  },
  {
   "cell_type": "code",
   "execution_count": 210,
   "metadata": {},
   "outputs": [],
   "source": [
    "from distutils.version import StrictVersion\n",
    "\n",
    "\n",
    "def fillna(df, fill_value=\"\"):\n",
    "    \"\"\"\n",
    "    Replace null values with `fill_value`.\n",
    "\n",
    "    Also replaces in categorical columns.\n",
    "    \"\"\"\n",
    "    for col in df.dtypes[df.dtypes == \"category\"].index:\n",
    "        if fill_value not in df[col].cat.categories:\n",
    "            df[col].cat.add_categories([fill_value], inplace=True)\n",
    "    # Known bug https://github.com/pandas-dev/pandas/issues/25472\n",
    "    if StrictVersion(pd.__version__) >= StrictVersion(\"1.0\"):\n",
    "        for col in df.dtypes[\n",
    "            df.dtypes.apply(lambda x: x in [\"float64\", \"Int16\", \"Int64\"])\n",
    "        ].index:\n",
    "            df[col] = df[col].astype(\"float\")\n",
    "    return df.fillna(fill_value)"
   ]
  },
  {
   "cell_type": "code",
   "execution_count": null,
   "metadata": {},
   "outputs": [],
   "source": [
    "airr_api = Airr(species=\"human\", database=\"imgt\", functional=\"all\")\n",
    "sadie_airr = airr_api.run_file(sub_sample_file)"
   ]
  },
  {
   "cell_type": "code",
   "execution_count": 21,
   "metadata": {},
   "outputs": [],
   "source": [
    "# spreadable_df = fillna(sadie_airr.table.head(100))\n",
    "spread.df_to_sheet(\n",
    "    spreadable_df.set_index(\"sequence_id\"),\n",
    "    sheet=\"sadie\",\n",
    "    replace=True,\n",
    "    freeze_headers=True,\n",
    "    freeze_index=True,\n",
    ")"
   ]
  },
  {
   "cell_type": "markdown",
   "metadata": {},
   "source": [
    "## IMGT HI-Vqeust \"AIRR\" format"
   ]
  },
  {
   "cell_type": "code",
   "execution_count": 162,
   "metadata": {},
   "outputs": [
    {
     "name": "stderr",
     "output_type": "stream",
     "text": [
      "/Users/jordanwillis/miniconda3/envs/sadie/lib/python3.8/site-packages/IPython/core/interactiveshell.py:3146: DtypeWarning: Columns (10,21,22,44,87,88,95,96) have mixed types.Specify dtype option on import or set low_memory=False.\n",
      "  has_raised = await self.run_ast_nodes(code_ast.body, cell_name,\n"
     ]
    }
   ],
   "source": [
    "imgt_airr = \"../../tests/integration/airr/fixtures/OAS_airr_from_imgtvquest.tsv\"\n",
    "imgt_df = pd.read_csv(imgt_airr, delimiter=\"\\t\")"
   ]
  },
  {
   "cell_type": "code",
   "execution_count": 17,
   "metadata": {},
   "outputs": [],
   "source": [
    "spread.df_to_sheet(\n",
    "    imgt_df.head(100).set_index(\"sequence_id\"),\n",
    "    sheet=\"imgt\",\n",
    "    replace=True,\n",
    "    freeze_headers=True,\n",
    "    freeze_index=True,\n",
    ")"
   ]
  },
  {
   "cell_type": "code",
   "execution_count": 164,
   "metadata": {},
   "outputs": [],
   "source": [
    "top_100_imgt = imgt_df.head(100).copy()\n",
    "top_100_sadie = sadie_airr.table.head(100).copy()\n",
    "compariables = []"
   ]
  },
  {
   "cell_type": "markdown",
   "metadata": {},
   "source": [
    "## Clean UP IMGT"
   ]
  },
  {
   "cell_type": "code",
   "execution_count": 184,
   "metadata": {},
   "outputs": [],
   "source": [
    "keys = list(constants.IGBLAST_AIRR.keys())\n",
    "keys.remove(\"v_frameshift\")"
   ]
  },
  {
   "cell_type": "code",
   "execution_count": 256,
   "metadata": {},
   "outputs": [
    {
     "name": "stderr",
     "output_type": "stream",
     "text": [
      "<ipython-input-256-8915dee3e74c>:45: FutureWarning: The default value of regex will change from True to False in a future version. In addition, single character regular expressions will*not* be treated as literal strings when regex=True.\n",
      "  top_100_imgt_airr_only[col].str.upper().str.replace(\".\", \"\")\n"
     ]
    }
   ],
   "source": [
    "def map_bool(df, col):\n",
    "    return df.loc[:, col].map(\n",
    "        {\"T\": True, \"F\": False, True: True, False: False, nan: False},\n",
    "        na_action=\"ignore\",\n",
    "    )\n",
    "\n",
    "\n",
    "top_100_imgt_airr_only = top_100_imgt[keys].copy()\n",
    "bool_cols = [\"vj_in_frame\", \"productive\", \"rev_comp\", \"complete_vdj\", \"stop_codon\"]\n",
    "for col in bool_cols:\n",
    "    top_100_imgt_airr_only[col] = map_bool(top_100_imgt_airr_only, col)\n",
    "\n",
    "\n",
    "upper_columns = [\n",
    "    \"fwr1\",\n",
    "    \"cdr1\",\n",
    "    \"fwr2\",\n",
    "    \"cdr2\",\n",
    "    \"fwr3\",\n",
    "    \"cdr3\",\n",
    "    \"fwr4\",\n",
    "    \"germline_alignment\",\n",
    "    \"germline_alignment_aa\",\n",
    "    \"sequence_alignment\",\n",
    "    \"sequence_alignment_aa\",\n",
    "    \"v_germline_alignment\",\n",
    "    \"v_germline_alignment_aa\",\n",
    "    \"v_sequence_alignment\",\n",
    "    \"v_sequence_alignment_aa\",\n",
    "    \"d_germline_alignment\",\n",
    "    \"d_germline_alignment_aa\",\n",
    "    \"d_sequence_alignment\",\n",
    "    \"d_sequence_alignment_aa\",\n",
    "    \"j_germline_alignment\",\n",
    "    \"j_germline_alignment_aa\",\n",
    "    \"j_sequence_alignment\",\n",
    "    \"j_sequence_alignment_aa\",\n",
    "    \"np1\",\n",
    "    \"np2\",\n",
    "    \"junction\",\n",
    "    \"sequence\",\n",
    "]\n",
    "for col in upper_columns:\n",
    "    top_100_imgt_airr_only[col] = (\n",
    "        top_100_imgt_airr_only[col].str.upper().str.replace(\".\", \"\")\n",
    "    )\n",
    "\n",
    "ignore = [\n",
    "    \"v_cigar\",\n",
    "    \"d_cigar\",\n",
    "    \"j_cigar\",\n",
    "    \"v_call\",\n",
    "    \"d_call\",\n",
    "    \"j_call\",\n",
    "    \"v_score\",\n",
    "    \"d_score\",\n",
    "    \"j_score\",\n",
    "    \"v_support\",\n",
    "    \"d_support\",\n",
    "    \"j_support\",\n",
    "    \"v_germline_start\",\n",
    "    \"v_alignment_end\",\n",
    "    \"v_germline_end\",\n",
    "]\n",
    "\n",
    "starts_and_ends = [\n",
    "    \"cdr1_end\",\n",
    "    \"cdr1_start\",\n",
    "    \"cdr2_end\",\n",
    "    \"cdr2_start\",\n",
    "    \"cdr3_end\",\n",
    "    \"cdr3_start\",\n",
    "    \"d_alignment_end\",\n",
    "    \"d_alignment_start\",\n",
    "    \"d_germline_end\",\n",
    "    \"d_germline_start\",\n",
    "    \"d_sequence_end\",\n",
    "    \"d_sequence_start\",\n",
    "    \"fwr1_end\",\n",
    "    \"fwr1_start\",\n",
    "    \"fwr2_end\",\n",
    "    \"fwr2_start\",\n",
    "    \"fwr4_end\",\n",
    "    \"fwr4_start\",\n",
    "    \"j_alignment_end\",\n",
    "    \"j_alignment_start\",\n",
    "    \"j_germline_end\",\n",
    "    \"j_germline_start\",\n",
    "    \"j_sequence_end\",\n",
    "    \"j_sequence_start\",\n",
    "]\n",
    "\n",
    "top_100_imgt_airr_only[\"v_call_top\"] = (\n",
    "    top_100_imgt_airr_only[\"v_call\"].str.split(\",\").str.get(0).str.split().str.get(1)\n",
    ")\n",
    "top_100_imgt_airr_only[\"d_call_top\"] = (\n",
    "    top_100_imgt_airr_only[\"d_call\"]\n",
    "    .str.split(\",\")\n",
    "    .str.get(0)\n",
    "    .str.split(\"_\")\n",
    "    .str.get(-1)\n",
    ")\n",
    "top_100_imgt_airr_only[\"j_call_top\"] = (\n",
    "    top_100_imgt_airr_only[\"j_call\"].str.split(\",\").str.get(0).str.split().str.get(1)\n",
    ")\n",
    "top_100_imgt_airr_only = top_100_imgt_airr_only.drop(ignore, axis=1)\n",
    "top_100_imgt_airr_only.loc[:, starts_and_ends] = top_100_imgt_airr_only[\n",
    "    starts_and_ends\n",
    "].astype(\"Int64\")\n",
    "top_100_imgt_airr_only = top_100_imgt_airr_only.set_index(\"sequence_id\")"
   ]
  },
  {
   "cell_type": "markdown",
   "metadata": {},
   "source": [
    "## Clean up sadie"
   ]
  },
  {
   "cell_type": "code",
   "execution_count": 257,
   "metadata": {},
   "outputs": [
    {
     "name": "stderr",
     "output_type": "stream",
     "text": [
      "<ipython-input-257-73475251b1aa>:2: SettingWithCopyWarning: \n",
      "A value is trying to be set on a copy of a slice from a DataFrame.\n",
      "Try using .loc[row_indexer,col_indexer] = value instead\n",
      "\n",
      "See the caveats in the documentation: https://pandas.pydata.org/pandas-docs/stable/user_guide/indexing.html#returning-a-view-versus-a-copy\n",
      "  top_100_sadie_airr_only[\"v_call_top\"] = (\n",
      "<ipython-input-257-73475251b1aa>:5: SettingWithCopyWarning: \n",
      "A value is trying to be set on a copy of a slice from a DataFrame.\n",
      "Try using .loc[row_indexer,col_indexer] = value instead\n",
      "\n",
      "See the caveats in the documentation: https://pandas.pydata.org/pandas-docs/stable/user_guide/indexing.html#returning-a-view-versus-a-copy\n",
      "  top_100_sadie_airr_only[\"d_call_top\"] = (\n",
      "<ipython-input-257-73475251b1aa>:8: SettingWithCopyWarning: \n",
      "A value is trying to be set on a copy of a slice from a DataFrame.\n",
      "Try using .loc[row_indexer,col_indexer] = value instead\n",
      "\n",
      "See the caveats in the documentation: https://pandas.pydata.org/pandas-docs/stable/user_guide/indexing.html#returning-a-view-versus-a-copy\n",
      "  top_100_sadie_airr_only[\"j_call_top\"] = (\n"
     ]
    }
   ],
   "source": [
    "top_100_sadie_airr_only = top_100_sadie[keys]\n",
    "top_100_sadie_airr_only[\"v_call_top\"] = (\n",
    "    top_100_sadie_airr_only[\"v_call\"].str.split(\",\").str.get(0)\n",
    ")\n",
    "top_100_sadie_airr_only[\"d_call_top\"] = (\n",
    "    top_100_sadie_airr_only[\"d_call\"].str.split(\",\").str.get(0)\n",
    ")\n",
    "top_100_sadie_airr_only[\"j_call_top\"] = (\n",
    "    top_100_sadie_airr_only[\"j_call\"].str.split(\",\").str.get(0)\n",
    ")\n",
    "top_100_sadie_airr_only = top_100_sadie_airr_only.drop(ignore, axis=1).set_index(\n",
    "    \"sequence_id\"\n",
    ")\n",
    "top_100_sadie_airr_only.loc[:, starts_and_ends] = top_100_sadie_airr_only[\n",
    "    starts_and_ends\n",
    "].astype(\"Int64\")"
   ]
  },
  {
   "cell_type": "code",
   "execution_count": 268,
   "metadata": {},
   "outputs": [
    {
     "data": {
      "text/plain": [
       "82.0"
      ]
     },
     "execution_count": 268,
     "metadata": {},
     "output_type": "execute_result"
    }
   ],
   "source": [
    "ref[\"v_identity\"] // 1"
   ]
  },
  {
   "cell_type": "code",
   "execution_count": 274,
   "metadata": {},
   "outputs": [
    {
     "data": {
      "text/plain": [
       "'CCTGGACCC'"
      ]
     },
     "execution_count": 274,
     "metadata": {},
     "output_type": "execute_result"
    }
   ],
   "source": [
    "ref[\"np1\"]\n",
    "target[\"np1\"]"
   ]
  },
  {
   "cell_type": "code",
   "execution_count": 275,
   "metadata": {},
   "outputs": [
    {
     "data": {
      "text/plain": [
       "'CCTGGACC'"
      ]
     },
     "execution_count": 275,
     "metadata": {},
     "output_type": "execute_result"
    }
   ],
   "source": [
    "ref[\"np1\"]"
   ]
  },
  {
   "cell_type": "code",
   "execution_count": 335,
   "metadata": {},
   "outputs": [
    {
     "data": {
      "text/plain": [
       "Index(['0_G_d22_H_igblastn_anarci_Heavy_IGHA_219', '1_705010661_igblastn_anarci_Heavy_IGHE_1125', '2_Subject-53_igblastn_anarci_Heavy_IGHD_22592', '3_Donor03+IGH-Clonotypes_igblastn_anarci_Heavy_Bul', '4_704010461_igblastn_anarci_Heavy_IGHE_8', '5_E_d23_H_igblastn_anarci_Heavy_IGHD_3268', '6_BCP9-GC_igblastn_anarci_Heavy_IGHD_269', '7_BCP9-Naive_igblastn_anarci_IGHD_177', '8_BCP3-GC_igblastn_anarci_Heavy_IGHD_2256', '9_SRR12081566_igblastn_anarci_Heavy_Bulk_22358', '10_703010269_igblastn_anarci_Heavy_IGHD_33102', '11_707010476_igblastn_anarci_Heavy_IGHD_5257', '12_703010632_igblastn_anarci_Heavy_IGHG_27951', '13_Donor01+IGH-Clonotypes_igblastn_anarci_Heavy_Bu', '14_705010661_igblastn_anarci_Heavy_IGHA_18220', '15_Subject-50_igblastn_anarci_Heavy_IGHD_68196', '16_BCP3-MBC_igblastn_anarci_IGHG_8632', '17_Subject-19_igblastn_anarci_Heavy_IGHG_32336', '18_Subject-71_igblastn_anarci_Heavy_IGHD_1288', '19_BCP2-GC_igblastn_anarci_IGHG_6595', '20_SRR12081539_igblastn_anarci_Heavy_Bulk_32454', '21_SRR12190264_igblastn_anarci_Heavy_Bulk_370', '22_SRR11610504_1_igblastn_anarci_Bulk_441', '23_SRR12190252_igblastn_anarci_Heavy_IGHG_104339', '24_704010581_igblastn_anarci_Heavy_IGHA_9610', '25_C_d15_H_igblastn_anarci_Heavy_IGHM_86470', '26_Subject-91_igblastn_anarci_Heavy_IGHM_122132', '27_Subject-80_igblastn_anarci_Heavy_IGHG_1083', '28_707010225_igblastn_anarci_Heavy_IGHE_963', '29_ERR3664756_igblastn_anarci_Heavy_Bulk_6320', '30_Subject-107_igblastn_anarci_Heavy_IGHG_42910', '31_ERR4311172_igblastn_anarci_Bulk_10324', '32_SRR12190240_igblastn_anarci_Heavy_IGHG_116414', '33_SRR12190272_igblastn_anarci_Heavy_Bulk_2054', '34_BCP4-GC_igblastn_anarci_IGHG_8463', '35_703011572_igblastn_anarci_Heavy_IGHG_22', '36_700010698_igblastn_anarci_Heavy_IGHD_4959', '37_ERR4337019_igblastn_anarci_Bulk_18596', '38_Subject-77_igblastn_anarci_Heavy_Bulk_44154', '39_Subject-64_igblastn_anarci_Heavy_IGHA_22042', '40_SRR12081537_igblastn_anarci_Heavy_Bulk_76601', '41_SRR12190305_igblastn_anarci_Heavy_IGHG_84405', '42_704010207_igblastn_anarci_Heavy_Bulk_17526', '43_ERR4337022_igblastn_anarci_Bulk_11288', '44_SRR12081591_igblastn_anarci_Heavy_Bulk_51178', '45_F_d36_H_igblastn_anarci_Heavy_IGHA_3697', '46_Subject-84_igblastn_anarci_Heavy_Bulk_10113', '47_E_d23_H_igblastn_anarci_Heavy_IGHE_0', '48_703010874_igblastn_anarci_Heavy_IGHM_173', '49_705010782_igblastn_anarci_Heavy_IGHG_73623', '50_Donor03+IGH-Clonotypes_igblastn_anarci_Heavy_Bu', '51_707010750_igblastn_anarci_Heavy_Bulk_26660', '52_703010713_igblastn_anarci_Heavy_IGHA_7436', '53_SRR11937622_igblastn_anarci_Heavy_IGHA_3', '54_Subject-88_igblastn_anarci_Heavy_IGHM_112774', '55_703010835_igblastn_anarci_Heavy_Bulk_7429', '56_SRR12081571_igblastn_anarci_Heavy_Bulk_20102', '57_SRR11937608_igblastn_anarci_Heavy_IGHM_114', '58_SRR11937600_igblastn_anarci_Heavy_IGHE_15', '59_Donor01+IGH-Clonotypes_igblastn_anarci_Heavy_Bu', '60_Subject-100_igblastn_anarci_Heavy_IGHE_592', '61_Subject-90_igblastn_anarci_Heavy_IGHE_2998', '62_Subject-78_igblastn_anarci_Heavy_IGHA_106563', '63_700010451_igblastn_anarci_Heavy_IGHE_1332', '64_BCP1-GC_igblastn_anarci_IGHM_20509', '65_Subject-41_igblastn_anarci_Heavy_Bulk_2760', '66_Subject-57_igblastn_anarci_Heavy_IGHG_7596', '67_SRR12081530_igblastn_anarci_Heavy_Bulk_131343', '68_BCP2-Naive_igblastn_anarci_IGHM_7280', '69_SRR11610492_1_igblastn_anarci_Bulk_44588', '70_A_d11_H_igblastn_anarci_Heavy_IGHD_121', '71_Donor02+IGH-Clonotypes_igblastn_anarci_Heavy_Bu', '72_SRR12190285_igblastn_anarci_Heavy_Bulk_497', '73_ERR3664744_igblastn_anarci_Heavy_Bulk_36076', '74_SRR12190307_igblastn_anarci_Heavy_IGHG_14765', '75_Subject-68_igblastn_anarci_Heavy_IGHA_13031', '76_Subject-64_igblastn_anarci_Heavy_IGHA_9116', '77_703010632_igblastn_anarci_Heavy_IGHD_13134', '78_Subject-60_igblastn_anarci_Heavy_Bulk_28490', '79_700010756_igblastn_anarci_Heavy_Bulk_44475', '80_703011477_igblastn_anarci_Heavy_Bulk_31085', '81_SRR12190313_igblastn_anarci_Heavy_IGHG_172538', '82_Subject-82_igblastn_anarci_Heavy_IGHG_21372', '83_BCP1-GC_igblastn_anarci_IGHG_9510', '84_SRR11937607_igblastn_anarci_Heavy_IGHD_32', '85_705010782_igblastn_anarci_Heavy_Bulk_52', '86_703010314_igblastn_anarci_Heavy_IGHD_29665', '87_Subject-26_igblastn_anarci_Heavy_IGHM_5177', '88_BCP9-Total_igblastn_anarci_IGHG_530', '89_Donor03+IGH-Clonotypes_igblastn_anarci_Heavy_Bu', '90_703010115_igblastn_anarci_Heavy_IGHE_644', '91_700010365_igblastn_anarci_Heavy_IGHG_9522', '92_Subject-35_igblastn_anarci_Heavy_IGHE_14', '93_702010322_igblastn_anarci_Heavy_IGHM_4286', '94_SRR12190233_igblastn_anarci_Heavy_Bulk_2357', '95_Subject-87_igblastn_anarci_Heavy_IGHM_70746', '96_BCP2-PB_igblastn_anarci_Bulk_4', '97_Subject-77_igblastn_anarci_Heavy_Bulk_32445', '98_Subject-93_igblastn_anarci_Heavy_Bulk_1230', '99_SRR11937589_igblastn_anarci_Heavy_IGHA_107'], dtype='object', name='sequence_id')"
      ]
     },
     "execution_count": 335,
     "metadata": {},
     "output_type": "execute_result"
    }
   ],
   "source": [
    "top_100_imgt_airr_onl."
   ]
  },
  {
   "cell_type": "code",
   "execution_count": 356,
   "metadata": {},
   "outputs": [
    {
     "name": "stdout",
     "output_type": "stream",
     "text": [
      "IGHV3-30-3*01 IGHV3-30-3*01 nan IGHJ2*01\n",
      "IGHV4-38-2*01 IGHV4-38-2*02 IGHJ5*02 IGHJ5*02\n",
      "IGHV4-34*08 IGHV4-34*01 IGHJ4*02 IGHJ4*02\n",
      "IGHV1-2*02 IGHV1-2*02 IGHJ5*01 IGHJ4*03\n",
      "IGHV5-51*01 IGHV5-51*01 IGHJ5*01 IGHJ4*02\n",
      "IGHV4-39*01 IGHV4-39*01 IGHJ4*02 IGHJ5*02\n",
      "IGHV3-30*03 IGHV3-30*18 IGHJ6*02 IGHJ6*02\n",
      "IGHV1-69-2*01 IGHV1-69-2*01 IGHJ4*03 IGHJ4*01\n",
      "IGHV4-59*09 IGHV4-61*02 IGHJ4*02 IGHJ4*02\n",
      "IGHV1-69*07 IGHV1-69*05 nan IGHJ6*01\n",
      "IGHV4-39*07 IGHV4-59*01 IGHJ4*02 IGHJ4*02\n",
      "IGHV3-30*03 IGHV3-30*18 IGHJ6*02 IGHJ6*02\n",
      "IGHV4-38-2*02 IGHV4-30-4*05 IGHJ6*01 IGHJ6*01\n",
      "here\n"
     ]
    }
   ],
   "source": [
    "target_all = top_100_sadie_airr_only.reset_index()\n",
    "reference_all = top_100_imgt_airr_only.reset_index()\n",
    "for index in reference_all.index:\n",
    "    ref = reference_all.loc[index]\n",
    "    target = target_all.loc[index]\n",
    "    if (\n",
    "        ref[\"v_call_top\"] == target[\"v_call_top\"]\n",
    "        and ref[\"j_call_top\"] == target[\"j_call_top\"]\n",
    "    ):\n",
    "        check_these = [\"fwr1\", \"cdr1\", \"fwr2\", \"cdr2\", \"fwr3\", \"cdr3\"]\n",
    "        if not (ref[check_these].fillna(\"\") == target[check_these].fillna(\"\")).all():\n",
    "            print(\"here\")\n",
    "            break\n",
    "    else:\n",
    "        print(\n",
    "            ref[\"v_call_top\"],\n",
    "            target[\"v_call_top\"],\n",
    "            ref[\"j_call_top\"],\n",
    "            target[\"j_call_top\"],\n",
    "        )\n",
    "    # diff_indexes = ref[~(ref == target)].index\n",
    "\n",
    "\n",
    "#     for different_index in diff_indexes:\n",
    "#         ref_ = ref[different_index]\n",
    "#         target_ = target[different_index]\n",
    "#         if isinstance(ref_, float):\n",
    "#             if round(ref_, 1) == round(target_, 1):\n",
    "#                 continue\n",
    "#         print(f\"{different_index}\\nIMGT: {ref_}\\nSADIE: {target_}\\n\")\n",
    "#     break"
   ]
  },
  {
   "cell_type": "code",
   "execution_count": 358,
   "metadata": {},
   "outputs": [
    {
     "data": {
      "text/plain": [
       "fwr1     True\n",
       "cdr1     True\n",
       "fwr2     True\n",
       "cdr2    False\n",
       "fwr3     True\n",
       "cdr3     True\n",
       "Name: 99, dtype: bool"
      ]
     },
     "execution_count": 358,
     "metadata": {},
     "output_type": "execute_result"
    }
   ],
   "source": [
    "ref[check_these] == target[check_these]"
   ]
  },
  {
   "cell_type": "code",
   "execution_count": 362,
   "metadata": {},
   "outputs": [
    {
     "data": {
      "text/plain": [
       "'ISGSRTYI'"
      ]
     },
     "execution_count": 362,
     "metadata": {},
     "output_type": "execute_result"
    }
   ],
   "source": [
    "ref[\"cdr2_aa\"]"
   ]
  },
  {
   "cell_type": "code",
   "execution_count": 363,
   "metadata": {},
   "outputs": [
    {
     "data": {
      "text/plain": [
       "'ISGSFRTYI'"
      ]
     },
     "execution_count": 363,
     "metadata": {},
     "output_type": "execute_result"
    }
   ],
   "source": [
    "target[\"cdr2_aa\"]"
   ]
  },
  {
   "cell_type": "code",
   "execution_count": 361,
   "metadata": {},
   "outputs": [
    {
     "data": {
      "text/plain": [
       "'TACCTTGACTTAACTCTTGGGGGTCTGGGGGAGGCCTGGTCAAGCCTGGGGGGTCCCTGAGACTCTCATGTGCAGCCTCTGGATTCACCTTCAGTAGTTTTACCATGAATTGGGTCCGCCAGGCTCCAGGGAAGGGACTGGAGTGGGTCTCATCCATTAGCGGCAGTTTCAGAACTTACATATATTATGCCGACTCAGTGAAGGGCCGATTCACCGTCTCCAGAGACAACGCCAAGGAATTGGTGTTTCTGCAGATGGACAACCTGAGAGTCGAAGACACAGGTGTATATTATTGTGCGAGAGACCTAAATACGGTGACTACCCCAGAATACTTCCAACACTGGGGCCTGGGCACCCCGGTCTCCGTCTCCTCAGCATCCCCGACCAGCCCCAAGGTCTTCCCGCTG'"
      ]
     },
     "execution_count": 361,
     "metadata": {},
     "output_type": "execute_result"
    }
   ],
   "source": [
    "ref[\"sequence\"]"
   ]
  },
  {
   "cell_type": "code",
   "execution_count": 355,
   "metadata": {},
   "outputs": [
    {
     "data": {
      "text/plain": [
       "'ATCAACCCTAGTGGTGATAACACA'"
      ]
     },
     "execution_count": 355,
     "metadata": {},
     "output_type": "execute_result"
    }
   ],
   "source": [
    "target[\"cdr2\"]"
   ]
  },
  {
   "cell_type": "code",
   "execution_count": 344,
   "metadata": {},
   "outputs": [
    {
     "data": {
      "text/plain": [
       "'TGGGGCCAGGGAACC'"
      ]
     },
     "execution_count": 344,
     "metadata": {},
     "output_type": "execute_result"
    }
   ],
   "source": [
    "ref[\"fwr4\"]"
   ]
  },
  {
   "cell_type": "code",
   "execution_count": 345,
   "metadata": {},
   "outputs": [
    {
     "data": {
      "text/plain": [
       "'TGGGGCCAGGGAACCCT'"
      ]
     },
     "execution_count": 345,
     "metadata": {},
     "output_type": "execute_result"
    }
   ],
   "source": [
    "\n",
    "target[\"fwr4\"]"
   ]
  },
  {
   "cell_type": "code",
   "execution_count": 342,
   "metadata": {},
   "outputs": [
    {
     "data": {
      "text/plain": [
       "fwr1     True\n",
       "cdr1     True\n",
       "fwr2     True\n",
       "cdr2     True\n",
       "fwr3     True\n",
       "cdr3     True\n",
       "fwr4    False\n",
       "Name: 3, dtype: bool"
      ]
     },
     "execution_count": 342,
     "metadata": {},
     "output_type": "execute_result"
    }
   ],
   "source": [
    "ref[check_these] == target[check_these]"
   ]
  },
  {
   "cell_type": "code",
   "execution_count": 328,
   "metadata": {},
   "outputs": [
    {
     "data": {
      "text/plain": [
       "33"
      ]
     },
     "execution_count": 328,
     "metadata": {},
     "output_type": "execute_result"
    }
   ],
   "source": [
    "len(ref[\"fwr4\"])"
   ]
  },
  {
   "cell_type": "code",
   "execution_count": 320,
   "metadata": {},
   "outputs": [
    {
     "data": {
      "text/plain": [
       "'IGHV4-31*02'"
      ]
     },
     "execution_count": 320,
     "metadata": {},
     "output_type": "execute_result"
    }
   ],
   "source": [
    "ref[\"v_call_top\"]"
   ]
  },
  {
   "cell_type": "code",
   "execution_count": 321,
   "metadata": {},
   "outputs": [
    {
     "data": {
      "text/plain": [
       "'IGHV4-31*02'"
      ]
     },
     "execution_count": 321,
     "metadata": {},
     "output_type": "execute_result"
    }
   ],
   "source": [
    "target[\"v_call_top\"]"
   ]
  },
  {
   "cell_type": "code",
   "execution_count": 303,
   "metadata": {},
   "outputs": [
    {
     "data": {
      "text/plain": [
       "'IGHJ4*02'"
      ]
     },
     "execution_count": 303,
     "metadata": {},
     "output_type": "execute_result"
    }
   ],
   "source": [
    "ref[\"j_call_top\"]"
   ]
  },
  {
   "cell_type": "code",
   "execution_count": 304,
   "metadata": {},
   "outputs": [
    {
     "data": {
      "text/plain": [
       "'IGHJ4*02'"
      ]
     },
     "execution_count": 304,
     "metadata": {},
     "output_type": "execute_result"
    }
   ],
   "source": [
    "target[\"j_call_top\"]"
   ]
  },
  {
   "cell_type": "code",
   "execution_count": 330,
   "metadata": {},
   "outputs": [
    {
     "data": {
      "text/plain": [
       "33"
      ]
     },
     "execution_count": 330,
     "metadata": {},
     "output_type": "execute_result"
    }
   ],
   "source": [
    "len(target[\"fwr4\"])"
   ]
  },
  {
   "cell_type": "code",
   "execution_count": 331,
   "metadata": {},
   "outputs": [
    {
     "data": {
      "text/plain": [
       "33"
      ]
     },
     "execution_count": 331,
     "metadata": {},
     "output_type": "execute_result"
    }
   ],
   "source": [
    "len(ref[\"fwr4\"])"
   ]
  },
  {
   "cell_type": "code",
   "execution_count": null,
   "metadata": {},
   "outputs": [],
   "source": [
    "TGGGGCCAGGGAACCCTGGTCACCGTCGCCTCAG\n",
    "TGGGGCCAGGGAACCCTGGTCACCGTCGCCTCA"
   ]
  },
  {
   "cell_type": "code",
   "execution_count": 312,
   "metadata": {},
   "outputs": [
    {
     "data": {
      "text/plain": [
       "Seq('WGQGTLVTVAS')"
      ]
     },
     "execution_count": 312,
     "metadata": {},
     "output_type": "execute_result"
    }
   ],
   "source": [
    "from Bio.Seq import Seq\n",
    "\n",
    "Seq(\"tggggccagggaaccctggtcaccgtcgcctca\").translate()"
   ]
  },
  {
   "cell_type": "code",
   "execution_count": 317,
   "metadata": {},
   "outputs": [],
   "source": []
  },
  {
   "cell_type": "code",
   "execution_count": 308,
   "metadata": {},
   "outputs": [
    {
     "data": {
      "text/plain": [
       "'GGCCTCAGTGAAGGTCTCCTGCAAGGCATCTGGATACACCTTCACCAACCACTACATCCACTGGGTGCGACAGGCCCCTGGACAAGGGCTTGAGTGGATGGGAATAATCAACCCTAGTGGTGGTAGGACAAGTCACGTACAGGAGTTCCAGGGCAGAGTCACCATGACCAGGGACACGTCCACGAGTACTGTCTACATGGAGTTGAGTAGCCTGAGATCTGAGGACACGGCCGTGTACTTTTGTGCGAGACAACAGTGTAGTGCTTCCAACTGCTATGAGGAGAGTTTTGACCACTGGGGCCAGGGAACCCTGGTCACCGTCGCCTCAGCCTCCACACAGAGCCCATCCGTCTTC'"
      ]
     },
     "execution_count": 308,
     "metadata": {},
     "output_type": "execute_result"
    }
   ],
   "source": [
    "ref[\"sequence\"]"
   ]
  },
  {
   "cell_type": "code",
   "execution_count": 298,
   "metadata": {},
   "outputs": [
    {
     "data": {
      "text/plain": [
       "fwr1     True\n",
       "cdr1     True\n",
       "fwr2     True\n",
       "cdr2     True\n",
       "fwr3     True\n",
       "cdr3     True\n",
       "fwr4    False\n",
       "Name: 1_705010661_igblastn_anarci_Heavy_IGHE_1125, dtype: bool"
      ]
     },
     "execution_count": 298,
     "metadata": {},
     "output_type": "execute_result"
    }
   ],
   "source": [
    "target[check_these] == ref[check_these]"
   ]
  },
  {
   "cell_type": "code",
   "execution_count": 242,
   "metadata": {},
   "outputs": [
    {
     "data": {
      "text/plain": [
       "'ACTGTCTCTGGTGGCTCCATCAGCAGTGGTGGTTACTACTGGAGCTGGATCCGCCAGCACCCAGGGAAGGGCCTGGAGTGGATTGGGTACATCTATTACAGTGGGAGCACCTACTACAACCCGTCCCTCAAGAGTCGAGTTACCATATCAGTAGACACGTCTAAGAACCAGTTCTCCCTGAAGCTGAGCTCTGTGACTGCCGCGGACACGGCCGTGTATTACTGTGCGANNNNNNNNNAACTCCNNNNTGATGCTTTTGATATCTGGGGCCAAGGGACAATGGTCACCGTCTCTTCA'"
      ]
     },
     "execution_count": 242,
     "metadata": {},
     "output_type": "execute_result"
    }
   ],
   "source": []
  },
  {
   "cell_type": "code",
   "execution_count": 193,
   "metadata": {},
   "outputs": [
    {
     "name": "stderr",
     "output_type": "stream",
     "text": [
      "<ipython-input-192-d3342252a2a0>:16: DeprecationWarning: Numeric-style type codes are deprecated and will result in an error in the future.\n",
      "  df.dtypes.apply(lambda x: x in [\"float64\", \"Int16\"])\n"
     ]
    }
   ],
   "source": [
    "spread.df_to_sheet(\n",
    "    fillna(top_100_sadie_airr_only),\n",
    "    sheet=\"sadie_airr_only\",\n",
    "    freeze_headers=True,\n",
    "    freeze_index=True,\n",
    "    replace=True,\n",
    ")"
   ]
  },
  {
   "cell_type": "code",
   "execution_count": 213,
   "metadata": {},
   "outputs": [
    {
     "name": "stderr",
     "output_type": "stream",
     "text": [
      "<ipython-input-210-72c7d47bbfa2>:16: DeprecationWarning: Numeric-style type codes are deprecated and will result in an error in the future.\n",
      "  df.dtypes.apply(lambda x: x in [\"float64\", \"Int16\", \"Int64\"])\n"
     ]
    }
   ],
   "source": [
    "spread.df_to_sheet(\n",
    "    fillna(top_100_imgt_airr_only),\n",
    "    sheet=\"imgt_airr_only\",\n",
    "    freeze_headers=True,\n",
    "    freeze_index=True,\n",
    "    replace=True,\n",
    ")"
   ]
  },
  {
   "cell_type": "code",
   "execution_count": 229,
   "metadata": {},
   "outputs": [],
   "source": []
  },
  {
   "cell_type": "code",
   "execution_count": 232,
   "metadata": {},
   "outputs": [
    {
     "data": {
      "text/plain": [
       "germline_alignment         ACTGTCTCTGGTGGCTCCATCAGCAGTGGTGGTTACTACTGGAGCT...\n",
       "germline_alignment_aa      TVSGGSISSGGYYWSWIRQHPGKGLEWIGYIYYSGSTYYNPSLKSR...\n",
       "v_alignment_end                                                       316.00\n",
       "v_germline_start                                                        1.00\n",
       "v_germline_end                                                        316.00\n",
       "v_identity                                                             82.22\n",
       "d_alignment_start                                                     325.00\n",
       "d_alignment_end                                                       334.00\n",
       "d_germline_alignment                                              CAACTGGAAC\n",
       "d_germline_alignment_aa                                                  QLE\n",
       "d_germline_start                                                        5.00\n",
       "d_germline_end                                                         14.00\n",
       "d_identity                                                              0.00\n",
       "d_sequence_alignment                                              CAACTCCAAC\n",
       "d_sequence_alignment_aa                                                  QLQ\n",
       "d_sequence_start                                                      238.00\n",
       "d_sequence_end                                                        247.00\n",
       "j_alignment_start                                                     336.00\n",
       "j_alignment_end                                                       384.00\n",
       "j_identity                                                             93.88\n",
       "junction                       tgtgcgacctggacccaactccaacttgatgcttttgatatgtgg\n",
       "np1                                                                 CCTGGACC\n",
       "np1_length                                                              8.00\n",
       "np2                                                                        T\n",
       "np2_length                                                              1.00\n",
       "d_call_top                                                        IGHD1-1*01\n",
       "Name: 0_G_d22_H_igblastn_anarci_Heavy_IGHA_219, dtype: object"
      ]
     },
     "execution_count": 232,
     "metadata": {},
     "output_type": "execute_result"
    }
   ],
   "source": []
  },
  {
   "cell_type": "markdown",
   "metadata": {},
   "source": [
    "## Try and find OAS similariities\n",
    "\n",
    "I'm suspect of the entire airr file since it doesn't have fwr4"
   ]
  },
  {
   "cell_type": "code",
   "execution_count": null,
   "metadata": {},
   "outputs": [],
   "source": [
    "df_bz2 = pd.read_csv(\n",
    "    \"https://sadie.s3.us-east-2.amazonaws.com/integration/OAS_sample_subsample.bz2\",\n",
    "    index_col=0,\n",
    ").reset_index()"
   ]
  },
  {
   "cell_type": "code",
   "execution_count": null,
   "metadata": {},
   "outputs": [],
   "source": []
  },
  {
   "cell_type": "code",
   "execution_count": null,
   "metadata": {},
   "outputs": [],
   "source": [
    "airr_dataframe = airr_api.run_dataframe(df_bz2, \"index\", \"sequence\")"
   ]
  },
  {
   "cell_type": "code",
   "execution_count": null,
   "metadata": {},
   "outputs": [],
   "source": [
    "ref = df_bz2[df_bz2.columns.intersection(airr_dataframe.table.columns)].drop(\n",
    "    \"sequence_id\", axis=1\n",
    ")\n",
    "target = airr_dataframe.table[\n",
    "    airr_dataframe.table.columns.intersection(df_bz2.columns)\n",
    "].drop(\"sequence_id\", axis=1)"
   ]
  },
  {
   "cell_type": "code",
   "execution_count": null,
   "metadata": {},
   "outputs": [],
   "source": [
    "ref.re"
   ]
  },
  {
   "cell_type": "code",
   "execution_count": null,
   "metadata": {},
   "outputs": [],
   "source": [
    "for index in ref.index:\n",
    "    sub_ref = ref.loc[index]\n",
    "    sub_target = target.loc[index]\n",
    "    aggree = sub_ref[sub_ref == sub_target].index\n",
    "    disagree = sub_ref[sub_ref != sub_target].index\n",
    "    if disagree.empty:\n",
    "        print('yay')\n",
    "    for dis_index in disagree:\n",
    "        print(f\"OAR-{dis_index}:{sub_ref[dis_index]}\")\n",
    "        print(f\"Sadie-{dis_index}:{sub_target[dis_index]}\\n\")\n",
    "\n",
    "    break"
   ]
  },
  {
   "cell_type": "code",
   "execution_count": null,
   "metadata": {},
   "outputs": [],
   "source": [
    "disagree"
   ]
  },
  {
   "cell_type": "code",
   "execution_count": null,
   "metadata": {},
   "outputs": [],
   "source": [
    "from pandas.testing import assert_series_equal"
   ]
  },
  {
   "cell_type": "markdown",
   "metadata": {},
   "source": [
    "# Get IMGT airr"
   ]
  },
  {
   "cell_type": "code",
   "execution_count": null,
   "metadata": {},
   "outputs": [],
   "source": [
    "imgt_airr = \"../../tests/integration/airr/fixtures/OAS_airr_from_imgtvquest.tsv\"\n",
    "imgt_df = pd.read_csv(imgt_airr, delimiter=\"\\t\")"
   ]
  },
  {
   "cell_type": "code",
   "execution_count": null,
   "metadata": {},
   "outputs": [],
   "source": [
    "spread.df_to_sheet(imgt_df, sheet=\"imgt_airr\")"
   ]
  },
  {
   "cell_type": "code",
   "execution_count": null,
   "metadata": {},
   "outputs": [],
   "source": []
  }
 ],
 "metadata": {
  "kernelspec": {
   "display_name": "Python 3.8 Sadie",
   "language": "python",
   "name": "sadie"
  },
  "language_info": {
   "codemirror_mode": {
    "name": "ipython",
    "version": 3
   },
   "file_extension": ".py",
   "mimetype": "text/x-python",
   "name": "python",
   "nbconvert_exporter": "python",
   "pygments_lexer": "ipython3",
   "version": "3.8.6"
  }
 },
 "nbformat": 4,
 "nbformat_minor": 4
}
