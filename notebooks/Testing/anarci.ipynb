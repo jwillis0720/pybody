{
 "cells": [
  {
   "cell_type": "code",
   "execution_count": 1,
   "metadata": {},
   "outputs": [],
   "source": [
    "%load_ext lab_black"
   ]
  },
  {
   "cell_type": "code",
   "execution_count": 2,
   "metadata": {},
   "outputs": [],
   "source": [
    "from sadie.anarci import Anarci\n",
    "from sadie.anarci.numbering import scheme_numbering\n",
    "import pandas as pd"
   ]
  },
  {
   "cell_type": "code",
   "execution_count": 3,
   "metadata": {},
   "outputs": [],
   "source": [
    "main_file = \"../../tests/unit/anarci/fixtures/split_files/scfv_heavy_7.fasta\"\n",
    "anarci_api = Anarci(allowed_species=[\"human\"])\n",
    "results = anarci_api.run_file(main_file)"
   ]
  },
  {
   "cell_type": "code",
   "execution_count": 5,
   "metadata": {},
   "outputs": [],
   "source": [
    "single = results.iloc[0]"
   ]
  },
  {
   "cell_type": "code",
   "execution_count": 45,
   "metadata": {},
   "outputs": [],
   "source": [
    "def pivot_alignment(row):\n",
    "    pivoted_df = (\n",
    "        pd.DataFrame(\n",
    "            zip(row[\"Numbering\"], row[\"Insertion\"], row[\"Numbered_Sequence\"]),\n",
    "            columns=[\"numbering\", \"insertion\", \"sequence\"],\n",
    "        )\n",
    "        .assign(Id=row[\"Id\"])\n",
    "        .pivot(\"Id\", [\"numbering\", \"insertion\"], \"sequence\")\n",
    "    )\n",
    "    return pivoted_df"
   ]
  },
  {
   "cell_type": "code",
   "execution_count": 47,
   "metadata": {},
   "outputs": [],
   "source": []
  },
  {
   "cell_type": "code",
   "execution_count": 49,
   "metadata": {},
   "outputs": [
    {
     "data": {
      "text/plain": [
       "pandas.core.frame.DataFrame"
      ]
     },
     "execution_count": 49,
     "metadata": {},
     "output_type": "execute_result"
    }
   ],
   "source": [
    "type(df)"
   ]
  },
  {
   "cell_type": "code",
   "execution_count": null,
   "metadata": {},
   "outputs": [],
   "source": []
  }
 ],
 "metadata": {
  "kernelspec": {
   "display_name": "Sadie Python 3.8",
   "language": "python",
   "name": "sadie"
  },
  "language_info": {
   "codemirror_mode": {
    "name": "ipython",
    "version": 3
   },
   "file_extension": ".py",
   "mimetype": "text/x-python",
   "name": "python",
   "nbconvert_exporter": "python",
   "pygments_lexer": "ipython3",
   "version": "3.8.5"
  }
 },
 "nbformat": 4,
 "nbformat_minor": 4
}
