{
 "cells": [
  {
   "cell_type": "code",
   "execution_count": 1,
   "metadata": {},
   "outputs": [],
   "source": [
    "%load_ext lab_black"
   ]
  },
  {
   "cell_type": "code",
   "execution_count": 24,
   "metadata": {},
   "outputs": [],
   "source": [
    "import json\n",
    "import gzip\n",
    "import pandas as pd\n",
    "\n",
    "json_database = json.load(\n",
    "    gzip.open(\"../../sadie/reference/data/ig_database.json.gz\", \"rt\")\n",
    ")"
   ]
  },
  {
   "cell_type": "code",
   "execution_count": 25,
   "metadata": {},
   "outputs": [],
   "source": [
    "rat_v = pd.json_normalize(\n",
    "    list(\n",
    "        filter(\n",
    "            lambda x: x[\"common\"] == \"rat\" and x[\"gene_segment\"] == \"V\", json_database\n",
    "        )\n",
    "    )\n",
    ")\n",
    "\n",
    "human_v = pd.json_normalize(\n",
    "    list(\n",
    "        filter(\n",
    "            lambda x: x[\"common\"] == \"human\" and x[\"gene_segment\"] == \"V\", json_database\n",
    "        )\n",
    "    )\n",
    ")"
   ]
  },
  {
   "cell_type": "code",
   "execution_count": 26,
   "metadata": {},
   "outputs": [
    {
     "name": "stdout",
     "output_type": "stream",
     "text": [
      "here\n"
     ]
    }
   ],
   "source": [
    "import pandas as pd\n",
    "\n",
    "import os\n",
    "import glob\n",
    "\n",
    "internal_path = glob.glob(\"../../sadie/airr/data/germlines/**/*.imgt\", recursive=True)\n",
    "reference_internal_path = glob.glob(\n",
    "    \"/Users/jordanwillis/repos/personal/sadie/tests/reference/fixtures/igblast_internal/*.imgt\"\n",
    ")\n",
    "\n",
    "my_internal_path_df = []\n",
    "for file in internal_path:\n",
    "    df = pd.read_csv(\n",
    "        file,\n",
    "        skip_blank_lines=True,\n",
    "        delimiter=\"\\t\",\n",
    "        header=None,\n",
    "        names=[\n",
    "            \"gene\",\n",
    "            \"fwr1_start\",\n",
    "            \"fwr1_end\",\n",
    "            \"cdr1_start\",\n",
    "            \"cdr1_end\",\n",
    "            \"fwr2_start\",\n",
    "            \"fwr2_end\",\n",
    "            \"cdr2_start\",\n",
    "            \"cdr2_end\",\n",
    "            \"fwr3_start\",\n",
    "            \"fwr3_end\",\n",
    "            \"segment\",\n",
    "            \"weird\",\n",
    "        ],\n",
    "    )\n",
    "    df.insert(0, \"common\", os.path.basename(file).split(\".ndm\")[0])\n",
    "    df.insert(1, \"db_type\", file.split(\"/\")[-5])\n",
    "    my_internal_path_df.append(df)\n",
    "\n",
    "my_internal_path_df = (\n",
    "    pd.concat(my_internal_path_df)\n",
    "    .reset_index(drop=True)\n",
    "    .set_index([\"common\", \"db_type\", \"gene\"])\n",
    ")\n",
    "\n",
    "\n",
    "ref_internal_path_df = []\n",
    "for file in reference_internal_path:\n",
    "    df = pd.read_csv(\n",
    "        file,\n",
    "        skip_blank_lines=True,\n",
    "        delimiter=\"\\t\",\n",
    "        skiprows=2,\n",
    "        header=None,\n",
    "        names=[\n",
    "            \"gene\",\n",
    "            \"fwr1_start\",\n",
    "            \"fwr1_end\",\n",
    "            \"cdr1_start\",\n",
    "            \"cdr1_end\",\n",
    "            \"fwr2_start\",\n",
    "            \"fwr2_end\",\n",
    "            \"cdr2_start\",\n",
    "            \"cdr2_end\",\n",
    "            \"fwr3_start\",\n",
    "            \"fwr3_end\",\n",
    "            \"segment\",\n",
    "            \"weird\",\n",
    "        ],\n",
    "    )\n",
    "    common_name = os.path.basename(file).split(\".ndm\")[0]\n",
    "    if common_name == \"rhesus_monkey\":\n",
    "        print(\"here\")\n",
    "        common_name = \"macaque\"\n",
    "\n",
    "    df.insert(0, \"common\", common_name)\n",
    "    df.insert(1, \"db_type\", \"imgt\")\n",
    "    ref_internal_path_df.append(df)\n",
    "\n",
    "ref_internal_path_df = (\n",
    "    pd.concat(ref_internal_path_df)\n",
    "    .reset_index(drop=True)\n",
    "    .set_index([\"common\", \"db_type\", \"gene\"])\n",
    ")"
   ]
  },
  {
   "cell_type": "code",
   "execution_count": 27,
   "metadata": {},
   "outputs": [
    {
     "data": {
      "text/plain": [
       "MultiIndex([('alpaca', 'imgt',  'IGHV1-1*01'),\n",
       "            ('alpaca', 'imgt',  'IGHV1S2*01'),\n",
       "            ('alpaca', 'imgt',  'IGHV1S3*01'),\n",
       "            ('alpaca', 'imgt',  'IGHV1S4*01'),\n",
       "            ('alpaca', 'imgt',  'IGHV1S5*01'),\n",
       "            ('alpaca', 'imgt',  'IGHV1S6*01'),\n",
       "            ('alpaca', 'imgt',  'IGHV3-1*01'),\n",
       "            ('alpaca', 'imgt',  'IGHV3-2*01'),\n",
       "            ('alpaca', 'imgt',  'IGHV3-3*01'),\n",
       "            ('alpaca', 'imgt',  'IGHV3S1*01'),\n",
       "            ...\n",
       "            (   'rat', 'imgt', 'IGKV3S15*01'),\n",
       "            (   'rat', 'imgt',  'IGKV3S7*01'),\n",
       "            (   'rat', 'imgt',  'IGKV5S1*01'),\n",
       "            (   'rat', 'imgt',  'IGKV5S4*01'),\n",
       "            (   'rat', 'imgt',  'IGKV6S2*01'),\n",
       "            (   'rat', 'imgt',  'IGKV6S3*01'),\n",
       "            (   'rat', 'imgt',  'IGKV6S6*01'),\n",
       "            (   'rat', 'imgt',  'IGKV8S2*01'),\n",
       "            (   'rat', 'imgt',  'IGKV8S8*01'),\n",
       "            (   'rat', 'imgt',  'IGLV4S1*01')],\n",
       "           names=['common', 'db_type', 'gene'], length=2572)"
      ]
     },
     "execution_count": 27,
     "metadata": {},
     "output_type": "execute_result"
    }
   ],
   "source": [
    "my_internal_path_df.index.difference(ref_internal_path_df.index)"
   ]
  },
  {
   "cell_type": "code",
   "execution_count": 28,
   "metadata": {},
   "outputs": [],
   "source": [
    "common_index = my_internal_path_df.index.intersection(ref_internal_path_df.index)\n",
    "my_internal_path_df_common = my_internal_path_df.loc[common_index]\n",
    "ref_internal_path_df_common = ref_internal_path_df.loc[common_index]"
   ]
  },
  {
   "cell_type": "code",
   "execution_count": 40,
   "metadata": {},
   "outputs": [
    {
     "name": "stdout",
     "output_type": "stream",
     "text": [
      "('rat', 'imgt', 'IGHV1S62*01') is exception\n",
      "('rat', 'imgt', 'IGHV2S1*01') is exception\n",
      "('rat', 'imgt', 'IGHV2S12*01') is exception\n",
      "('rat', 'imgt', 'IGHV2S13*01') is exception\n",
      "('rat', 'imgt', 'IGHV2S18*01') is exception\n",
      "('rat', 'imgt', 'IGHV2S30*01') is exception\n",
      "('rat', 'imgt', 'IGHV2S35*01') is exception\n",
      "('rat', 'imgt', 'IGHV2S54*01') is exception\n",
      "('rat', 'imgt', 'IGHV2S61*01') is exception\n",
      "('rat', 'imgt', 'IGHV2S63*01') is exception\n",
      "('rat', 'imgt', 'IGHV2S75*01') is exception\n",
      "('rat', 'imgt', 'IGHV2S78*01') is exception\n",
      "('rat', 'imgt', 'IGHV2S8*01') is exception\n",
      "('rat', 'imgt', 'IGHV5S10*01') is exception\n",
      "('rat', 'imgt', 'IGHV5S11*01') is exception\n",
      "('rat', 'imgt', 'IGHV5S13*01') is exception\n",
      "('rat', 'imgt', 'IGHV5S14*01') is exception\n",
      "('rat', 'imgt', 'IGHV5S23*01') is exception\n",
      "('rat', 'imgt', 'IGHV5S47*01') is exception\n",
      "('rat', 'imgt', 'IGHV5S54*01') is exception\n",
      "('rat', 'imgt', 'IGHV5S8*01') is exception\n",
      "('rat', 'imgt', 'IGHV8S18*01') is exception\n",
      "('rat', 'imgt', 'IGHV9S3*01') is exception\n",
      "('human', 'imgt', 'IGHV2-70*02') is exception\n",
      "('human', 'imgt', 'IGHV2-70*03') is exception\n",
      "('human', 'imgt', 'IGHV2-70*06') is exception\n",
      "('human', 'imgt', 'IGHV2-70*07') is exception\n",
      "('human', 'imgt', 'IGHV2-70*08') is exception\n"
     ]
    }
   ],
   "source": [
    "known_internal_db_exceptions = [\n",
    "    [\"rat\", \"imgt\", \"IGHV1S62*01\"],\n",
    "    [\"rat\", \"imgt\", \"IGHV2S1*01\"],\n",
    "    [\"rat\", \"imgt\", \"IGHV2S12*01\"],\n",
    "    [\"rat\", \"imgt\", \"IGHV2S13*01\"],\n",
    "    [\"rat\", \"imgt\", \"IGHV2S18*01\"],\n",
    "    [\"rat\", \"imgt\", \"IGHV2S30*01\"],\n",
    "    [\"rat\", \"imgt\", \"IGHV2S35*01\"],\n",
    "    [\"rat\", \"imgt\", \"IGHV2S54*01\"],\n",
    "    [\"rat\", \"imgt\", \"IGHV2S61*01\"],\n",
    "    [\"rat\", \"imgt\", \"IGHV2S63*01\"],\n",
    "    [\"rat\", \"imgt\", \"IGHV2S75*01\"],\n",
    "    [\"rat\", \"imgt\", \"IGHV2S78*01\"],\n",
    "    [\"rat\", \"imgt\", \"IGHV2S8*01\"],\n",
    "    [\"rat\", \"imgt\", \"IGHV5S10*01\"],\n",
    "    [\"rat\", \"imgt\", \"IGHV5S11*01\"],\n",
    "    [\"rat\", \"imgt\", \"IGHV5S13*01\"],\n",
    "    [\"rat\", \"imgt\", \"IGHV5S14*01\"],\n",
    "    [\"rat\", \"imgt\", \"IGHV5S23*01\"],\n",
    "    [\"rat\", \"imgt\", \"IGHV5S47*01\"],\n",
    "    [\"rat\", \"imgt\", \"IGHV5S54*01\"],\n",
    "    [\"rat\", \"imgt\", \"IGHV5S8*01\"],\n",
    "    [\"rat\", \"imgt\", \"IGHV8S18*01\"],\n",
    "    [\"rat\", \"imgt\", \"IGHV9S3*01\"],\n",
    "    [\"human\", \"imgt\", \"IGHV2-70*02\"],\n",
    "    [\"human\", \"imgt\", \"IGHV2-70*03\"],\n",
    "    [\"human\", \"imgt\", \"IGHV2-70*06\"],\n",
    "    [\"human\", \"imgt\", \"IGHV2-70*07\"],\n",
    "    [\"human\", \"imgt\", \"IGHV2-70*08\"],\n",
    "]\n",
    "known_internal_db_exceptions = set(\n",
    "    map(lambda x: tuple(x), known_internal_db_exceptions)\n",
    ")\n",
    "test_bad = []\n",
    "for index in my_internal_path_df_common.index:\n",
    "    try:\n",
    "        pd._testing.assert_series_equal(\n",
    "            my_internal_path_df_common.loc[index],\n",
    "            ref_internal_path_df_common.loc[index],\n",
    "            obj=index,\n",
    "        )\n",
    "    except AssertionError:\n",
    "\n",
    "        if index in known_internal_db_exceptions:\n",
    "            print(index, \"is exception\")\n",
    "            continue\n",
    "        else:\n",
    "            pd._testing.assert_series_equal(\n",
    "                my_internal_path_df_common.loc[index],\n",
    "                ref_internal_path_df_common.loc[index],\n",
    "                obj=index,\n",
    "            )"
   ]
  },
  {
   "cell_type": "code",
   "execution_count": 31,
   "metadata": {},
   "outputs": [
    {
     "data": {
      "text/plain": [
       "imgt_designation                                                   AABR03053476\n",
       "latin                                            Rattus_norvegicus_BN/SsNHsdMCW\n",
       "functional                                                                    I\n",
       "label                                                                  V-REGION\n",
       "partial                                                                        \n",
       "gene_segment                                                                  V\n",
       "receptor                                                                     Ig\n",
       "gapped_sequence               CAGGTGCAGCTGAAGGAGTCAGGACCT...GGTCTGGTGCAGACCT...\n",
       "imgt.v_gene_nt_gapped         CAGGTGCAGCTGAAGGAGTCAGGACCT...GGTCTGGTGCAGACCT...\n",
       "imgt.fwr1_nt_gapped           CAGGTGCAGCTGAAGGAGTCAGGACCT...GGTCTGGTGCAGACCT...\n",
       "imgt.cdr1_nt_gapped                        GGGTTCTCATTA...............ACCAGCTAT\n",
       "imgt.fwr2_nt_gapped           CATGTAAGCTGGGTTCGCCAGCCTCCAGGAAAGGGTCTGGAGTGGA...\n",
       "imgt.cdr2_nt_gapped                              AGAATACAGAGTGGT.........GGAAGC\n",
       "imgt.fwr3_nt_gapped           ACATATTATAATTCAGCTCTCAAA...TCTCGACTGAGCATCAGCA...\n",
       "imgt.cdr3_nt_gapped                                              TACTGTACCAGAGA\n",
       "imgt.v_gene_nt                CAGGTGCAGCTGAAGGAGTCAGGACCTGGTCTGGTGCAGACCTCAC...\n",
       "imgt.fwr1_nt                  CAGGTGCAGCTGAAGGAGTCAGGACCTGGTCTGGTGCAGACCTCAC...\n",
       "imgt.cdr1_nt                                              GGGTTCTCATTAACCAGCTAT\n",
       "imgt.fwr2_nt                  CATGTAAGCTGGGTTCGCCAGCCTCCAGGAAAGGGTCTGGAGTGGA...\n",
       "imgt.cdr2_nt                                              AGAATACAGAGTGGTGGAAGC\n",
       "imgt.fwr3_nt                  ACATATTATAATTCAGCTCTCAAATCTCGACTGAGCATCAGCAGGG...\n",
       "imgt.cdr3_nt                                                     TACTGTACCAGAGA\n",
       "imgt.v_gene_aa_gapped         QVQLKESGP.GLVQTSQTLSLTCTVSGFSL.....TSYHVSWVRQP...\n",
       "imgt.v_gene_imgt_numbering    [1, 2, 3, 4, 5, 6, 7, 8, 9, 11, 12, 13, 14, 15...\n",
       "imgt.fwr1_aa_gapped                                  QVQLKESGP.GLVQTSQTLSLTCTVS\n",
       "imgt.cdr1_aa_gapped                                                GFSL.....TSY\n",
       "imgt.fwr2_aa_gapped                                           HVSWVRQPPGKGLEWMG\n",
       "imgt.cdr2_aa_gapped                                                  RIQSG...GS\n",
       "imgt.fwr3_aa_gapped                     TYYNSALK.SRLSISRDTSKSQVFLKMNSLQTEDTAIY.\n",
       "imgt.cdr3_aa_gapped                                                        YCTR\n",
       "imgt.v_gene_aa                QVQLKESGPGLVQTSQTLSLTCTVSGFSLTSYHVSWVRQPPGKGLE...\n",
       "imgt.fwr1_aa                                          QVQLKESGPGLVQTSQTLSLTCTVS\n",
       "imgt.cdr1_aa                                                            GFSLTSY\n",
       "imgt.fwr2_aa                                                  HVSWVRQPPGKGLEWMG\n",
       "imgt.cdr2_aa                                                            RIQSGGS\n",
       "imgt.fwr3_aa                              TYYNSALKSRLSISRDTSKSQVFLKMNSLQTEDTAIY\n",
       "imgt.cdr3_aa                                                               YCTR\n",
       "imgt.fwr1_nt_index_start                                                      1\n",
       "imgt.fwr1_nt_index_end                                                       75\n",
       "imgt.cdr1_nt_index_start                                                     76\n",
       "imgt.cdr1_nt_index_end                                                       96\n",
       "imgt.fwr2_nt_index_start                                                     97\n",
       "imgt.fwr2_nt_index_end                                                      147\n",
       "imgt.cdr2_nt_index_start                                                    148\n",
       "imgt.cdr2_nt_index_end                                                      168\n",
       "imgt.fwr3_nt_index_start                                                    169\n",
       "imgt.fwr3_nt_index_end                                                      279\n",
       "Name: (rat, imgt, IGHV2S1*01), dtype: object"
      ]
     },
     "execution_count": 31,
     "metadata": {},
     "output_type": "execute_result"
    }
   ],
   "source": [
    "bad_gene = rat_v.set_index([\"common\", \"source\", \"gene\"]).loc[\n",
    "    (\"rat\", \"imgt\", \"IGHV2S1*01\")\n",
    "]\n",
    "bad_gene"
   ]
  },
  {
   "cell_type": "code",
   "execution_count": 10,
   "metadata": {},
   "outputs": [
    {
     "data": {
      "text/plain": [
       "'CAGGTGCAACTGAAGGAGTCAGGACCT...GGTCTGGTGCAGCCCTCACAGACCCTGTCCCTCACCTGCACTGTCTCTGGATTCTCATTA...............ACCAGCTATCATGTAAGCTGGGTTCGCCAGCCTCCAGGAAAGGGTCTGGAGTGGATTGCAGCAATATCAAGTGGT.........GGAAGCACATATTATAATTCAGCTCTCAAA...TCCCGACTGAGCATCAGCAGGGACACCTCCAAGAGCCAAGTTTTCTTAAAAATGAACAGTCTGCAAACTGAAGACACAGCCATGTAC...TTCTGTGCCAGA'"
      ]
     },
     "execution_count": 10,
     "metadata": {},
     "output_type": "execute_result"
    }
   ],
   "source": [
    "bad_gene[\"gapped_sequence\"] = "
   ]
  },
  {
   "cell_type": "code",
   "execution_count": 17,
   "metadata": {},
   "outputs": [
    {
     "data": {
      "text/plain": [
       "True"
      ]
     },
     "execution_count": 17,
     "metadata": {},
     "output_type": "execute_result"
    }
   ],
   "source": [
    "\"\".join(\n",
    "    \"\"\"caggtgcaactgaaggagtcaggacct...ggtctggtgcagccctcacagaccctgtcc\n",
    "ctcacctgcactgtctctggattctcatta...............accagctatcatgta\n",
    "agctgggttcgccagcctccaggaaagggtctggagtggattgcagcaatatcaagtggt\n",
    ".........ggaagcacatattataattcagctctcaaa...tcccgactgagcatcagc\n",
    "agggacacctccaagagccaagttttcttaaaaatgaacagtctgcaaactgaagacaca\n",
    "gccatgtac...ttctgtgccaga\"\"\".split(\n",
    "        \"\\n\"\n",
    "    )\n",
    ").upper() == \"CAGGTGCAACTGAAGGAGTCAGGACCT...GGTCTGGTGCAGCCCTCACAGACCCTGTCCCTCACCTGCACTGTCTCTGGATTCTCATTA...............ACCAGCTATCATGTAAGCTGGGTTCGCCAGCCTCCAGGAAAGGGTCTGGAGTGGATTGCAGCAATATCAAGTGGT.........GGAAGCACATATTATAATTCAGCTCTCAAA...TCCCGACTGAGCATCAGCAGGGACACCTCCAAGAGCCAAGTTTTCTTAAAAATGAACAGTCTGCAAACTGAAGACACAGCCATGTAC...TTCTGTGCCAGA\""
   ]
  },
  {
   "cell_type": "code",
   "execution_count": 12,
   "metadata": {},
   "outputs": [
    {
     "data": {
      "text/plain": [
       "'CAGGTGCAACTGAAGGAGTCAGGACCTGGTCTGGTGCAGCCCTCACAGACCCTGTCCCTCACCTGCACTGTCTCTGGATTCTCATTAACCAGCTATCATGTAAGCTGGGTTCGCCAGCCTCCAGGAAAGGGTCTGGAGTGGATTGCAGCAATATCAAGTGGTGGAAGCACATATTATAATTCAGCTCTCAAATCCCGACTGAGCATCAGCAGGGACACCTCCAAGAGCCAAGTTTTCTTAAAAATGAACAGTCTGCAAACTGAAGACACAGCCATGTACTTCTGTGCCAGA'"
      ]
     },
     "execution_count": 12,
     "metadata": {},
     "output_type": "execute_result"
    }
   ],
   "source": [
    "bad_gene[\"imgt.v_gene_nt\"]"
   ]
  },
  {
   "cell_type": "code",
   "execution_count": 110,
   "metadata": {},
   "outputs": [
    {
     "data": {
      "text/html": [
       "<div>\n",
       "<style scoped>\n",
       "    .dataframe tbody tr th:only-of-type {\n",
       "        vertical-align: middle;\n",
       "    }\n",
       "\n",
       "    .dataframe tbody tr th {\n",
       "        vertical-align: top;\n",
       "    }\n",
       "\n",
       "    .dataframe thead th {\n",
       "        text-align: right;\n",
       "    }\n",
       "</style>\n",
       "<table border=\"1\" class=\"dataframe\">\n",
       "  <thead>\n",
       "    <tr style=\"text-align: right;\">\n",
       "      <th></th>\n",
       "      <th></th>\n",
       "      <th></th>\n",
       "      <th>reading_frame</th>\n",
       "      <th>segment</th>\n",
       "      <th>cdr3_end</th>\n",
       "      <th>left_over</th>\n",
       "    </tr>\n",
       "    <tr>\n",
       "      <th>common</th>\n",
       "      <th>db_type</th>\n",
       "      <th>gene</th>\n",
       "      <th></th>\n",
       "      <th></th>\n",
       "      <th></th>\n",
       "      <th></th>\n",
       "    </tr>\n",
       "  </thead>\n",
       "  <tbody>\n",
       "    <tr>\n",
       "      <th rowspan=\"5\" valign=\"top\">mouse</th>\n",
       "      <th rowspan=\"5\" valign=\"top\">imgt</th>\n",
       "      <th>IGHJ1*01</th>\n",
       "      <td>True</td>\n",
       "      <td>True</td>\n",
       "      <td>True</td>\n",
       "      <td>True</td>\n",
       "    </tr>\n",
       "    <tr>\n",
       "      <th>IGHJ1*02</th>\n",
       "      <td>True</td>\n",
       "      <td>True</td>\n",
       "      <td>True</td>\n",
       "      <td>True</td>\n",
       "    </tr>\n",
       "    <tr>\n",
       "      <th>IGHJ1*03</th>\n",
       "      <td>True</td>\n",
       "      <td>True</td>\n",
       "      <td>True</td>\n",
       "      <td>True</td>\n",
       "    </tr>\n",
       "    <tr>\n",
       "      <th>IGHJ2*01</th>\n",
       "      <td>True</td>\n",
       "      <td>True</td>\n",
       "      <td>True</td>\n",
       "      <td>True</td>\n",
       "    </tr>\n",
       "    <tr>\n",
       "      <th>IGHJ2*02</th>\n",
       "      <td>True</td>\n",
       "      <td>True</td>\n",
       "      <td>True</td>\n",
       "      <td>True</td>\n",
       "    </tr>\n",
       "    <tr>\n",
       "      <th>...</th>\n",
       "      <th>...</th>\n",
       "      <th>...</th>\n",
       "      <td>...</td>\n",
       "      <td>...</td>\n",
       "      <td>...</td>\n",
       "      <td>...</td>\n",
       "    </tr>\n",
       "    <tr>\n",
       "      <th rowspan=\"5\" valign=\"top\">rat</th>\n",
       "      <th rowspan=\"5\" valign=\"top\">imgt</th>\n",
       "      <th>IGKJ5*01</th>\n",
       "      <td>True</td>\n",
       "      <td>True</td>\n",
       "      <td>True</td>\n",
       "      <td>True</td>\n",
       "    </tr>\n",
       "    <tr>\n",
       "      <th>IGLJ1*01</th>\n",
       "      <td>True</td>\n",
       "      <td>True</td>\n",
       "      <td>True</td>\n",
       "      <td>True</td>\n",
       "    </tr>\n",
       "    <tr>\n",
       "      <th>IGLJ2*01</th>\n",
       "      <td>True</td>\n",
       "      <td>True</td>\n",
       "      <td>True</td>\n",
       "      <td>True</td>\n",
       "    </tr>\n",
       "    <tr>\n",
       "      <th>IGLJ3*01</th>\n",
       "      <td>True</td>\n",
       "      <td>True</td>\n",
       "      <td>True</td>\n",
       "      <td>True</td>\n",
       "    </tr>\n",
       "    <tr>\n",
       "      <th>IGLJ4*01</th>\n",
       "      <td>True</td>\n",
       "      <td>True</td>\n",
       "      <td>True</td>\n",
       "      <td>True</td>\n",
       "    </tr>\n",
       "  </tbody>\n",
       "</table>\n",
       "<p>103 rows × 4 columns</p>\n",
       "</div>"
      ],
      "text/plain": [
       "                         reading_frame  segment  cdr3_end  left_over\n",
       "common db_type gene                                                 \n",
       "mouse  imgt    IGHJ1*01           True     True      True       True\n",
       "               IGHJ1*02           True     True      True       True\n",
       "               IGHJ1*03           True     True      True       True\n",
       "               IGHJ2*01           True     True      True       True\n",
       "               IGHJ2*02           True     True      True       True\n",
       "...                                ...      ...       ...        ...\n",
       "rat    imgt    IGKJ5*01           True     True      True       True\n",
       "               IGLJ1*01           True     True      True       True\n",
       "               IGLJ2*01           True     True      True       True\n",
       "               IGLJ3*01           True     True      True       True\n",
       "               IGLJ4*01           True     True      True       True\n",
       "\n",
       "[103 rows x 4 columns]"
      ]
     },
     "execution_count": 110,
     "metadata": {},
     "output_type": "execute_result"
    }
   ],
   "source": [
    "my_aux.loc[common_index] == their_aux.loc[common_index]"
   ]
  },
  {
   "cell_type": "code",
   "execution_count": 99,
   "metadata": {},
   "outputs": [
    {
     "ename": "AssertionError",
     "evalue": "DataFrame.iloc[:, 0] (column name=\"reading_frame\") are different\n\nDataFrame.iloc[:, 0] (column name=\"reading_frame\") values are different (0.97087 %)\n[index]: [(mouse, imgt, IGHJ1*01), (mouse, imgt, IGHJ1*02), (mouse, imgt, IGHJ1*03), (mouse, imgt, IGHJ2*01), (mouse, imgt, IGHJ2*02), (mouse, imgt, IGHJ2*03), (mouse, imgt, IGHJ3*01), (mouse, imgt, IGHJ3*02), (mouse, imgt, IGHJ4*01), (mouse, imgt, IGKJ1*01), (mouse, imgt, IGKJ1*02), (mouse, imgt, IGKJ2*01), (mouse, imgt, IGKJ2*02), (mouse, imgt, IGKJ2*03), (mouse, imgt, IGKJ3*01), (mouse, imgt, IGKJ3*02), (mouse, imgt, IGKJ4*01), (mouse, imgt, IGKJ4*02), (mouse, imgt, IGKJ5*01), (mouse, imgt, IGLJ1*01), (mouse, imgt, IGLJ2*01), (mouse, imgt, IGLJ3*01), (mouse, imgt, IGLJ4*01), (rabbit, imgt, IGHJ1*01), (rabbit, imgt, IGHJ2*01), (rabbit, imgt, IGHJ2*02), (rabbit, imgt, IGHJ3*01), (rabbit, imgt, IGHJ3*02), (rabbit, imgt, IGHJ4*01), (rabbit, imgt, IGHJ4*02), (rabbit, imgt, IGHJ5*01), (rabbit, imgt, IGHJ5*02), (rabbit, imgt, IGHJ6*01), (rabbit, imgt, IGHJ6*02), (rabbit, imgt, IGKJ1-1*01), (rabbit, imgt, IGKJ1-1*02), (rabbit, imgt, IGKJ1-1*03), (rabbit, imgt, IGKJ1-2*01), (rabbit, imgt, IGKJ1-2*02), (rabbit, imgt, IGKJ1-2*03), (rabbit, imgt, IGKJ1-2*04), (rabbit, imgt, IGKJ1-3*01), (rabbit, imgt, IGKJ1-3*02), (rabbit, imgt, IGKJ1-3*03), (rabbit, imgt, IGKJ1-4*01), (rabbit, imgt, IGKJ1-4*02), (rabbit, imgt, IGKJ1-4*03), (rabbit, imgt, IGKJ1-5*01), (rabbit, imgt, IGKJ1-5*02), (rabbit, imgt, IGKJ1-5*03), (rabbit, imgt, IGKJ2-1*01), (rabbit, imgt, IGKJ2-2*01), (rabbit, imgt, IGKJ2-3*01), (rabbit, imgt, IGLJ1*01), (rabbit, imgt, IGLJ3*01), (rabbit, imgt, IGLJ5*01), (rabbit, imgt, IGLJ6*01), (human, imgt, IGHJ1*01), (human, imgt, IGHJ2*01), (human, imgt, IGHJ3*01), (human, imgt, IGHJ3*02), (human, imgt, IGHJ4*01), (human, imgt, IGHJ4*02), (human, imgt, IGHJ4*03), (human, imgt, IGHJ5*01), (human, imgt, IGHJ5*02), (human, imgt, IGHJ6*01), (human, imgt, IGHJ6*02), (human, imgt, IGHJ6*03), (human, imgt, IGHJ6*04), (human, imgt, IGKJ1*01), (human, imgt, IGKJ2*01), (human, imgt, IGKJ2*02), (human, imgt, IGKJ2*03), (human, imgt, IGKJ2*04), (human, imgt, IGKJ3*01), (human, imgt, IGKJ4*01), (human, imgt, IGKJ4*02), (human, imgt, IGKJ5*01), (human, imgt, IGLJ1*01), (human, imgt, IGLJ2*01), (human, imgt, IGLJ3*01), (human, imgt, IGLJ3*02), (human, imgt, IGLJ4*01), (human, imgt, IGLJ5*01), (human, imgt, IGLJ5*02), (human, imgt, IGLJ6*01), (human, imgt, IGLJ7*01), (human, imgt, IGLJ7*02), (rat, imgt, IGHJ1*01), (rat, imgt, IGHJ2*01), (rat, imgt, IGHJ3*01), (rat, imgt, IGHJ4*01), (rat, imgt, IGKJ1*01), (rat, imgt, IGKJ2-1*01), (rat, imgt, IGKJ2-2*01), (rat, imgt, IGKJ2-3*01), (rat, imgt, IGKJ4*01), (rat, imgt, IGKJ5*01), (rat, imgt, IGLJ1*01), ...]\n[left]:  [1, 1, 1, 2, 2, 0, 2, 2, 2, 1, 0, 2, 2, 2, 1, 1, 1, 1, 1, 1, 1, 1, 1, 1, 1, 1, 1, 2, 2, 2, 2, 2, 2, 2, 1, 1, 1, 0, 0, 0, 0, 1, 1, 1, 1, 1, 1, 1, 1, 1, 1, 0, 1, 1, 1, 1, 1, 0, 1, 1, 1, 2, 2, 2, 2, 2, 2, 2, 2, 2, 1, 2, 1, 2, 2, 1, 1, 1, 1, 1, 1, 1, 1, 1, 1, 1, 1, 1, 1, 1, 1, 2, 2, 1, 2, 2, 2, 1, 1, 1, ...]\n[right]: [1, 1, 1, 2, 2, 0, 2, 2, 2, 1, 0, 2, 2, 2, 1, 1, 1, 1, 1, 1, 1, 1, 1, 1, 1, 1, 1, 1, 2, 2, 2, 2, 2, 2, 1, 1, 1, 0, 0, 0, 0, 1, 1, 1, 1, 1, 1, 1, 1, 1, 1, 0, 1, 1, 1, 1, 1, 0, 1, 1, 1, 2, 2, 2, 2, 2, 2, 2, 2, 2, 1, 2, 1, 2, 2, 1, 1, 1, 1, 1, 1, 1, 1, 1, 1, 1, 1, 1, 1, 1, 1, 2, 2, 1, 2, 2, 2, 1, 1, 1, ...]",
     "output_type": "error",
     "traceback": [
      "\u001b[0;31m---------------------------------------------------------------------------\u001b[0m",
      "\u001b[0;31mAssertionError\u001b[0m                            Traceback (most recent call last)",
      "\u001b[0;32m<ipython-input-99-0f21969c5301>\u001b[0m in \u001b[0;36m<module>\u001b[0;34m\u001b[0m\n\u001b[0;32m----> 1\u001b[0;31m \u001b[0mpd\u001b[0m\u001b[0;34m.\u001b[0m\u001b[0m_testing\u001b[0m\u001b[0;34m.\u001b[0m\u001b[0massert_frame_equal\u001b[0m\u001b[0;34m(\u001b[0m\u001b[0mmy_aux\u001b[0m\u001b[0;34m.\u001b[0m\u001b[0mloc\u001b[0m\u001b[0;34m[\u001b[0m\u001b[0mcommon_index\u001b[0m\u001b[0;34m]\u001b[0m\u001b[0;34m,\u001b[0m\u001b[0mtheir_aux\u001b[0m\u001b[0;34m.\u001b[0m\u001b[0mloc\u001b[0m\u001b[0;34m[\u001b[0m\u001b[0mcommon_index\u001b[0m\u001b[0;34m]\u001b[0m\u001b[0;34m,\u001b[0m\u001b[0mcheck_like\u001b[0m\u001b[0;34m=\u001b[0m\u001b[0;32mTrue\u001b[0m\u001b[0;34m)\u001b[0m\u001b[0;34m\u001b[0m\u001b[0;34m\u001b[0m\u001b[0m\n\u001b[0m",
      "    \u001b[0;31m[... skipping hidden 2 frame]\u001b[0m\n",
      "\u001b[0;32mpandas/_libs/testing.pyx\u001b[0m in \u001b[0;36mpandas._libs.testing.assert_almost_equal\u001b[0;34m()\u001b[0m\n",
      "\u001b[0;32mpandas/_libs/testing.pyx\u001b[0m in \u001b[0;36mpandas._libs.testing.assert_almost_equal\u001b[0;34m()\u001b[0m\n",
      "\u001b[0;32m~/miniconda3/envs/sadie/lib/python3.8/site-packages/pandas/_testing.py\u001b[0m in \u001b[0;36mraise_assert_detail\u001b[0;34m(obj, message, left, right, diff, index_values)\u001b[0m\n\u001b[1;32m   1034\u001b[0m         \u001b[0mmsg\u001b[0m \u001b[0;34m+=\u001b[0m \u001b[0;34mf\"\\n[diff]: {diff}\"\u001b[0m\u001b[0;34m\u001b[0m\u001b[0;34m\u001b[0m\u001b[0m\n\u001b[1;32m   1035\u001b[0m \u001b[0;34m\u001b[0m\u001b[0m\n\u001b[0;32m-> 1036\u001b[0;31m     \u001b[0;32mraise\u001b[0m \u001b[0mAssertionError\u001b[0m\u001b[0;34m(\u001b[0m\u001b[0mmsg\u001b[0m\u001b[0;34m)\u001b[0m\u001b[0;34m\u001b[0m\u001b[0;34m\u001b[0m\u001b[0m\n\u001b[0m\u001b[1;32m   1037\u001b[0m \u001b[0;34m\u001b[0m\u001b[0m\n\u001b[1;32m   1038\u001b[0m \u001b[0;34m\u001b[0m\u001b[0m\n",
      "\u001b[0;31mAssertionError\u001b[0m: DataFrame.iloc[:, 0] (column name=\"reading_frame\") are different\n\nDataFrame.iloc[:, 0] (column name=\"reading_frame\") values are different (0.97087 %)\n[index]: [(mouse, imgt, IGHJ1*01), (mouse, imgt, IGHJ1*02), (mouse, imgt, IGHJ1*03), (mouse, imgt, IGHJ2*01), (mouse, imgt, IGHJ2*02), (mouse, imgt, IGHJ2*03), (mouse, imgt, IGHJ3*01), (mouse, imgt, IGHJ3*02), (mouse, imgt, IGHJ4*01), (mouse, imgt, IGKJ1*01), (mouse, imgt, IGKJ1*02), (mouse, imgt, IGKJ2*01), (mouse, imgt, IGKJ2*02), (mouse, imgt, IGKJ2*03), (mouse, imgt, IGKJ3*01), (mouse, imgt, IGKJ3*02), (mouse, imgt, IGKJ4*01), (mouse, imgt, IGKJ4*02), (mouse, imgt, IGKJ5*01), (mouse, imgt, IGLJ1*01), (mouse, imgt, IGLJ2*01), (mouse, imgt, IGLJ3*01), (mouse, imgt, IGLJ4*01), (rabbit, imgt, IGHJ1*01), (rabbit, imgt, IGHJ2*01), (rabbit, imgt, IGHJ2*02), (rabbit, imgt, IGHJ3*01), (rabbit, imgt, IGHJ3*02), (rabbit, imgt, IGHJ4*01), (rabbit, imgt, IGHJ4*02), (rabbit, imgt, IGHJ5*01), (rabbit, imgt, IGHJ5*02), (rabbit, imgt, IGHJ6*01), (rabbit, imgt, IGHJ6*02), (rabbit, imgt, IGKJ1-1*01), (rabbit, imgt, IGKJ1-1*02), (rabbit, imgt, IGKJ1-1*03), (rabbit, imgt, IGKJ1-2*01), (rabbit, imgt, IGKJ1-2*02), (rabbit, imgt, IGKJ1-2*03), (rabbit, imgt, IGKJ1-2*04), (rabbit, imgt, IGKJ1-3*01), (rabbit, imgt, IGKJ1-3*02), (rabbit, imgt, IGKJ1-3*03), (rabbit, imgt, IGKJ1-4*01), (rabbit, imgt, IGKJ1-4*02), (rabbit, imgt, IGKJ1-4*03), (rabbit, imgt, IGKJ1-5*01), (rabbit, imgt, IGKJ1-5*02), (rabbit, imgt, IGKJ1-5*03), (rabbit, imgt, IGKJ2-1*01), (rabbit, imgt, IGKJ2-2*01), (rabbit, imgt, IGKJ2-3*01), (rabbit, imgt, IGLJ1*01), (rabbit, imgt, IGLJ3*01), (rabbit, imgt, IGLJ5*01), (rabbit, imgt, IGLJ6*01), (human, imgt, IGHJ1*01), (human, imgt, IGHJ2*01), (human, imgt, IGHJ3*01), (human, imgt, IGHJ3*02), (human, imgt, IGHJ4*01), (human, imgt, IGHJ4*02), (human, imgt, IGHJ4*03), (human, imgt, IGHJ5*01), (human, imgt, IGHJ5*02), (human, imgt, IGHJ6*01), (human, imgt, IGHJ6*02), (human, imgt, IGHJ6*03), (human, imgt, IGHJ6*04), (human, imgt, IGKJ1*01), (human, imgt, IGKJ2*01), (human, imgt, IGKJ2*02), (human, imgt, IGKJ2*03), (human, imgt, IGKJ2*04), (human, imgt, IGKJ3*01), (human, imgt, IGKJ4*01), (human, imgt, IGKJ4*02), (human, imgt, IGKJ5*01), (human, imgt, IGLJ1*01), (human, imgt, IGLJ2*01), (human, imgt, IGLJ3*01), (human, imgt, IGLJ3*02), (human, imgt, IGLJ4*01), (human, imgt, IGLJ5*01), (human, imgt, IGLJ5*02), (human, imgt, IGLJ6*01), (human, imgt, IGLJ7*01), (human, imgt, IGLJ7*02), (rat, imgt, IGHJ1*01), (rat, imgt, IGHJ2*01), (rat, imgt, IGHJ3*01), (rat, imgt, IGHJ4*01), (rat, imgt, IGKJ1*01), (rat, imgt, IGKJ2-1*01), (rat, imgt, IGKJ2-2*01), (rat, imgt, IGKJ2-3*01), (rat, imgt, IGKJ4*01), (rat, imgt, IGKJ5*01), (rat, imgt, IGLJ1*01), ...]\n[left]:  [1, 1, 1, 2, 2, 0, 2, 2, 2, 1, 0, 2, 2, 2, 1, 1, 1, 1, 1, 1, 1, 1, 1, 1, 1, 1, 1, 2, 2, 2, 2, 2, 2, 2, 1, 1, 1, 0, 0, 0, 0, 1, 1, 1, 1, 1, 1, 1, 1, 1, 1, 0, 1, 1, 1, 1, 1, 0, 1, 1, 1, 2, 2, 2, 2, 2, 2, 2, 2, 2, 1, 2, 1, 2, 2, 1, 1, 1, 1, 1, 1, 1, 1, 1, 1, 1, 1, 1, 1, 1, 1, 2, 2, 1, 2, 2, 2, 1, 1, 1, ...]\n[right]: [1, 1, 1, 2, 2, 0, 2, 2, 2, 1, 0, 2, 2, 2, 1, 1, 1, 1, 1, 1, 1, 1, 1, 1, 1, 1, 1, 1, 2, 2, 2, 2, 2, 2, 1, 1, 1, 0, 0, 0, 0, 1, 1, 1, 1, 1, 1, 1, 1, 1, 1, 0, 1, 1, 1, 1, 1, 0, 1, 1, 1, 2, 2, 2, 2, 2, 2, 2, 2, 2, 1, 2, 1, 2, 2, 1, 1, 1, 1, 1, 1, 1, 1, 1, 1, 1, 1, 1, 1, 1, 1, 2, 2, 1, 2, 2, 2, 1, 1, 1, ...]"
     ]
    }
   ],
   "source": [
    "pd._testing.assert_frame_equal(my_aux.loc[common_index],their_aux.loc[common_index],check_like=True)"
   ]
  },
  {
   "cell_type": "code",
   "execution_count": null,
   "metadata": {},
   "outputs": [],
   "source": []
  }
 ],
 "metadata": {
  "kernelspec": {
   "display_name": "Sadie Python 3.8",
   "language": "python",
   "name": "sadie"
  },
  "language_info": {
   "codemirror_mode": {
    "name": "ipython",
    "version": 3
   },
   "file_extension": ".py",
   "mimetype": "text/x-python",
   "name": "python",
   "nbconvert_exporter": "python",
   "pygments_lexer": "ipython3",
   "version": "3.8.5"
  }
 },
 "nbformat": 4,
 "nbformat_minor": 4
}
