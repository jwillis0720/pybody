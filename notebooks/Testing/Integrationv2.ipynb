{
 "cells": [
  {
   "cell_type": "code",
   "execution_count": 1,
   "metadata": {},
   "outputs": [],
   "source": [
    "%load_ext lab_black"
   ]
  },
  {
   "cell_type": "code",
   "execution_count": 200,
   "metadata": {},
   "outputs": [],
   "source": [
    "import json\n",
    "import gzip\n",
    "import pandas as pd\n",
    "import glob\n",
    "import tempfile\n",
    "from importlib import reload\n",
    "\n",
    "import uuid\n",
    "import os\n",
    "from pprint import pprint\n",
    "from multiprocessing import Pool\n",
    "from pathlib import Path\n",
    "from sadie.airr import Airr, AirrTable\n",
    "from gspread_pandas import Spread, Client\n",
    "from sadie.airr import AirrTable\n",
    "from sadie.airr import constants\n",
    "from distutils.version import StrictVersion\n",
    "from math import nan\n",
    "from IPython.display import clear_output\n",
    "from numpy import isnan\n",
    "from IPython.core.display import display, HTML\n",
    "from sadie.antibody import AntibodyChainNT\n",
    "\n",
    "\n",
    "spread = Spread(\"Sadie\", create_spread=True, create_sheet=True)\n",
    "pd.set_option(\"display.max_rows\", 45)\n",
    "pd.set_option(\"display.max_columns\", 500)\n",
    "pd.set_option(\"display.width\", 100000)\n",
    "\n",
    "\n",
    "def fillna(df, fill_value=\"\"):\n",
    "    \"\"\"\n",
    "    Replace null values with `fill_value`.\n",
    "\n",
    "    Also replaces in categorical columns.\n",
    "    \"\"\"\n",
    "    for col in df.dtypes[df.dtypes == \"category\"].index:\n",
    "        if fill_value not in df[col].cat.categories:\n",
    "            df[col].cat.add_categories([fill_value], inplace=True)\n",
    "    # Known bug https://github.com/pandas-dev/pandas/issues/25472\n",
    "    if StrictVersion(pd.__version__) >= StrictVersion(\"1.0\"):\n",
    "        for col in df.dtypes[\n",
    "            df.dtypes.apply(lambda x: x in [\"float64\", \"Int16\", \"Int64\"])\n",
    "        ].index:\n",
    "            df[col] = df[col].astype(\"float\")\n",
    "    return df.fillna(fill_value)"
   ]
  },
  {
   "cell_type": "markdown",
   "metadata": {},
   "source": [
    "# Sadie Annotate"
   ]
  },
  {
   "cell_type": "code",
   "execution_count": 109,
   "metadata": {},
   "outputs": [],
   "source": [
    "# straight ignore these\n",
    "ignore = [\n",
    "    #     \"v_call\",\n",
    "    #     \"d_call\",\n",
    "    #     \"j_call\",\n",
    "    \"v_score\",\n",
    "    \"d_score\",\n",
    "    \"j_score\",\n",
    "    \"v_support\",\n",
    "    \"d_support\",\n",
    "    \"j_support\",\n",
    "]\n",
    "\n",
    "# cast these to integers\n",
    "starts_and_ends = [\n",
    "    \"cdr1_end\",\n",
    "    \"cdr1_start\",\n",
    "    \"cdr2_end\",\n",
    "    \"cdr2_start\",\n",
    "    \"cdr3_end\",\n",
    "    \"cdr3_start\",\n",
    "    \"d_alignment_end\",\n",
    "    \"d_alignment_start\",\n",
    "    \"d_germline_end\",\n",
    "    \"d_germline_start\",\n",
    "    \"d_sequence_end\",\n",
    "    \"d_sequence_start\",\n",
    "    \"fwr1_end\",\n",
    "    \"fwr1_start\",\n",
    "    \"fwr2_end\",\n",
    "    \"fwr2_start\",\n",
    "    \"fwr4_end\",\n",
    "    \"fwr4_start\",\n",
    "    \"j_alignment_end\",\n",
    "    \"j_alignment_start\",\n",
    "    \"j_germline_end\",\n",
    "    \"j_germline_start\",\n",
    "    \"j_sequence_end\",\n",
    "    \"j_sequence_start\",\n",
    "]\n",
    "\n",
    "\n",
    "def make_sadie_comparable(df):\n",
    "    if isinstance(df, AirrTable):\n",
    "        df = df.table\n",
    "    # comparison keys between imgt and sadie\n",
    "    compare_key = list(constants.IGBLAST_AIRR.keys()) + [\n",
    "        \"v_call_top\",\n",
    "        \"d_call_top\",\n",
    "        \"j_call_top\",\n",
    "    ]\n",
    "    compare_key.remove(\"v_frameshift\")\n",
    "    df = df[compare_key].drop(ignore, axis=1)\n",
    "    df.loc[:, starts_and_ends] = df[starts_and_ends].astype(\"Int64\")\n",
    "    df.insert(\n",
    "        df.columns.get_loc(\"v_call_top\"),\n",
    "        \"v_gene_top\",\n",
    "        df[\"v_call_top\"].str.split(\"*\").str.get(0),\n",
    "    )\n",
    "    df.insert(\n",
    "        df.columns.get_loc(\"d_call_top\"),\n",
    "        \"d_gene_top\",\n",
    "        df[\"d_call_top\"].str.split(\"*\").str.get(0),\n",
    "    )\n",
    "    df.insert(\n",
    "        df.columns.get_loc(\"j_call_top\"),\n",
    "        \"j_gene_top\",\n",
    "        df[\"j_call_top\"].str.split(\"*\").str.get(0),\n",
    "    )\n",
    "    return df\n",
    "\n",
    "\n",
    "def make_imgt_comparable(df):\n",
    "    def map_bool(mapp_df, col):\n",
    "        return mapp_df.loc[:, col].map(\n",
    "            {\"T\": True, \"F\": False, True: True, False: False, nan: False},\n",
    "            na_action=\"ignore\",\n",
    "        )\n",
    "\n",
    "    compare_key = list(constants.IGBLAST_AIRR.keys())\n",
    "    compare_key.remove(\"v_frameshift\")\n",
    "    df = df[compare_key].copy()\n",
    "    bool_cols = [\"vj_in_frame\", \"productive\", \"rev_comp\", \"complete_vdj\", \"stop_codon\"]\n",
    "    for col in bool_cols:\n",
    "        df[col] = map_bool(df, col)\n",
    "\n",
    "    upper_columns = [\n",
    "        \"fwr1\",\n",
    "        \"cdr1\",\n",
    "        \"fwr2\",\n",
    "        \"cdr2\",\n",
    "        \"fwr3\",\n",
    "        \"cdr3\",\n",
    "        \"fwr4\",\n",
    "        \"germline_alignment\",\n",
    "        \"germline_alignment_aa\",\n",
    "        \"sequence_alignment\",\n",
    "        \"sequence_alignment_aa\",\n",
    "        \"v_germline_alignment\",\n",
    "        \"v_germline_alignment_aa\",\n",
    "        \"v_sequence_alignment\",\n",
    "        \"v_sequence_alignment_aa\",\n",
    "        \"d_germline_alignment\",\n",
    "        \"d_germline_alignment_aa\",\n",
    "        \"d_sequence_alignment\",\n",
    "        \"d_sequence_alignment_aa\",\n",
    "        \"j_germline_alignment\",\n",
    "        \"j_germline_alignment_aa\",\n",
    "        \"j_sequence_alignment\",\n",
    "        \"j_sequence_alignment_aa\",\n",
    "        \"np1\",\n",
    "        \"np2\",\n",
    "        \"junction\",\n",
    "        \"sequence\",\n",
    "    ]\n",
    "    for col in upper_columns:\n",
    "        df[col] = df[col].str.upper()\n",
    "\n",
    "    df[\"fwr1\"] = df[\"fwr1\"].str.lstrip(\".\")\n",
    "    df[\"fwr4\"] = df[\"fwr4\"].str.rstrip(\".\")\n",
    "    df[\"v_call_top\"] = df[\"v_call\"].str.split(\",\").str.get(0).str.split().str.get(1)\n",
    "    df[\"v_gene_top\"] = df[\"v_call_top\"].str.split(\"*\").str.get(0)\n",
    "    df[\"d_call_top\"] = df[\"d_call\"].str.split(\",\").str.get(0).str.split(\"_\").str.get(-1)\n",
    "    df[\"d_gene_top\"] = df[\"d_call_top\"].str.split(\"*\").str.get(0)\n",
    "    df[\"j_call_top\"] = df[\"j_call\"].str.split(\",\").str.get(0).str.split().str.get(1)\n",
    "    df[\"j_gene_top\"] = df[\"j_call_top\"].str.split(\"*\").str.get(0)\n",
    "    df = df.drop(ignore, axis=1)\n",
    "    df.loc[:, starts_and_ends] = df[starts_and_ends].astype(\"Int64\")\n",
    "    return df"
   ]
  },
  {
   "cell_type": "markdown",
   "metadata": {},
   "source": [
    "### Sadie\n",
    "\n",
    "Run sadie against the OAS subsample and good full length anarci"
   ]
  },
  {
   "cell_type": "code",
   "execution_count": 37,
   "metadata": {},
   "outputs": [],
   "source": [
    "sub_sample_file_good_anarci = (\n",
    "    \"../../tests/integration/airr/fixtures/OAS_subsample_good_anarci.fasta\"\n",
    ")\n",
    "airr_api = Airr(species=\"human\", database=\"imgt\", functional=\"all\")\n",
    "# airr_api.igblast.v_penalty = -1\n",
    "# airr_api.igblast.j_penalty = -1"
   ]
  },
  {
   "cell_type": "code",
   "execution_count": 242,
   "metadata": {},
   "outputs": [
    {
     "name": "stderr",
     "output_type": "stream",
     "text": [
      "WARNING:AIRRTable:Caution - sequences ['test'] may need manual inspections\n"
     ]
    },
    {
     "data": {
      "text/html": [
       "<div>\n",
       "<style scoped>\n",
       "    .dataframe tbody tr th:only-of-type {\n",
       "        vertical-align: middle;\n",
       "    }\n",
       "\n",
       "    .dataframe tbody tr th {\n",
       "        vertical-align: top;\n",
       "    }\n",
       "\n",
       "    .dataframe thead th {\n",
       "        text-align: right;\n",
       "    }\n",
       "</style>\n",
       "<table border=\"1\" class=\"dataframe\">\n",
       "  <thead>\n",
       "    <tr style=\"text-align: right;\">\n",
       "      <th></th>\n",
       "      <th>sequence_id</th>\n",
       "      <th>sequence</th>\n",
       "      <th>species</th>\n",
       "      <th>locus</th>\n",
       "      <th>stop_codon</th>\n",
       "      <th>vj_in_frame</th>\n",
       "      <th>v_frameshift</th>\n",
       "      <th>productive</th>\n",
       "      <th>rev_comp</th>\n",
       "      <th>complete_vdj</th>\n",
       "      <th>v_call_top</th>\n",
       "      <th>v_call</th>\n",
       "      <th>d_call_top</th>\n",
       "      <th>d_call</th>\n",
       "      <th>j_call_top</th>\n",
       "      <th>j_call</th>\n",
       "      <th>sequence_alignment</th>\n",
       "      <th>germline_alignment</th>\n",
       "      <th>sequence_alignment_aa</th>\n",
       "      <th>germline_alignment_aa</th>\n",
       "      <th>v_alignment_start</th>\n",
       "      <th>v_alignment_end</th>\n",
       "      <th>d_alignment_start</th>\n",
       "      <th>d_alignment_end</th>\n",
       "      <th>j_alignment_start</th>\n",
       "      <th>j_alignment_end</th>\n",
       "      <th>v_sequence_alignment</th>\n",
       "      <th>v_sequence_alignment_aa</th>\n",
       "      <th>v_germline_alignment</th>\n",
       "      <th>v_germline_alignment_aa</th>\n",
       "      <th>d_sequence_alignment</th>\n",
       "      <th>d_sequence_alignment_aa</th>\n",
       "      <th>d_germline_alignment</th>\n",
       "      <th>d_germline_alignment_aa</th>\n",
       "      <th>j_sequence_alignment</th>\n",
       "      <th>j_sequence_alignment_aa</th>\n",
       "      <th>j_germline_alignment</th>\n",
       "      <th>j_germline_alignment_aa</th>\n",
       "      <th>fwr1</th>\n",
       "      <th>fwr1_aa</th>\n",
       "      <th>cdr1</th>\n",
       "      <th>cdr1_aa</th>\n",
       "      <th>fwr2</th>\n",
       "      <th>fwr2_aa</th>\n",
       "      <th>cdr2</th>\n",
       "      <th>cdr2_aa</th>\n",
       "      <th>fwr3</th>\n",
       "      <th>fwr3_aa</th>\n",
       "      <th>fwr4</th>\n",
       "      <th>fwr4_aa</th>\n",
       "      <th>cdr3</th>\n",
       "      <th>cdr3_aa</th>\n",
       "      <th>junction</th>\n",
       "      <th>junction_length</th>\n",
       "      <th>junction_aa</th>\n",
       "      <th>junction_aa_length</th>\n",
       "      <th>v_score</th>\n",
       "      <th>d_score</th>\n",
       "      <th>j_score</th>\n",
       "      <th>v_cigar</th>\n",
       "      <th>d_cigar</th>\n",
       "      <th>j_cigar</th>\n",
       "      <th>v_support</th>\n",
       "      <th>d_support</th>\n",
       "      <th>j_support</th>\n",
       "      <th>v_identity</th>\n",
       "      <th>d_identity</th>\n",
       "      <th>j_identity</th>\n",
       "      <th>v_sequence_start</th>\n",
       "      <th>v_sequence_end</th>\n",
       "      <th>v_germline_start</th>\n",
       "      <th>v_germline_end</th>\n",
       "      <th>d_sequence_start</th>\n",
       "      <th>d_sequence_end</th>\n",
       "      <th>d_germline_start</th>\n",
       "      <th>d_germline_end</th>\n",
       "      <th>j_sequence_start</th>\n",
       "      <th>j_sequence_end</th>\n",
       "      <th>j_germline_start</th>\n",
       "      <th>j_germline_end</th>\n",
       "      <th>fwr1_start</th>\n",
       "      <th>fwr1_end</th>\n",
       "      <th>cdr1_start</th>\n",
       "      <th>cdr1_end</th>\n",
       "      <th>fwr2_start</th>\n",
       "      <th>fwr2_end</th>\n",
       "      <th>cdr2_start</th>\n",
       "      <th>cdr2_end</th>\n",
       "      <th>fwr3_start</th>\n",
       "      <th>fwr3_end</th>\n",
       "      <th>fwr4_start</th>\n",
       "      <th>fwr4_end</th>\n",
       "      <th>cdr3_start</th>\n",
       "      <th>cdr3_end</th>\n",
       "      <th>np1</th>\n",
       "      <th>np1_length</th>\n",
       "      <th>np2</th>\n",
       "      <th>np2_length</th>\n",
       "      <th>note</th>\n",
       "      <th>vdj_nt</th>\n",
       "      <th>vdj_aa</th>\n",
       "    </tr>\n",
       "  </thead>\n",
       "  <tbody>\n",
       "    <tr>\n",
       "      <th>0</th>\n",
       "      <td>test</td>\n",
       "      <td>GACATCCAGATGACCCAGTCTCCATCCTCCCTGTCTGCATCTGTAG...</td>\n",
       "      <td>human</td>\n",
       "      <td>IGK</td>\n",
       "      <td>False</td>\n",
       "      <td>True</td>\n",
       "      <td>False</td>\n",
       "      <td>True</td>\n",
       "      <td>False</td>\n",
       "      <td>True</td>\n",
       "      <td>IGKV1-33*01</td>\n",
       "      <td>IGKV1-33*01,IGKV1D-33*01</td>\n",
       "      <td>NaN</td>\n",
       "      <td>NaN</td>\n",
       "      <td>IGKJ4*01</td>\n",
       "      <td>IGKJ4*01,IGKJ4*02</td>\n",
       "      <td>GACATCCAGATGACCCAGTCTCCATCCTCCCTGTCTGCATCTGTAG...</td>\n",
       "      <td>GACATCCAGATGACCCAGTCTCCATCCTCCCTGTCTGCATCTGTAG...</td>\n",
       "      <td>DIQMTQSPSSLSASVGDRVTITCQASQDISNYLNWYQQKPGKAPKL...</td>\n",
       "      <td>DIQMTQSPSSLSASVGDRVTITCQASQDISNYLNWYQQKPGKAPKL...</td>\n",
       "      <td>1</td>\n",
       "      <td>282</td>\n",
       "      <td>&lt;NA&gt;</td>\n",
       "      <td>&lt;NA&gt;</td>\n",
       "      <td>283</td>\n",
       "      <td>310</td>\n",
       "      <td>GACATCCAGATGACCCAGTCTCCATCCTCCCTGTCTGCATCTGTAG...</td>\n",
       "      <td>DIQMTQSPSSLSASVGDRVTITCQASQDISNYLNWYQQKPGKAPKL...</td>\n",
       "      <td>GACATCCAGATGACCCAGTCTCCATCCTCCCTGTCTGCATCTGTAG...</td>\n",
       "      <td>DIQMTQSPSSLSASVGDRVTITCQASQDISNYLNWYQQKPGKAPKL...</td>\n",
       "      <td>NaN</td>\n",
       "      <td>NaN</td>\n",
       "      <td>NaN</td>\n",
       "      <td>NaN</td>\n",
       "      <td>GGCGGAGGGACCAAGGTGGACATCAAAC</td>\n",
       "      <td>GGGTKVDIK</td>\n",
       "      <td>GGCGGAGGGACCAAGGTGGAGATCAAAC</td>\n",
       "      <td>GGGTKVEIK</td>\n",
       "      <td>GACATCCAGATGACCCAGTCTCCATCCTCCCTGTCTGCATCTGTAG...</td>\n",
       "      <td>DIQMTQSPSSLSASVGDRVTITCQAS</td>\n",
       "      <td>CAGGACATTAGCAACTAT</td>\n",
       "      <td>QDISNY</td>\n",
       "      <td>TTAAATTGGTATCAGCAGAAACCAGGGAAAGCCCCTAAGCTCCTGA...</td>\n",
       "      <td>LNWYQQKPGKAPKLLIY</td>\n",
       "      <td>GATGCATCC</td>\n",
       "      <td>DAS</td>\n",
       "      <td>AATTTGGAAACAGGGGTCCCATCAAGGTTCAGTGGAAGTGGATCTG...</td>\n",
       "      <td>NLETGVPSRFSGSGSGTDFTFTISSLQPEDIATYYC</td>\n",
       "      <td>NaN</td>\n",
       "      <td>NaN</td>\n",
       "      <td>NaN</td>\n",
       "      <td>NaN</td>\n",
       "      <td>NaN</td>\n",
       "      <td>&lt;NA&gt;</td>\n",
       "      <td>NaN</td>\n",
       "      <td>&lt;NA&gt;</td>\n",
       "      <td>438.0</td>\n",
       "      <td>NaN</td>\n",
       "      <td>48.75</td>\n",
       "      <td>282M28S5N</td>\n",
       "      <td>NaN</td>\n",
       "      <td>282S10N28M</td>\n",
       "      <td>5.992000e-125</td>\n",
       "      <td>NaN</td>\n",
       "      <td>6.987000e-10</td>\n",
       "      <td>99.625</td>\n",
       "      <td>NaN</td>\n",
       "      <td>96.4375</td>\n",
       "      <td>1</td>\n",
       "      <td>282</td>\n",
       "      <td>1</td>\n",
       "      <td>282</td>\n",
       "      <td>&lt;NA&gt;</td>\n",
       "      <td>&lt;NA&gt;</td>\n",
       "      <td>NaN</td>\n",
       "      <td>NaN</td>\n",
       "      <td>283</td>\n",
       "      <td>310</td>\n",
       "      <td>11</td>\n",
       "      <td>38</td>\n",
       "      <td>1</td>\n",
       "      <td>78</td>\n",
       "      <td>79</td>\n",
       "      <td>96</td>\n",
       "      <td>97</td>\n",
       "      <td>147</td>\n",
       "      <td>148</td>\n",
       "      <td>156</td>\n",
       "      <td>157</td>\n",
       "      <td>264</td>\n",
       "      <td>&lt;NA&gt;</td>\n",
       "      <td>&lt;NA&gt;</td>\n",
       "      <td>&lt;NA&gt;</td>\n",
       "      <td>&lt;NA&gt;</td>\n",
       "      <td>NaN</td>\n",
       "      <td>0</td>\n",
       "      <td>NaN</td>\n",
       "      <td>&lt;NA&gt;</td>\n",
       "      <td>potential broken</td>\n",
       "      <td>GACATCCAGATGACCCAGTCTCCATCCTCCCTGTCTGCATCTGTAG...</td>\n",
       "      <td>DIQMTQSPSSLSASVGDRVTITCQASQDISNYLNWYQQKPGKAPKL...</td>\n",
       "    </tr>\n",
       "  </tbody>\n",
       "</table>\n",
       "</div>"
      ],
      "text/plain": [
       "  sequence_id                                           sequence species locus  stop_codon  vj_in_frame  v_frameshift  productive  rev_comp  complete_vdj   v_call_top                    v_call d_call_top d_call j_call_top             j_call                                 sequence_alignment                                 germline_alignment                              sequence_alignment_aa                              germline_alignment_aa  v_alignment_start  v_alignment_end  d_alignment_start  d_alignment_end  j_alignment_start  j_alignment_end                               v_sequence_alignment                            v_sequence_alignment_aa                               v_germline_alignment                            v_germline_alignment_aa d_sequence_alignment d_sequence_alignment_aa d_germline_alignment d_germline_alignment_aa          j_sequence_alignment j_sequence_alignment_aa          j_germline_alignment j_germline_alignment_aa                                               fwr1                     fwr1_aa                cdr1 cdr1_aa                                               fwr2            fwr2_aa       cdr2 cdr2_aa                                               fwr3                               fwr3_aa fwr4 fwr4_aa cdr3 cdr3_aa junction  junction_length junction_aa  junction_aa_length  v_score  d_score  j_score    v_cigar d_cigar     j_cigar      v_support  d_support     j_support  v_identity  d_identity  j_identity  v_sequence_start  v_sequence_end  v_germline_start  v_germline_end  d_sequence_start  d_sequence_end  d_germline_start  d_germline_end  j_sequence_start  j_sequence_end  j_germline_start  j_germline_end  fwr1_start  fwr1_end  cdr1_start  cdr1_end  fwr2_start  fwr2_end  cdr2_start  cdr2_end  fwr3_start  fwr3_end  fwr4_start  fwr4_end  cdr3_start  cdr3_end  np1  np1_length  np2  np2_length              note                                             vdj_nt                                             vdj_aa\n",
       "0        test  GACATCCAGATGACCCAGTCTCCATCCTCCCTGTCTGCATCTGTAG...   human   IGK       False         True         False        True     False          True  IGKV1-33*01  IGKV1-33*01,IGKV1D-33*01        NaN    NaN   IGKJ4*01  IGKJ4*01,IGKJ4*02  GACATCCAGATGACCCAGTCTCCATCCTCCCTGTCTGCATCTGTAG...  GACATCCAGATGACCCAGTCTCCATCCTCCCTGTCTGCATCTGTAG...  DIQMTQSPSSLSASVGDRVTITCQASQDISNYLNWYQQKPGKAPKL...  DIQMTQSPSSLSASVGDRVTITCQASQDISNYLNWYQQKPGKAPKL...                  1              282               <NA>             <NA>                283              310  GACATCCAGATGACCCAGTCTCCATCCTCCCTGTCTGCATCTGTAG...  DIQMTQSPSSLSASVGDRVTITCQASQDISNYLNWYQQKPGKAPKL...  GACATCCAGATGACCCAGTCTCCATCCTCCCTGTCTGCATCTGTAG...  DIQMTQSPSSLSASVGDRVTITCQASQDISNYLNWYQQKPGKAPKL...                  NaN                     NaN                  NaN                     NaN  GGCGGAGGGACCAAGGTGGACATCAAAC               GGGTKVDIK  GGCGGAGGGACCAAGGTGGAGATCAAAC               GGGTKVEIK  GACATCCAGATGACCCAGTCTCCATCCTCCCTGTCTGCATCTGTAG...  DIQMTQSPSSLSASVGDRVTITCQAS  CAGGACATTAGCAACTAT  QDISNY  TTAAATTGGTATCAGCAGAAACCAGGGAAAGCCCCTAAGCTCCTGA...  LNWYQQKPGKAPKLLIY  GATGCATCC     DAS  AATTTGGAAACAGGGGTCCCATCAAGGTTCAGTGGAAGTGGATCTG...  NLETGVPSRFSGSGSGTDFTFTISSLQPEDIATYYC  NaN     NaN  NaN     NaN      NaN             <NA>         NaN                <NA>    438.0      NaN    48.75  282M28S5N     NaN  282S10N28M  5.992000e-125        NaN  6.987000e-10      99.625         NaN     96.4375                 1             282                 1             282              <NA>            <NA>               NaN             NaN               283             310                11              38           1        78          79        96          97       147         148       156         157       264        <NA>      <NA>        <NA>      <NA>  NaN           0  NaN        <NA>  potential broken  GACATCCAGATGACCCAGTCTCCATCCTCCCTGTCTGCATCTGTAG...  DIQMTQSPSSLSASVGDRVTITCQASQDISNYLNWYQQKPGKAPKL..."
      ]
     },
     "execution_count": 242,
     "metadata": {},
     "output_type": "execute_result"
    }
   ],
   "source": [
    "airr_api = Airr(species=\"human\", database=\"imgt\", functional=\"all\")\n",
    "airr_api.igblast.v_penalty = -1\n",
    "airr_api.igblast.j_penalty = -2\n",
    "airr_api.run_single(\n",
    "    \"test\",\n",
    "    \"GACATCCAGATGACCCAGTCTCCATCCTCCCTGTCTGCATCTGTAGGAGACAGAGTCACCATCACTTGCCAGGCGAGTCAGGACATTAGCAACTATTTAAATTGGTATCAGCAGAAACCAGGGAAAGCCCCTAAGCTCCTGATCTACGATGCATCCAATTTGGAAACAGGGGTCCCATCAAGGTTCAGTGGAAGTGGATCTGGGACAGATTTTACTTTCACCATCAGCAGCCTGCAGCCTGAAGATATTGCAACATATTACTGTCAACAGTATGATAATTTCGGCGGAGGGACCAAGGTGGACATCAAAC\",\n",
    ")"
   ]
  },
  {
   "cell_type": "code",
   "execution_count": 38,
   "metadata": {},
   "outputs": [],
   "source": [
    "sadie_airr_good_anarci = airr_api.run_file(sub_sample_file_good_anarci)\n",
    "sadie_comparable = make_sadie_comparable(sadie_airr_good_anarci)"
   ]
  },
  {
   "cell_type": "markdown",
   "metadata": {},
   "source": [
    "#### IMGT HiVquest for the same FASTA\n",
    "\n",
    "We have to run this at their website"
   ]
  },
  {
   "cell_type": "code",
   "execution_count": 110,
   "metadata": {},
   "outputs": [],
   "source": [
    "imgt_airr = (\n",
    "    \"../../tests/integration/airr/fixtures/OAS_airr_from_imgtvquest_fl_anarci_good.tsv\"\n",
    ")\n",
    "imgt_df = pd.read_csv(imgt_airr, delimiter=\"\\t\", low_memory=False)\n",
    "imgt_comparable = make_imgt_comparable(imgt_df)"
   ]
  },
  {
   "cell_type": "markdown",
   "metadata": {},
   "source": [
    "#### Dump to feather just incase we get DC'd"
   ]
  },
  {
   "cell_type": "code",
   "execution_count": 111,
   "metadata": {},
   "outputs": [],
   "source": [
    "sadie_comparable.to_feather(\"sadie_compariable_good.feather\")\n",
    "imgt_comparable.to_feather(\"imgt_compariable_good.feather\")"
   ]
  },
  {
   "cell_type": "markdown",
   "metadata": {},
   "source": [
    "# Compare"
   ]
  },
  {
   "cell_type": "markdown",
   "metadata": {},
   "source": [
    "#### Reload Comparison"
   ]
  },
  {
   "cell_type": "code",
   "execution_count": 112,
   "metadata": {},
   "outputs": [],
   "source": [
    "sadie_comparable = pd.read_feather(\"sadie_compariable_good.feather\")\n",
    "imgt_comparable = pd.read_feather(\"imgt_compariable_good.feather\")"
   ]
  },
  {
   "cell_type": "code",
   "execution_count": 113,
   "metadata": {},
   "outputs": [],
   "source": [
    "# The fields we can compare\n",
    "check_these = [\n",
    "    \"sequence\",\n",
    "    \"locus\",\n",
    "    \"stop_codon\",\n",
    "    \"vj_in_frame\",\n",
    "    \"productive\",\n",
    "    \"rev_comp\",\n",
    "    \"complete_vdj\",\n",
    "    \"v_call\",\n",
    "    \"v_call_top\",\n",
    "    \"v_gene_top\",\n",
    "    \"d_call_top\",\n",
    "    \"d_gene_top\",\n",
    "    \"j_call_top\",\n",
    "    \"j_gene_top\",\n",
    "    \"fwr1\",\n",
    "    \"cdr1\",\n",
    "    \"fwr2\",\n",
    "    \"cdr2\",\n",
    "    \"fwr3\",\n",
    "    \"cdr3\",\n",
    "    \"fwr1_aa\",\n",
    "    \"cdr1_aa\",\n",
    "    \"fwr2_aa\",\n",
    "    \"cdr2_aa\",\n",
    "    \"fwr3_aa\",\n",
    "    \"cdr3_aa\",\n",
    "    \"fwr4_aa\",\n",
    "]"
   ]
  },
  {
   "cell_type": "markdown",
   "metadata": {},
   "source": [
    "### Stop Codon Corrections\n",
    "\n",
    "\n",
    "This is where the imgt did not agree with the sadie on stop codon"
   ]
  },
  {
   "cell_type": "code",
   "execution_count": 231,
   "metadata": {},
   "outputs": [],
   "source": [
    "def comparable(compare_field):\n",
    "    compare = imgt_comparable[check_these] == sadie_comparable[check_these]\n",
    "    disagreements_index = compare[~compare[compare_field]].index\n",
    "\n",
    "    disagree_imgt = imgt_comparable.loc[disagreements_index]\n",
    "    disagree_sadie = sadie_comparable.loc[disagreements_index]\n",
    "\n",
    "    def render_ab_object(row):\n",
    "        # print(row['v_call_top'],row['j_call_top'],row['fwr1'],row['cdr1'],row['fwr2'],row['cdr2'],row['fwr3'],row['cdr3'],row['fwr4'],'\\n')\n",
    "        return AntibodyChainNT(\n",
    "            name=row[\"sequence_id\"],\n",
    "            fwr1_nt=row[\"fwr1\"],\n",
    "            cdr1_nt=row[\"cdr1\"],\n",
    "            fwr2_nt=row[\"fwr2\"],\n",
    "            cdr2_nt=row[\"cdr2\"],\n",
    "            fwr3_nt=row[\"fwr3\"],\n",
    "            cdr3_nt=row[\"cdr3\"],\n",
    "            fwr4_nt=row[\"fwr4\"],\n",
    "            v_gene=row[\"v_call_top\"],\n",
    "            j_gene=row[\"j_call_top\"],\n",
    "            species=\"human\",\n",
    "        )\n",
    "\n",
    "    print(f\"{len(disagreements_index)} disagreements\")\n",
    "    imgt_df_index = imgt_df.set_index(\"sequence_id\")\n",
    "    for i in disagreements_index:\n",
    "        rendered_string = \"\"\n",
    "        imgt_row = imgt_comparable.loc[i].fillna(\"\")\n",
    "        if imgt_row[\"sequence_id\"] in list(\n",
    "            map(\n",
    "                lambda x: x[\"sequence_id\"],\n",
    "                json.load(\n",
    "                    open(\"../../tests/integration/airr/fixtures/imgt_exceptions.json\")\n",
    "                ),\n",
    "            )\n",
    "        ):\n",
    "            print(imgt_row[\"sequence_id\"], \"accounted for\")\n",
    "            continue\n",
    "        insertions = imgt_df_index.loc[imgt_row[\"sequence_id\"], \"insertions\"]\n",
    "        deletions = imgt_df_index.loc[imgt_row[\"sequence_id\"], \"deletions\"]\n",
    "\n",
    "        if isinstance(insertions, str):\n",
    "            if compare_field.upper() in insertions:\n",
    "                print(\"insertion not accounted for\")\n",
    "                continue\n",
    "        #         print(\"insertions\", insertions)\n",
    "        #         print(\"deletions\", deletions)\n",
    "        imgt_object = render_ab_object(imgt_row)\n",
    "        saide_row = sadie_comparable.loc[i].fillna(\"\")\n",
    "        sadie_object = render_ab_object(saide_row)\n",
    "        rendered_string += f\"IMGT\\n{imgt_object.get_segmented_alignment_nt()}\"\n",
    "        rendered_string += f\"SADIE\\n{sadie_object.get_segmented_alignment_nt()}\"\n",
    "        rendered_string += f\"IMGT\\n{imgt_object.get_segmented_alignment_aa()}\"\n",
    "        rendered_string += f\"SADIE\\n{sadie_object.get_segmented_alignment_aa()}\"\n",
    "\n",
    "        print(saide_row[\"sequence_id\"])\n",
    "        print(imgt_row[\"sequence_id\"])\n",
    "        print(imgt_row[compare_field])\n",
    "        print(saide_row[compare_field])\n",
    "\n",
    "        print(saide_row[\"sequence\"])\n",
    "        print(rendered_string)\n",
    "        input()\n",
    "        clear_output()\n",
    "\n",
    "\n",
    "comparable(\"vj_in_frame\")"
   ]
  },
  {
   "cell_type": "code",
   "execution_count": 222,
   "metadata": {},
   "outputs": [
    {
     "data": {
      "text/plain": [
       "False"
      ]
     },
     "execution_count": 222,
     "metadata": {},
     "output_type": "execute_result"
    }
   ],
   "source": [
    "sadie_comparable.set_index(\"sequence_id\").loc[\n",
    "    \"150_Donor03+IGH-Clonotypes_igblastn_anarci_Heavy_Bulk_8491608\", \"complete_vdj\"\n",
    "]"
   ]
  },
  {
   "cell_type": "code",
   "execution_count": 223,
   "metadata": {},
   "outputs": [
    {
     "data": {
      "text/plain": [
       "'T'"
      ]
     },
     "execution_count": 223,
     "metadata": {},
     "output_type": "execute_result"
    }
   ],
   "source": [
    "imgt_df.set_index(\"sequence_id\").loc[\n",
    "    \"3795_Donor03+IGH-Clonotypes_igblastn_anarci_Heavy_\", \"complete_vdj\"\n",
    "]"
   ]
  },
  {
   "cell_type": "code",
   "execution_count": 163,
   "metadata": {},
   "outputs": [],
   "source": [
    "spread.df_to_sheet(\n",
    "    imgt_df.set_index(\"sequence_id\")\n",
    "    .loc[\n",
    "        \"456_Donor02+IGH-Clonotypes_igblastn_anarci_Heavy_B\",\n",
    "    ]\n",
    "    .to_frame()\n",
    ")"
   ]
  },
  {
   "cell_type": "code",
   "execution_count": 135,
   "metadata": {},
   "outputs": [
    {
     "data": {
      "text/plain": [
       "'CAGGTGCAACTGGTGGCGTCTGGGGGAGGCGTGGTCCGGCCTGGGAGGTCCCTGAGACTCTCCTGTGCAGCCTCT'"
      ]
     },
     "execution_count": 135,
     "metadata": {},
     "output_type": "execute_result"
    }
   ],
   "source": [
    "\"CAGGTGCAACTGGTGGCGTCTGGGGGAGGCGTGGTCCGGCCTGGGAGGTCCCTGAGACTCTCCTGTGCAGCCTCT\""
   ]
  },
  {
   "cell_type": "code",
   "execution_count": 218,
   "metadata": {},
   "outputs": [
    {
     "data": {
      "text/html": [
       "<div>\n",
       "<style scoped>\n",
       "    .dataframe tbody tr th:only-of-type {\n",
       "        vertical-align: middle;\n",
       "    }\n",
       "\n",
       "    .dataframe tbody tr th {\n",
       "        vertical-align: top;\n",
       "    }\n",
       "\n",
       "    .dataframe thead th {\n",
       "        text-align: right;\n",
       "    }\n",
       "</style>\n",
       "<table border=\"1\" class=\"dataframe\">\n",
       "  <thead>\n",
       "    <tr style=\"text-align: right;\">\n",
       "      <th></th>\n",
       "      <th>sequence_id</th>\n",
       "      <th>sequence</th>\n",
       "      <th>species</th>\n",
       "      <th>locus</th>\n",
       "      <th>stop_codon</th>\n",
       "      <th>vj_in_frame</th>\n",
       "      <th>v_frameshift</th>\n",
       "      <th>productive</th>\n",
       "      <th>rev_comp</th>\n",
       "      <th>complete_vdj</th>\n",
       "      <th>v_call_top</th>\n",
       "      <th>v_call</th>\n",
       "      <th>d_call_top</th>\n",
       "      <th>d_call</th>\n",
       "      <th>j_call_top</th>\n",
       "      <th>j_call</th>\n",
       "      <th>sequence_alignment</th>\n",
       "      <th>germline_alignment</th>\n",
       "      <th>sequence_alignment_aa</th>\n",
       "      <th>germline_alignment_aa</th>\n",
       "      <th>v_alignment_start</th>\n",
       "      <th>v_alignment_end</th>\n",
       "      <th>d_alignment_start</th>\n",
       "      <th>d_alignment_end</th>\n",
       "      <th>j_alignment_start</th>\n",
       "      <th>j_alignment_end</th>\n",
       "      <th>v_sequence_alignment</th>\n",
       "      <th>v_sequence_alignment_aa</th>\n",
       "      <th>v_germline_alignment</th>\n",
       "      <th>v_germline_alignment_aa</th>\n",
       "      <th>d_sequence_alignment</th>\n",
       "      <th>d_sequence_alignment_aa</th>\n",
       "      <th>d_germline_alignment</th>\n",
       "      <th>d_germline_alignment_aa</th>\n",
       "      <th>j_sequence_alignment</th>\n",
       "      <th>j_sequence_alignment_aa</th>\n",
       "      <th>j_germline_alignment</th>\n",
       "      <th>j_germline_alignment_aa</th>\n",
       "      <th>fwr1</th>\n",
       "      <th>fwr1_aa</th>\n",
       "      <th>cdr1</th>\n",
       "      <th>cdr1_aa</th>\n",
       "      <th>fwr2</th>\n",
       "      <th>fwr2_aa</th>\n",
       "      <th>cdr2</th>\n",
       "      <th>cdr2_aa</th>\n",
       "      <th>fwr3</th>\n",
       "      <th>fwr3_aa</th>\n",
       "      <th>fwr4</th>\n",
       "      <th>fwr4_aa</th>\n",
       "      <th>cdr3</th>\n",
       "      <th>cdr3_aa</th>\n",
       "      <th>junction</th>\n",
       "      <th>junction_length</th>\n",
       "      <th>junction_aa</th>\n",
       "      <th>junction_aa_length</th>\n",
       "      <th>v_score</th>\n",
       "      <th>d_score</th>\n",
       "      <th>j_score</th>\n",
       "      <th>v_cigar</th>\n",
       "      <th>d_cigar</th>\n",
       "      <th>j_cigar</th>\n",
       "      <th>v_support</th>\n",
       "      <th>d_support</th>\n",
       "      <th>j_support</th>\n",
       "      <th>v_identity</th>\n",
       "      <th>d_identity</th>\n",
       "      <th>j_identity</th>\n",
       "      <th>v_sequence_start</th>\n",
       "      <th>v_sequence_end</th>\n",
       "      <th>v_germline_start</th>\n",
       "      <th>v_germline_end</th>\n",
       "      <th>d_sequence_start</th>\n",
       "      <th>d_sequence_end</th>\n",
       "      <th>d_germline_start</th>\n",
       "      <th>d_germline_end</th>\n",
       "      <th>j_sequence_start</th>\n",
       "      <th>j_sequence_end</th>\n",
       "      <th>j_germline_start</th>\n",
       "      <th>j_germline_end</th>\n",
       "      <th>fwr1_start</th>\n",
       "      <th>fwr1_end</th>\n",
       "      <th>cdr1_start</th>\n",
       "      <th>cdr1_end</th>\n",
       "      <th>fwr2_start</th>\n",
       "      <th>fwr2_end</th>\n",
       "      <th>cdr2_start</th>\n",
       "      <th>cdr2_end</th>\n",
       "      <th>fwr3_start</th>\n",
       "      <th>fwr3_end</th>\n",
       "      <th>fwr4_start</th>\n",
       "      <th>fwr4_end</th>\n",
       "      <th>cdr3_start</th>\n",
       "      <th>cdr3_end</th>\n",
       "      <th>np1</th>\n",
       "      <th>np1_length</th>\n",
       "      <th>np2</th>\n",
       "      <th>np2_length</th>\n",
       "      <th>vdj_nt</th>\n",
       "      <th>vdj_aa</th>\n",
       "    </tr>\n",
       "  </thead>\n",
       "  <tbody>\n",
       "    <tr>\n",
       "      <th>0</th>\n",
       "      <td>test</td>\n",
       "      <td>GATCCTCTTCTCATAGTGCCTCCATCAGAGCATGGCTGTCCTGGTG...</td>\n",
       "      <td>human</td>\n",
       "      <td>IGH</td>\n",
       "      <td>False</td>\n",
       "      <td>True</td>\n",
       "      <td>False</td>\n",
       "      <td>True</td>\n",
       "      <td>False</td>\n",
       "      <td>True</td>\n",
       "      <td>IGHV3-30*18</td>\n",
       "      <td>IGHV3-30*18,IGHV3-30-5*01,IGHV3-33*06</td>\n",
       "      <td>IGHD3-10*01</td>\n",
       "      <td>IGHD3-10*01,IGHD5-18*01,IGHD5-5*01</td>\n",
       "      <td>IGHJ6*03</td>\n",
       "      <td>IGHJ6*03</td>\n",
       "      <td>CAGGTGCAGCTGAAGCAGTCAGGACCTGGCCTAGTGCTGCCCTCAC...</td>\n",
       "      <td>CAGGTGCAGCTGGTGGAGTCTGGGGGAGGCGTGGTCCAGCCTGGGA...</td>\n",
       "      <td>QVQLKQSGPGLVLPSQSLSITCTVSGVSLSDYGVHWVRQSPGKGLE...</td>\n",
       "      <td>QVQLVESGGGVVQPGRSLRLSCAASGFTFSSYGMHWVRQAPGKGLE...</td>\n",
       "      <td>1</td>\n",
       "      <td>297</td>\n",
       "      <td>302</td>\n",
       "      <td>311</td>\n",
       "      <td>319</td>\n",
       "      <td>370</td>\n",
       "      <td>CAGGTGCAGCTGAAGCAGTCAGGACCTGGCCTAGTGCTGCCCTCAC...</td>\n",
       "      <td>QVQLKQSGPGLVLPSQSLSITCTVSGVSLSDYGVHWVRQSPGKGLE...</td>\n",
       "      <td>CAGGTGCAGCTGGTGGAGTCTGGGGGAGGCGTGGTCCAGCCTGGGA...</td>\n",
       "      <td>QVQLVESGGGVVQPGRSLRLSCAASGFTFSSYGMHWVRQAPGKGLE...</td>\n",
       "      <td>TACTATAGTT</td>\n",
       "      <td>YYS</td>\n",
       "      <td>TACTATGGTT</td>\n",
       "      <td>YYG</td>\n",
       "      <td>CTACTTCTACTTCGATGTCTGGGGCACAGGGACCACGGTCACCGTC...</td>\n",
       "      <td>YFYFDVWGTGTTVTVSS</td>\n",
       "      <td>CTACTACTACATGGACGTCTGGGGCAAAGGGACCACGGTCACCGTC...</td>\n",
       "      <td>YYYMDVWGKGTTVTVSS</td>\n",
       "      <td>CAGGTGCAGCTGAAGCAGTCAGGACCTGGCCTAGTGCTGCCCTCAC...</td>\n",
       "      <td>QVQLKQSGPGLVLPSQSLSITCTVS</td>\n",
       "      <td>GGCGTCTCATTAAGTGACTATGGT</td>\n",
       "      <td>GVSLSDYG</td>\n",
       "      <td>GTCCACTGGGTTCGCCAGTCTCCAGGAAAGGGCCTGGAGTGGCTGG...</td>\n",
       "      <td>VHWVRQSPGKGLEWLGV</td>\n",
       "      <td>ATATGGAGAGGTGGAGGCACAGAC</td>\n",
       "      <td>IWRGGGTD</td>\n",
       "      <td>TACAGTGCAGCTTTCATGTCCAGAATGAGGCTCACCAAGGACAATT...</td>\n",
       "      <td>YSAAFMSRMRLTKDNSKSQVFFELNRLHDDDTAVYYC</td>\n",
       "      <td>TGGGGCACAGGGACCACGGTCACCGTCTCCTCA</td>\n",
       "      <td>WGTGTTVTVSS</td>\n",
       "      <td>ATCAAAGAAACCTACTATAGTTACGAGAGCTACTTCTACTTCGATGTC</td>\n",
       "      <td>IKETYYSYESYFYFDV</td>\n",
       "      <td>TGTATCAAAGAAACCTACTATAGTTACGAGAGCTACTTCTACTTCG...</td>\n",
       "      <td>54</td>\n",
       "      <td>CIKETYYSYESYFYFDVW</td>\n",
       "      <td>18</td>\n",
       "      <td>131.125</td>\n",
       "      <td>14.148438</td>\n",
       "      <td>71.8125</td>\n",
       "      <td>88S184M3D42M1I14M1D52M102S</td>\n",
       "      <td>385S4N10M88S17N</td>\n",
       "      <td>402S10N52M29S</td>\n",
       "      <td>2.417000e-32</td>\n",
       "      <td>16.44</td>\n",
       "      <td>1.210000e-16</td>\n",
       "      <td>66.0</td>\n",
       "      <td>90.0</td>\n",
       "      <td>90.375</td>\n",
       "      <td>89</td>\n",
       "      <td>381</td>\n",
       "      <td>1</td>\n",
       "      <td>296</td>\n",
       "      <td>386</td>\n",
       "      <td>395</td>\n",
       "      <td>5.0</td>\n",
       "      <td>14.0</td>\n",
       "      <td>403</td>\n",
       "      <td>454</td>\n",
       "      <td>11</td>\n",
       "      <td>62</td>\n",
       "      <td>89</td>\n",
       "      <td>163</td>\n",
       "      <td>164</td>\n",
       "      <td>187</td>\n",
       "      <td>188</td>\n",
       "      <td>238</td>\n",
       "      <td>239</td>\n",
       "      <td>262</td>\n",
       "      <td>263</td>\n",
       "      <td>373</td>\n",
       "      <td>422</td>\n",
       "      <td>454</td>\n",
       "      <td>374</td>\n",
       "      <td>421</td>\n",
       "      <td>AACC</td>\n",
       "      <td>4</td>\n",
       "      <td>ACGAGAG</td>\n",
       "      <td>7</td>\n",
       "      <td>CAGGTGCAGCTGAAGCAGTCAGGACCTGGCCTAGTGCTGCCCTCAC...</td>\n",
       "      <td>QVQLKQSGPGLVLPSQSLSITCTVSGVSLSDYGVHWVRQSPGKGLE...</td>\n",
       "    </tr>\n",
       "  </tbody>\n",
       "</table>\n",
       "</div>"
      ],
      "text/plain": [
       "  sequence_id                                           sequence species locus  stop_codon  vj_in_frame  v_frameshift  productive  rev_comp  complete_vdj   v_call_top                                 v_call   d_call_top                              d_call j_call_top    j_call                                 sequence_alignment                                 germline_alignment                              sequence_alignment_aa                              germline_alignment_aa  v_alignment_start  v_alignment_end  d_alignment_start  d_alignment_end  j_alignment_start  j_alignment_end                               v_sequence_alignment                            v_sequence_alignment_aa                               v_germline_alignment                            v_germline_alignment_aa d_sequence_alignment d_sequence_alignment_aa d_germline_alignment d_germline_alignment_aa                               j_sequence_alignment j_sequence_alignment_aa                               j_germline_alignment j_germline_alignment_aa                                               fwr1                    fwr1_aa                      cdr1   cdr1_aa                                               fwr2            fwr2_aa                      cdr2   cdr2_aa                                               fwr3                                fwr3_aa                               fwr4      fwr4_aa                                              cdr3           cdr3_aa                                           junction  junction_length         junction_aa  junction_aa_length  v_score    d_score  j_score                     v_cigar          d_cigar        j_cigar     v_support  d_support     j_support  v_identity  d_identity  j_identity  v_sequence_start  v_sequence_end  v_germline_start  v_germline_end  d_sequence_start  d_sequence_end  d_germline_start  d_germline_end  j_sequence_start  j_sequence_end  j_germline_start  j_germline_end  fwr1_start  fwr1_end  cdr1_start  cdr1_end  fwr2_start  fwr2_end  cdr2_start  cdr2_end  fwr3_start  fwr3_end  fwr4_start  fwr4_end  cdr3_start  cdr3_end   np1  np1_length      np2  np2_length                                             vdj_nt                                             vdj_aa\n",
       "0        test  GATCCTCTTCTCATAGTGCCTCCATCAGAGCATGGCTGTCCTGGTG...   human   IGH       False         True         False        True     False          True  IGHV3-30*18  IGHV3-30*18,IGHV3-30-5*01,IGHV3-33*06  IGHD3-10*01  IGHD3-10*01,IGHD5-18*01,IGHD5-5*01   IGHJ6*03  IGHJ6*03  CAGGTGCAGCTGAAGCAGTCAGGACCTGGCCTAGTGCTGCCCTCAC...  CAGGTGCAGCTGGTGGAGTCTGGGGGAGGCGTGGTCCAGCCTGGGA...  QVQLKQSGPGLVLPSQSLSITCTVSGVSLSDYGVHWVRQSPGKGLE...  QVQLVESGGGVVQPGRSLRLSCAASGFTFSSYGMHWVRQAPGKGLE...                  1              297                302              311                319              370  CAGGTGCAGCTGAAGCAGTCAGGACCTGGCCTAGTGCTGCCCTCAC...  QVQLKQSGPGLVLPSQSLSITCTVSGVSLSDYGVHWVRQSPGKGLE...  CAGGTGCAGCTGGTGGAGTCTGGGGGAGGCGTGGTCCAGCCTGGGA...  QVQLVESGGGVVQPGRSLRLSCAASGFTFSSYGMHWVRQAPGKGLE...           TACTATAGTT                     YYS           TACTATGGTT                     YYG  CTACTTCTACTTCGATGTCTGGGGCACAGGGACCACGGTCACCGTC...       YFYFDVWGTGTTVTVSS  CTACTACTACATGGACGTCTGGGGCAAAGGGACCACGGTCACCGTC...       YYYMDVWGKGTTVTVSS  CAGGTGCAGCTGAAGCAGTCAGGACCTGGCCTAGTGCTGCCCTCAC...  QVQLKQSGPGLVLPSQSLSITCTVS  GGCGTCTCATTAAGTGACTATGGT  GVSLSDYG  GTCCACTGGGTTCGCCAGTCTCCAGGAAAGGGCCTGGAGTGGCTGG...  VHWVRQSPGKGLEWLGV  ATATGGAGAGGTGGAGGCACAGAC  IWRGGGTD  TACAGTGCAGCTTTCATGTCCAGAATGAGGCTCACCAAGGACAATT...  YSAAFMSRMRLTKDNSKSQVFFELNRLHDDDTAVYYC  TGGGGCACAGGGACCACGGTCACCGTCTCCTCA  WGTGTTVTVSS  ATCAAAGAAACCTACTATAGTTACGAGAGCTACTTCTACTTCGATGTC  IKETYYSYESYFYFDV  TGTATCAAAGAAACCTACTATAGTTACGAGAGCTACTTCTACTTCG...               54  CIKETYYSYESYFYFDVW                  18  131.125  14.148438  71.8125  88S184M3D42M1I14M1D52M102S  385S4N10M88S17N  402S10N52M29S  2.417000e-32      16.44  1.210000e-16        66.0        90.0      90.375                89             381                 1             296               386             395               5.0            14.0               403             454                11              62          89       163         164       187         188       238         239       262         263       373         422       454         374       421  AACC           4  ACGAGAG           7  CAGGTGCAGCTGAAGCAGTCAGGACCTGGCCTAGTGCTGCCCTCAC...  QVQLKQSGPGLVLPSQSLSITCTVSGVSLSDYGVHWVRQSPGKGLE..."
      ]
     },
     "execution_count": 218,
     "metadata": {},
     "output_type": "execute_result"
    }
   ],
   "source": [
    "airr_api.igblast.v_penalty = -1\n",
    "airr_api.run_single(\n",
    "    \"test\",\n",
    "    \"GATCCTCTTCTCATAGTGCCTCCATCAGAGCATGGCTGTCCTGGTGCTGCTCCTCTGCCTGGTGACATTCCCAAGCTGTGTCCTATCCCAGGTGCAGCTGAAGCAGTCAGGACCTGGCCTAGTGCTGCCCTCACAGAGCCTGTCCATAACCTGCACAGTCTCTGGCGTCTCATTAAGTGACTATGGTGTCCACTGGGTTCGCCAGTCTCCAGGAAAGGGCCTGGAGTGGCTGGGAGTGATATGGAGAGGTGGAGGCACAGACTACAGTGCAGCTTTCATGTCCAGAATGAGGCTCACCAAGGACAATTCCAAGAGTCAAGTTTTCTTTGAACTGAACCGTCTGCACGATGATGACACTGCCGTATACTACTGTATCAAAGAAACCTACTATAGTTACGAGAGCTACTTCTACTTCGATGTCTGGGGCACAGGGACCACGGTCACCGTCTCCTCAGAGAGTCAGTCCTTCCCAAATGTCTTCCC\",\n",
    ")"
   ]
  },
  {
   "cell_type": "code",
   "execution_count": 216,
   "metadata": {},
   "outputs": [
    {
     "data": {
      "text/html": [
       "<div>\n",
       "<style scoped>\n",
       "    .dataframe tbody tr th:only-of-type {\n",
       "        vertical-align: middle;\n",
       "    }\n",
       "\n",
       "    .dataframe tbody tr th {\n",
       "        vertical-align: top;\n",
       "    }\n",
       "\n",
       "    .dataframe thead th {\n",
       "        text-align: right;\n",
       "    }\n",
       "</style>\n",
       "<table border=\"1\" class=\"dataframe\">\n",
       "  <thead>\n",
       "    <tr style=\"text-align: right;\">\n",
       "      <th></th>\n",
       "      <th>sequence_id</th>\n",
       "      <th>sequence</th>\n",
       "      <th>species</th>\n",
       "      <th>locus</th>\n",
       "      <th>stop_codon</th>\n",
       "      <th>vj_in_frame</th>\n",
       "      <th>v_frameshift</th>\n",
       "      <th>productive</th>\n",
       "      <th>rev_comp</th>\n",
       "      <th>complete_vdj</th>\n",
       "      <th>v_call_top</th>\n",
       "      <th>v_call</th>\n",
       "      <th>d_call_top</th>\n",
       "      <th>d_call</th>\n",
       "      <th>j_call_top</th>\n",
       "      <th>j_call</th>\n",
       "      <th>sequence_alignment</th>\n",
       "      <th>germline_alignment</th>\n",
       "      <th>sequence_alignment_aa</th>\n",
       "      <th>germline_alignment_aa</th>\n",
       "      <th>v_alignment_start</th>\n",
       "      <th>v_alignment_end</th>\n",
       "      <th>d_alignment_start</th>\n",
       "      <th>d_alignment_end</th>\n",
       "      <th>j_alignment_start</th>\n",
       "      <th>j_alignment_end</th>\n",
       "      <th>v_sequence_alignment</th>\n",
       "      <th>v_sequence_alignment_aa</th>\n",
       "      <th>v_germline_alignment</th>\n",
       "      <th>v_germline_alignment_aa</th>\n",
       "      <th>d_sequence_alignment</th>\n",
       "      <th>d_sequence_alignment_aa</th>\n",
       "      <th>d_germline_alignment</th>\n",
       "      <th>d_germline_alignment_aa</th>\n",
       "      <th>j_sequence_alignment</th>\n",
       "      <th>j_sequence_alignment_aa</th>\n",
       "      <th>j_germline_alignment</th>\n",
       "      <th>j_germline_alignment_aa</th>\n",
       "      <th>fwr1</th>\n",
       "      <th>fwr1_aa</th>\n",
       "      <th>cdr1</th>\n",
       "      <th>cdr1_aa</th>\n",
       "      <th>fwr2</th>\n",
       "      <th>fwr2_aa</th>\n",
       "      <th>cdr2</th>\n",
       "      <th>cdr2_aa</th>\n",
       "      <th>fwr3</th>\n",
       "      <th>fwr3_aa</th>\n",
       "      <th>fwr4</th>\n",
       "      <th>fwr4_aa</th>\n",
       "      <th>cdr3</th>\n",
       "      <th>cdr3_aa</th>\n",
       "      <th>junction</th>\n",
       "      <th>junction_length</th>\n",
       "      <th>junction_aa</th>\n",
       "      <th>junction_aa_length</th>\n",
       "      <th>v_score</th>\n",
       "      <th>d_score</th>\n",
       "      <th>j_score</th>\n",
       "      <th>v_cigar</th>\n",
       "      <th>d_cigar</th>\n",
       "      <th>j_cigar</th>\n",
       "      <th>v_support</th>\n",
       "      <th>d_support</th>\n",
       "      <th>j_support</th>\n",
       "      <th>v_identity</th>\n",
       "      <th>d_identity</th>\n",
       "      <th>j_identity</th>\n",
       "      <th>v_sequence_start</th>\n",
       "      <th>v_sequence_end</th>\n",
       "      <th>v_germline_start</th>\n",
       "      <th>v_germline_end</th>\n",
       "      <th>d_sequence_start</th>\n",
       "      <th>d_sequence_end</th>\n",
       "      <th>d_germline_start</th>\n",
       "      <th>d_germline_end</th>\n",
       "      <th>j_sequence_start</th>\n",
       "      <th>j_sequence_end</th>\n",
       "      <th>j_germline_start</th>\n",
       "      <th>j_germline_end</th>\n",
       "      <th>fwr1_start</th>\n",
       "      <th>fwr1_end</th>\n",
       "      <th>cdr1_start</th>\n",
       "      <th>cdr1_end</th>\n",
       "      <th>fwr2_start</th>\n",
       "      <th>fwr2_end</th>\n",
       "      <th>cdr2_start</th>\n",
       "      <th>cdr2_end</th>\n",
       "      <th>fwr3_start</th>\n",
       "      <th>fwr3_end</th>\n",
       "      <th>fwr4_start</th>\n",
       "      <th>fwr4_end</th>\n",
       "      <th>cdr3_start</th>\n",
       "      <th>cdr3_end</th>\n",
       "      <th>np1</th>\n",
       "      <th>np1_length</th>\n",
       "      <th>np2</th>\n",
       "      <th>np2_length</th>\n",
       "      <th>vdj_nt</th>\n",
       "      <th>vdj_aa</th>\n",
       "    </tr>\n",
       "  </thead>\n",
       "  <tbody>\n",
       "    <tr>\n",
       "      <th>0</th>\n",
       "      <td>test</td>\n",
       "      <td>GATCCTCTTCTCATAGTGCCTCCATCAGAGCATGGCTGTCCTGGTG...</td>\n",
       "      <td>human</td>\n",
       "      <td>IGH</td>\n",
       "      <td>False</td>\n",
       "      <td>True</td>\n",
       "      <td>False</td>\n",
       "      <td>True</td>\n",
       "      <td>False</td>\n",
       "      <td>True</td>\n",
       "      <td>IGHV3-30*18</td>\n",
       "      <td>IGHV3-30*18,IGHV3-30-5*01,IGHV3-33*06</td>\n",
       "      <td>IGHD3-10*01</td>\n",
       "      <td>IGHD3-10*01,IGHD5-18*01,IGHD5-5*01</td>\n",
       "      <td>IGHJ6*03</td>\n",
       "      <td>IGHJ6*03</td>\n",
       "      <td>CAGGTGCAGCTGAAGCAGTCAGGACCTGGCCTAGTGCTGCCCTCAC...</td>\n",
       "      <td>CAGGTGCAGCTGGTGGAGTCTGGGGGAGGCGTGGTCCAGCCTGGGA...</td>\n",
       "      <td>QVQLKQSGPGLVLPSQSLSITCTVSGVSLSDYGVHWVRQSPGKGLE...</td>\n",
       "      <td>QVQLVESGGGVVQPGRSLRLSCAASGFTFSSYGMHWVRQAPGKGLE...</td>\n",
       "      <td>1</td>\n",
       "      <td>297</td>\n",
       "      <td>302</td>\n",
       "      <td>311</td>\n",
       "      <td>319</td>\n",
       "      <td>370</td>\n",
       "      <td>CAGGTGCAGCTGAAGCAGTCAGGACCTGGCCTAGTGCTGCCCTCAC...</td>\n",
       "      <td>QVQLKQSGPGLVLPSQSLSITCTVSGVSLSDYGVHWVRQSPGKGLE...</td>\n",
       "      <td>CAGGTGCAGCTGGTGGAGTCTGGGGGAGGCGTGGTCCAGCCTGGGA...</td>\n",
       "      <td>QVQLVESGGGVVQPGRSLRLSCAASGFTFSSYGMHWVRQAPGKGLE...</td>\n",
       "      <td>TACTATAGTT</td>\n",
       "      <td>YYS</td>\n",
       "      <td>TACTATGGTT</td>\n",
       "      <td>YYG</td>\n",
       "      <td>CTACTTCTACTTCGATGTCTGGGGCACAGGGACCACGGTCACCGTC...</td>\n",
       "      <td>YFYFDVWGTGTTVTVSS</td>\n",
       "      <td>CTACTACTACATGGACGTCTGGGGCAAAGGGACCACGGTCACCGTC...</td>\n",
       "      <td>YYYMDVWGKGTTVTVSS</td>\n",
       "      <td>CAGGTGCAGCTGAAGCAGTCAGGACCTGGCCTAGTGCTGCCCTCAC...</td>\n",
       "      <td>QVQLKQSGPGLVLPSQSLSITCTVS</td>\n",
       "      <td>GGCGTCTCATTAAGTGACTATGGT</td>\n",
       "      <td>GVSLSDYG</td>\n",
       "      <td>GTCCACTGGGTTCGCCAGTCTCCAGGAAAGGGCCTGGAGTGGCTGG...</td>\n",
       "      <td>VHWVRQSPGKGLEWLGV</td>\n",
       "      <td>ATATGGAGAGGTGGAGGCACAGAC</td>\n",
       "      <td>IWRGGGTD</td>\n",
       "      <td>TACAGTGCAGCTTTCATGTCCAGAATGAGGCTCACCAAGGACAATT...</td>\n",
       "      <td>YSAAFMSRMRLTKDNSKSQVFFELNRLHDDDTAVYYC</td>\n",
       "      <td>TGGGGCACAGGGACCACGGTCACCGTCTCCTCA</td>\n",
       "      <td>WGTGTTVTVSS</td>\n",
       "      <td>ATCAAAGAAACCTACTATAGTTACGAGAGCTACTTCTACTTCGATGTC</td>\n",
       "      <td>IKETYYSYESYFYFDV</td>\n",
       "      <td>TGTATCAAAGAAACCTACTATAGTTACGAGAGCTACTTCTACTTCG...</td>\n",
       "      <td>54</td>\n",
       "      <td>CIKETYYSYESYFYFDVW</td>\n",
       "      <td>18</td>\n",
       "      <td>131.125</td>\n",
       "      <td>14.148438</td>\n",
       "      <td>71.8125</td>\n",
       "      <td>88S184M3D42M1I14M1D52M102S</td>\n",
       "      <td>385S4N10M88S17N</td>\n",
       "      <td>402S10N52M29S</td>\n",
       "      <td>2.417000e-32</td>\n",
       "      <td>16.44</td>\n",
       "      <td>1.210000e-16</td>\n",
       "      <td>66.0</td>\n",
       "      <td>90.0</td>\n",
       "      <td>90.375</td>\n",
       "      <td>89</td>\n",
       "      <td>381</td>\n",
       "      <td>1</td>\n",
       "      <td>296</td>\n",
       "      <td>386</td>\n",
       "      <td>395</td>\n",
       "      <td>5.0</td>\n",
       "      <td>14.0</td>\n",
       "      <td>403</td>\n",
       "      <td>454</td>\n",
       "      <td>11</td>\n",
       "      <td>62</td>\n",
       "      <td>89</td>\n",
       "      <td>163</td>\n",
       "      <td>164</td>\n",
       "      <td>187</td>\n",
       "      <td>188</td>\n",
       "      <td>238</td>\n",
       "      <td>239</td>\n",
       "      <td>262</td>\n",
       "      <td>263</td>\n",
       "      <td>373</td>\n",
       "      <td>422</td>\n",
       "      <td>454</td>\n",
       "      <td>374</td>\n",
       "      <td>421</td>\n",
       "      <td>AACC</td>\n",
       "      <td>4</td>\n",
       "      <td>ACGAGAG</td>\n",
       "      <td>7</td>\n",
       "      <td>CAGGTGCAGCTGAAGCAGTCAGGACCTGGCCTAGTGCTGCCCTCAC...</td>\n",
       "      <td>QVQLKQSGPGLVLPSQSLSITCTVSGVSLSDYGVHWVRQSPGKGLE...</td>\n",
       "    </tr>\n",
       "  </tbody>\n",
       "</table>\n",
       "</div>"
      ],
      "text/plain": [
       "  sequence_id                                           sequence species locus  stop_codon  vj_in_frame  v_frameshift  productive  rev_comp  complete_vdj   v_call_top                                 v_call   d_call_top                              d_call j_call_top    j_call                                 sequence_alignment                                 germline_alignment                              sequence_alignment_aa                              germline_alignment_aa  v_alignment_start  v_alignment_end  d_alignment_start  d_alignment_end  j_alignment_start  j_alignment_end                               v_sequence_alignment                            v_sequence_alignment_aa                               v_germline_alignment                            v_germline_alignment_aa d_sequence_alignment d_sequence_alignment_aa d_germline_alignment d_germline_alignment_aa                               j_sequence_alignment j_sequence_alignment_aa                               j_germline_alignment j_germline_alignment_aa                                               fwr1                    fwr1_aa                      cdr1   cdr1_aa                                               fwr2            fwr2_aa                      cdr2   cdr2_aa                                               fwr3                                fwr3_aa                               fwr4      fwr4_aa                                              cdr3           cdr3_aa                                           junction  junction_length         junction_aa  junction_aa_length  v_score    d_score  j_score                     v_cigar          d_cigar        j_cigar     v_support  d_support     j_support  v_identity  d_identity  j_identity  v_sequence_start  v_sequence_end  v_germline_start  v_germline_end  d_sequence_start  d_sequence_end  d_germline_start  d_germline_end  j_sequence_start  j_sequence_end  j_germline_start  j_germline_end  fwr1_start  fwr1_end  cdr1_start  cdr1_end  fwr2_start  fwr2_end  cdr2_start  cdr2_end  fwr3_start  fwr3_end  fwr4_start  fwr4_end  cdr3_start  cdr3_end   np1  np1_length      np2  np2_length                                             vdj_nt                                             vdj_aa\n",
       "0        test  GATCCTCTTCTCATAGTGCCTCCATCAGAGCATGGCTGTCCTGGTG...   human   IGH       False         True         False        True     False          True  IGHV3-30*18  IGHV3-30*18,IGHV3-30-5*01,IGHV3-33*06  IGHD3-10*01  IGHD3-10*01,IGHD5-18*01,IGHD5-5*01   IGHJ6*03  IGHJ6*03  CAGGTGCAGCTGAAGCAGTCAGGACCTGGCCTAGTGCTGCCCTCAC...  CAGGTGCAGCTGGTGGAGTCTGGGGGAGGCGTGGTCCAGCCTGGGA...  QVQLKQSGPGLVLPSQSLSITCTVSGVSLSDYGVHWVRQSPGKGLE...  QVQLVESGGGVVQPGRSLRLSCAASGFTFSSYGMHWVRQAPGKGLE...                  1              297                302              311                319              370  CAGGTGCAGCTGAAGCAGTCAGGACCTGGCCTAGTGCTGCCCTCAC...  QVQLKQSGPGLVLPSQSLSITCTVSGVSLSDYGVHWVRQSPGKGLE...  CAGGTGCAGCTGGTGGAGTCTGGGGGAGGCGTGGTCCAGCCTGGGA...  QVQLVESGGGVVQPGRSLRLSCAASGFTFSSYGMHWVRQAPGKGLE...           TACTATAGTT                     YYS           TACTATGGTT                     YYG  CTACTTCTACTTCGATGTCTGGGGCACAGGGACCACGGTCACCGTC...       YFYFDVWGTGTTVTVSS  CTACTACTACATGGACGTCTGGGGCAAAGGGACCACGGTCACCGTC...       YYYMDVWGKGTTVTVSS  CAGGTGCAGCTGAAGCAGTCAGGACCTGGCCTAGTGCTGCCCTCAC...  QVQLKQSGPGLVLPSQSLSITCTVS  GGCGTCTCATTAAGTGACTATGGT  GVSLSDYG  GTCCACTGGGTTCGCCAGTCTCCAGGAAAGGGCCTGGAGTGGCTGG...  VHWVRQSPGKGLEWLGV  ATATGGAGAGGTGGAGGCACAGAC  IWRGGGTD  TACAGTGCAGCTTTCATGTCCAGAATGAGGCTCACCAAGGACAATT...  YSAAFMSRMRLTKDNSKSQVFFELNRLHDDDTAVYYC  TGGGGCACAGGGACCACGGTCACCGTCTCCTCA  WGTGTTVTVSS  ATCAAAGAAACCTACTATAGTTACGAGAGCTACTTCTACTTCGATGTC  IKETYYSYESYFYFDV  TGTATCAAAGAAACCTACTATAGTTACGAGAGCTACTTCTACTTCG...               54  CIKETYYSYESYFYFDVW                  18  131.125  14.148438  71.8125  88S184M3D42M1I14M1D52M102S  385S4N10M88S17N  402S10N52M29S  2.417000e-32      16.44  1.210000e-16        66.0        90.0      90.375                89             381                 1             296               386             395               5.0            14.0               403             454                11              62          89       163         164       187         188       238         239       262         263       373         422       454         374       421  AACC           4  ACGAGAG           7  CAGGTGCAGCTGAAGCAGTCAGGACCTGGCCTAGTGCTGCCCTCAC...  QVQLKQSGPGLVLPSQSLSITCTVSGVSLSDYGVHWVRQSPGKGLE..."
      ]
     },
     "execution_count": 216,
     "metadata": {},
     "output_type": "execute_result"
    }
   ],
   "source": [
    "test_object"
   ]
  },
  {
   "cell_type": "code",
   "execution_count": 146,
   "metadata": {},
   "outputs": [
    {
     "data": {
      "text/html": [
       "<div>\n",
       "<style scoped>\n",
       "    .dataframe tbody tr th:only-of-type {\n",
       "        vertical-align: middle;\n",
       "    }\n",
       "\n",
       "    .dataframe tbody tr th {\n",
       "        vertical-align: top;\n",
       "    }\n",
       "\n",
       "    .dataframe thead th {\n",
       "        text-align: right;\n",
       "    }\n",
       "</style>\n",
       "<table border=\"1\" class=\"dataframe\">\n",
       "  <thead>\n",
       "    <tr style=\"text-align: right;\">\n",
       "      <th></th>\n",
       "      <th>sequence_id</th>\n",
       "      <th>sequence</th>\n",
       "      <th>species</th>\n",
       "      <th>locus</th>\n",
       "      <th>stop_codon</th>\n",
       "      <th>vj_in_frame</th>\n",
       "      <th>v_frameshift</th>\n",
       "      <th>productive</th>\n",
       "      <th>rev_comp</th>\n",
       "      <th>complete_vdj</th>\n",
       "      <th>v_call_top</th>\n",
       "      <th>v_call</th>\n",
       "      <th>d_call_top</th>\n",
       "      <th>d_call</th>\n",
       "      <th>j_call_top</th>\n",
       "      <th>j_call</th>\n",
       "      <th>sequence_alignment</th>\n",
       "      <th>germline_alignment</th>\n",
       "      <th>sequence_alignment_aa</th>\n",
       "      <th>germline_alignment_aa</th>\n",
       "      <th>v_alignment_start</th>\n",
       "      <th>v_alignment_end</th>\n",
       "      <th>d_alignment_start</th>\n",
       "      <th>d_alignment_end</th>\n",
       "      <th>j_alignment_start</th>\n",
       "      <th>j_alignment_end</th>\n",
       "      <th>v_sequence_alignment</th>\n",
       "      <th>v_sequence_alignment_aa</th>\n",
       "      <th>v_germline_alignment</th>\n",
       "      <th>v_germline_alignment_aa</th>\n",
       "      <th>d_sequence_alignment</th>\n",
       "      <th>d_sequence_alignment_aa</th>\n",
       "      <th>d_germline_alignment</th>\n",
       "      <th>d_germline_alignment_aa</th>\n",
       "      <th>j_sequence_alignment</th>\n",
       "      <th>j_sequence_alignment_aa</th>\n",
       "      <th>j_germline_alignment</th>\n",
       "      <th>j_germline_alignment_aa</th>\n",
       "      <th>fwr1</th>\n",
       "      <th>fwr1_aa</th>\n",
       "      <th>cdr1</th>\n",
       "      <th>cdr1_aa</th>\n",
       "      <th>fwr2</th>\n",
       "      <th>fwr2_aa</th>\n",
       "      <th>cdr2</th>\n",
       "      <th>cdr2_aa</th>\n",
       "      <th>fwr3</th>\n",
       "      <th>fwr3_aa</th>\n",
       "      <th>fwr4</th>\n",
       "      <th>fwr4_aa</th>\n",
       "      <th>cdr3</th>\n",
       "      <th>cdr3_aa</th>\n",
       "      <th>junction</th>\n",
       "      <th>junction_length</th>\n",
       "      <th>junction_aa</th>\n",
       "      <th>junction_aa_length</th>\n",
       "      <th>v_score</th>\n",
       "      <th>d_score</th>\n",
       "      <th>j_score</th>\n",
       "      <th>v_cigar</th>\n",
       "      <th>d_cigar</th>\n",
       "      <th>j_cigar</th>\n",
       "      <th>v_support</th>\n",
       "      <th>d_support</th>\n",
       "      <th>j_support</th>\n",
       "      <th>v_identity</th>\n",
       "      <th>d_identity</th>\n",
       "      <th>j_identity</th>\n",
       "      <th>v_sequence_start</th>\n",
       "      <th>v_sequence_end</th>\n",
       "      <th>v_germline_start</th>\n",
       "      <th>v_germline_end</th>\n",
       "      <th>d_sequence_start</th>\n",
       "      <th>d_sequence_end</th>\n",
       "      <th>d_germline_start</th>\n",
       "      <th>d_germline_end</th>\n",
       "      <th>j_sequence_start</th>\n",
       "      <th>j_sequence_end</th>\n",
       "      <th>j_germline_start</th>\n",
       "      <th>j_germline_end</th>\n",
       "      <th>fwr1_start</th>\n",
       "      <th>fwr1_end</th>\n",
       "      <th>cdr1_start</th>\n",
       "      <th>cdr1_end</th>\n",
       "      <th>fwr2_start</th>\n",
       "      <th>fwr2_end</th>\n",
       "      <th>cdr2_start</th>\n",
       "      <th>cdr2_end</th>\n",
       "      <th>fwr3_start</th>\n",
       "      <th>fwr3_end</th>\n",
       "      <th>fwr4_start</th>\n",
       "      <th>fwr4_end</th>\n",
       "      <th>cdr3_start</th>\n",
       "      <th>cdr3_end</th>\n",
       "      <th>np1</th>\n",
       "      <th>np1_length</th>\n",
       "      <th>np2</th>\n",
       "      <th>np2_length</th>\n",
       "      <th>vdj_nt</th>\n",
       "      <th>vdj_aa</th>\n",
       "    </tr>\n",
       "  </thead>\n",
       "  <tbody>\n",
       "    <tr>\n",
       "      <th>0</th>\n",
       "      <td>test</td>\n",
       "      <td>CAGCTGCAGCTGGTGGAGTCTGGGGGAGGCGTGGTCCAGTCCGGGA...</td>\n",
       "      <td>human</td>\n",
       "      <td>IGH</td>\n",
       "      <td>False</td>\n",
       "      <td>True</td>\n",
       "      <td>False</td>\n",
       "      <td>True</td>\n",
       "      <td>False</td>\n",
       "      <td>True</td>\n",
       "      <td>IGHV3-30-3*01</td>\n",
       "      <td>IGHV3-30-3*01</td>\n",
       "      <td>IGHD3-22*01</td>\n",
       "      <td>IGHD3-22*01</td>\n",
       "      <td>IGHJ4*02</td>\n",
       "      <td>IGHJ4*02</td>\n",
       "      <td>CAGCTGCAGCTGGTGGAGTCTGGGGGAGGCGTGGTCCAGTCCGGGA...</td>\n",
       "      <td>CAGGTGCAGCTGGTGGAGTCTGGGGGAGGCGTGGTCCAGCCTGGGA...</td>\n",
       "      <td>QLQLVESGGGVVQSGRSLRLSCAVSAASGYSFSNYAIHWARQAPGK...</td>\n",
       "      <td>QVQLVESGGGVVQPGRSLRLSCAASGFTFSSYAMHWVRQAPGKGLE...</td>\n",
       "      <td>1</td>\n",
       "      <td>303</td>\n",
       "      <td>323</td>\n",
       "      <td>336</td>\n",
       "      <td>350</td>\n",
       "      <td>391</td>\n",
       "      <td>CAGCTGCAGCTGGTGGAGTCTGGGGGAGGCGTGGTCCAGTCCGGGA...</td>\n",
       "      <td>QLQLVESGGGVVQSGRSLRLSCAVSAASGYSFSNYAIHWARQAPGK...</td>\n",
       "      <td>CAGGTGCAGCTGGTGGAGTCTGGGGGAGGCGTGGTCCAGCCTGGGA...</td>\n",
       "      <td>QVQLVESGGGVVQPGRSLRLSCAASGFTFSSYAMHWVRQAPGKGLE...</td>\n",
       "      <td>ATGATAGTAGCGGT</td>\n",
       "      <td>DSSG</td>\n",
       "      <td>ATGATAGTAGTGGT</td>\n",
       "      <td>DSSG</td>\n",
       "      <td>TTGGCTCCTGGGGCCAGGGAACCCTGGTGTCCGTCTCCTCAG</td>\n",
       "      <td>GSWGQGTLVSVSS</td>\n",
       "      <td>TTGACTACTGGGGCCAGGGAACCCTGGTCACCGTCTCCTCAG</td>\n",
       "      <td>DYWGQGTLVTVSS</td>\n",
       "      <td>CAGCTGCAGCTGGTGGAGTCTGGGGGAGGCGTGGTCCAGTCCGGGA...</td>\n",
       "      <td>QLQLVESGGGVVQSGRSLRLSCAVSAAS</td>\n",
       "      <td>GGATACAGCTTCAGTAACTACGCT</td>\n",
       "      <td>GYSFSNYA</td>\n",
       "      <td>ATTCACTGGGCCCGCCAGGCTCCAGGCAAGGGGCTGGAGTGGGTGG...</td>\n",
       "      <td>IHWARQAPGKGLEWVAV</td>\n",
       "      <td>ATATCATATGATGGGAACACTAAA</td>\n",
       "      <td>ISYDGNTK</td>\n",
       "      <td>TACTACGCAGACTCCGTGACGGGCCGATTCACCATCTCCAGAGACA...</td>\n",
       "      <td>YYADSVTGRFTISRDNSKGTLYLQMNSLKPEDTAMYYC</td>\n",
       "      <td>TGGGGCCAGGGAACCCTGGTGTCCGTCTCCTCA</td>\n",
       "      <td>WGQGTLVSVSS</td>\n",
       "      <td>GCGAGACTTTCGTTCCGACATTTCCATGATAGTAGCGGTCCCCAAA...</td>\n",
       "      <td>ARLSFRHFHDSSGPQISVGS</td>\n",
       "      <td>TGTGCGAGACTTTCGTTCCGACATTTCCATGATAGTAGCGGTCCCC...</td>\n",
       "      <td>66</td>\n",
       "      <td>CARLSFRHFHDSSGPQISVGSW</td>\n",
       "      <td>22</td>\n",
       "      <td>368.0</td>\n",
       "      <td>21.84375</td>\n",
       "      <td>58.375</td>\n",
       "      <td>70M9I224M88S2N</td>\n",
       "      <td>322S8N14M55S9N</td>\n",
       "      <td>349S6N42M</td>\n",
       "      <td>9.862000e-104</td>\n",
       "      <td>0.06408</td>\n",
       "      <td>1.097000e-12</td>\n",
       "      <td>89.4375</td>\n",
       "      <td>92.875</td>\n",
       "      <td>90.5</td>\n",
       "      <td>1</td>\n",
       "      <td>303</td>\n",
       "      <td>1</td>\n",
       "      <td>294</td>\n",
       "      <td>323</td>\n",
       "      <td>336</td>\n",
       "      <td>9.0</td>\n",
       "      <td>22.0</td>\n",
       "      <td>350</td>\n",
       "      <td>391</td>\n",
       "      <td>7</td>\n",
       "      <td>48</td>\n",
       "      <td>1</td>\n",
       "      <td>84</td>\n",
       "      <td>85</td>\n",
       "      <td>108</td>\n",
       "      <td>109</td>\n",
       "      <td>159</td>\n",
       "      <td>160</td>\n",
       "      <td>183</td>\n",
       "      <td>184</td>\n",
       "      <td>297</td>\n",
       "      <td>358</td>\n",
       "      <td>390</td>\n",
       "      <td>298</td>\n",
       "      <td>357</td>\n",
       "      <td>CTTTCGTTCCGACATTTCC</td>\n",
       "      <td>19</td>\n",
       "      <td>CCCCAAATTTCTG</td>\n",
       "      <td>13</td>\n",
       "      <td>CAGCTGCAGCTGGTGGAGTCTGGGGGAGGCGTGGTCCAGTCCGGGA...</td>\n",
       "      <td>QLQLVESGGGVVQSGRSLRLSCAVSAASGYSFSNYAIHWARQAPGK...</td>\n",
       "    </tr>\n",
       "  </tbody>\n",
       "</table>\n",
       "</div>"
      ],
      "text/plain": [
       "  sequence_id                                           sequence species locus  stop_codon  vj_in_frame  v_frameshift  productive  rev_comp  complete_vdj     v_call_top         v_call   d_call_top       d_call j_call_top    j_call                                 sequence_alignment                                 germline_alignment                              sequence_alignment_aa                              germline_alignment_aa  v_alignment_start  v_alignment_end  d_alignment_start  d_alignment_end  j_alignment_start  j_alignment_end                               v_sequence_alignment                            v_sequence_alignment_aa                               v_germline_alignment                            v_germline_alignment_aa d_sequence_alignment d_sequence_alignment_aa d_germline_alignment d_germline_alignment_aa                        j_sequence_alignment j_sequence_alignment_aa                        j_germline_alignment j_germline_alignment_aa                                               fwr1                       fwr1_aa                      cdr1   cdr1_aa                                               fwr2            fwr2_aa                      cdr2   cdr2_aa                                               fwr3                                 fwr3_aa                               fwr4      fwr4_aa                                               cdr3               cdr3_aa                                           junction  junction_length             junction_aa  junction_aa_length  v_score   d_score  j_score         v_cigar         d_cigar    j_cigar      v_support  d_support     j_support  v_identity  d_identity  j_identity  v_sequence_start  v_sequence_end  v_germline_start  v_germline_end  d_sequence_start  d_sequence_end  d_germline_start  d_germline_end  j_sequence_start  j_sequence_end  j_germline_start  j_germline_end  fwr1_start  fwr1_end  cdr1_start  cdr1_end  fwr2_start  fwr2_end  cdr2_start  cdr2_end  fwr3_start  fwr3_end  fwr4_start  fwr4_end  cdr3_start  cdr3_end                  np1  np1_length            np2  np2_length                                             vdj_nt                                             vdj_aa\n",
       "0        test  CAGCTGCAGCTGGTGGAGTCTGGGGGAGGCGTGGTCCAGTCCGGGA...   human   IGH       False         True         False        True     False          True  IGHV3-30-3*01  IGHV3-30-3*01  IGHD3-22*01  IGHD3-22*01   IGHJ4*02  IGHJ4*02  CAGCTGCAGCTGGTGGAGTCTGGGGGAGGCGTGGTCCAGTCCGGGA...  CAGGTGCAGCTGGTGGAGTCTGGGGGAGGCGTGGTCCAGCCTGGGA...  QLQLVESGGGVVQSGRSLRLSCAVSAASGYSFSNYAIHWARQAPGK...  QVQLVESGGGVVQPGRSLRLSCAASGFTFSSYAMHWVRQAPGKGLE...                  1              303                323              336                350              391  CAGCTGCAGCTGGTGGAGTCTGGGGGAGGCGTGGTCCAGTCCGGGA...  QLQLVESGGGVVQSGRSLRLSCAVSAASGYSFSNYAIHWARQAPGK...  CAGGTGCAGCTGGTGGAGTCTGGGGGAGGCGTGGTCCAGCCTGGGA...  QVQLVESGGGVVQPGRSLRLSCAASGFTFSSYAMHWVRQAPGKGLE...       ATGATAGTAGCGGT                    DSSG       ATGATAGTAGTGGT                    DSSG  TTGGCTCCTGGGGCCAGGGAACCCTGGTGTCCGTCTCCTCAG           GSWGQGTLVSVSS  TTGACTACTGGGGCCAGGGAACCCTGGTCACCGTCTCCTCAG           DYWGQGTLVTVSS  CAGCTGCAGCTGGTGGAGTCTGGGGGAGGCGTGGTCCAGTCCGGGA...  QLQLVESGGGVVQSGRSLRLSCAVSAAS  GGATACAGCTTCAGTAACTACGCT  GYSFSNYA  ATTCACTGGGCCCGCCAGGCTCCAGGCAAGGGGCTGGAGTGGGTGG...  IHWARQAPGKGLEWVAV  ATATCATATGATGGGAACACTAAA  ISYDGNTK  TACTACGCAGACTCCGTGACGGGCCGATTCACCATCTCCAGAGACA...  YYADSVTGRFTISRDNSKGTLYLQMNSLKPEDTAMYYC  TGGGGCCAGGGAACCCTGGTGTCCGTCTCCTCA  WGQGTLVSVSS  GCGAGACTTTCGTTCCGACATTTCCATGATAGTAGCGGTCCCCAAA...  ARLSFRHFHDSSGPQISVGS  TGTGCGAGACTTTCGTTCCGACATTTCCATGATAGTAGCGGTCCCC...               66  CARLSFRHFHDSSGPQISVGSW                  22    368.0  21.84375   58.375  70M9I224M88S2N  322S8N14M55S9N  349S6N42M  9.862000e-104    0.06408  1.097000e-12     89.4375      92.875        90.5                 1             303                 1             294               323             336               9.0            22.0               350             391                 7              48           1        84          85       108         109       159         160       183         184       297         358       390         298       357  CTTTCGTTCCGACATTTCC          19  CCCCAAATTTCTG          13  CAGCTGCAGCTGGTGGAGTCTGGGGGAGGCGTGGTCCAGTCCGGGA...  QLQLVESGGGVVQSGRSLRLSCAVSAASGYSFSNYAIHWARQAPGK..."
      ]
     },
     "execution_count": 146,
     "metadata": {},
     "output_type": "execute_result"
    }
   ],
   "source": [
    "test_object"
   ]
  },
  {
   "cell_type": "code",
   "execution_count": 28,
   "metadata": {},
   "outputs": [
    {
     "data": {
      "text/plain": [
       "'GCAAGGCCAGTCAGAATGTGGGTACTAATGTAGCCTGGTATCAACAGAAACCAGGGCAATCTCCTAAAGCACTGATTTACTCGGCATTGTACCGATACAGTGGAGTCCCTGATCGCTTCACAGGCAGTGGATCTGGGACAGATTTCACTCTCACCATCAGCAATGTGCAGTCTGAAGACCTGGCAGTTTATTTCTGTCAGCAGGATTATAGCTCTCCGTACACGTTCGGAGGGGGGACCAAGCTGGAAATAAAA'"
      ]
     },
     "execution_count": 28,
     "metadata": {},
     "output_type": "execute_result"
    }
   ],
   "source": [
    "sadie_object"
   ]
  },
  {
   "cell_type": "code",
   "execution_count": 9,
   "metadata": {},
   "outputs": [
    {
     "data": {
      "text/plain": [
       "2125_Subject-15_igblastn_anarci_Heavy_IGHA_162\n",
       "FrameWork1NT 1-0:\n",
       "CDR1NT 1-0:\n",
       "FrameWork2NT 1-33:CTGGGGGGCCCTTAAGACCCCCCTNTCACCCAC\n",
       "CDR2NT 34-57:CATATCAGGTTTCGGCGCCTTTCC\n",
       "FrameWork3NT 58-171:TATGAACTGGACTCCGTGAAGGGCCGATTCACCATCTCCAGAGACAACTCCAAGGACACGGTGTATCTGCAAATGGACAGCCTGAGACCTGAGGACACGGCTGTGTACTACTGT\n",
       "CDR3NT 172-207:GCGAGGACAGTTGCAGTGGGTTGGTACTGTGACTAC\n",
       "FrameWork4NT 208-241:TGGGGCCAGGGAACCCAGGTCACCGTCTCCTCAC"
      ]
     },
     "execution_count": 9,
     "metadata": {},
     "output_type": "execute_result"
    }
   ],
   "source": [
    "imgt_object"
   ]
  },
  {
   "cell_type": "code",
   "execution_count": 95,
   "metadata": {},
   "outputs": [
    {
     "name": "stdout",
     "output_type": "stream",
     "text": [
      "IGHV5-51*01|IGHJ4*01  GAGGTGCAGCTGGTGCAGTCTGGAGCAGAGGTGAAAAAGCCCGGGGAGTCTCTGAAGATCTCCTGTAAGGGTTCT GGATACAGCTTTACCAGCTACTGG\n",
      "somecrap              ACAC.TTT.TAAAAT.-------------------------------T.GGGG..................C... .......C....C...AT......\n",
      "\n",
      "IGHV5-51*01|IGHJ4*01   ATCGGCTGGGTGCGCCAGATGCCCGGGAAAGGCCTGGAGTGGATGGGGATC ATCTATCCTGGTGACTCTGATACC AGATACAGCCCGTCCTTCCAAG\n",
      "somecrap               ................................................G.. .....C....A..........G.. ........T........TG.G.\n",
      "\n",
      "IGHV5-51*01|IGHJ4*01  GCCAGGTCACCATCTCAGCCGACAAGTCCATCAGCACCGCCTACCTGCAGTGGAGCAGCCTGAAGGCCTCGGACACCGCCATGTATTACTGT GCGAGAC\n",
      "somecrap              .T...............................C...............A.....G................................T... .......\n",
      "\n",
      "IGHV5-51*01|IGHJ4*01  A-----------ACTACTTTGACTAC TGGGGCCAAGGAACCCTGGTCACCGTCTCCTCAG\n",
      "somecrap              GGAGAGATGGCT..A........... ........G.A.G............C......G.\n",
      "\n",
      "\n"
     ]
    }
   ],
   "source": [
    "print(imgt_mab.get_segmented_alignment_nt())"
   ]
  },
  {
   "cell_type": "code",
   "execution_count": 74,
   "metadata": {},
   "outputs": [],
   "source": [
    "single_entry = imgt_comparable.loc[i]"
   ]
  },
  {
   "cell_type": "code",
   "execution_count": 84,
   "metadata": {},
   "outputs": [
    {
     "data": {
      "text/plain": [
       "'IGHJ4'"
      ]
     },
     "execution_count": 84,
     "metadata": {},
     "output_type": "execute_result"
    }
   ],
   "source": [
    "single_entry[\"j_gene_top\"]"
   ]
  },
  {
   "cell_type": "code",
   "execution_count": null,
   "metadata": {},
   "outputs": [],
   "source": []
  },
  {
   "cell_type": "code",
   "execution_count": 167,
   "metadata": {},
   "outputs": [],
   "source": [
    "# you cannot trust fwr4 since it has the extra nucleotide in the jcall"
   ]
  },
  {
   "cell_type": "code",
   "execution_count": 168,
   "metadata": {},
   "outputs": [],
   "source": []
  },
  {
   "cell_type": "code",
   "execution_count": 172,
   "metadata": {},
   "outputs": [
    {
     "name": "stdout",
     "output_type": "stream",
     "text": [
      "CGGGGAGTCTCTGAAGATCTCCTGTGCAGCGTCTGGATTCACGTTCAGTTATTTTGGCATGCACTGGGTCCGCCAGGCTCCAGGCAAGGGACTGGAGTGGGTGGCACTGATAAAGTATGATGGAAGTAATACATACCACGCAGACTCCGTGAAGGGCCGATTCACCATCTCCAGAGACAATTCCAAGAACACACTATATTTGCAAATGAACAGCCTGAGACCCGAGGACACGGCCATATATTACTGTGCGAAAGAGATGGATATGCGGTGGCTACAATTTCACGATTTCGGCTGCTTTGACTCCTGGGGCCAGGGAACCCTGGTCACCGTCTCCTCAGCCTCCACCAAGGGCCCATCGGTCTTCCCCCTGGCGCCCTGCTCCAGGAGCACCTCTGGGGGCACAGCGGCCCTGGGCTGCCTG\n"
     ]
    },
    {
     "data": {
      "text/html": [
       "<div>\n",
       "<style scoped>\n",
       "    .dataframe tbody tr th:only-of-type {\n",
       "        vertical-align: middle;\n",
       "    }\n",
       "\n",
       "    .dataframe tbody tr th {\n",
       "        vertical-align: top;\n",
       "    }\n",
       "\n",
       "    .dataframe thead th {\n",
       "        text-align: right;\n",
       "    }\n",
       "</style>\n",
       "<table border=\"1\" class=\"dataframe\">\n",
       "  <thead>\n",
       "    <tr style=\"text-align: right;\">\n",
       "      <th></th>\n",
       "      <th>431_imgt</th>\n",
       "      <th>431_sadie</th>\n",
       "      <th>431</th>\n",
       "    </tr>\n",
       "  </thead>\n",
       "  <tbody>\n",
       "    <tr>\n",
       "      <th>sequence</th>\n",
       "      <td>CGGGGAGTCTCTGAAGATCTCCTGTGCAGCGTCTGGATTCACGTTC...</td>\n",
       "      <td>CGGGGAGTCTCTGAAGATCTCCTGTGCAGCGTCTGGATTCACGTTC...</td>\n",
       "      <td>True</td>\n",
       "    </tr>\n",
       "    <tr>\n",
       "      <th>locus</th>\n",
       "      <td>IGH</td>\n",
       "      <td>IGH</td>\n",
       "      <td>True</td>\n",
       "    </tr>\n",
       "    <tr>\n",
       "      <th>stop_codon</th>\n",
       "      <td>True</td>\n",
       "      <td>False</td>\n",
       "      <td>False</td>\n",
       "    </tr>\n",
       "    <tr>\n",
       "      <th>vj_in_frame</th>\n",
       "      <td>True</td>\n",
       "      <td>True</td>\n",
       "      <td>True</td>\n",
       "    </tr>\n",
       "    <tr>\n",
       "      <th>productive</th>\n",
       "      <td>True</td>\n",
       "      <td>True</td>\n",
       "      <td>True</td>\n",
       "    </tr>\n",
       "    <tr>\n",
       "      <th>rev_comp</th>\n",
       "      <td>False</td>\n",
       "      <td>False</td>\n",
       "      <td>True</td>\n",
       "    </tr>\n",
       "    <tr>\n",
       "      <th>complete_vdj</th>\n",
       "      <td>False</td>\n",
       "      <td>False</td>\n",
       "      <td>True</td>\n",
       "    </tr>\n",
       "    <tr>\n",
       "      <th>v_call</th>\n",
       "      <td>Homsap IGHV3-30*02 F, or Homsap IGHV3-30-5*02 ...</td>\n",
       "      <td>IGHV3-33*06</td>\n",
       "      <td>False</td>\n",
       "    </tr>\n",
       "    <tr>\n",
       "      <th>v_call_top</th>\n",
       "      <td>IGHV3-30*02</td>\n",
       "      <td>IGHV3-33*06</td>\n",
       "      <td>False</td>\n",
       "    </tr>\n",
       "    <tr>\n",
       "      <th>v_gene_top</th>\n",
       "      <td>IGHV3-30</td>\n",
       "      <td>IGHV3-33</td>\n",
       "      <td>False</td>\n",
       "    </tr>\n",
       "    <tr>\n",
       "      <th>d_call_top</th>\n",
       "      <td>IGHD5-24*01</td>\n",
       "      <td>IGHD5-24*01</td>\n",
       "      <td>True</td>\n",
       "    </tr>\n",
       "    <tr>\n",
       "      <th>d_gene_top</th>\n",
       "      <td>IGHD5-24</td>\n",
       "      <td>IGHD5-24</td>\n",
       "      <td>True</td>\n",
       "    </tr>\n",
       "    <tr>\n",
       "      <th>j_call_top</th>\n",
       "      <td>IGHJ4*02</td>\n",
       "      <td>IGHJ4*02</td>\n",
       "      <td>True</td>\n",
       "    </tr>\n",
       "    <tr>\n",
       "      <th>j_gene_top</th>\n",
       "      <td>IGHJ4</td>\n",
       "      <td>IGHJ4</td>\n",
       "      <td>True</td>\n",
       "    </tr>\n",
       "    <tr>\n",
       "      <th>fwr1</th>\n",
       "      <td>CGGGGAGTCTCTGAAGATCTCCTGTGCAGCGTCT</td>\n",
       "      <td>CGGGGAGTCTCTGAAGATCTCCTGTGCAGCGTCT</td>\n",
       "      <td>True</td>\n",
       "    </tr>\n",
       "    <tr>\n",
       "      <th>cdr1</th>\n",
       "      <td>GGATTCACGTTCAGTTATTTTGGC</td>\n",
       "      <td>GGATTCACGTTCAGTTATTTTGGC</td>\n",
       "      <td>True</td>\n",
       "    </tr>\n",
       "    <tr>\n",
       "      <th>fwr2</th>\n",
       "      <td>ATGCACTGGGTCCGCCAGGCTCCAGGCAAGGGACTGGAGTGGGTGG...</td>\n",
       "      <td>ATGCACTGGGTCCGCCAGGCTCCAGGCAAGGGACTGGAGTGGGTGG...</td>\n",
       "      <td>True</td>\n",
       "    </tr>\n",
       "    <tr>\n",
       "      <th>cdr2</th>\n",
       "      <td>ATAAAGTATGATGGAAGTAATACA</td>\n",
       "      <td>ATAAAGTATGATGGAAGTAATACA</td>\n",
       "      <td>True</td>\n",
       "    </tr>\n",
       "    <tr>\n",
       "      <th>fwr3</th>\n",
       "      <td>TACCACGCAGACTCCGTGAAGGGCCGATTCACCATCTCCAGAGACA...</td>\n",
       "      <td>TACCACGCAGACTCCGTGAAGGGCCGATTCACCATCTCCAGAGACA...</td>\n",
       "      <td>True</td>\n",
       "    </tr>\n",
       "    <tr>\n",
       "      <th>cdr3</th>\n",
       "      <td>GCGAAAGAGATGGATATGCGGTGGCTACAATTTCACGATTTCGGCT...</td>\n",
       "      <td>GCGAAAGAGATGGATATGCGGTGGCTACAATTTCACGATTTCGGCT...</td>\n",
       "      <td>True</td>\n",
       "    </tr>\n",
       "    <tr>\n",
       "      <th>fwr4</th>\n",
       "      <td>TGGGGCCAGGGAACCCTGGTCACCGTCTCCTCAG</td>\n",
       "      <td>TGGGGCCAGGGAACCCTGGTCACCGTCTCCTCA</td>\n",
       "      <td>False</td>\n",
       "    </tr>\n",
       "    <tr>\n",
       "      <th>fwr1_aa</th>\n",
       "      <td>GESLKISCAAS</td>\n",
       "      <td>GESLKISCAAS</td>\n",
       "      <td>True</td>\n",
       "    </tr>\n",
       "    <tr>\n",
       "      <th>cdr1_aa</th>\n",
       "      <td>GFTFSYFG</td>\n",
       "      <td>GFTFSYFG</td>\n",
       "      <td>True</td>\n",
       "    </tr>\n",
       "    <tr>\n",
       "      <th>fwr2_aa</th>\n",
       "      <td>MHWVRQAPGKGLEWVAL</td>\n",
       "      <td>MHWVRQAPGKGLEWVAL</td>\n",
       "      <td>True</td>\n",
       "    </tr>\n",
       "    <tr>\n",
       "      <th>cdr2_aa</th>\n",
       "      <td>IKYDGSNT</td>\n",
       "      <td>IKYDGSNT</td>\n",
       "      <td>True</td>\n",
       "    </tr>\n",
       "    <tr>\n",
       "      <th>fwr3_aa</th>\n",
       "      <td>YHADSVKGRFTISRDNSKNTLYLQMNSLRPEDTAIYYC</td>\n",
       "      <td>YHADSVKGRFTISRDNSKNTLYLQMNSLRPEDTAIYYC</td>\n",
       "      <td>True</td>\n",
       "    </tr>\n",
       "    <tr>\n",
       "      <th>cdr3_aa</th>\n",
       "      <td>AKEMDMRWLQFHDFGCFDS</td>\n",
       "      <td>AKEMDMRWLQFHDFGCFDS</td>\n",
       "      <td>True</td>\n",
       "    </tr>\n",
       "    <tr>\n",
       "      <th>fwr4_aa</th>\n",
       "      <td>WGQGTLVTVSS</td>\n",
       "      <td>WGQGTLVTVSS</td>\n",
       "      <td>True</td>\n",
       "    </tr>\n",
       "  </tbody>\n",
       "</table>\n",
       "</div>"
      ],
      "text/plain": [
       "<IPython.core.display.HTML object>"
      ]
     },
     "metadata": {},
     "output_type": "display_data"
    },
    {
     "ename": "KeyboardInterrupt",
     "evalue": "Interrupted by user",
     "output_type": "error",
     "traceback": [
      "\u001b[0;31m---------------------------------------------------------------------------\u001b[0m",
      "\u001b[0;31mKeyboardInterrupt\u001b[0m                         Traceback (most recent call last)",
      "\u001b[0;32m<ipython-input-172-6200df2e5f61>\u001b[0m in \u001b[0;36m<module>\u001b[0;34m\u001b[0m\n\u001b[1;32m     15\u001b[0m     \u001b[0mprint\u001b[0m\u001b[0;34m(\u001b[0m\u001b[0mimgt_comparable\u001b[0m\u001b[0;34m.\u001b[0m\u001b[0mloc\u001b[0m\u001b[0;34m[\u001b[0m\u001b[0mcompare\u001b[0m\u001b[0;34m[\u001b[0m\u001b[0;34m~\u001b[0m\u001b[0mcompare\u001b[0m\u001b[0;34m[\u001b[0m\u001b[0;34m\"v_gene_top\"\u001b[0m\u001b[0;34m]\u001b[0m\u001b[0;34m]\u001b[0m\u001b[0;34m.\u001b[0m\u001b[0mindex\u001b[0m\u001b[0;34m]\u001b[0m\u001b[0;34m.\u001b[0m\u001b[0miloc\u001b[0m\u001b[0;34m[\u001b[0m\u001b[0mi\u001b[0m\u001b[0;34m]\u001b[0m\u001b[0;34m[\u001b[0m\u001b[0;34m'sequence'\u001b[0m\u001b[0;34m]\u001b[0m\u001b[0;34m)\u001b[0m\u001b[0;34m\u001b[0m\u001b[0;34m\u001b[0m\u001b[0m\n\u001b[1;32m     16\u001b[0m     \u001b[0mdisplay\u001b[0m\u001b[0;34m(\u001b[0m\u001b[0mHTML\u001b[0m\u001b[0;34m(\u001b[0m\u001b[0msingle_entry_diff\u001b[0m\u001b[0;34m.\u001b[0m\u001b[0m_repr_html_\u001b[0m\u001b[0;34m(\u001b[0m\u001b[0;34m)\u001b[0m\u001b[0;34m)\u001b[0m\u001b[0;34m)\u001b[0m\u001b[0;34m\u001b[0m\u001b[0;34m\u001b[0m\u001b[0m\n\u001b[0;32m---> 17\u001b[0;31m     \u001b[0minput\u001b[0m\u001b[0;34m(\u001b[0m\u001b[0;34m)\u001b[0m\u001b[0;34m\u001b[0m\u001b[0;34m\u001b[0m\u001b[0m\n\u001b[0m\u001b[1;32m     18\u001b[0m     \u001b[0mclear_output\u001b[0m\u001b[0;34m(\u001b[0m\u001b[0;34m)\u001b[0m\u001b[0;34m\u001b[0m\u001b[0;34m\u001b[0m\u001b[0m\n",
      "\u001b[0;32m~/miniconda3/envs/sadie/lib/python3.8/site-packages/ipykernel/kernelbase.py\u001b[0m in \u001b[0;36mraw_input\u001b[0;34m(self, prompt)\u001b[0m\n\u001b[1;32m    855\u001b[0m                 \u001b[0;34m\"raw_input was called, but this frontend does not support input requests.\"\u001b[0m\u001b[0;34m\u001b[0m\u001b[0;34m\u001b[0m\u001b[0m\n\u001b[1;32m    856\u001b[0m             )\n\u001b[0;32m--> 857\u001b[0;31m         return self._input_request(str(prompt),\n\u001b[0m\u001b[1;32m    858\u001b[0m             \u001b[0mself\u001b[0m\u001b[0;34m.\u001b[0m\u001b[0m_parent_ident\u001b[0m\u001b[0;34m,\u001b[0m\u001b[0;34m\u001b[0m\u001b[0;34m\u001b[0m\u001b[0m\n\u001b[1;32m    859\u001b[0m             \u001b[0mself\u001b[0m\u001b[0;34m.\u001b[0m\u001b[0m_parent_header\u001b[0m\u001b[0;34m,\u001b[0m\u001b[0;34m\u001b[0m\u001b[0;34m\u001b[0m\u001b[0m\n",
      "\u001b[0;32m~/miniconda3/envs/sadie/lib/python3.8/site-packages/ipykernel/kernelbase.py\u001b[0m in \u001b[0;36m_input_request\u001b[0;34m(self, prompt, ident, parent, password)\u001b[0m\n\u001b[1;32m    899\u001b[0m             \u001b[0;32mexcept\u001b[0m \u001b[0mKeyboardInterrupt\u001b[0m\u001b[0;34m:\u001b[0m\u001b[0;34m\u001b[0m\u001b[0;34m\u001b[0m\u001b[0m\n\u001b[1;32m    900\u001b[0m                 \u001b[0;31m# re-raise KeyboardInterrupt, to truncate traceback\u001b[0m\u001b[0;34m\u001b[0m\u001b[0;34m\u001b[0m\u001b[0;34m\u001b[0m\u001b[0m\n\u001b[0;32m--> 901\u001b[0;31m                 \u001b[0;32mraise\u001b[0m \u001b[0mKeyboardInterrupt\u001b[0m\u001b[0;34m(\u001b[0m\u001b[0;34m\"Interrupted by user\"\u001b[0m\u001b[0;34m)\u001b[0m \u001b[0;32mfrom\u001b[0m \u001b[0;32mNone\u001b[0m\u001b[0;34m\u001b[0m\u001b[0;34m\u001b[0m\u001b[0m\n\u001b[0m\u001b[1;32m    902\u001b[0m             \u001b[0;32mexcept\u001b[0m \u001b[0mException\u001b[0m \u001b[0;32mas\u001b[0m \u001b[0me\u001b[0m\u001b[0;34m:\u001b[0m\u001b[0;34m\u001b[0m\u001b[0;34m\u001b[0m\u001b[0m\n\u001b[1;32m    903\u001b[0m                 \u001b[0mself\u001b[0m\u001b[0;34m.\u001b[0m\u001b[0mlog\u001b[0m\u001b[0;34m.\u001b[0m\u001b[0mwarning\u001b[0m\u001b[0;34m(\u001b[0m\u001b[0;34m\"Invalid Message:\"\u001b[0m\u001b[0;34m,\u001b[0m \u001b[0mexc_info\u001b[0m\u001b[0;34m=\u001b[0m\u001b[0;32mTrue\u001b[0m\u001b[0;34m)\u001b[0m\u001b[0;34m\u001b[0m\u001b[0;34m\u001b[0m\u001b[0m\n",
      "\u001b[0;31mKeyboardInterrupt\u001b[0m: Interrupted by user"
     ]
    }
   ],
   "source": [
    "pd.set_option(\"display.max_rows\", 100)\n",
    "for i in range(6,20):\n",
    "    single_entry_diff = (\n",
    "        imgt_comparable.loc[compare[~compare[\"v_gene_top\"]].index]\n",
    "        .iloc[i]\n",
    "        .to_frame()\n",
    "        .join(\n",
    "            sadie_comparable.loc[compare[~compare[\"v_gene_top\"]].index].iloc[i].to_frame(),\n",
    "            rsuffix=\"_sadie\",\n",
    "            lsuffix=\"_imgt\",\n",
    "        )\n",
    "        .join(compare[~compare[\"v_gene_top\"]].iloc[i].to_frame())\n",
    "        .fillna(\"\")\n",
    "    ).loc[check_these]\n",
    "    print(imgt_comparable.loc[compare[~compare[\"v_gene_top\"]].index].iloc[i]['sequence'])\n",
    "    display(HTML(single_entry_diff._repr_html_()))\n",
    "    input()\n",
    "    clear_output()"
   ]
  },
  {
   "cell_type": "code",
   "execution_count": 175,
   "metadata": {},
   "outputs": [
    {
     "data": {
      "text/html": [
       "<div>\n",
       "<style scoped>\n",
       "    .dataframe tbody tr th:only-of-type {\n",
       "        vertical-align: middle;\n",
       "    }\n",
       "\n",
       "    .dataframe tbody tr th {\n",
       "        vertical-align: top;\n",
       "    }\n",
       "\n",
       "    .dataframe thead th {\n",
       "        text-align: right;\n",
       "    }\n",
       "</style>\n",
       "<table border=\"1\" class=\"dataframe\">\n",
       "  <thead>\n",
       "    <tr style=\"text-align: right;\">\n",
       "      <th></th>\n",
       "      <th>sequence_id</th>\n",
       "      <th>sequence</th>\n",
       "      <th>species</th>\n",
       "      <th>locus</th>\n",
       "      <th>stop_codon</th>\n",
       "      <th>vj_in_frame</th>\n",
       "      <th>v_frameshift</th>\n",
       "      <th>productive</th>\n",
       "      <th>rev_comp</th>\n",
       "      <th>complete_vdj</th>\n",
       "      <th>v_call_top</th>\n",
       "      <th>v_call</th>\n",
       "      <th>d_call_top</th>\n",
       "      <th>d_call</th>\n",
       "      <th>j_call_top</th>\n",
       "      <th>j_call</th>\n",
       "      <th>sequence_alignment</th>\n",
       "      <th>germline_alignment</th>\n",
       "      <th>sequence_alignment_aa</th>\n",
       "      <th>germline_alignment_aa</th>\n",
       "      <th>v_alignment_start</th>\n",
       "      <th>v_alignment_end</th>\n",
       "      <th>d_alignment_start</th>\n",
       "      <th>d_alignment_end</th>\n",
       "      <th>j_alignment_start</th>\n",
       "      <th>j_alignment_end</th>\n",
       "      <th>v_sequence_alignment</th>\n",
       "      <th>v_sequence_alignment_aa</th>\n",
       "      <th>v_germline_alignment</th>\n",
       "      <th>v_germline_alignment_aa</th>\n",
       "      <th>d_sequence_alignment</th>\n",
       "      <th>d_sequence_alignment_aa</th>\n",
       "      <th>d_germline_alignment</th>\n",
       "      <th>d_germline_alignment_aa</th>\n",
       "      <th>j_sequence_alignment</th>\n",
       "      <th>j_sequence_alignment_aa</th>\n",
       "      <th>j_germline_alignment</th>\n",
       "      <th>j_germline_alignment_aa</th>\n",
       "      <th>fwr1</th>\n",
       "      <th>fwr1_aa</th>\n",
       "      <th>cdr1</th>\n",
       "      <th>cdr1_aa</th>\n",
       "      <th>fwr2</th>\n",
       "      <th>fwr2_aa</th>\n",
       "      <th>cdr2</th>\n",
       "      <th>cdr2_aa</th>\n",
       "      <th>fwr3</th>\n",
       "      <th>fwr3_aa</th>\n",
       "      <th>fwr4</th>\n",
       "      <th>fwr4_aa</th>\n",
       "      <th>cdr3</th>\n",
       "      <th>cdr3_aa</th>\n",
       "      <th>junction</th>\n",
       "      <th>junction_length</th>\n",
       "      <th>junction_aa</th>\n",
       "      <th>junction_aa_length</th>\n",
       "      <th>v_score</th>\n",
       "      <th>d_score</th>\n",
       "      <th>j_score</th>\n",
       "      <th>v_cigar</th>\n",
       "      <th>d_cigar</th>\n",
       "      <th>j_cigar</th>\n",
       "      <th>v_support</th>\n",
       "      <th>d_support</th>\n",
       "      <th>j_support</th>\n",
       "      <th>v_identity</th>\n",
       "      <th>d_identity</th>\n",
       "      <th>j_identity</th>\n",
       "      <th>v_sequence_start</th>\n",
       "      <th>v_sequence_end</th>\n",
       "      <th>v_germline_start</th>\n",
       "      <th>v_germline_end</th>\n",
       "      <th>d_sequence_start</th>\n",
       "      <th>d_sequence_end</th>\n",
       "      <th>d_germline_start</th>\n",
       "      <th>d_germline_end</th>\n",
       "      <th>j_sequence_start</th>\n",
       "      <th>j_sequence_end</th>\n",
       "      <th>j_germline_start</th>\n",
       "      <th>j_germline_end</th>\n",
       "      <th>fwr1_start</th>\n",
       "      <th>fwr1_end</th>\n",
       "      <th>cdr1_start</th>\n",
       "      <th>cdr1_end</th>\n",
       "      <th>fwr2_start</th>\n",
       "      <th>fwr2_end</th>\n",
       "      <th>cdr2_start</th>\n",
       "      <th>cdr2_end</th>\n",
       "      <th>fwr3_start</th>\n",
       "      <th>fwr3_end</th>\n",
       "      <th>fwr4_start</th>\n",
       "      <th>fwr4_end</th>\n",
       "      <th>cdr3_start</th>\n",
       "      <th>cdr3_end</th>\n",
       "      <th>np1</th>\n",
       "      <th>np1_length</th>\n",
       "      <th>np2</th>\n",
       "      <th>np2_length</th>\n",
       "      <th>vdj_nt</th>\n",
       "      <th>vdj_aa</th>\n",
       "    </tr>\n",
       "  </thead>\n",
       "  <tbody>\n",
       "    <tr>\n",
       "      <th>0</th>\n",
       "      <td>test</td>\n",
       "      <td>CGGGGAGTCTCTGAAGATCTCCTGTGCAGCGTCTGGATTCACGTTC...</td>\n",
       "      <td>human</td>\n",
       "      <td>IGH</td>\n",
       "      <td>False</td>\n",
       "      <td>True</td>\n",
       "      <td>False</td>\n",
       "      <td>True</td>\n",
       "      <td>False</td>\n",
       "      <td>False</td>\n",
       "      <td>IGHV3-33*06</td>\n",
       "      <td>IGHV3-33*06</td>\n",
       "      <td>IGHD5-24*01</td>\n",
       "      <td>IGHD5-24*01</td>\n",
       "      <td>IGHJ4*02</td>\n",
       "      <td>IGHJ4*02</td>\n",
       "      <td>CGGGGAGTCTCTGAAGATCTCCTGTGCAGCGTCTGGATTCACGTTC...</td>\n",
       "      <td>TGGGAGGTCCCTGAGACTCTCCTGTGCAGCGTCTGGATTCACCTTC...</td>\n",
       "      <td>GESLKISCAASGFTFSYFGMHWVRQAPGKGLEWVALIKYDGSNTYH...</td>\n",
       "      <td>GRSLRLSCAASGFTFSSYGMHWVRQAPGKGLEWVAVIWYDGSNKYY...</td>\n",
       "      <td>1</td>\n",
       "      <td>255</td>\n",
       "      <td>269</td>\n",
       "      <td>279</td>\n",
       "      <td>292</td>\n",
       "      <td>338</td>\n",
       "      <td>CGGGGAGTCTCTGAAGATCTCCTGTGCAGCGTCTGGATTCACGTTC...</td>\n",
       "      <td>GESLKISCAASGFTFSYFGMHWVRQAPGKGLEWVALIKYDGSNTYH...</td>\n",
       "      <td>TGGGAGGTCCCTGAGACTCTCCTGTGCAGCGTCTGGATTCACCTTC...</td>\n",
       "      <td>GRSLRLSCAASGFTFSSYGMHWVRQAPGKGLEWVAVIWYDGSNKYY...</td>\n",
       "      <td>TGGCTACAATT</td>\n",
       "      <td>WLQ</td>\n",
       "      <td>TGGCTACAATT</td>\n",
       "      <td>WLQ</td>\n",
       "      <td>CTGCTTTGACTCCTGGGGCCAGGGAACCCTGGTCACCGTCTCCTCAG</td>\n",
       "      <td>CFDSWGQGTLVTVSS</td>\n",
       "      <td>CTACTTTGACTACTGGGGCCAGGGAACCCTGGTCACCGTCTCCTCAG</td>\n",
       "      <td>YFDYWGQGTLVTVSS</td>\n",
       "      <td>CGGGGAGTCTCTGAAGATCTCCTGTGCAGCGTCT</td>\n",
       "      <td>GESLKISCAAS</td>\n",
       "      <td>GGATTCACGTTCAGTTATTTTGGC</td>\n",
       "      <td>GFTFSYFG</td>\n",
       "      <td>ATGCACTGGGTCCGCCAGGCTCCAGGCAAGGGACTGGAGTGGGTGG...</td>\n",
       "      <td>MHWVRQAPGKGLEWVAL</td>\n",
       "      <td>ATAAAGTATGATGGAAGTAATACA</td>\n",
       "      <td>IKYDGSNT</td>\n",
       "      <td>TACCACGCAGACTCCGTGAAGGGCCGATTCACCATCTCCAGAGACA...</td>\n",
       "      <td>YHADSVKGRFTISRDNSKNTLYLQMNSLRPEDTAIYYC</td>\n",
       "      <td>TGGGGCCAGGGAACCCTGGTCACCGTCTCCTCA</td>\n",
       "      <td>WGQGTLVTVSS</td>\n",
       "      <td>GCGAAAGAGATGGATATGCGGTGGCTACAATTTCACGATTTCGGCT...</td>\n",
       "      <td>AKEMDMRWLQFHDFGCFDS</td>\n",
       "      <td>TGTGCGAAAGAGATGGATATGCGGTGGCTACAATTTCACGATTTCG...</td>\n",
       "      <td>63</td>\n",
       "      <td>CAKEMDMRWLQFHDFGCFDSW</td>\n",
       "      <td>21</td>\n",
       "      <td>343.0</td>\n",
       "      <td>21.84375</td>\n",
       "      <td>69.75</td>\n",
       "      <td>41N255M166S</td>\n",
       "      <td>268S7N11M142S2N</td>\n",
       "      <td>291S1N47M83S</td>\n",
       "      <td>4.067000e-96</td>\n",
       "      <td>0.06912</td>\n",
       "      <td>3.339000e-16</td>\n",
       "      <td>89.4375</td>\n",
       "      <td>100.0</td>\n",
       "      <td>95.75</td>\n",
       "      <td>1</td>\n",
       "      <td>255</td>\n",
       "      <td>42</td>\n",
       "      <td>296</td>\n",
       "      <td>269</td>\n",
       "      <td>279</td>\n",
       "      <td>8.0</td>\n",
       "      <td>18.0</td>\n",
       "      <td>292</td>\n",
       "      <td>338</td>\n",
       "      <td>2</td>\n",
       "      <td>48</td>\n",
       "      <td>1</td>\n",
       "      <td>34</td>\n",
       "      <td>35</td>\n",
       "      <td>58</td>\n",
       "      <td>59</td>\n",
       "      <td>109</td>\n",
       "      <td>110</td>\n",
       "      <td>133</td>\n",
       "      <td>134</td>\n",
       "      <td>247</td>\n",
       "      <td>305</td>\n",
       "      <td>337</td>\n",
       "      <td>248</td>\n",
       "      <td>304</td>\n",
       "      <td>GATGGATATGCGG</td>\n",
       "      <td>13</td>\n",
       "      <td>TCACGATTTCGG</td>\n",
       "      <td>12</td>\n",
       "      <td>CGGGGAGTCTCTGAAGATCTCCTGTGCAGCGTCTGGATTCACGTTC...</td>\n",
       "      <td>GESLKISCAASGFTFSYFGMHWVRQAPGKGLEWVALIKYDGSNTYH...</td>\n",
       "    </tr>\n",
       "  </tbody>\n",
       "</table>\n",
       "</div>"
      ],
      "text/plain": [
       "  sequence_id                                           sequence species locus  stop_codon  vj_in_frame  v_frameshift  productive  rev_comp  complete_vdj   v_call_top       v_call   d_call_top       d_call j_call_top    j_call                                 sequence_alignment                                 germline_alignment                              sequence_alignment_aa                              germline_alignment_aa  v_alignment_start  v_alignment_end  d_alignment_start  d_alignment_end  j_alignment_start  j_alignment_end                               v_sequence_alignment                            v_sequence_alignment_aa                               v_germline_alignment                            v_germline_alignment_aa d_sequence_alignment d_sequence_alignment_aa d_germline_alignment d_germline_alignment_aa                             j_sequence_alignment j_sequence_alignment_aa                             j_germline_alignment j_germline_alignment_aa                                fwr1      fwr1_aa                      cdr1   cdr1_aa                                               fwr2            fwr2_aa                      cdr2   cdr2_aa                                               fwr3                                 fwr3_aa                               fwr4      fwr4_aa                                               cdr3              cdr3_aa                                           junction  junction_length            junction_aa  junction_aa_length  v_score   d_score  j_score      v_cigar          d_cigar       j_cigar     v_support  d_support     j_support  v_identity  d_identity  j_identity  v_sequence_start  v_sequence_end  v_germline_start  v_germline_end  d_sequence_start  d_sequence_end  d_germline_start  d_germline_end  j_sequence_start  j_sequence_end  j_germline_start  j_germline_end  fwr1_start  fwr1_end  cdr1_start  cdr1_end  fwr2_start  fwr2_end  cdr2_start  cdr2_end  fwr3_start  fwr3_end  fwr4_start  fwr4_end  cdr3_start  cdr3_end            np1  np1_length           np2  np2_length                                             vdj_nt                                             vdj_aa\n",
       "0        test  CGGGGAGTCTCTGAAGATCTCCTGTGCAGCGTCTGGATTCACGTTC...   human   IGH       False         True         False        True     False         False  IGHV3-33*06  IGHV3-33*06  IGHD5-24*01  IGHD5-24*01   IGHJ4*02  IGHJ4*02  CGGGGAGTCTCTGAAGATCTCCTGTGCAGCGTCTGGATTCACGTTC...  TGGGAGGTCCCTGAGACTCTCCTGTGCAGCGTCTGGATTCACCTTC...  GESLKISCAASGFTFSYFGMHWVRQAPGKGLEWVALIKYDGSNTYH...  GRSLRLSCAASGFTFSSYGMHWVRQAPGKGLEWVAVIWYDGSNKYY...                  1              255                269              279                292              338  CGGGGAGTCTCTGAAGATCTCCTGTGCAGCGTCTGGATTCACGTTC...  GESLKISCAASGFTFSYFGMHWVRQAPGKGLEWVALIKYDGSNTYH...  TGGGAGGTCCCTGAGACTCTCCTGTGCAGCGTCTGGATTCACCTTC...  GRSLRLSCAASGFTFSSYGMHWVRQAPGKGLEWVAVIWYDGSNKYY...          TGGCTACAATT                     WLQ          TGGCTACAATT                     WLQ  CTGCTTTGACTCCTGGGGCCAGGGAACCCTGGTCACCGTCTCCTCAG         CFDSWGQGTLVTVSS  CTACTTTGACTACTGGGGCCAGGGAACCCTGGTCACCGTCTCCTCAG         YFDYWGQGTLVTVSS  CGGGGAGTCTCTGAAGATCTCCTGTGCAGCGTCT  GESLKISCAAS  GGATTCACGTTCAGTTATTTTGGC  GFTFSYFG  ATGCACTGGGTCCGCCAGGCTCCAGGCAAGGGACTGGAGTGGGTGG...  MHWVRQAPGKGLEWVAL  ATAAAGTATGATGGAAGTAATACA  IKYDGSNT  TACCACGCAGACTCCGTGAAGGGCCGATTCACCATCTCCAGAGACA...  YHADSVKGRFTISRDNSKNTLYLQMNSLRPEDTAIYYC  TGGGGCCAGGGAACCCTGGTCACCGTCTCCTCA  WGQGTLVTVSS  GCGAAAGAGATGGATATGCGGTGGCTACAATTTCACGATTTCGGCT...  AKEMDMRWLQFHDFGCFDS  TGTGCGAAAGAGATGGATATGCGGTGGCTACAATTTCACGATTTCG...               63  CAKEMDMRWLQFHDFGCFDSW                  21    343.0  21.84375    69.75  41N255M166S  268S7N11M142S2N  291S1N47M83S  4.067000e-96    0.06912  3.339000e-16     89.4375       100.0       95.75                 1             255                42             296               269             279               8.0            18.0               292             338                 2              48           1        34          35        58          59       109         110       133         134       247         305       337         248       304  GATGGATATGCGG          13  TCACGATTTCGG          12  CGGGGAGTCTCTGAAGATCTCCTGTGCAGCGTCTGGATTCACGTTC...  GESLKISCAASGFTFSYFGMHWVRQAPGKGLEWVALIKYDGSNTYH..."
      ]
     },
     "execution_count": 175,
     "metadata": {},
     "output_type": "execute_result"
    }
   ],
   "source": [
    "airr_api.run_single(\n",
    "    \"test\",\n",
    "    \"CGGGGAGTCTCTGAAGATCTCCTGTGCAGCGTCTGGATTCACGTTCAGTTATTTTGGCATGCACTGGGTCCGCCAGGCTCCAGGCAAGGGACTGGAGTGGGTGGCACTGATAAAGTATGATGGAAGTAATACATACCACGCAGACTCCGTGAAGGGCCGATTCACCATCTCCAGAGACAATTCCAAGAACACACTATATTTGCAAATGAACAGCCTGAGACCCGAGGACACGGCCATATATTACTGTGCGAAAGAGATGGATATGCGGTGGCTACAATTTCACGATTTCGGCTGCTTTGACTCCTGGGGCCAGGGAACCCTGGTCACCGTCTCCTCAGCCTCCACCAAGGGCCCATCGGTCTTCCCCCTGGCGCCCTGCTCCAGGAGCACCTCTGGGGGCACAGCGGCCCTGGGCTGCCTG\",\n",
    ")"
   ]
  },
  {
   "cell_type": "code",
   "execution_count": 176,
   "metadata": {},
   "outputs": [
    {
     "data": {
      "text/plain": [
       "IgBLAST: env IGDATA=/Users/jordanwillis/repos/personal/sadie/src/sadie/airr/data/germlines/imgt/all/Ig /Users/jordanwillis/repos/personal/sadie/src/sadie/airr/bin/darwin/igblastn -min_D_match 5 -num_alignments_V 5 -num_alignments_J 3 -num_alignments_D 3 -organism human -ig_seqtype Ig -germline_db_V /Users/jordanwillis/repos/personal/sadie/src/sadie/airr/data/germlines/imgt/all/Ig/blastdb/human_V -germline_db_D /Users/jordanwillis/repos/personal/sadie/src/sadie/airr/data/germlines/imgt/all/Ig/blastdb/human_D -germline_db_J /Users/jordanwillis/repos/personal/sadie/src/sadie/airr/data/germlines/imgt/all/Ig/blastdb/human_J -auxiliary_data /Users/jordanwillis/repos/personal/sadie/src/sadie/airr/data/germlines/imgt/aux_db/human_gl.aux -outfmt 19 -domain_system imgt -word_size 11 -gapopen 5 -gapextend 2 -J_penalty -1 -V_penalty -2 -num_threads 12 -show_translation -extend_align5end -extend_align3end"
      ]
     },
     "execution_count": 176,
     "metadata": {},
     "output_type": "execute_result"
    }
   ],
   "source": [
    "airr_api"
   ]
  },
  {
   "cell_type": "code",
   "execution_count": 112,
   "metadata": {},
   "outputs": [
    {
     "data": {
      "text/plain": [
       "'CTTCGGAGACCCTGTCCCTCACCTGCGCTGTCTATGGTGGGTCCTTCAGTGGTTACTACTGGGGCTGGATCCGCCAGCCCCCAGGGAAGGGGCTGGAGTGGATTGGGAGTATCTATTATAGTGGGAGCACCTACTACAACCCGTCCCTCAAGAGTCGAGTCACCATATCCGTAGACACGTCCAAGAACCAGTTCTCCCTGAAGCTGAGCTCTGTGACCGCCGCAGACACGGCTGTGTATTACTGTGCGAACGGCCCTATGTATAGTGGGAGCTACGGGTGGTTCGACCCCTGGGGCCAGGGAACCCTGGTCACCGTCTCCTCAGGTAAG'"
      ]
     },
     "execution_count": 112,
     "metadata": {},
     "output_type": "execute_result"
    }
   ],
   "source": [
    "imgt_comparable.loc[55, \"sequence\"]"
   ]
  },
  {
   "cell_type": "markdown",
   "metadata": {},
   "source": [
    "## Read OAS"
   ]
  },
  {
   "cell_type": "code",
   "execution_count": 22,
   "metadata": {},
   "outputs": [],
   "source": [
    "df_bz2 = pd.read_csv(\n",
    "    \"https://sadie.s3.us-east-2.amazonaws.com/integration/OAS_sample_subsample.bz2\",\n",
    "    index_col=0,\n",
    ").reset_index()\n",
    "\n",
    "sub_sample_file = \"../../tests/integration/airr/fixtures/OAS_subsample.fasta\"\n",
    "with open(\"../../tests/integration/airr/fixtures/OAS_subsample.fasta\", \"w\") as f:\n",
    "    for index, (i, k, j) in enumerate(\n",
    "        zip(\n",
    "            df_bz2[\"OAS_dataunit\"].str.split(\".csv.gz\").str.get(0),\n",
    "            df_bz2[\"OAS_dataindex\"],\n",
    "            df_bz2[\"sequence\"],\n",
    "        )\n",
    "    ):\n",
    "        f.write(f\">{index}_{i}_{k}\\n{j}\\n\")"
   ]
  },
  {
   "cell_type": "code",
   "execution_count": 32,
   "metadata": {},
   "outputs": [
    {
     "name": "stderr",
     "output_type": "stream",
     "text": [
      "/Users/jordanwillis/miniconda3/envs/sadie/lib/python3.8/site-packages/IPython/core/interactiveshell.py:3146: DtypeWarning: Columns (27,43,44,45,46,71,105) have mixed types.Specify dtype option on import or set low_memory=False.\n",
      "  has_raised = await self.run_ast_nodes(code_ast.body, cell_name,\n"
     ]
    }
   ],
   "source": [
    "df_bz2 = pd.read_csv(\n",
    "    \"https://sadie.s3.us-east-2.amazonaws.com/integration/OAS_sample_subsample_good_anarci.csv.bz2\",\n",
    "    index_col=0,\n",
    ").reset_index()\n",
    "\n",
    "sub_sample_file = (\n",
    "    \"../../tests/integration/airr/fixtures/OAS_subsample_good_anarci.fasta\"\n",
    ")\n",
    "with open(\n",
    "    \"../../tests/integration/airr/fixtures/OAS_subsample_good_anarci.fasta\", \"w\"\n",
    ") as f:\n",
    "    for index, (i, k, j) in enumerate(\n",
    "        zip(\n",
    "            df_bz2[\"OAS_dataunit\"].str.split(\".csv.gz\").str.get(0),\n",
    "            df_bz2[\"OAS_dataindex\"],\n",
    "            df_bz2[\"sequence\"],\n",
    "        )\n",
    "    ):\n",
    "        f.write(f\">{index}_{i}_{k}\\n{j}\\n\")"
   ]
  },
  {
   "cell_type": "markdown",
   "metadata": {},
   "source": [
    "## IMGT HI-Vqeust \"AIRR\" format"
   ]
  },
  {
   "cell_type": "code",
   "execution_count": 17,
   "metadata": {},
   "outputs": [],
   "source": [
    "spread.df_to_sheet(\n",
    "    imgt_df.head(100).set_index(\"sequence_id\"),\n",
    "    sheet=\"imgt\",\n",
    "    replace=True,\n",
    "    freeze_headers=True,\n",
    "    freeze_index=True,\n",
    ")"
   ]
  },
  {
   "cell_type": "code",
   "execution_count": null,
   "metadata": {},
   "outputs": [],
   "source": [
    "# spreadable_df = fillna(sadie_airr.table.head(100))\n",
    "spread.df_to_sheet(\n",
    "    spreadable_df.set_index(\"sequence_id\"),\n",
    "    sheet=\"sadie\",\n",
    "    replace=True,\n",
    "    freeze_headers=True,\n",
    "    freeze_index=True,\n",
    ")"
   ]
  },
  {
   "cell_type": "markdown",
   "metadata": {},
   "source": [
    "## Clean UP IMGT"
   ]
  },
  {
   "cell_type": "markdown",
   "metadata": {},
   "source": [
    "## Clean up sadie"
   ]
  },
  {
   "cell_type": "code",
   "execution_count": 358,
   "metadata": {},
   "outputs": [
    {
     "data": {
      "text/plain": [
       "fwr1     True\n",
       "cdr1     True\n",
       "fwr2     True\n",
       "cdr2    False\n",
       "fwr3     True\n",
       "cdr3     True\n",
       "Name: 99, dtype: bool"
      ]
     },
     "execution_count": 358,
     "metadata": {},
     "output_type": "execute_result"
    }
   ],
   "source": [
    "ref[check_these] == target[check_these]"
   ]
  },
  {
   "cell_type": "code",
   "execution_count": 362,
   "metadata": {},
   "outputs": [
    {
     "data": {
      "text/plain": [
       "'ISGSRTYI'"
      ]
     },
     "execution_count": 362,
     "metadata": {},
     "output_type": "execute_result"
    }
   ],
   "source": [
    "ref[\"cdr2_aa\"]"
   ]
  },
  {
   "cell_type": "code",
   "execution_count": 363,
   "metadata": {},
   "outputs": [
    {
     "data": {
      "text/plain": [
       "'ISGSFRTYI'"
      ]
     },
     "execution_count": 363,
     "metadata": {},
     "output_type": "execute_result"
    }
   ],
   "source": [
    "target[\"cdr2_aa\"]"
   ]
  },
  {
   "cell_type": "code",
   "execution_count": 361,
   "metadata": {},
   "outputs": [
    {
     "data": {
      "text/plain": [
       "'TACCTTGACTTAACTCTTGGGGGTCTGGGGGAGGCCTGGTCAAGCCTGGGGGGTCCCTGAGACTCTCATGTGCAGCCTCTGGATTCACCTTCAGTAGTTTTACCATGAATTGGGTCCGCCAGGCTCCAGGGAAGGGACTGGAGTGGGTCTCATCCATTAGCGGCAGTTTCAGAACTTACATATATTATGCCGACTCAGTGAAGGGCCGATTCACCGTCTCCAGAGACAACGCCAAGGAATTGGTGTTTCTGCAGATGGACAACCTGAGAGTCGAAGACACAGGTGTATATTATTGTGCGAGAGACCTAAATACGGTGACTACCCCAGAATACTTCCAACACTGGGGCCTGGGCACCCCGGTCTCCGTCTCCTCAGCATCCCCGACCAGCCCCAAGGTCTTCCCGCTG'"
      ]
     },
     "execution_count": 361,
     "metadata": {},
     "output_type": "execute_result"
    }
   ],
   "source": [
    "ref[\"sequence\"]"
   ]
  },
  {
   "cell_type": "code",
   "execution_count": 355,
   "metadata": {},
   "outputs": [
    {
     "data": {
      "text/plain": [
       "'ATCAACCCTAGTGGTGATAACACA'"
      ]
     },
     "execution_count": 355,
     "metadata": {},
     "output_type": "execute_result"
    }
   ],
   "source": [
    "target[\"cdr2\"]"
   ]
  },
  {
   "cell_type": "code",
   "execution_count": 344,
   "metadata": {},
   "outputs": [
    {
     "data": {
      "text/plain": [
       "'TGGGGCCAGGGAACC'"
      ]
     },
     "execution_count": 344,
     "metadata": {},
     "output_type": "execute_result"
    }
   ],
   "source": [
    "ref[\"fwr4\"]"
   ]
  },
  {
   "cell_type": "code",
   "execution_count": 345,
   "metadata": {},
   "outputs": [
    {
     "data": {
      "text/plain": [
       "'TGGGGCCAGGGAACCCT'"
      ]
     },
     "execution_count": 345,
     "metadata": {},
     "output_type": "execute_result"
    }
   ],
   "source": [
    "\n",
    "target[\"fwr4\"]"
   ]
  },
  {
   "cell_type": "code",
   "execution_count": 342,
   "metadata": {},
   "outputs": [
    {
     "data": {
      "text/plain": [
       "fwr1     True\n",
       "cdr1     True\n",
       "fwr2     True\n",
       "cdr2     True\n",
       "fwr3     True\n",
       "cdr3     True\n",
       "fwr4    False\n",
       "Name: 3, dtype: bool"
      ]
     },
     "execution_count": 342,
     "metadata": {},
     "output_type": "execute_result"
    }
   ],
   "source": [
    "ref[check_these] == target[check_these]"
   ]
  },
  {
   "cell_type": "code",
   "execution_count": 328,
   "metadata": {},
   "outputs": [
    {
     "data": {
      "text/plain": [
       "33"
      ]
     },
     "execution_count": 328,
     "metadata": {},
     "output_type": "execute_result"
    }
   ],
   "source": [
    "len(ref[\"fwr4\"])"
   ]
  },
  {
   "cell_type": "code",
   "execution_count": 320,
   "metadata": {},
   "outputs": [
    {
     "data": {
      "text/plain": [
       "'IGHV4-31*02'"
      ]
     },
     "execution_count": 320,
     "metadata": {},
     "output_type": "execute_result"
    }
   ],
   "source": [
    "ref[\"v_call_top\"]"
   ]
  },
  {
   "cell_type": "code",
   "execution_count": 321,
   "metadata": {},
   "outputs": [
    {
     "data": {
      "text/plain": [
       "'IGHV4-31*02'"
      ]
     },
     "execution_count": 321,
     "metadata": {},
     "output_type": "execute_result"
    }
   ],
   "source": [
    "target[\"v_call_top\"]"
   ]
  },
  {
   "cell_type": "code",
   "execution_count": 303,
   "metadata": {},
   "outputs": [
    {
     "data": {
      "text/plain": [
       "'IGHJ4*02'"
      ]
     },
     "execution_count": 303,
     "metadata": {},
     "output_type": "execute_result"
    }
   ],
   "source": [
    "ref[\"j_call_top\"]"
   ]
  },
  {
   "cell_type": "code",
   "execution_count": 304,
   "metadata": {},
   "outputs": [
    {
     "data": {
      "text/plain": [
       "'IGHJ4*02'"
      ]
     },
     "execution_count": 304,
     "metadata": {},
     "output_type": "execute_result"
    }
   ],
   "source": [
    "target[\"j_call_top\"]"
   ]
  },
  {
   "cell_type": "code",
   "execution_count": 330,
   "metadata": {},
   "outputs": [
    {
     "data": {
      "text/plain": [
       "33"
      ]
     },
     "execution_count": 330,
     "metadata": {},
     "output_type": "execute_result"
    }
   ],
   "source": [
    "len(target[\"fwr4\"])"
   ]
  },
  {
   "cell_type": "code",
   "execution_count": 331,
   "metadata": {},
   "outputs": [
    {
     "data": {
      "text/plain": [
       "33"
      ]
     },
     "execution_count": 331,
     "metadata": {},
     "output_type": "execute_result"
    }
   ],
   "source": [
    "len(ref[\"fwr4\"])"
   ]
  },
  {
   "cell_type": "code",
   "execution_count": null,
   "metadata": {},
   "outputs": [],
   "source": [
    "TGGGGCCAGGGAACCCTGGTCACCGTCGCCTCAG\n",
    "TGGGGCCAGGGAACCCTGGTCACCGTCGCCTCA"
   ]
  },
  {
   "cell_type": "code",
   "execution_count": 312,
   "metadata": {},
   "outputs": [
    {
     "data": {
      "text/plain": [
       "Seq('WGQGTLVTVAS')"
      ]
     },
     "execution_count": 312,
     "metadata": {},
     "output_type": "execute_result"
    }
   ],
   "source": [
    "from Bio.Seq import Seq\n",
    "\n",
    "Seq(\"tggggccagggaaccctggtcaccgtcgcctca\").translate()"
   ]
  },
  {
   "cell_type": "code",
   "execution_count": 317,
   "metadata": {},
   "outputs": [],
   "source": []
  },
  {
   "cell_type": "code",
   "execution_count": 308,
   "metadata": {},
   "outputs": [
    {
     "data": {
      "text/plain": [
       "'GGCCTCAGTGAAGGTCTCCTGCAAGGCATCTGGATACACCTTCACCAACCACTACATCCACTGGGTGCGACAGGCCCCTGGACAAGGGCTTGAGTGGATGGGAATAATCAACCCTAGTGGTGGTAGGACAAGTCACGTACAGGAGTTCCAGGGCAGAGTCACCATGACCAGGGACACGTCCACGAGTACTGTCTACATGGAGTTGAGTAGCCTGAGATCTGAGGACACGGCCGTGTACTTTTGTGCGAGACAACAGTGTAGTGCTTCCAACTGCTATGAGGAGAGTTTTGACCACTGGGGCCAGGGAACCCTGGTCACCGTCGCCTCAGCCTCCACACAGAGCCCATCCGTCTTC'"
      ]
     },
     "execution_count": 308,
     "metadata": {},
     "output_type": "execute_result"
    }
   ],
   "source": [
    "ref[\"sequence\"]"
   ]
  },
  {
   "cell_type": "code",
   "execution_count": 298,
   "metadata": {},
   "outputs": [
    {
     "data": {
      "text/plain": [
       "fwr1     True\n",
       "cdr1     True\n",
       "fwr2     True\n",
       "cdr2     True\n",
       "fwr3     True\n",
       "cdr3     True\n",
       "fwr4    False\n",
       "Name: 1_705010661_igblastn_anarci_Heavy_IGHE_1125, dtype: bool"
      ]
     },
     "execution_count": 298,
     "metadata": {},
     "output_type": "execute_result"
    }
   ],
   "source": [
    "target[check_these] == ref[check_these]"
   ]
  },
  {
   "cell_type": "code",
   "execution_count": 242,
   "metadata": {},
   "outputs": [
    {
     "data": {
      "text/plain": [
       "'ACTGTCTCTGGTGGCTCCATCAGCAGTGGTGGTTACTACTGGAGCTGGATCCGCCAGCACCCAGGGAAGGGCCTGGAGTGGATTGGGTACATCTATTACAGTGGGAGCACCTACTACAACCCGTCCCTCAAGAGTCGAGTTACCATATCAGTAGACACGTCTAAGAACCAGTTCTCCCTGAAGCTGAGCTCTGTGACTGCCGCGGACACGGCCGTGTATTACTGTGCGANNNNNNNNNAACTCCNNNNTGATGCTTTTGATATCTGGGGCCAAGGGACAATGGTCACCGTCTCTTCA'"
      ]
     },
     "execution_count": 242,
     "metadata": {},
     "output_type": "execute_result"
    }
   ],
   "source": []
  },
  {
   "cell_type": "code",
   "execution_count": 193,
   "metadata": {},
   "outputs": [
    {
     "name": "stderr",
     "output_type": "stream",
     "text": [
      "<ipython-input-192-d3342252a2a0>:16: DeprecationWarning: Numeric-style type codes are deprecated and will result in an error in the future.\n",
      "  df.dtypes.apply(lambda x: x in [\"float64\", \"Int16\"])\n"
     ]
    }
   ],
   "source": [
    "spread.df_to_sheet(\n",
    "    fillna(top_100_sadie_airr_only),\n",
    "    sheet=\"sadie_airr_only\",\n",
    "    freeze_headers=True,\n",
    "    freeze_index=True,\n",
    "    replace=True,\n",
    ")"
   ]
  },
  {
   "cell_type": "code",
   "execution_count": 213,
   "metadata": {},
   "outputs": [
    {
     "name": "stderr",
     "output_type": "stream",
     "text": [
      "<ipython-input-210-72c7d47bbfa2>:16: DeprecationWarning: Numeric-style type codes are deprecated and will result in an error in the future.\n",
      "  df.dtypes.apply(lambda x: x in [\"float64\", \"Int16\", \"Int64\"])\n"
     ]
    }
   ],
   "source": [
    "spread.df_to_sheet(\n",
    "    fillna(top_100_imgt_airr_only),\n",
    "    sheet=\"imgt_airr_only\",\n",
    "    freeze_headers=True,\n",
    "    freeze_index=True,\n",
    "    replace=True,\n",
    ")"
   ]
  },
  {
   "cell_type": "code",
   "execution_count": 229,
   "metadata": {},
   "outputs": [],
   "source": []
  },
  {
   "cell_type": "code",
   "execution_count": 232,
   "metadata": {},
   "outputs": [
    {
     "data": {
      "text/plain": [
       "germline_alignment         ACTGTCTCTGGTGGCTCCATCAGCAGTGGTGGTTACTACTGGAGCT...\n",
       "germline_alignment_aa      TVSGGSISSGGYYWSWIRQHPGKGLEWIGYIYYSGSTYYNPSLKSR...\n",
       "v_alignment_end                                                       316.00\n",
       "v_germline_start                                                        1.00\n",
       "v_germline_end                                                        316.00\n",
       "v_identity                                                             82.22\n",
       "d_alignment_start                                                     325.00\n",
       "d_alignment_end                                                       334.00\n",
       "d_germline_alignment                                              CAACTGGAAC\n",
       "d_germline_alignment_aa                                                  QLE\n",
       "d_germline_start                                                        5.00\n",
       "d_germline_end                                                         14.00\n",
       "d_identity                                                              0.00\n",
       "d_sequence_alignment                                              CAACTCCAAC\n",
       "d_sequence_alignment_aa                                                  QLQ\n",
       "d_sequence_start                                                      238.00\n",
       "d_sequence_end                                                        247.00\n",
       "j_alignment_start                                                     336.00\n",
       "j_alignment_end                                                       384.00\n",
       "j_identity                                                             93.88\n",
       "junction                       tgtgcgacctggacccaactccaacttgatgcttttgatatgtgg\n",
       "np1                                                                 CCTGGACC\n",
       "np1_length                                                              8.00\n",
       "np2                                                                        T\n",
       "np2_length                                                              1.00\n",
       "d_call_top                                                        IGHD1-1*01\n",
       "Name: 0_G_d22_H_igblastn_anarci_Heavy_IGHA_219, dtype: object"
      ]
     },
     "execution_count": 232,
     "metadata": {},
     "output_type": "execute_result"
    }
   ],
   "source": []
  },
  {
   "cell_type": "markdown",
   "metadata": {},
   "source": [
    "## Try and find OAS similariities\n",
    "\n",
    "I'm suspect of the entire airr file since it doesn't have fwr4"
   ]
  },
  {
   "cell_type": "code",
   "execution_count": null,
   "metadata": {},
   "outputs": [],
   "source": [
    "df_bz2 = pd.read_csv(\n",
    "    \"https://sadie.s3.us-east-2.amazonaws.com/integration/OAS_sample_subsample.bz2\",\n",
    "    index_col=0,\n",
    ").reset_index()"
   ]
  },
  {
   "cell_type": "code",
   "execution_count": null,
   "metadata": {},
   "outputs": [],
   "source": []
  },
  {
   "cell_type": "code",
   "execution_count": null,
   "metadata": {},
   "outputs": [],
   "source": [
    "airr_dataframe = airr_api.run_dataframe(df_bz2, \"index\", \"sequence\")"
   ]
  },
  {
   "cell_type": "code",
   "execution_count": null,
   "metadata": {},
   "outputs": [],
   "source": [
    "ref = df_bz2[df_bz2.columns.intersection(airr_dataframe.table.columns)].drop(\n",
    "    \"sequence_id\", axis=1\n",
    ")\n",
    "target = airr_dataframe.table[\n",
    "    airr_dataframe.table.columns.intersection(df_bz2.columns)\n",
    "].drop(\"sequence_id\", axis=1)"
   ]
  },
  {
   "cell_type": "code",
   "execution_count": null,
   "metadata": {},
   "outputs": [],
   "source": [
    "ref.re"
   ]
  },
  {
   "cell_type": "code",
   "execution_count": null,
   "metadata": {},
   "outputs": [],
   "source": [
    "for index in ref.index:\n",
    "    sub_ref = ref.loc[index]\n",
    "    sub_target = target.loc[index]\n",
    "    aggree = sub_ref[sub_ref == sub_target].index\n",
    "    disagree = sub_ref[sub_ref != sub_target].index\n",
    "    if disagree.empty:\n",
    "        print('yay')\n",
    "    for dis_index in disagree:\n",
    "        print(f\"OAR-{dis_index}:{sub_ref[dis_index]}\")\n",
    "        print(f\"Sadie-{dis_index}:{sub_target[dis_index]}\\n\")\n",
    "\n",
    "    break"
   ]
  },
  {
   "cell_type": "code",
   "execution_count": null,
   "metadata": {},
   "outputs": [],
   "source": [
    "disagree"
   ]
  },
  {
   "cell_type": "code",
   "execution_count": null,
   "metadata": {},
   "outputs": [],
   "source": [
    "from pandas.testing import assert_series_equal"
   ]
  },
  {
   "cell_type": "markdown",
   "metadata": {},
   "source": [
    "# Get IMGT airr"
   ]
  },
  {
   "cell_type": "code",
   "execution_count": null,
   "metadata": {},
   "outputs": [],
   "source": [
    "imgt_airr = \"../../tests/integration/airr/fixtures/OAS_airr_from_imgtvquest.tsv\"\n",
    "imgt_df = pd.read_csv(imgt_airr, delimiter=\"\\t\")"
   ]
  },
  {
   "cell_type": "code",
   "execution_count": null,
   "metadata": {},
   "outputs": [],
   "source": [
    "spread.df_to_sheet(imgt_df, sheet=\"imgt_airr\")"
   ]
  },
  {
   "cell_type": "code",
   "execution_count": null,
   "metadata": {},
   "outputs": [],
   "source": []
  }
 ],
 "metadata": {
  "kernelspec": {
   "display_name": "Python 3.8 Sadie",
   "language": "python",
   "name": "sadie"
  },
  "language_info": {
   "codemirror_mode": {
    "name": "ipython",
    "version": 3
   },
   "file_extension": ".py",
   "mimetype": "text/x-python",
   "name": "python",
   "nbconvert_exporter": "python",
   "pygments_lexer": "ipython3",
   "version": "3.8.6"
  }
 },
 "nbformat": 4,
 "nbformat_minor": 4
}
