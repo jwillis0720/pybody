{
 "cells": [
  {
   "cell_type": "code",
   "execution_count": 18,
   "metadata": {},
   "outputs": [],
   "source": [
    "import pandas as pd\n",
    "\n",
    "import os\n",
    "import glob"
   ]
  },
  {
   "cell_type": "code",
   "execution_count": 64,
   "metadata": {},
   "outputs": [
    {
     "data": {
      "text/plain": [
       "['/Users/jordanwillis/repos/personal/sadie/tests/reference/fixtures/igblast_aux/mouse_gl.aux',\n",
       " '/Users/jordanwillis/repos/personal/sadie/tests/reference/fixtures/igblast_aux/rabbit_gl.aux',\n",
       " '/Users/jordanwillis/repos/personal/sadie/tests/reference/fixtures/igblast_aux/rhesus_monkey_gl.aux',\n",
       " '/Users/jordanwillis/repos/personal/sadie/tests/reference/fixtures/igblast_aux/human_gl.aux',\n",
       " '/Users/jordanwillis/repos/personal/sadie/tests/reference/fixtures/igblast_aux/rat_gl.aux']"
      ]
     },
     "execution_count": 64,
     "metadata": {},
     "output_type": "execute_result"
    }
   ],
   "source": [
    "aux_path = glob.glob('../../sadie/airr/data/germlines/**/*.aux',recursive=True)\n",
    "their_aux_path = glob.glob('/Users/jordanwillis/repos/personal/sadie/tests/reference/fixtures/igblast_aux/**.aux')\n",
    "their_aux_path"
   ]
  },
  {
   "cell_type": "code",
   "execution_count": 89,
   "metadata": {},
   "outputs": [],
   "source": [
    "my_aux = []\n",
    "for file in aux_path:\n",
    "    df = pd.read_csv(file,skip_blank_lines=True,delimiter='\\t',header=None,names=['gene','reading_frame','segment','cdr3_end','left_over'])\n",
    "    df.insert(0,'common',os.path.basename(file).split('_')[0])\n",
    "    df.insert(1,'db_type',file.split('/')[-4] )\n",
    "    my_aux.append(df)\n",
    "my_aux = pd.concat(my_aux).reset_index(drop=True).set_index(['common','db_type','gene'])"
   ]
  },
  {
   "cell_type": "code",
   "execution_count": 90,
   "metadata": {},
   "outputs": [],
   "source": [
    "their_aux = []\n",
    "for file in their_aux_path:\n",
    "    df = pd.read_csv(file,skip_blank_lines=True,delim_whitespace=True,skiprows=2,header=None,names=['gene','reading_frame','segment','cdr3_end','left_over'])\n",
    "    df.insert(0,'common',os.path.basename(file).split('_')[0])\n",
    "    df.insert(1,'db_type','imgt')\n",
    "    their_aux.append(df)\n",
    "their_aux = pd.concat(their_aux).reset_index(drop=True).set_index(['common','db_type','gene'])"
   ]
  },
  {
   "cell_type": "code",
   "execution_count": 95,
   "metadata": {},
   "outputs": [],
   "source": [
    "common_index = my_aux.index.intersection(their_aux.index)"
   ]
  },
  {
   "cell_type": "code",
   "execution_count": 121,
   "metadata": {},
   "outputs": [],
   "source": [
    "i_dont_have = their_aux.index.difference(my_aux.index)"
   ]
  },
  {
   "cell_type": "code",
   "execution_count": 123,
   "metadata": {},
   "outputs": [],
   "source": [
    "they_dont_have = my_aux.index.difference(their_aux.index)"
   ]
  },
  {
   "cell_type": "code",
   "execution_count": 124,
   "metadata": {},
   "outputs": [
    {
     "data": {
      "text/plain": [
       "MultiIndex([( 'alpaca',   'imgt', 'IGHJ1*01'),\n",
       "            ( 'alpaca',   'imgt', 'IGHJ2*01'),\n",
       "            ( 'alpaca',   'imgt', 'IGHJ3*01'),\n",
       "            ( 'alpaca',   'imgt', 'IGHJ4*01'),\n",
       "            ( 'alpaca',   'imgt', 'IGHJ5*01'),\n",
       "            ( 'alpaca',   'imgt', 'IGHJ6*01'),\n",
       "            ( 'alpaca',   'imgt', 'IGHJ7*01'),\n",
       "            (    'cat', 'custom', 'IGKJ1*01'),\n",
       "            (    'cat', 'custom', 'IGKJ2*01'),\n",
       "            (    'cat', 'custom', 'IGKJ3*01'),\n",
       "            ...\n",
       "            ('macaque',   'imgt', 'IGKJ2*01'),\n",
       "            ('macaque',   'imgt', 'IGKJ3*01'),\n",
       "            ('macaque',   'imgt', 'IGKJ4*01'),\n",
       "            ('macaque',   'imgt', 'IGKJ5*01'),\n",
       "            ('macaque',   'imgt', 'IGLJ1*01'),\n",
       "            ('macaque',   'imgt', 'IGLJ2*01'),\n",
       "            ('macaque',   'imgt', 'IGLJ3*01'),\n",
       "            ('macaque',   'imgt', 'IGLJ4*01'),\n",
       "            ('macaque',   'imgt', 'IGLJ5*01'),\n",
       "            ('macaque',   'imgt', 'IGLJ6*01')],\n",
       "           names=['common', 'db_type', 'gene'], length=105)"
      ]
     },
     "execution_count": 124,
     "metadata": {},
     "output_type": "execute_result"
    }
   ],
   "source": [
    "they_dont_have"
   ]
  },
  {
   "cell_type": "code",
   "execution_count": 100,
   "metadata": {},
   "outputs": [],
   "source": [
    "their_aux_common_index = their_aux.loc[common_index]"
   ]
  },
  {
   "cell_type": "code",
   "execution_count": 101,
   "metadata": {},
   "outputs": [],
   "source": [
    "my_aux_common_index = my_aux.loc[common_index]"
   ]
  },
  {
   "cell_type": "code",
   "execution_count": 120,
   "metadata": {},
   "outputs": [
    {
     "name": "stdout",
     "output_type": "stream",
     "text": [
      "('mouse', 'imgt', 'IGLJ4*01') is exception\n",
      "('rabbit', 'imgt', 'IGHJ3*02') is exception\n"
     ]
    }
   ],
   "source": [
    "known_aux_exceptions = {(\"mouse\", \"imgt\", \"IGLJ4*01\"):'igblast has wrong number of c-term remaining',\n",
    "                        ('rabbit', 'imgt', 'IGHJ3*02'):'igblast has wrong reading frame'}\n",
    "for index in my_aux_common_index.index:\n",
    "    try:\n",
    "        pd._testing.assert_series_equal(their_aux_common_index.loc[index],my_aux_common_index.loc[index])\n",
    "    except AssertionError:\n",
    "        if index in known_aux_exceptions.keys():\n",
    "            print(index,'is exception')\n",
    "            continue\n",
    "        else:\n",
    "            pd._testing.assert_series_equal(their_aux_common_index.loc[index],my_aux_common_index.loc[index],obj=index)"
   ]
  },
  {
   "cell_type": "code",
   "execution_count": 116,
   "metadata": {},
   "outputs": [
    {
     "data": {
      "text/plain": [
       "('rabbit', 'imgt', 'IGHJ3*02')"
      ]
     },
     "execution_count": 116,
     "metadata": {},
     "output_type": "execute_result"
    }
   ],
   "source": [
    "index"
   ]
  },
  {
   "cell_type": "code",
   "execution_count": 107,
   "metadata": {},
   "outputs": [
    {
     "data": {
      "text/plain": [
       "reading_frame     1\n",
       "segment          JL\n",
       "cdr3_end          6\n",
       "left_over         1\n",
       "Name: (mouse, imgt, IGLJ4*01), dtype: object"
      ]
     },
     "execution_count": 107,
     "metadata": {},
     "output_type": "execute_result"
    }
   ],
   "source": [
    "their_aux_common_index.loc[index]"
   ]
  },
  {
   "cell_type": "code",
   "execution_count": 111,
   "metadata": {},
   "outputs": [
    {
     "data": {
      "text/plain": [
       "reading_frame     True\n",
       "segment           True\n",
       "cdr3_end          True\n",
       "left_over        False\n",
       "Name: (mouse, imgt, IGLJ4*01), dtype: bool"
      ]
     },
     "execution_count": 111,
     "metadata": {},
     "output_type": "execute_result"
    }
   ],
   "source": [
    "my_aux_common_index.loc[index] == their_aux_common_index.loc[index])"
   ]
  },
  {
   "cell_type": "code",
   "execution_count": 110,
   "metadata": {},
   "outputs": [
    {
     "data": {
      "text/html": [
       "<div>\n",
       "<style scoped>\n",
       "    .dataframe tbody tr th:only-of-type {\n",
       "        vertical-align: middle;\n",
       "    }\n",
       "\n",
       "    .dataframe tbody tr th {\n",
       "        vertical-align: top;\n",
       "    }\n",
       "\n",
       "    .dataframe thead th {\n",
       "        text-align: right;\n",
       "    }\n",
       "</style>\n",
       "<table border=\"1\" class=\"dataframe\">\n",
       "  <thead>\n",
       "    <tr style=\"text-align: right;\">\n",
       "      <th></th>\n",
       "      <th></th>\n",
       "      <th></th>\n",
       "      <th>reading_frame</th>\n",
       "      <th>segment</th>\n",
       "      <th>cdr3_end</th>\n",
       "      <th>left_over</th>\n",
       "    </tr>\n",
       "    <tr>\n",
       "      <th>common</th>\n",
       "      <th>db_type</th>\n",
       "      <th>gene</th>\n",
       "      <th></th>\n",
       "      <th></th>\n",
       "      <th></th>\n",
       "      <th></th>\n",
       "    </tr>\n",
       "  </thead>\n",
       "  <tbody>\n",
       "    <tr>\n",
       "      <th rowspan=\"5\" valign=\"top\">mouse</th>\n",
       "      <th rowspan=\"5\" valign=\"top\">imgt</th>\n",
       "      <th>IGHJ1*01</th>\n",
       "      <td>True</td>\n",
       "      <td>True</td>\n",
       "      <td>True</td>\n",
       "      <td>True</td>\n",
       "    </tr>\n",
       "    <tr>\n",
       "      <th>IGHJ1*02</th>\n",
       "      <td>True</td>\n",
       "      <td>True</td>\n",
       "      <td>True</td>\n",
       "      <td>True</td>\n",
       "    </tr>\n",
       "    <tr>\n",
       "      <th>IGHJ1*03</th>\n",
       "      <td>True</td>\n",
       "      <td>True</td>\n",
       "      <td>True</td>\n",
       "      <td>True</td>\n",
       "    </tr>\n",
       "    <tr>\n",
       "      <th>IGHJ2*01</th>\n",
       "      <td>True</td>\n",
       "      <td>True</td>\n",
       "      <td>True</td>\n",
       "      <td>True</td>\n",
       "    </tr>\n",
       "    <tr>\n",
       "      <th>IGHJ2*02</th>\n",
       "      <td>True</td>\n",
       "      <td>True</td>\n",
       "      <td>True</td>\n",
       "      <td>True</td>\n",
       "    </tr>\n",
       "    <tr>\n",
       "      <th>...</th>\n",
       "      <th>...</th>\n",
       "      <th>...</th>\n",
       "      <td>...</td>\n",
       "      <td>...</td>\n",
       "      <td>...</td>\n",
       "      <td>...</td>\n",
       "    </tr>\n",
       "    <tr>\n",
       "      <th rowspan=\"5\" valign=\"top\">rat</th>\n",
       "      <th rowspan=\"5\" valign=\"top\">imgt</th>\n",
       "      <th>IGKJ5*01</th>\n",
       "      <td>True</td>\n",
       "      <td>True</td>\n",
       "      <td>True</td>\n",
       "      <td>True</td>\n",
       "    </tr>\n",
       "    <tr>\n",
       "      <th>IGLJ1*01</th>\n",
       "      <td>True</td>\n",
       "      <td>True</td>\n",
       "      <td>True</td>\n",
       "      <td>True</td>\n",
       "    </tr>\n",
       "    <tr>\n",
       "      <th>IGLJ2*01</th>\n",
       "      <td>True</td>\n",
       "      <td>True</td>\n",
       "      <td>True</td>\n",
       "      <td>True</td>\n",
       "    </tr>\n",
       "    <tr>\n",
       "      <th>IGLJ3*01</th>\n",
       "      <td>True</td>\n",
       "      <td>True</td>\n",
       "      <td>True</td>\n",
       "      <td>True</td>\n",
       "    </tr>\n",
       "    <tr>\n",
       "      <th>IGLJ4*01</th>\n",
       "      <td>True</td>\n",
       "      <td>True</td>\n",
       "      <td>True</td>\n",
       "      <td>True</td>\n",
       "    </tr>\n",
       "  </tbody>\n",
       "</table>\n",
       "<p>103 rows × 4 columns</p>\n",
       "</div>"
      ],
      "text/plain": [
       "                         reading_frame  segment  cdr3_end  left_over\n",
       "common db_type gene                                                 \n",
       "mouse  imgt    IGHJ1*01           True     True      True       True\n",
       "               IGHJ1*02           True     True      True       True\n",
       "               IGHJ1*03           True     True      True       True\n",
       "               IGHJ2*01           True     True      True       True\n",
       "               IGHJ2*02           True     True      True       True\n",
       "...                                ...      ...       ...        ...\n",
       "rat    imgt    IGKJ5*01           True     True      True       True\n",
       "               IGLJ1*01           True     True      True       True\n",
       "               IGLJ2*01           True     True      True       True\n",
       "               IGLJ3*01           True     True      True       True\n",
       "               IGLJ4*01           True     True      True       True\n",
       "\n",
       "[103 rows x 4 columns]"
      ]
     },
     "execution_count": 110,
     "metadata": {},
     "output_type": "execute_result"
    }
   ],
   "source": [
    "my_aux.loc[common_index] == their_aux.loc[common_index]"
   ]
  },
  {
   "cell_type": "code",
   "execution_count": 99,
   "metadata": {},
   "outputs": [
    {
     "ename": "AssertionError",
     "evalue": "DataFrame.iloc[:, 0] (column name=\"reading_frame\") are different\n\nDataFrame.iloc[:, 0] (column name=\"reading_frame\") values are different (0.97087 %)\n[index]: [(mouse, imgt, IGHJ1*01), (mouse, imgt, IGHJ1*02), (mouse, imgt, IGHJ1*03), (mouse, imgt, IGHJ2*01), (mouse, imgt, IGHJ2*02), (mouse, imgt, IGHJ2*03), (mouse, imgt, IGHJ3*01), (mouse, imgt, IGHJ3*02), (mouse, imgt, IGHJ4*01), (mouse, imgt, IGKJ1*01), (mouse, imgt, IGKJ1*02), (mouse, imgt, IGKJ2*01), (mouse, imgt, IGKJ2*02), (mouse, imgt, IGKJ2*03), (mouse, imgt, IGKJ3*01), (mouse, imgt, IGKJ3*02), (mouse, imgt, IGKJ4*01), (mouse, imgt, IGKJ4*02), (mouse, imgt, IGKJ5*01), (mouse, imgt, IGLJ1*01), (mouse, imgt, IGLJ2*01), (mouse, imgt, IGLJ3*01), (mouse, imgt, IGLJ4*01), (rabbit, imgt, IGHJ1*01), (rabbit, imgt, IGHJ2*01), (rabbit, imgt, IGHJ2*02), (rabbit, imgt, IGHJ3*01), (rabbit, imgt, IGHJ3*02), (rabbit, imgt, IGHJ4*01), (rabbit, imgt, IGHJ4*02), (rabbit, imgt, IGHJ5*01), (rabbit, imgt, IGHJ5*02), (rabbit, imgt, IGHJ6*01), (rabbit, imgt, IGHJ6*02), (rabbit, imgt, IGKJ1-1*01), (rabbit, imgt, IGKJ1-1*02), (rabbit, imgt, IGKJ1-1*03), (rabbit, imgt, IGKJ1-2*01), (rabbit, imgt, IGKJ1-2*02), (rabbit, imgt, IGKJ1-2*03), (rabbit, imgt, IGKJ1-2*04), (rabbit, imgt, IGKJ1-3*01), (rabbit, imgt, IGKJ1-3*02), (rabbit, imgt, IGKJ1-3*03), (rabbit, imgt, IGKJ1-4*01), (rabbit, imgt, IGKJ1-4*02), (rabbit, imgt, IGKJ1-4*03), (rabbit, imgt, IGKJ1-5*01), (rabbit, imgt, IGKJ1-5*02), (rabbit, imgt, IGKJ1-5*03), (rabbit, imgt, IGKJ2-1*01), (rabbit, imgt, IGKJ2-2*01), (rabbit, imgt, IGKJ2-3*01), (rabbit, imgt, IGLJ1*01), (rabbit, imgt, IGLJ3*01), (rabbit, imgt, IGLJ5*01), (rabbit, imgt, IGLJ6*01), (human, imgt, IGHJ1*01), (human, imgt, IGHJ2*01), (human, imgt, IGHJ3*01), (human, imgt, IGHJ3*02), (human, imgt, IGHJ4*01), (human, imgt, IGHJ4*02), (human, imgt, IGHJ4*03), (human, imgt, IGHJ5*01), (human, imgt, IGHJ5*02), (human, imgt, IGHJ6*01), (human, imgt, IGHJ6*02), (human, imgt, IGHJ6*03), (human, imgt, IGHJ6*04), (human, imgt, IGKJ1*01), (human, imgt, IGKJ2*01), (human, imgt, IGKJ2*02), (human, imgt, IGKJ2*03), (human, imgt, IGKJ2*04), (human, imgt, IGKJ3*01), (human, imgt, IGKJ4*01), (human, imgt, IGKJ4*02), (human, imgt, IGKJ5*01), (human, imgt, IGLJ1*01), (human, imgt, IGLJ2*01), (human, imgt, IGLJ3*01), (human, imgt, IGLJ3*02), (human, imgt, IGLJ4*01), (human, imgt, IGLJ5*01), (human, imgt, IGLJ5*02), (human, imgt, IGLJ6*01), (human, imgt, IGLJ7*01), (human, imgt, IGLJ7*02), (rat, imgt, IGHJ1*01), (rat, imgt, IGHJ2*01), (rat, imgt, IGHJ3*01), (rat, imgt, IGHJ4*01), (rat, imgt, IGKJ1*01), (rat, imgt, IGKJ2-1*01), (rat, imgt, IGKJ2-2*01), (rat, imgt, IGKJ2-3*01), (rat, imgt, IGKJ4*01), (rat, imgt, IGKJ5*01), (rat, imgt, IGLJ1*01), ...]\n[left]:  [1, 1, 1, 2, 2, 0, 2, 2, 2, 1, 0, 2, 2, 2, 1, 1, 1, 1, 1, 1, 1, 1, 1, 1, 1, 1, 1, 2, 2, 2, 2, 2, 2, 2, 1, 1, 1, 0, 0, 0, 0, 1, 1, 1, 1, 1, 1, 1, 1, 1, 1, 0, 1, 1, 1, 1, 1, 0, 1, 1, 1, 2, 2, 2, 2, 2, 2, 2, 2, 2, 1, 2, 1, 2, 2, 1, 1, 1, 1, 1, 1, 1, 1, 1, 1, 1, 1, 1, 1, 1, 1, 2, 2, 1, 2, 2, 2, 1, 1, 1, ...]\n[right]: [1, 1, 1, 2, 2, 0, 2, 2, 2, 1, 0, 2, 2, 2, 1, 1, 1, 1, 1, 1, 1, 1, 1, 1, 1, 1, 1, 1, 2, 2, 2, 2, 2, 2, 1, 1, 1, 0, 0, 0, 0, 1, 1, 1, 1, 1, 1, 1, 1, 1, 1, 0, 1, 1, 1, 1, 1, 0, 1, 1, 1, 2, 2, 2, 2, 2, 2, 2, 2, 2, 1, 2, 1, 2, 2, 1, 1, 1, 1, 1, 1, 1, 1, 1, 1, 1, 1, 1, 1, 1, 1, 2, 2, 1, 2, 2, 2, 1, 1, 1, ...]",
     "output_type": "error",
     "traceback": [
      "\u001b[0;31m---------------------------------------------------------------------------\u001b[0m",
      "\u001b[0;31mAssertionError\u001b[0m                            Traceback (most recent call last)",
      "\u001b[0;32m<ipython-input-99-0f21969c5301>\u001b[0m in \u001b[0;36m<module>\u001b[0;34m\u001b[0m\n\u001b[0;32m----> 1\u001b[0;31m \u001b[0mpd\u001b[0m\u001b[0;34m.\u001b[0m\u001b[0m_testing\u001b[0m\u001b[0;34m.\u001b[0m\u001b[0massert_frame_equal\u001b[0m\u001b[0;34m(\u001b[0m\u001b[0mmy_aux\u001b[0m\u001b[0;34m.\u001b[0m\u001b[0mloc\u001b[0m\u001b[0;34m[\u001b[0m\u001b[0mcommon_index\u001b[0m\u001b[0;34m]\u001b[0m\u001b[0;34m,\u001b[0m\u001b[0mtheir_aux\u001b[0m\u001b[0;34m.\u001b[0m\u001b[0mloc\u001b[0m\u001b[0;34m[\u001b[0m\u001b[0mcommon_index\u001b[0m\u001b[0;34m]\u001b[0m\u001b[0;34m,\u001b[0m\u001b[0mcheck_like\u001b[0m\u001b[0;34m=\u001b[0m\u001b[0;32mTrue\u001b[0m\u001b[0;34m)\u001b[0m\u001b[0;34m\u001b[0m\u001b[0;34m\u001b[0m\u001b[0m\n\u001b[0m",
      "    \u001b[0;31m[... skipping hidden 2 frame]\u001b[0m\n",
      "\u001b[0;32mpandas/_libs/testing.pyx\u001b[0m in \u001b[0;36mpandas._libs.testing.assert_almost_equal\u001b[0;34m()\u001b[0m\n",
      "\u001b[0;32mpandas/_libs/testing.pyx\u001b[0m in \u001b[0;36mpandas._libs.testing.assert_almost_equal\u001b[0;34m()\u001b[0m\n",
      "\u001b[0;32m~/miniconda3/envs/sadie/lib/python3.8/site-packages/pandas/_testing.py\u001b[0m in \u001b[0;36mraise_assert_detail\u001b[0;34m(obj, message, left, right, diff, index_values)\u001b[0m\n\u001b[1;32m   1034\u001b[0m         \u001b[0mmsg\u001b[0m \u001b[0;34m+=\u001b[0m \u001b[0;34mf\"\\n[diff]: {diff}\"\u001b[0m\u001b[0;34m\u001b[0m\u001b[0;34m\u001b[0m\u001b[0m\n\u001b[1;32m   1035\u001b[0m \u001b[0;34m\u001b[0m\u001b[0m\n\u001b[0;32m-> 1036\u001b[0;31m     \u001b[0;32mraise\u001b[0m \u001b[0mAssertionError\u001b[0m\u001b[0;34m(\u001b[0m\u001b[0mmsg\u001b[0m\u001b[0;34m)\u001b[0m\u001b[0;34m\u001b[0m\u001b[0;34m\u001b[0m\u001b[0m\n\u001b[0m\u001b[1;32m   1037\u001b[0m \u001b[0;34m\u001b[0m\u001b[0m\n\u001b[1;32m   1038\u001b[0m \u001b[0;34m\u001b[0m\u001b[0m\n",
      "\u001b[0;31mAssertionError\u001b[0m: DataFrame.iloc[:, 0] (column name=\"reading_frame\") are different\n\nDataFrame.iloc[:, 0] (column name=\"reading_frame\") values are different (0.97087 %)\n[index]: [(mouse, imgt, IGHJ1*01), (mouse, imgt, IGHJ1*02), (mouse, imgt, IGHJ1*03), (mouse, imgt, IGHJ2*01), (mouse, imgt, IGHJ2*02), (mouse, imgt, IGHJ2*03), (mouse, imgt, IGHJ3*01), (mouse, imgt, IGHJ3*02), (mouse, imgt, IGHJ4*01), (mouse, imgt, IGKJ1*01), (mouse, imgt, IGKJ1*02), (mouse, imgt, IGKJ2*01), (mouse, imgt, IGKJ2*02), (mouse, imgt, IGKJ2*03), (mouse, imgt, IGKJ3*01), (mouse, imgt, IGKJ3*02), (mouse, imgt, IGKJ4*01), (mouse, imgt, IGKJ4*02), (mouse, imgt, IGKJ5*01), (mouse, imgt, IGLJ1*01), (mouse, imgt, IGLJ2*01), (mouse, imgt, IGLJ3*01), (mouse, imgt, IGLJ4*01), (rabbit, imgt, IGHJ1*01), (rabbit, imgt, IGHJ2*01), (rabbit, imgt, IGHJ2*02), (rabbit, imgt, IGHJ3*01), (rabbit, imgt, IGHJ3*02), (rabbit, imgt, IGHJ4*01), (rabbit, imgt, IGHJ4*02), (rabbit, imgt, IGHJ5*01), (rabbit, imgt, IGHJ5*02), (rabbit, imgt, IGHJ6*01), (rabbit, imgt, IGHJ6*02), (rabbit, imgt, IGKJ1-1*01), (rabbit, imgt, IGKJ1-1*02), (rabbit, imgt, IGKJ1-1*03), (rabbit, imgt, IGKJ1-2*01), (rabbit, imgt, IGKJ1-2*02), (rabbit, imgt, IGKJ1-2*03), (rabbit, imgt, IGKJ1-2*04), (rabbit, imgt, IGKJ1-3*01), (rabbit, imgt, IGKJ1-3*02), (rabbit, imgt, IGKJ1-3*03), (rabbit, imgt, IGKJ1-4*01), (rabbit, imgt, IGKJ1-4*02), (rabbit, imgt, IGKJ1-4*03), (rabbit, imgt, IGKJ1-5*01), (rabbit, imgt, IGKJ1-5*02), (rabbit, imgt, IGKJ1-5*03), (rabbit, imgt, IGKJ2-1*01), (rabbit, imgt, IGKJ2-2*01), (rabbit, imgt, IGKJ2-3*01), (rabbit, imgt, IGLJ1*01), (rabbit, imgt, IGLJ3*01), (rabbit, imgt, IGLJ5*01), (rabbit, imgt, IGLJ6*01), (human, imgt, IGHJ1*01), (human, imgt, IGHJ2*01), (human, imgt, IGHJ3*01), (human, imgt, IGHJ3*02), (human, imgt, IGHJ4*01), (human, imgt, IGHJ4*02), (human, imgt, IGHJ4*03), (human, imgt, IGHJ5*01), (human, imgt, IGHJ5*02), (human, imgt, IGHJ6*01), (human, imgt, IGHJ6*02), (human, imgt, IGHJ6*03), (human, imgt, IGHJ6*04), (human, imgt, IGKJ1*01), (human, imgt, IGKJ2*01), (human, imgt, IGKJ2*02), (human, imgt, IGKJ2*03), (human, imgt, IGKJ2*04), (human, imgt, IGKJ3*01), (human, imgt, IGKJ4*01), (human, imgt, IGKJ4*02), (human, imgt, IGKJ5*01), (human, imgt, IGLJ1*01), (human, imgt, IGLJ2*01), (human, imgt, IGLJ3*01), (human, imgt, IGLJ3*02), (human, imgt, IGLJ4*01), (human, imgt, IGLJ5*01), (human, imgt, IGLJ5*02), (human, imgt, IGLJ6*01), (human, imgt, IGLJ7*01), (human, imgt, IGLJ7*02), (rat, imgt, IGHJ1*01), (rat, imgt, IGHJ2*01), (rat, imgt, IGHJ3*01), (rat, imgt, IGHJ4*01), (rat, imgt, IGKJ1*01), (rat, imgt, IGKJ2-1*01), (rat, imgt, IGKJ2-2*01), (rat, imgt, IGKJ2-3*01), (rat, imgt, IGKJ4*01), (rat, imgt, IGKJ5*01), (rat, imgt, IGLJ1*01), ...]\n[left]:  [1, 1, 1, 2, 2, 0, 2, 2, 2, 1, 0, 2, 2, 2, 1, 1, 1, 1, 1, 1, 1, 1, 1, 1, 1, 1, 1, 2, 2, 2, 2, 2, 2, 2, 1, 1, 1, 0, 0, 0, 0, 1, 1, 1, 1, 1, 1, 1, 1, 1, 1, 0, 1, 1, 1, 1, 1, 0, 1, 1, 1, 2, 2, 2, 2, 2, 2, 2, 2, 2, 1, 2, 1, 2, 2, 1, 1, 1, 1, 1, 1, 1, 1, 1, 1, 1, 1, 1, 1, 1, 1, 2, 2, 1, 2, 2, 2, 1, 1, 1, ...]\n[right]: [1, 1, 1, 2, 2, 0, 2, 2, 2, 1, 0, 2, 2, 2, 1, 1, 1, 1, 1, 1, 1, 1, 1, 1, 1, 1, 1, 1, 2, 2, 2, 2, 2, 2, 1, 1, 1, 0, 0, 0, 0, 1, 1, 1, 1, 1, 1, 1, 1, 1, 1, 0, 1, 1, 1, 1, 1, 0, 1, 1, 1, 2, 2, 2, 2, 2, 2, 2, 2, 2, 1, 2, 1, 2, 2, 1, 1, 1, 1, 1, 1, 1, 1, 1, 1, 1, 1, 1, 1, 1, 1, 2, 2, 1, 2, 2, 2, 1, 1, 1, ...]"
     ]
    }
   ],
   "source": [
    "pd._testing.assert_frame_equal(my_aux.loc[common_index],their_aux.loc[common_index],check_like=True)"
   ]
  },
  {
   "cell_type": "code",
   "execution_count": null,
   "metadata": {},
   "outputs": [],
   "source": []
  }
 ],
 "metadata": {
  "kernelspec": {
   "display_name": "Python 3.8 Sadie",
   "language": "python",
   "name": "sadue"
  },
  "language_info": {
   "codemirror_mode": {
    "name": "ipython",
    "version": 3
   },
   "file_extension": ".py",
   "mimetype": "text/x-python",
   "name": "python",
   "nbconvert_exporter": "python",
   "pygments_lexer": "ipython3",
   "version": "3.8.6"
  }
 },
 "nbformat": 4,
 "nbformat_minor": 4
}
