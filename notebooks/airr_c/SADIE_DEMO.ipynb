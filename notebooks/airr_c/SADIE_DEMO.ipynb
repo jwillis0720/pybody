{
 "cells": [
  {
   "cell_type": "markdown",
   "metadata": {},
   "source": [
    "<!--NAVIGATION-->\n",
    "<!--NAVIGATION-->\n",
    "<!-- markdownlint-disable -->\n",
    "<h2 align=\"center\" style=\"font-family:verdana;font-size:150%\"> <b>S</b>equencing <b>A</b>nalysis and <b>D</b>ata Library for <b>I</b>mmunoinformatics <b>E</b>xploration <br><br>Demonstration for AIRR-C 2022</h2>\n",
    "<div align=\"center\">\n",
    "  <img src=\"https://sadiestaticcrm.s3.us-west-2.amazonaws.com/Sadie.svg\" alt=\"SADIE\" style=\"margin:0.2em;width:50%\">\n",
    "</div>\n",
    "<br>\n",
    "\n",
    "<a href=\"https://colab.research.google.com/github/jwillis0720/sadie/blob/airr_c/notebooks/airr_c/SADIE_DEMO.ipynb\"><img align=\"center\" src=\"https://colab.research.google.com/assets/colab-badge.svg\" alt=\"Open in Colab\" title=\"Open in Google Colaboratory\"></a>"
   ]
  },
  {
   "cell_type": "markdown",
   "metadata": {},
   "source": [
    "# Setup\n",
    "\n",
    "Here we will setup our files for the demo. If you are running the notebook locally, these files don't need to be pulled from the repository"
   ]
  },
  {
   "cell_type": "code",
   "execution_count": null,
   "metadata": {},
   "outputs": [],
   "source": [
    "def install_packages() -> None:\n",
    "    !pip -q install git+https://github.com/jwillis0720/sadie.git@6978a8fffbfb2c365c8940166f0045f8483a34b2\n",
    "    !pip -q install seaborn matplotlib\n",
    "\n",
    "\n",
    "def get_demo_files() -> None:\n",
    "    \"\"\"Get the demonstration files for AIRR-C 2022\"\"\"\n",
    "    !wget -q -O input.tgz https://github.com/jwillis0720/sadie/raw/airr_c/notebooks/airr_c/input.tgz\n",
    "    !tar -xf input.tgz\n",
    "\n",
    "\n",
    "import sys\n",
    "\n",
    "if \"google.colab\" in sys.modules:\n",
    "    install_packages()\n",
    "    get_demo_files()\n",
    "else:\n",
    "    %load_ext lab_black"
   ]
  },
  {
   "cell_type": "markdown",
   "metadata": {},
   "source": [
    "# 1. Low Level\n",
    "\n",
    "First, let's start at a very low level. These are pythonic objects that model the data we expect in an AIRR compliant data format. They are divided by [AIRR 1.3 Rearragment category](https://docs.airr-community.org/en/stable/datarep/rearrangements.html)\n",
    "\n",
    "* Input Sequence\n",
    "* Primay Annotations\n",
    "* Alignment Annotations\n",
    "* Alignment Positions\n",
    "* RegionSequences\n",
    "* RegionPositions\n",
    "\n",
    "\n",
    "All of these are combined as a `Receptor Chain` Object. \n",
    "\n",
    "Now let's take a look how a person interested in low level programming could use these objects"
   ]
  },
  {
   "cell_type": "markdown",
   "metadata": {},
   "source": [
    "## First Model - Input Sequence"
   ]
  },
  {
   "cell_type": "code",
   "execution_count": null,
   "metadata": {},
   "outputs": [],
   "source": [
    "from sadie.receptor.rearrangment import InputSequence\n",
    "from Bio import SeqIO\n",
    "from pprint import pprint\n",
    "\n",
    "vrc01_heavy_sequecne = SeqIO.read(\"input/vrc01_heavy.fasta\", \"fasta\")\n",
    "\n",
    "# make an input sequence model\n",
    "input_sequence_model = InputSequence(\n",
    "    sequence_id=vrc01_heavy_sequecne.name,\n",
    "    sequence=vrc01_heavy_sequecne.seq,\n",
    "    raw_sequence=vrc01_heavy_sequecne.seq,\n",
    ")\n",
    "\n",
    "# Print out dictionary to see\n",
    "pprint(input_sequence_model.__dict__)"
   ]
  },
  {
   "cell_type": "markdown",
   "metadata": {},
   "source": [
    "## Second Model - Primary Annotations"
   ]
  },
  {
   "cell_type": "code",
   "execution_count": null,
   "metadata": {},
   "outputs": [],
   "source": [
    "from sadie.receptor.rearrangment import PrimaryAnnotations\n",
    "\n",
    "# make a primary sequence model\n",
    "primary_sequence_annotation_model = PrimaryAnnotations(\n",
    "    rev_comp=False,\n",
    "    productive=True,\n",
    "    vj_in_frame=True,\n",
    "    stop_codon=False,\n",
    "    complete_vdj=True,\n",
    "    locus=\"IGH\",\n",
    "    v_call=\"IGHV1-2*02\",\n",
    "    d_call=[\"IGHD3-16*01\", \"IGHD3-16*02\"],\n",
    "    j_call=\"IGHJ1*01\",\n",
    "    v_call_top=\"IGHV1-2*02\",\n",
    "    d_call_top=\"IGHD3-16*01\",\n",
    "    j_call_top=\"IGHJ1*01\",\n",
    "    c_call=\"IGHG1*01\",\n",
    ")\n",
    "pprint(primary_sequence_annotation_model.__dict__)"
   ]
  },
  {
   "cell_type": "markdown",
   "metadata": {},
   "source": [
    "## Alignment Annotations"
   ]
  },
  {
   "cell_type": "code",
   "execution_count": null,
   "metadata": {},
   "outputs": [],
   "source": [
    "from sadie.receptor.rearrangment import AlignmentAnnotations\n",
    "\n",
    "# Model 3 - Alignment Annotations\n",
    "alignment_annotations_model = AlignmentAnnotations(\n",
    "    sequence_alignment=\"CAGGTGCAGCTGGTGCAGTCTGGGGGTCAGATGAAGAAGCCTGGCGAGTCGATGAGAATTTCTTGTCGGGCTTCTGGATATGAATTTATTGATTGTACGCTAAATTGGATTCGTCTGGCCCCCGGAAAAAGGCCTGAGTGGATGGGATGGCTGAAGCCTCGGGGGGGGGCCGTCAACTACGCACGTCCACTTCAGGGCAGAGTGACCATGACTCGAGACGTTTATTCCGACACAGCCTTTTTGGAGCTGCGCTCGTTGACAGTAGACGACACGGCCGTCTACTTTTGTACTAGGGGAAAAAACTGTGATTACAATTGGGACTTCGAACACTGGGGCCGGGGCACCCCGGTCATCGTCTCATCAG\",\n",
    "    sequence_alignment_aa=\"QVQLVQSGGQMKKPGESMRISCRASGYEFIDCTLNWIRLAPGKRPEWMGWLKPRGGAVNYARPLQGRVTMTRDVYSDTAFLELRSLTVDDTAVYFCTRGKNCDYNWDFEHWGRGTPVIVSS\",\n",
    "    germline_alignment=\"CAGGTGCAGCTGGTGCAGTCTGGGGCTGAGGTGAAGAAGCCTGGGGCCTCAGTGAAGGTCTCCTGCAAGGCTTCTGGATACACCTTCACCGGCTACTATATGCACTGGGTGCGACAGGCCCCTGGACAAGGGCTTGAGTGGATGGGATGGATCAACCCTAACAGTGGTGGCACAAACTATGCACAGAAGTTTCAGGGCAGGGTCACCATGACCAGGGACACGTCCATCAGCACAGCCTACATGGAGCTGAGCAGGCTGAGATCTGACGACACGGCCGTGTATTACTGTGCGAGNNNNNNNNNNNNTGATTACGTTTGGGACTTCCAGCACTGGGGCCAGGGCACCCTGGTCACCGTCTCCTCAG\",\n",
    "    germline_alignment_aa=\"QVQLVQSGAEVKKPGASVKVSCKASGYTFTGYYMHWVRQAPGQGLEWMGWINPNSGGTNYAQKFQGRVTMTRDTSISTAYMELSRLRSDDTAVYYCAXXXXXDYVWDFQHWGQGTLVTVSS\",\n",
    "    v_score=168.2,\n",
    "    d_score=17.8,\n",
    "    j_score=52.6,\n",
    "    v_identity=0.6825,\n",
    "    d_identity=0.85,\n",
    "    j_identity=0.86,\n",
    "    v_cigar=\"6S293M76S3N\",\n",
    "    d_cigar=\"311S6N14M50S17N\",\n",
    "    j_cigar=\"325S7N45M5S\",\n",
    "    v_support=6.796e-44,\n",
    "    d_support=0.5755,\n",
    "    j_support=5.727e-11,\n",
    "    junction=\"TGTACTAGGGGAAAAAACTGTGATTACAATTGGGACTTCGAACACTGG\",\n",
    "    junction_aa=\"CTRGKNCDYNWDFEHW\",\n",
    "    np1=\"GGGAAAAAACTG\",\n",
    "    c_score=100,\n",
    "    c_identity=1,\n",
    "    c_support=1e-44,\n",
    "    c_cigar=\"6S293M76S3N\",\n",
    ")\n",
    "# alignment_sequence_annotation_model = AlignmentAnnotations(**alignment_dict)\n",
    "pprint(alignment_annotations_model.__dict__)"
   ]
  },
  {
   "cell_type": "markdown",
   "metadata": {},
   "source": [
    "# Optional but recommended models\n",
    "\n",
    "## AlignmentPositions"
   ]
  },
  {
   "cell_type": "code",
   "execution_count": null,
   "metadata": {},
   "outputs": [],
   "source": [
    "from sadie.receptor.rearrangment import AlignmentPositions\n",
    "\n",
    "alignment_positions_dict = dict(\n",
    "    v_sequence_start=7,\n",
    "    v_sequence_end=299,\n",
    "    v_germline_start=1,\n",
    "    v_germline_end=293,\n",
    "    v_alignment_start=1,\n",
    "    v_alignment_end=293,\n",
    "    d_sequence_start=312,\n",
    "    d_sequence_end=325,\n",
    "    d_germline_start=7,\n",
    "    d_germline_end=20,\n",
    "    d_alignment_start=306,\n",
    "    d_alignment_end=319,\n",
    "    j_sequence_start=326,\n",
    "    j_sequence_end=370,\n",
    "    j_germline_start=8,\n",
    "    j_germline_end=52,\n",
    "    j_alignment_start=320,\n",
    "    j_alignment_end=364,\n",
    ")\n",
    "alignment_positions_model = AlignmentPositions(**alignment_positions_dict)\n",
    "pprint(alignment_positions_model.__dict__)"
   ]
  },
  {
   "cell_type": "markdown",
   "metadata": {},
   "source": [
    "## RegionSequences"
   ]
  },
  {
   "cell_type": "code",
   "execution_count": null,
   "metadata": {},
   "outputs": [],
   "source": [
    "from sadie.receptor.rearrangment import RegionSequences\n",
    "\n",
    "region_sequence_dict = dict(\n",
    "    fwr=\"CAGGTGCAGCTGGTGCAGTCTGGGGGTCAGATGAAGAAGCCTGGCGAGTCGATGAGAATTTCTTGTCGGGCTTCT\",\n",
    "    fwr1_aa=\"QVQLVQSGGQMKKPGESMRISCRAS\",\n",
    "    cdr1=\"GGATATGAATTTATTGATTGTACG\",\n",
    "    cdr1_aa=\"GYEFIDCT\",\n",
    "    fwr2=\"CTAAATTGGATTCGTCTGGCCCCCGGAAAAAGGCCTGAGTGGATGGGATGG\",\n",
    "    fwr2_aa=\"LNWIRLAPGKRPEWMGW\",\n",
    "    cdr2=\"CTGAAGCCTCGGGGGGGGGCCGTC\",\n",
    "    cdr2_aa=\"LKPRGGAV\",\n",
    "    fwr3=\"AACTACGCACGTCCACTTCAGGGCAGAGTGACCATGACTCGAGACGTTTATTCCGACACAGCCTTTTTGGAGCTGCGCTCGTTGACAGTAGACGACACGGCCGTCTACTTTTGT\",\n",
    "    fwr3_aa=\"NYARPLQGRVTMTRDVYSDTAFLELRSLTVDDTAVYFC\",\n",
    "    cdr3=\"ACTAGGGGAAAAAACTGTGATTACAATTGGGACTTCGAACAC\",\n",
    "    cdr3_aa=\"TRGKNCDYNWDFEH\",\n",
    "    fwr4=\"TGGGGCCGGGGCACCCCGGTCATCGTCTCATCA\",\n",
    "    fwr4_aa=\"WGRGTPVIVSS\",\n",
    ")\n",
    "region_sequence_model = RegionSequences(**region_sequence_dict)\n",
    "pprint(region_sequence_model.__dict__)"
   ]
  },
  {
   "cell_type": "code",
   "execution_count": null,
   "metadata": {},
   "outputs": [],
   "source": [
    "from sadie.receptor.rearrangment import RegionPositions\n",
    "\n",
    "region_positions_dict = dict(\n",
    "    fwr1_start=7,\n",
    "    fwr1_end=81,\n",
    "    cdr1_start=82,\n",
    "    cdr1_end=105,\n",
    "    fwr2_start=106,\n",
    "    fwr2_end=156,\n",
    "    cdr2_start=157,\n",
    "    cdr2_end=180,\n",
    "    fwr3_start=181,\n",
    "    fwr3_end=294,\n",
    "    cdr3_start=295,\n",
    "    cdr3_end=336,\n",
    "    fwr4_start=337,\n",
    "    fwr4_end=369,\n",
    ")\n",
    "region_position_model = RegionPositions(**region_positions_dict)\n",
    "pprint(region_position_model.__dict__)"
   ]
  },
  {
   "cell_type": "markdown",
   "metadata": {},
   "source": [
    "# Junction Lengths"
   ]
  },
  {
   "cell_type": "code",
   "execution_count": null,
   "metadata": {},
   "outputs": [],
   "source": [
    "from sadie.receptor.rearrangment import JunctionLengths\n",
    "\n",
    "junction_length_dict = dict(\n",
    "    junction_length=48,\n",
    "    junction_aa_length=None,\n",
    "    np1_length=None,\n",
    "    np2_length=None,\n",
    "    np3_length=None,\n",
    "    n1_length=None,\n",
    "    n2_length=None,\n",
    "    n3_length=None,\n",
    "    p3v_length=None,\n",
    "    p5d_length=None,\n",
    "    p3d_length=None,\n",
    "    p5d2_length=None,\n",
    "    p3d2_length=None,\n",
    "    p5j_length=None,\n",
    ")\n",
    "junction_length_model = JunctionLengths(**junction_length_dict)\n",
    "pprint(junction_length_model.__dict__)"
   ]
  },
  {
   "cell_type": "markdown",
   "metadata": {},
   "source": [
    "## ReceptorChain\n",
    "\n",
    "All of those annotations can now be [composed](https://www.youtube.com/watch?v=0mcP8ZpUR38) into a ReceptorChain model"
   ]
  },
  {
   "cell_type": "code",
   "execution_count": null,
   "metadata": {},
   "outputs": [],
   "source": [
    "from sadie.receptor.rearrangment import ReceptorChain\n",
    "\n",
    "receptor_chain = ReceptorChain(\n",
    "    input_sequence=input_sequence_model,\n",
    "    primary_annotations=primary_sequence_annotation_model,\n",
    "    alignment_annotations=alignment_annotations_model,\n",
    "    alignment_positions=alignment_positions_model,\n",
    "    region_sequences=region_sequence_model,\n",
    "    region_positions=region_sequence_model,\n",
    "    junction_lengths=junction_length_model,\n",
    ")\n",
    "print(receptor_chain)"
   ]
  },
  {
   "cell_type": "markdown",
   "metadata": {},
   "source": [
    "# 2. Mid-level\n",
    "\n",
    "Okay, but maybe you don't even care about composing low level objects. You just have a sequence without the proper annotations. You can use convienience methods to quickly fill in the annotations in the model. How does it align and annotate? More on that later\n"
   ]
  },
  {
   "cell_type": "code",
   "execution_count": null,
   "metadata": {},
   "outputs": [],
   "source": [
    "receptor_chain = ReceptorChain.from_single(\"vrc01_heavy\", vrc01_heavy_sequecne.seq)\n",
    "# Same as before but from the `from_single` method\n",
    "print(receptor_chain)"
   ]
  },
  {
   "cell_type": "markdown",
   "metadata": {},
   "source": [
    "<h1><u> Using the SADIE AIRR module:</u></h1>\n",
    "\n",
    "SADIE AIRR will annotate sequences, verify fields, and return an AirrTable. The AirrTable is a subclass of a pandas dataframe so anything you can do on pandas, you can do on an AirrTable.\n",
    "\n",
    "There are a variety of databases that ship with SADIE:\n",
    "\n",
    "<u>From IMGT</u>\n",
    " - CLK\n",
    " - Dog\n",
    " - Human\n",
    " - Mouse\n",
    " - Rabbit\n",
    " - Rat\n",
    " \n",
    "<u> Custom </u>\n",
    " - Macaque"
   ]
  },
  {
   "cell_type": "code",
   "execution_count": null,
   "metadata": {},
   "outputs": [],
   "source": [
    "def plot_v_genes(df_one, df_two, colors=[\"red\", \"blue\"]):\n",
    "    \"\"\"very simple function to plot v gene dataframes\"\"\"\n",
    "    fig, axes = plt.subplots(1, 2, figsize=(15, 3))\n",
    "    for df, axis, color in zip([df_one, df_two], axes, colors):\n",
    "        df[\"v_call_top\"].str.split(\"*\").str.get(0).value_counts().plot(\n",
    "            kind=\"bar\", color=color, ax=axis\n",
    "        )\n",
    "        axis.set_ylabel(\"Counts\")\n",
    "        sns.despine()"
   ]
  },
  {
   "cell_type": "code",
   "execution_count": null,
   "metadata": {},
   "outputs": [],
   "source": [
    "from sadie.airr import Airr\n",
    "import seaborn as sns\n",
    "from matplotlib import pyplot as plt\n",
    "import logging\n",
    "\n",
    "\n",
    "logger = logging.getLogger()\n",
    "logger.setLevel(\"INFO\")\n",
    "\n",
    "airr_api_human = Airr(\"human\", database=\"imgt\", adaptable=True)\n",
    "catnap_heavy = airr_api_human.run_fasta(\"input/catnap_nt_heavy_sub.fasta\")\n",
    "catnap_light = airr_api_human.run_fasta(\"input/catnap_nt_light_sub.fasta\")"
   ]
  },
  {
   "cell_type": "code",
   "execution_count": null,
   "metadata": {},
   "outputs": [],
   "source": [
    "catnap_merged = catnap_heavy.merge(\n",
    "    catnap_light, on=\"sequence_id\", how=\"inner\", suffixes=[\"_heavy\", \"_light\"]\n",
    ")"
   ]
  },
  {
   "cell_type": "code",
   "execution_count": null,
   "metadata": {},
   "outputs": [],
   "source": [
    "plot_v_genes(catnap_heavy, catnap_light)"
   ]
  },
  {
   "cell_type": "markdown",
   "metadata": {},
   "source": [
    "## Alternate species\n",
    "\n",
    "Okay, but what about a different species"
   ]
  },
  {
   "cell_type": "code",
   "execution_count": null,
   "metadata": {},
   "outputs": [],
   "source": [
    "airr_api_mouse = Airr(\"mouse\", database=\"imgt\", adaptable=False)\n",
    "catnap_heavy_mouse = airr_api_mouse.run_fasta(\"input/catnap_nt_heavy_sub.fasta\")\n",
    "catnap_light_mouse = airr_api_mouse.run_fasta(\"input/catnap_nt_light_sub.fasta\")"
   ]
  },
  {
   "cell_type": "code",
   "execution_count": null,
   "metadata": {},
   "outputs": [],
   "source": [
    "plot_v_genes(catnap_heavy_mouse, catnap_heavy_mouse)"
   ]
  },
  {
   "cell_type": "markdown",
   "metadata": {},
   "source": [
    "## Custom Databases - How about Watson/Karlsson-Hedestam?\n",
    "\n",
    "In this instance, instead of calling things from IMGT, let's use a custom database"
   ]
  },
  {
   "cell_type": "code",
   "execution_count": null,
   "metadata": {},
   "outputs": [],
   "source": [
    "airr_api_macaque = Airr(\"macaque\", database=\"custom\", adaptable=False)\n",
    "catnap_heavy_macaque = airr_api_macaque.run_fasta(\"input/catnap_nt_heavy_sub.fasta\")\n",
    "catnap_light_macaque = airr_api_macaque.run_fasta(\"input/catnap_nt_light_sub.fasta\")"
   ]
  },
  {
   "cell_type": "code",
   "execution_count": null,
   "metadata": {},
   "outputs": [],
   "source": [
    "plot_v_genes(catnap_heavy_macaque, catnap_heavy_macaque)"
   ]
  },
  {
   "cell_type": "markdown",
   "metadata": {},
   "source": [
    "<h1><u> Using the SADIE Reference module:</u></h1>\n",
    "\n",
    "SADIE uses a reference database. It uses a real time web API caled the *G*ermline *G*ene *G*ateway which provides realtime, currated genes avaialble via a RESTful API that conforms to [OpenAPI standards](https://swagger.io/specification/)\n",
    "\n",
    "[Let's take a look at the reference database](https://g3.jordanrwillis.com/docs)\n",
    "\n",
    "Since it's RESTful, we can gather database information programatically in real time!"
   ]
  },
  {
   "cell_type": "code",
   "execution_count": null,
   "metadata": {},
   "outputs": [],
   "source": [
    "import requests\n",
    "import pandas as pd\n",
    "\n",
    "# We can just query our gene database progrmatically...this is super handy if you are changing reference databases on the fly\n",
    "results = requests.get(\n",
    "    \"https://g3.jordanrwillis.com/api/v1/genes?source=imgt&common=human&segment=V&limit=3\"\n",
    ").json()\n",
    "\n",
    "# l\n",
    "results"
   ]
  },
  {
   "cell_type": "code",
   "execution_count": null,
   "metadata": {},
   "outputs": [],
   "source": [
    "results_df = pd.json_normalize(results)\n",
    "results_df"
   ]
  },
  {
   "cell_type": "markdown",
   "metadata": {},
   "source": [
    "## Using reference objects to make custom/altered reference databaes"
   ]
  },
  {
   "cell_type": "code",
   "execution_count": null,
   "metadata": {},
   "outputs": [],
   "source": [
    "from sadie.reference import Reference\n",
    "\n",
    "\n",
    "def delete_gene(common, gene, data):\n",
    "    return list(\n",
    "        filter(\n",
    "            lambda x: x[\"common\"] == common and x[\"gene\"] != gene,\n",
    "            data,\n",
    "        )\n",
    "    )"
   ]
  },
  {
   "cell_type": "code",
   "execution_count": null,
   "metadata": {},
   "outputs": [],
   "source": [
    "reference_data = Reference.parse_yaml(\"input/reference_slim.yml\")\n",
    "reference_data.get_dataframe().query(\"gene=='IGHV1-2*05'\")"
   ]
  },
  {
   "cell_type": "code",
   "execution_count": null,
   "metadata": {},
   "outputs": [],
   "source": [
    "updated_data = delete_gene(\"human\", \"IGHV1-2*05\", reference_data.data)\n",
    "reference_data.data = updated_data\n",
    "reference_data.get_dataframe().query(\"gene=='IGHV1-2*05'\")"
   ]
  },
  {
   "cell_type": "code",
   "execution_count": null,
   "metadata": {},
   "outputs": [],
   "source": [
    "logger.setLevel(\"WARNING\")\n",
    "airr_api_human = Airr(reference_data)\n",
    "custom_results = airr_api_human.run_fasta(\"input/catnap_nt_heavy_sub.fasta\")\n",
    "custom_results"
   ]
  },
  {
   "cell_type": "code",
   "execution_count": null,
   "metadata": {},
   "outputs": [],
   "source": [
    "custom_results[custom_results[\"v_call_top\"] == \"human|IGHV1-2*05\"]"
   ]
  },
  {
   "cell_type": "code",
   "execution_count": null,
   "metadata": {},
   "outputs": [],
   "source": [
    "import tempfile\n",
    "from sadie.reference import Reference\n",
    "\n",
    "# create empty reference object\n",
    "reference = Reference()\n",
    "\n",
    "# Add Genes one at a time\n",
    "reference.add_gene(\n",
    "    {\n",
    "        \"species\": \"custom\",\n",
    "        \"sub_species\": \"human\",\n",
    "        \"gene\": \"IGHV1-2*01\",\n",
    "        \"database\": \"imgt\",\n",
    "    }\n",
    ")\n",
    "reference.add_gene(\n",
    "    {\n",
    "        \"species\": \"custom\",\n",
    "        \"sub_species\": \"human\",\n",
    "        \"gene\": \"IGHV3-15*01\",\n",
    "        \"database\": \"imgt\",\n",
    "    }\n",
    ")\n",
    "reference.add_gene(\n",
    "    {\n",
    "        \"species\": \"custom\",\n",
    "        \"sub_species\": \"human\",\n",
    "        \"gene\": \"IGHJ6*01\",\n",
    "        \"database\": \"imgt\",\n",
    "    }\n",
    ")\n",
    "reference.add_gene(\n",
    "    {\n",
    "        \"species\": \"custom\",\n",
    "        \"sub_species\": \"human\",\n",
    "        \"gene\": \"IGHD3-3*01\",\n",
    "        \"database\": \"imgt\",\n",
    "    }\n",
    ")\n",
    "\n",
    "# Add a mouse gene in humans!\n",
    "reference.add_gene(\n",
    "    {\n",
    "        \"species\": \"custom\",\n",
    "        \"sub_species\": \"mouse\",\n",
    "        \"gene\": \"IGHV1-11*01\",\n",
    "        \"database\": \"imgt\",\n",
    "    }\n",
    ")\n",
    "logger.setLevel(\"WARNING\")\n",
    "reference.get_dataframe()"
   ]
  },
  {
   "cell_type": "code",
   "execution_count": null,
   "metadata": {},
   "outputs": [],
   "source": [
    "custom_airr_api = Airr(reference)\n",
    "\n",
    "# our custom results\n",
    "output_custom_results = custom_airr_api.run_fasta(\"input/catnap_nt_heavy_sub.fasta\")\n",
    "output_custom_results[\"v_call_top\"].str.split(\"*\").str.get(0).value_counts()"
   ]
  },
  {
   "cell_type": "markdown",
   "metadata": {},
   "source": [
    "# SADIE Numbeing for AA sequences"
   ]
  },
  {
   "cell_type": "code",
   "execution_count": null,
   "metadata": {},
   "outputs": [],
   "source": [
    "from sadie.hmmer import HMMER\n",
    "\n",
    "# setup numbering api\n",
    "hmmer_numbering_api = HMMER(\"imgt\", \"imgt\")\n",
    "results = hmmer_numbering_api.run_dataframe(catnap_heavy, \"sequence_id\", \"vdj_aa\")\n",
    "\n",
    "\n",
    "results_imgt = results.drop([\"domain_no\", \"hmm_species\", \"score\"], axis=1).rename(\n",
    "    {\"Id\": \"sequence_id\"}, axis=1\n",
    ")"
   ]
  },
  {
   "cell_type": "code",
   "execution_count": null,
   "metadata": {},
   "outputs": [],
   "source": [
    "results_imgt"
   ]
  },
  {
   "cell_type": "code",
   "execution_count": null,
   "metadata": {},
   "outputs": [],
   "source": [
    "hmmer_numbering_api = HMMER(\"kabat\", \"chothia\")\n",
    "results = hmmer_numbering_api.run_dataframe(catnap_heavy, \"sequence_id\", \"vdj_aa\")\n",
    "\n",
    "\n",
    "chothia_results = results.drop([\"domain_no\", \"hmm_species\", \"score\"], axis=1)"
   ]
  },
  {
   "cell_type": "code",
   "execution_count": null,
   "metadata": {},
   "outputs": [],
   "source": [
    "alignment_numbering = chothia_results.get_alignment_table()"
   ]
  },
  {
   "cell_type": "code",
   "execution_count": null,
   "metadata": {},
   "outputs": [],
   "source": [
    "one_hot_encoded = pd.get_dummies(alignment_numbering.iloc[:, 3:])"
   ]
  },
  {
   "cell_type": "code",
   "execution_count": null,
   "metadata": {},
   "outputs": [],
   "source": [
    "chothia_results[\"Id\"].to_frame().join(one_hot_encoded).reset_index(drop=True)"
   ]
  },
  {
   "cell_type": "markdown",
   "metadata": {},
   "source": [
    "# Sadie Mutational analysis"
   ]
  },
  {
   "cell_type": "code",
   "execution_count": null,
   "metadata": {},
   "outputs": [],
   "source": [
    "from sadie.airr.methods import run_mutational_analysis\n",
    "\n",
    "catnap_heavy_with_mutations = run_mutational_analysis(catnap_heavy, \"kabat\")"
   ]
  },
  {
   "cell_type": "markdown",
   "metadata": {},
   "source": [
    "# Sadie Clsutering "
   ]
  },
  {
   "cell_type": "code",
   "execution_count": null,
   "metadata": {},
   "outputs": [],
   "source": [
    "from sadie.cluster import Cluster\n",
    "\n",
    "cluster_api = Cluster(\n",
    "    catnap_heavy_with_mutations,\n",
    "    lookup=[\"cdr1_aa\", \"cdr2_aa\", \"cdr3_aa\"],\n",
    "    pad_somatic=True,\n",
    ")"
   ]
  },
  {
   "cell_type": "code",
   "execution_count": null,
   "metadata": {},
   "outputs": [],
   "source": [
    "cluster_df = cluster_api.cluster(6)"
   ]
  },
  {
   "cell_type": "code",
   "execution_count": null,
   "metadata": {},
   "outputs": [],
   "source": [
    "for _, df in cluster_df.groupby(\"cluster\"):\n",
    "    print(df[\"sequence_id\"])\n",
    "    print()"
   ]
  },
  {
   "cell_type": "code",
   "execution_count": null,
   "metadata": {},
   "outputs": [],
   "source": []
  }
 ],
 "metadata": {
  "colab": {
   "collapsed_sections": [],
   "name": "Copy of SADIE_DEMO.ipynb",
   "provenance": [
    {
     "file_id": "https://github.com/jwillis0720/sadie/blob/airr_c/notebooks/airr_c/SADIE_DEMO.ipynb",
     "timestamp": 1652756023148
    }
   ]
  },
  "interpreter": {
   "hash": "ac98cf7d24adb8b8bd29d5e6774e3ebb0b278d1a0f630c3691446b511603fe4e"
  },
  "kernelspec": {
   "display_name": "sadie-dev-x86",
   "language": "python",
   "name": "sadie-dev-x86"
  },
  "language_info": {
   "codemirror_mode": {
    "name": "ipython",
    "version": 3
   },
   "file_extension": ".py",
   "mimetype": "text/x-python",
   "name": "python",
   "nbconvert_exporter": "python",
   "pygments_lexer": "ipython3",
   "version": "3.8.0"
  }
 },
 "nbformat": 4,
 "nbformat_minor": 4
}
