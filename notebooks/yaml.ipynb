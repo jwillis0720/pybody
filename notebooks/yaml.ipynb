{
 "cells": [
  {
   "cell_type": "code",
   "execution_count": 1,
   "id": "julian-paragraph",
   "metadata": {},
   "outputs": [],
   "source": [
    "from yaml import load, Loader, dump, Dumper"
   ]
  },
  {
   "cell_type": "code",
   "execution_count": 2,
   "id": "compliant-walnut",
   "metadata": {},
   "outputs": [],
   "source": [
    "%load_ext lab_black"
   ]
  },
  {
   "cell_type": "code",
   "execution_count": 3,
   "id": "forced-angel",
   "metadata": {},
   "outputs": [],
   "source": [
    "from sadie.reference import loaded_database\n",
    "from sadie.reference.yaml import YamlRef"
   ]
  },
  {
   "cell_type": "code",
   "execution_count": 4,
   "id": "worse-trunk",
   "metadata": {},
   "outputs": [],
   "source": [
    "updated_yml_all = list(\n",
    "    map(\n",
    "        lambda x: x[\"gene\"],\n",
    "        list(\n",
    "            filter(\n",
    "                lambda x: x[\"common\"] == \"macaque\"\n",
    "                and x[\"source\"] == \"custom\"\n",
    "                and x[\"receptor\"] == \"Ig\",\n",
    "                loaded_database,\n",
    "            )\n",
    "        ),\n",
    "    )\n",
    ")"
   ]
  },
  {
   "cell_type": "code",
   "execution_count": 5,
   "id": "color-chorus",
   "metadata": {},
   "outputs": [],
   "source": [
    "updated_yml_function = list(\n",
    "    map(\n",
    "        lambda x: x[\"gene\"],\n",
    "        list(\n",
    "            filter(\n",
    "                lambda x: x[\"common\"] == \"macaque\"\n",
    "                and x[\"source\"] == \"custom\"\n",
    "                and x[\"functional\"] == \"F\"\n",
    "                and x[\"receptor\"] == \"Ig\",\n",
    "                loaded_database,\n",
    "            )\n",
    "        ),\n",
    "    )\n",
    ")\n",
    "\n",
    "yml_ref = YamlRef()\n",
    "yml_ref.yaml[\"custom\"][\"functional\"][\"macaque\"][\"macaque\"] = updated_yml_function\n",
    "yml_ref.yaml[\"custom\"][\"all\"][\"macaque\"][\"macaque\"] = updated_yml_all\n"
   ]
  },
  {
   "cell_type": "code",
   "execution_count": 6,
   "id": "greek-housing",
   "metadata": {},
   "outputs": [],
   "source": [
    "dump(yml_ref.yaml, open(\"../src/sadie/reference/data/reference.yml\", \"w\"))"
   ]
  },
  {
   "cell_type": "code",
   "execution_count": null,
   "id": "suburban-hydrogen",
   "metadata": {},
   "outputs": [],
   "source": []
  }
 ],
 "metadata": {
  "kernelspec": {
   "display_name": "sadie-dev",
   "language": "python",
   "name": "sadie_dev"
  },
  "language_info": {
   "codemirror_mode": {
    "name": "ipython",
    "version": 3
   },
   "file_extension": ".py",
   "mimetype": "text/x-python",
   "name": "python",
   "nbconvert_exporter": "python",
   "pygments_lexer": "ipython3",
   "version": "3.9.2"
  }
 },
 "nbformat": 4,
 "nbformat_minor": 5
}
