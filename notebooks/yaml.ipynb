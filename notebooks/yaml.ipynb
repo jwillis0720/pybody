{
 "cells": [
  {
   "cell_type": "code",
   "execution_count": 5,
   "id": "inside-asset",
   "metadata": {},
   "outputs": [],
   "source": [
    "from yaml import load, Loader, dump, Dumper"
   ]
  },
  {
   "cell_type": "code",
   "execution_count": 9,
   "id": "partial-sitting",
   "metadata": {},
   "outputs": [],
   "source": [
    "%load_ext lab_black"
   ]
  },
  {
   "cell_type": "code",
   "execution_count": 32,
   "id": "primary-adult",
   "metadata": {},
   "outputs": [],
   "source": [
    "from sadie.reference import loaded_database\n",
    "from sadie.reference.yaml import YamlRef"
   ]
  },
  {
   "cell_type": "code",
   "execution_count": 33,
   "id": "white-income",
   "metadata": {},
   "outputs": [],
   "source": [
    "y = YamlRef()"
   ]
  },
  {
   "cell_type": "code",
   "execution_count": 34,
   "id": "dense-chaos",
   "metadata": {},
   "outputs": [
    {
     "name": "stdout",
     "output_type": "stream",
     "text": [
      "[]\n"
     ]
    }
   ],
   "source": [
    "l = list(\n",
    "    filter(\n",
    "        lambda x: x[0] != \"F\",\n",
    "        list(\n",
    "            map(\n",
    "                lambda x: (x[\"functional\"], x[\"gene\"]),\n",
    "                list(\n",
    "                    filter(\n",
    "                        lambda x: x[\"common\"] == \"mouse\"\n",
    "                        and x[\"gene\"] in y.yaml[\"imgt\"][\"functional\"][\"alt\"][\"mouse\"],\n",
    "                        loaded_database,\n",
    "                    )\n",
    "                ),\n",
    "            )\n",
    "        ),\n",
    "    )\n",
    ")\n",
    "print(sorted(l, key=lambda x: x[-1]))"
   ]
  },
  {
   "cell_type": "code",
   "execution_count": null,
   "id": "excited-warning",
   "metadata": {},
   "outputs": [],
   "source": [
    "import pandas as pd\n",
    "import seaborn as sns"
   ]
  },
  {
   "cell_type": "code",
   "execution_count": null,
   "id": "alone-alfred",
   "metadata": {},
   "outputs": [],
   "source": [
    "class Results(pd.DataFrame):\n",
    "    def __init__(self, data=None, *args, scheme='default', **kwargs):\n",
    "\n",
    "        # add column to incoming data\n",
    "        if isinstance(data, pd.DataFrame):\n",
    "            data['scheme'] = scheme\n",
    "        \n",
    "        if not isinstance(data,pd.core.internals.managers.BlockManager):\n",
    "            print(scheme)\n",
    "\n",
    "        super(Results, self).__init__(data=data, *args, **kwargs)\n",
    "\n",
    "    @property\n",
    "    def _constructor(self):\n",
    "        return Resultse\n",
    "\n",
    "df = sns.load_dataset('iris')\n",
    "result_object = Results(df.copy(), scheme='not_default')"
   ]
  },
  {
   "cell_type": "code",
   "execution_count": null,
   "id": "magnetic-hormone",
   "metadata": {},
   "outputs": [],
   "source": [
    "with open('../src/sadie/reference/reference.yml', 'w') as f:\n",
    "    for source in  set(map(lambda x: x['source'], loaded_database)):\n",
    "        f.write(f\"{source}:\\n\")\n",
    "        sub_set = list(filter(lambda x: x['source'] == source,loaded_database))\n",
    "        functional = list(filter(lambda x: x['functional'] == 'F',sub_set))\n",
    "        for functional, dataset in [('functional',functional),('all',sub_set)]:\n",
    "            f.write(f\"  {functional}:\\n\")\n",
    "            species = set(map(lambda x: x['common'],dataset))\n",
    "            for spec in species:\n",
    "                f.write(f\"    {spec}:\\n\")\n",
    "                f.write(f\"      {spec}:\\n\")\n",
    "                for gene in list(map(lambda x: x['gene'],list(filter(lambda x: x['common'] == spec,dataset)))):\n",
    "                    f.write(f\"        - {gene}\\n\")"
   ]
  },
  {
   "cell_type": "code",
   "execution_count": null,
   "id": "obvious-constitutional",
   "metadata": {},
   "outputs": [],
   "source": [
    "yaml_ref = load(open('../src/sadie/reference/data/reference.yml'),Loader=Loader)"
   ]
  },
  {
   "cell_type": "code",
   "execution_count": null,
   "id": "portuguese-control",
   "metadata": {},
   "outputs": [],
   "source": [
    "yaml_ref['imgt']['all']['se09']#['mouse']"
   ]
  },
  {
   "cell_type": "code",
   "execution_count": null,
   "id": "narrative-intelligence",
   "metadata": {},
   "outputs": [],
   "source": [
    "alt_mout = pd.read_csv('Alt_mouse Annotations.csv')\n",
    "\n",
    "alt_mout = alt_mout['Sequence Name'].unique()\n",
    "\n",
    "mouse_genes = list(map(lambda x: x.split('|')[-1],list(filter(lambda x: x.split('|')[0]!='human',alt_mout))))\n",
    "\n",
    "human_genes = list(map(lambda x: x.split('|')[-1],list(filter(lambda x: x.split('|')[0]=='human',alt_mout))))\n",
    "\n",
    "yaml_ref['imgt']['all']['alt'] = {'human':human_genes, 'mouse':mouse_genes}"
   ]
  },
  {
   "cell_type": "code",
   "execution_count": null,
   "id": "blocked-carolina",
   "metadata": {},
   "outputs": [],
   "source": [
    "se09 = pd.read_csv('SE09_mouse Annotations.csv')\n",
    "\n",
    "se09 = se09['Sequence Name'].unique()\n",
    "\n",
    "mouse_genes = list(map(lambda x: x.split('|')[-1],list(filter(lambda x: x.split('|')[0]!='human',se09))))\n",
    "\n",
    "human_genes = list(map(lambda x: x.split('|')[-1],list(filter(lambda x: x.split('|')[0]=='human',se09))))\n",
    "\n",
    "yaml_ref['imgt']['all']['se09'] = {'human':human_genes, 'mouse':mouse_genes}"
   ]
  },
  {
   "cell_type": "code",
   "execution_count": null,
   "id": "forty-cylinder",
   "metadata": {},
   "outputs": [],
   "source": [
    "dump(yaml_ref,open('../src/sadie/reference/data/reference.yml','w'),Dumper=Dumper)"
   ]
  },
  {
   "cell_type": "code",
   "execution_count": null,
   "id": "removed-polyester",
   "metadata": {},
   "outputs": [],
   "source": [
    "del(yaml_ref['imgt']['functional']['se09'])"
   ]
  },
  {
   "cell_type": "code",
   "execution_count": null,
   "id": "delayed-filter",
   "metadata": {},
   "outputs": [],
   "source": [
    "list(filter(lambda x: x['common'] == 'mouse' and x['gene'] == 'IGHV1-62-3*01',loaded_database))"
   ]
  },
  {
   "cell_type": "code",
   "execution_count": null,
   "id": "timely-horizontal",
   "metadata": {},
   "outputs": [],
   "source": [
    "yaml_ref['custom']['functional']['se0']"
   ]
  },
  {
   "cell_type": "code",
   "execution_count": null,
   "id": "bound-spell",
   "metadata": {},
   "outputs": [],
   "source": []
  }
 ],
 "metadata": {
  "kernelspec": {
   "display_name": "sadie",
   "language": "python",
   "name": "sadi"
  },
  "language_info": {
   "codemirror_mode": {
    "name": "ipython",
    "version": 3
   },
   "file_extension": ".py",
   "mimetype": "text/x-python",
   "name": "python",
   "nbconvert_exporter": "python",
   "pygments_lexer": "ipython3",
   "version": "3.8.8"
  }
 },
 "nbformat": 4,
 "nbformat_minor": 5
}
