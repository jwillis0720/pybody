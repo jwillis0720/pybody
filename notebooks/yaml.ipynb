{
 "cells": [
  {
   "cell_type": "code",
   "execution_count": 1,
   "id": "loose-gamma",
   "metadata": {},
   "outputs": [],
   "source": [
    "%load_ext lab_black"
   ]
  },
  {
   "cell_type": "code",
   "execution_count": 2,
   "id": "biblical-advertiser",
   "metadata": {},
   "outputs": [],
   "source": [
    "from yaml import load, Loader, dump, Dumper\n",
    "from sadie.reference import get_loaded_database\n",
    "import json\n",
    "import gzip"
   ]
  },
  {
   "cell_type": "code",
   "execution_count": 3,
   "id": "9eeb3f6d-57a3-4ecb-87a3-c22d6c9732ce",
   "metadata": {},
   "outputs": [],
   "source": [
    "loaded_database = get_loaded_database()"
   ]
  },
  {
   "cell_type": "code",
   "execution_count": 4,
   "id": "49aeaad7-d46c-4121-a247-c6d02955681e",
   "metadata": {},
   "outputs": [],
   "source": [
    "example_yaml = load(open(\"../src/sadie/reference/data/reference.yml\"), Loader=Loader)"
   ]
  },
  {
   "cell_type": "code",
   "execution_count": 32,
   "id": "1d9269dd-15c9-4312-90f3-f8798e849655",
   "metadata": {},
   "outputs": [],
   "source": [
    "complete_antibodies = [\"IGHD\", \"IGHJ\", \"IGHV\", \"IGKJ\", \"IGKV\", \"IGLJ\", \"IGLV\"]\n",
    "new_yaml = {}\n",
    "for db_type in loaded_database:\n",
    "    new_yaml[db_type] = {}\n",
    "\n",
    "    for species in set(map(lambda x: x[\"common\"], loaded_database[db_type])):\n",
    "        species_specific = list(\n",
    "            filter(lambda x: x[\"common\"] == species, loaded_database[db_type])\n",
    "        )\n",
    "        gene_segmeents = sorted(set(map(lambda x: x[\"gene\"][0:4], species_specific)))\n",
    "        if gene_segmeents != complete_antibodies:\n",
    "            # print(db_type, species, \"not compelte\")\n",
    "            continue\n",
    "        else:\n",
    "            genes = list(\n",
    "                map(\n",
    "                    lambda y: y[\"gene\"],\n",
    "                    list(\n",
    "                        filter(\n",
    "                            lambda x: x[\"imgt\"][\"contrived_functional\"] == \"F\"\n",
    "                            if \"convtrived_functional\" in x[\"imgt\"]\n",
    "                            else x,\n",
    "                            species_specific,\n",
    "                        )\n",
    "                    ),\n",
    "                )\n",
    "            )\n",
    "        new_yaml[db_type][species] = {species: genes}\n",
    "\n",
    "# now we need to make custom mice and shit\n",
    "new_yaml[\"imgt\"][\"hugl18\"] = {\n",
    "    \"mouse\": list(new_yaml[\"imgt\"][\"mouse\"][\"mouse\"]),\n",
    "    \"human\": [\"IGHV4-59*01\", \"IGHD3-3*01\", \"IGHJ3*02\"],\n",
    "}\n",
    "\n",
    "new_yaml[\"imgt\"][\"se09\"] = {\n",
    "    \"mouse\": list(new_yaml[\"imgt\"][\"mouse\"][\"mouse\"]),\n",
    "    \"human\": [\"IGHV1-2*02\", \"IGKV1-33*01\", \"IGHJ2*01\"],\n",
    "}\n",
    "\n",
    "new_yaml[\"imgt\"][\"se16\"] = {\n",
    "    \"mouse\": list(new_yaml[\"imgt\"][\"mouse\"][\"mouse\"]),\n",
    "    \"human\": [\"IGHV1-2*02\", \"IGKV3-20*01\", \"IGHJ2*01\"],\n",
    "}\n",
    "\n",
    "new_yaml[\"imgt\"][\"se684\"] = {\n",
    "    \"mouse\": list(new_yaml[\"imgt\"][\"mouse\"][\"mouse\"]),\n",
    "    \"human\": [\"IGHD3-3*01\", \"IGHJ6*01\"],\n",
    "}\n",
    "\n",
    "dump(new_yaml, open(\"../src/sadie/reference/data/reference.yml\", \"w\"), Dumper=Dumper)"
   ]
  },
  {
   "cell_type": "code",
   "execution_count": 30,
   "id": "31552657-8332-4502-bdde-606d83d304b6",
   "metadata": {},
   "outputs": [
    {
     "data": {
      "text/plain": [
       "list"
      ]
     },
     "execution_count": 30,
     "metadata": {},
     "output_type": "execute_result"
    }
   ],
   "source": [
    "e(new_yaml[\"imgt\"][\"mouse\"][\"mouse\"]"
   ]
  },
  {
   "cell_type": "code",
   "execution_count": 62,
   "id": "ordinary-attitude",
   "metadata": {},
   "outputs": [],
   "source": [
    "loaded_database = json.load(\n",
    "    gzip.open(\"../src/sadie/reference/data/new_database.json.gz\", \"rt\")\n",
    ")\n",
    "\n",
    "yaml_ref = YamlRef()\n",
    "for source in yaml_ref.get_reference_types():\n",
    "    source_filtered = list(filter(lambda x: x[\"source\"] == source, loaded_database))\n",
    "    for function in yaml_ref.get_functional_keys(source):\n",
    "        if function == \"functional\":\n",
    "            function_filterd = list(\n",
    "                filter(lambda x: x[\"functional\"] == \"F\", source_filtered)\n",
    "            )\n",
    "        else:\n",
    "            function_filterd = source_filtered\n",
    "        for common in set(map(lambda x: x[\"common\"], function_filterd)):\n",
    "\n",
    "            common_filtered = list(\n",
    "                filter(lambda x: x[\"common\"] == common, function_filterd)\n",
    "            )\n",
    "            # input(f\"{source},{common}\")\n",
    "\n",
    "            assert len(set(map(lambda x: x[\"common\"], common_filtered))) == 1\n",
    "            genes = sorted(list(map(lambda x: x[\"gene\"], common_filtered)))\n",
    "            #             if common == \"macaque\" and source == \"custom\":\n",
    "            #                 print(\"here\")\n",
    "            #                 input()\n",
    "            if common in yaml_ref.yaml[source][function].keys():\n",
    "                yaml_ref.yaml[source][function][common][common] = genes\n",
    "            else:\n",
    "                continue\n",
    "\n",
    "dump(yaml_ref.yaml, open(\"../src/sadie/reference/data/reference.yml\", \"w\"))"
   ]
  },
  {
   "cell_type": "code",
   "execution_count": 111,
   "id": "quantitative-physiology",
   "metadata": {},
   "outputs": [
    {
     "name": "stdout",
     "output_type": "stream",
     "text": [
      "IGHV7-4*03\n",
      "IGKV4-54*01\n",
      "IGHV7-1*03\n",
      "IGHV5-9-5*01\n",
      "IGHV2-6-8*01\n",
      "IGKV10-94*08\n",
      "IGHV1-71*01\n",
      "IGHV5-6-1*01\n"
     ]
    }
   ],
   "source": [
    "yaml_ref = YamlRef()\n",
    "yaml_ref = load(open(yaml_ref.ref_path), Loader=Loader)\n",
    "genes = yaml_ref[\"imgt\"][\"all\"][\"hugl18\"][\"mouse\"]\n",
    "delete = [\n",
    "    \"IGHV7-4*03\",\n",
    "    \"IGKV4-54*01\",\n",
    "    \"IGHV7-1*03\",\n",
    "    \"IGHV5-9-5*01\",\n",
    "    \"IGHV2-6-8*01\",\n",
    "    \"IGKV10-94*08\",\n",
    "    \"IGHV1-71*01\",\n",
    "    \"IGHV5-6-1*01\",\n",
    "]\n",
    "for x in delete:\n",
    "    print(x)\n",
    "    genes.remove(x)\n",
    "yaml_ref[\"imgt\"][\"all\"][\"hugl18\"][\"mouse\"] = genes\n",
    "dump(yaml_ref, open(\"../src/sadie/reference/data/reference.yml\", \"w\"))"
   ]
  },
  {
   "cell_type": "code",
   "execution_count": 112,
   "id": "closed-designation",
   "metadata": {},
   "outputs": [
    {
     "name": "stdout",
     "output_type": "stream",
     "text": [
      "IGHV1-71*01\n",
      "IGHV2-6-8*01\n",
      "IGHV5-6-1*01\n",
      "IGHV5-9-5*01\n",
      "IGHV7-1*03\n",
      "IGKV10-94*08\n",
      "IGHV7-4*03\n"
     ]
    }
   ],
   "source": [
    "yaml_ref = YamlRef()\n",
    "yaml_ref = load(open(yaml_ref.ref_path), Loader=Loader)\n",
    "genes = yaml_ref[\"imgt\"][\"functional\"][\"hugl18\"][\"mouse\"]\n",
    "delete = [\n",
    "    \"IGHV1-71*01\",\n",
    "    \"IGHV2-6-8*01\",\n",
    "    \"IGHV5-6-1*01\",\n",
    "    \"IGHV5-9-5*01\",\n",
    "    \"IGHV7-1*03\",\n",
    "    \"IGKV10-94*08\",\n",
    "    \"IGHV7-4*03\",\n",
    "]\n",
    "for x in delete:\n",
    "    print(x)\n",
    "    genes.remove(x)\n",
    "yaml_ref[\"imgt\"][\"functional\"][\"hugl18\"][\"mouse\"] = genes\n",
    "dump(yaml_ref, open(\"../src/sadie/reference/data/reference.yml\", \"w\"))"
   ]
  },
  {
   "cell_type": "code",
   "execution_count": null,
   "id": "standing-montgomery",
   "metadata": {},
   "outputs": [],
   "source": []
  }
 ],
 "metadata": {
  "kernelspec": {
   "display_name": "sadie-dev",
   "language": "python",
   "name": "sadie_dev"
  },
  "language_info": {
   "codemirror_mode": {
    "name": "ipython",
    "version": 3
   },
   "file_extension": ".py",
   "mimetype": "text/x-python",
   "name": "python",
   "nbconvert_exporter": "python",
   "pygments_lexer": "ipython3",
   "version": "3.8.0"
  }
 },
 "nbformat": 4,
 "nbformat_minor": 5
}
