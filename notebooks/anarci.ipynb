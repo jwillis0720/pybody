{
 "cells": [
  {
   "cell_type": "code",
   "execution_count": 10,
   "id": "9484feb6-a9eb-4e9f-a5c7-b9a17dc2ad70",
   "metadata": {},
   "outputs": [],
   "source": [
    "import requests\n",
    "import json"
   ]
  },
  {
   "cell_type": "code",
   "execution_count": 22,
   "id": "6d7103be-4092-40e8-8299-e0e1b7702cf8",
   "metadata": {},
   "outputs": [],
   "source": [
    "# Making a get request\n",
    "response = requests.get('https://g3.jordanrwillis.com/api/v1/genes?source=custom&common=dog&limit=-1')"
   ]
  },
  {
   "cell_type": "code",
   "execution_count": 23,
   "id": "3d297bed-2815-4ff6-b331-031e8df298f1",
   "metadata": {},
   "outputs": [],
   "source": [
    "dog = response.json()"
   ]
  },
  {
   "cell_type": "code",
   "execution_count": 26,
   "id": "76af1978-b3d1-460d-b9c2-11a1f2f15444",
   "metadata": {},
   "outputs": [
    {
     "data": {
      "text/plain": [
       "['IGHV1-30*01_S5175',\n",
       " 'IGHV1-69*01_S9166',\n",
       " 'IGHV1-8*01_S2221',\n",
       " 'IGHV3-16*01_S3268',\n",
       " 'IGHV3-18*01_S0384',\n",
       " 'IGHV3-18*01_S3548',\n",
       " 'IGHV3-18*01_S5813',\n",
       " 'IGHV3-19*01_S0018',\n",
       " 'IGHV3-2*01_S1360',\n",
       " 'IGHV3-23*04_S2315',\n",
       " 'IGHV3-24*01_S3318',\n",
       " 'IGHV3-3*01_S3835',\n",
       " 'IGHV3-3*01_S7318',\n",
       " 'IGHV3-35*01_S7974',\n",
       " 'IGHV3-39*01_S1545',\n",
       " 'IGHV3-39*01_S3463',\n",
       " 'IGHV3-39*01_S7054',\n",
       " 'IGHV3-47*01_S8465',\n",
       " 'IGHV3-50*01_S1870',\n",
       " 'IGHV3-50*01_S2137',\n",
       " 'IGHV3-50*01_S2634',\n",
       " 'IGHV3-50*01_S5155',\n",
       " 'IGHV3-50*01_S5759',\n",
       " 'IGHV3-50*01_S8964',\n",
       " 'IGHV3-54*01_S2003',\n",
       " 'IGHV3-54*01_S5343',\n",
       " 'IGHV3-54*01_S8660',\n",
       " 'IGHV3-54*01_S9251',\n",
       " 'IGHV3-69*01_S5322',\n",
       " 'IGHV3-69*01_S6154',\n",
       " 'IGHV3-81*01_S5170',\n",
       " 'IGHV3-81*01_S7011',\n",
       " 'IGHV3-9*01_S1100',\n",
       " 'IGHV3-9*01_S8446',\n",
       " 'IGHV4-1*01_S5507',\n",
       " 'IGKV2-11*02_S0213',\n",
       " 'IGKV2-12*02_S0986',\n",
       " 'IGKV2-16*01_S4626',\n",
       " 'IGKV2-16*01_S6088',\n",
       " 'IGKV2-4*01_S0172',\n",
       " 'IGKV2-5*02_S9667',\n",
       " 'IGKV2S13*01_S1813',\n",
       " 'IGKV2S13*01_S4107',\n",
       " 'IGKV2S13*01_S4674',\n",
       " 'IGKV2S13*01_S7335',\n",
       " 'IGKV3-18*02_S8949',\n",
       " 'IGLV1-100*01_S8185',\n",
       " 'IGLV1-106*01_S6372',\n",
       " 'IGLV1-141*01_S9401',\n",
       " 'IGLV1-149*01_S3158',\n",
       " 'IGLV1-149*01_S3906',\n",
       " 'IGLV1-149*01_S6410',\n",
       " 'IGLV1-151*01_S0605',\n",
       " 'IGLV1-162*01_S9855',\n",
       " 'IGLV1-44*01_S9007',\n",
       " 'IGLV1-44*01_S9102',\n",
       " 'IGLV1-48*01_S2458',\n",
       " 'IGLV1-58*01_S4152',\n",
       " 'IGLV1-67*01_S0696',\n",
       " 'IGLV1-67*01_S2396',\n",
       " 'IGLV1-67*01_S5247',\n",
       " 'IGLV1-70*01_S1176',\n",
       " 'IGLV1-70*01_S7174',\n",
       " 'IGLV1-73*01_S2976',\n",
       " 'IGLV1-73*01_S5351',\n",
       " 'IGLV1-73*01_S8954',\n",
       " 'IGLV1-82*01_S1364',\n",
       " 'IGLV1-82*01_S2066',\n",
       " 'IGLV1-82*01_S3891',\n",
       " 'IGLV1-82*01_S5173',\n",
       " 'IGLV1-82*01_S8402',\n",
       " 'IGLV1-82*01_S9053',\n",
       " 'IGLV1-87*01_S0714',\n",
       " 'IGLV1-87*01_S4946',\n",
       " 'IGLV1-87*01_S8032',\n",
       " 'IGLV1-92*01_S4919',\n",
       " 'IGLV3-11*01_S0643',\n",
       " 'IGLV3-11*01_S2095',\n",
       " 'IGLV3-11*01_S4745',\n",
       " 'IGLV3-14*01_S3842',\n",
       " 'IGLV3-14*01_S4441',\n",
       " 'IGLV3-26*01_S1358',\n",
       " 'IGLV3-28*01_S2251',\n",
       " 'IGLV3-28*01_S3761',\n",
       " 'IGLV3-28*01_S9832',\n",
       " 'IGLV3-3*01_S6791',\n",
       " 'IGLV4-10*01_S1283',\n",
       " 'IGLV4-10*01_S2412',\n",
       " 'IGLV4-10*01_S5928',\n",
       " 'IGLV4-10*01_S6413',\n",
       " 'IGLV4-10*01_S7418',\n",
       " 'IGLV4-22*01_S4614',\n",
       " 'IGLV4-22*01_S6360',\n",
       " 'IGLV4-5*01_S0184',\n",
       " 'IGLV4-5*01_S0492',\n",
       " 'IGLV4-5*01_S3905',\n",
       " 'IGLV4-5*01_S4838',\n",
       " 'IGLV4-5*01_S6760',\n",
       " 'IGLV4-5*01_S7890',\n",
       " 'IGLV4-5*01_S8150']"
      ]
     },
     "execution_count": 26,
     "metadata": {},
     "output_type": "execute_result"
    }
   ],
   "source": [
    "list(map(lambda x: x['gene'], filter(lambda x: x['gene_segment']=='V',dog)))"
   ]
  },
  {
   "cell_type": "code",
   "execution_count": 1,
   "id": "static-acrobat",
   "metadata": {},
   "outputs": [],
   "source": [
    "from sadie.anarci import Anarcia\n",
    "import pandas as pd"
   ]
  },
  {
   "cell_type": "code",
   "execution_count": 2,
   "id": "alone-report",
   "metadata": {},
   "outputs": [],
   "source": [
    "anarci_api = Anarci(scheme='kabat',region_assign='imgt')"
   ]
  },
  {
   "cell_type": "code",
   "execution_count": 3,
   "id": "de25d408-f733-40cd-8eb4-8431850491bc",
   "metadata": {},
   "outputs": [
    {
     "ename": "AttributeError",
     "evalue": "'Anarci' object has no attribute '_hello'",
     "output_type": "error",
     "traceback": [
      "\u001b[0;31m---------------------------------------------------------------------------\u001b[0m",
      "\u001b[0;31mAttributeError\u001b[0m                            Traceback (most recent call last)",
      "\u001b[0;32m<ipython-input-3-d49dbfb9ced2>\u001b[0m in \u001b[0;36m<module>\u001b[0;34m\u001b[0m\n\u001b[0;32m----> 1\u001b[0;31m \u001b[0manarci_api\u001b[0m\u001b[0;34m.\u001b[0m\u001b[0m_hello\u001b[0m\u001b[0;34m\u001b[0m\u001b[0;34m\u001b[0m\u001b[0m\n\u001b[0m",
      "\u001b[0;31mAttributeError\u001b[0m: 'Anarci' object has no attribute '_hello'"
     ]
    }
   ],
   "source": [
    "anarci_api._hello"
   ]
  },
  {
   "cell_type": "code",
   "execution_count": null,
   "id": "lyric-concern",
   "metadata": {},
   "outputs": [],
   "source": [
    "pd.read_feather('/workdir/jwillis/DropboxScripps')"
   ]
  }
 ],
 "metadata": {
  "kernelspec": {
   "display_name": "sadie-dev",
   "language": "python",
   "name": "sadie-dev"
  },
  "language_info": {
   "codemirror_mode": {
    "name": "ipython",
    "version": 3
   },
   "file_extension": ".py",
   "mimetype": "text/x-python",
   "name": "python",
   "nbconvert_exporter": "python",
   "pygments_lexer": "ipython3",
   "version": "3.9.4"
  }
 },
 "nbformat": 4,
 "nbformat_minor": 5
}
