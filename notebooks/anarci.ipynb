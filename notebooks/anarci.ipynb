{
 "cells": [
  {
   "cell_type": "code",
   "execution_count": 4,
   "id": "static-acrobat",
   "metadata": {},
   "outputs": [],
   "source": [
    "from sadie.anarci import Anarci\n",
    "import pandas as pd"
   ]
  },
  {
   "cell_type": "code",
   "execution_count": 3,
   "id": "alone-report",
   "metadata": {},
   "outputs": [],
   "source": [
    "anarci_api = Anarci(scheme='kabat',region_assign='imgt')"
   ]
  },
  {
   "cell_type": "code",
   "execution_count": null,
   "id": "lyric-concern",
   "metadata": {},
   "outputs": [],
   "source": [
    "pd.read_feather('/workdir/jwillis/DropboxScripps')"
   ]
  }
 ],
 "metadata": {
  "kernelspec": {
   "display_name": "sadie",
   "language": "python",
   "name": "sadi"
  },
  "language_info": {
   "codemirror_mode": {
    "name": "ipython",
    "version": 3
   },
   "file_extension": ".py",
   "mimetype": "text/x-python",
   "name": "python",
   "nbconvert_exporter": "python",
   "pygments_lexer": "ipython3",
   "version": "3.8.8"
  }
 },
 "nbformat": 4,
 "nbformat_minor": 5
}
